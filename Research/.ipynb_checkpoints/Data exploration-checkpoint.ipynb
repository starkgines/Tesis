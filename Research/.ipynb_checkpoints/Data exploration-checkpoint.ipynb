{
 "cells": [
  {
   "cell_type": "markdown",
   "id": "inner-mystery",
   "metadata": {},
   "source": [
    "### All import "
   ]
  },
  {
   "cell_type": "code",
   "execution_count": 3,
   "id": "genuine-textbook",
   "metadata": {},
   "outputs": [],
   "source": [
    "import uproot\n",
    "import numpy as np\n",
    "import matplotlib.pyplot as plt\n",
    "import cv2"
   ]
  },
  {
   "cell_type": "code",
   "execution_count": 5,
   "id": "necessary-cornell",
   "metadata": {},
   "outputs": [],
   "source": [
    "file = uproot.open(\"./root_pandas/dose-rank000.root\")"
   ]
  },
  {
   "cell_type": "code",
   "execution_count": 7,
   "id": "divine-timing",
   "metadata": {},
   "outputs": [
    {
     "data": {
      "text/plain": [
       "['ETot_CCD1;1',\n",
       " 'ETot_CCD2;1',\n",
       " 'ETot_CCD3;1',\n",
       " 'ETot_CCD4;1',\n",
       " 'ETot_CCD5;1',\n",
       " 'ETot_CCD6;1',\n",
       " 'ETot_CCD7;1',\n",
       " 'ETot_CCD8;1',\n",
       " 'ETot_CCD9;1',\n",
       " 'ETot_CCD10;1',\n",
       " 'Primary energy;1',\n",
       " 'muonCCD1;1',\n",
       " 'muonCCD2;1',\n",
       " 'muonCCD3;1',\n",
       " 'muonCCD4;1',\n",
       " 'muonCCD5;1',\n",
       " 'muonCCD6;1',\n",
       " 'muonCCD7;1',\n",
       " 'muonCCD8;1',\n",
       " 'muonCCD9;1',\n",
       " 'muonCCD10;1',\n",
       " 'allCCD1;2',\n",
       " 'allCCD1;1',\n",
       " 'allCCD2;2',\n",
       " 'allCCD2;1',\n",
       " 'allCCD3;2',\n",
       " 'allCCD3;1',\n",
       " 'allCCD4;2',\n",
       " 'allCCD4;1',\n",
       " 'allCCD5;2',\n",
       " 'allCCD5;1',\n",
       " 'allCCD6;2',\n",
       " 'allCCD6;1',\n",
       " 'allCCD7;2',\n",
       " 'allCCD7;1',\n",
       " 'allCCD8;2',\n",
       " 'allCCD8;1',\n",
       " 'allCCD9;2',\n",
       " 'allCCD9;1',\n",
       " 'allCCD10;2',\n",
       " 'allCCD10;1',\n",
       " 'hprof2d21;1',\n",
       " 'hprof2d22;1',\n",
       " 'hprof2d23;1',\n",
       " 'hprof2d24;1',\n",
       " 'hprof2d25;1',\n",
       " 'hprof2d26;1',\n",
       " 'hprof2d27;1',\n",
       " 'hprof2d28;1',\n",
       " 'hprof2d29;1',\n",
       " 'hprof2d210;1']"
      ]
     },
     "execution_count": 7,
     "metadata": {},
     "output_type": "execute_result"
    }
   ],
   "source": [
    "file.keys()"
   ]
  },
  {
   "cell_type": "code",
   "execution_count": null,
   "id": "solved-specification",
   "metadata": {},
   "outputs": [],
   "source": []
  }
 ],
 "metadata": {
  "kernelspec": {
   "display_name": "tesis",
   "language": "python",
   "name": "tesis"
  },
  "language_info": {
   "codemirror_mode": {
    "name": "ipython",
    "version": 3
   },
   "file_extension": ".py",
   "mimetype": "text/x-python",
   "name": "python",
   "nbconvert_exporter": "python",
   "pygments_lexer": "ipython3",
   "version": "3.6.12"
  }
 },
 "nbformat": 4,
 "nbformat_minor": 5
}
