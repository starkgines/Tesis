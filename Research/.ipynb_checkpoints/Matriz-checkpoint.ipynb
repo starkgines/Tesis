{
 "cells": [
  {
   "cell_type": "code",
   "execution_count": 1,
   "metadata": {},
   "outputs": [],
   "source": [
    "import uproot\n",
    "import numpy as np\n",
    "import matplotlib.pyplot as plt\n",
    "import cv2\n",
    "import seaborn as sns"
   ]
  },
  {
   "cell_type": "code",
   "execution_count": 2,
   "metadata": {},
   "outputs": [],
   "source": [
    "file = uproot.open(\"./root_pandas/dose-rank000.root\")"
   ]
  },
  {
   "cell_type": "code",
   "execution_count": 3,
   "metadata": {},
   "outputs": [],
   "source": [
    "trees = file.keys()"
   ]
  },
  {
   "cell_type": "code",
   "execution_count": 4,
   "metadata": {},
   "outputs": [
    {
     "name": "stdout",
     "output_type": "stream",
     "text": [
      "All tree in the .root is ['ETot_CCD1;1', 'ETot_CCD2;1', 'ETot_CCD3;1', 'ETot_CCD4;1', 'ETot_CCD5;1', 'ETot_CCD6;1', 'ETot_CCD7;1', 'ETot_CCD8;1', 'ETot_CCD9;1', 'ETot_CCD10;1', 'Primary energy;1', 'muonCCD1;1', 'muonCCD2;1', 'muonCCD3;1', 'muonCCD4;1', 'muonCCD5;1', 'muonCCD6;1', 'muonCCD7;1', 'muonCCD8;1', 'muonCCD9;1', 'muonCCD10;1', 'allCCD1;2', 'allCCD1;1', 'allCCD2;2', 'allCCD2;1', 'allCCD3;2', 'allCCD3;1', 'allCCD4;2', 'allCCD4;1', 'allCCD5;2', 'allCCD5;1', 'allCCD6;2', 'allCCD6;1', 'allCCD7;2', 'allCCD7;1', 'allCCD8;2', 'allCCD8;1', 'allCCD9;2', 'allCCD9;1', 'allCCD10;2', 'allCCD10;1', 'hprof2d21;1', 'hprof2d22;1', 'hprof2d23;1', 'hprof2d24;1', 'hprof2d25;1', 'hprof2d26;1', 'hprof2d27;1', 'hprof2d28;1', 'hprof2d29;1', 'hprof2d210;1']\n"
     ]
    }
   ],
   "source": [
    "print(\"All tree in the .root is\", trees)"
   ]
  },
  {
   "cell_type": "code",
   "execution_count": 5,
   "metadata": {},
   "outputs": [],
   "source": [
    "muonCCD1 = file['muonCCD1;1']"
   ]
  },
  {
   "cell_type": "code",
   "execution_count": 6,
   "metadata": {},
   "outputs": [
    {
     "data": {
      "text/plain": [
       "['Emu', 'Holes', 'DiffX', 'DiffY', 'x', 'y', 'z', 'trackNumber', 'eventNumber']"
      ]
     },
     "execution_count": 6,
     "metadata": {},
     "output_type": "execute_result"
    }
   ],
   "source": [
    "muonCCD1.keys()"
   ]
  },
  {
   "cell_type": "code",
   "execution_count": 7,
   "metadata": {},
   "outputs": [],
   "source": [
    "DiffX = np.array(muonCCD1['DiffX'].array())\n",
    "DiffY = np.array(muonCCD1['DiffY'].array())\n",
    "eventNumber = np.array(muonCCD1['eventNumber'].array())"
   ]
  },
  {
   "cell_type": "code",
   "execution_count": 8,
   "metadata": {},
   "outputs": [
    {
     "name": "stdout",
     "output_type": "stream",
     "text": [
      "Shape DiffX (163788,)\n",
      "Shape DiffY (163788,)\n",
      "Shape eventNumber (163788,)\n"
     ]
    }
   ],
   "source": [
    "print('Shape DiffX',DiffX.shape)\n",
    "print('Shape DiffY',DiffY.shape)\n",
    "print('Shape eventNumber',eventNumber.shape)"
   ]
  },
  {
   "cell_type": "code",
   "execution_count": 9,
   "metadata": {},
   "outputs": [
    {
     "data": {
      "text/plain": [
       "array([ 5, 11, 14, 15])"
      ]
     },
     "execution_count": 9,
     "metadata": {},
     "output_type": "execute_result"
    }
   ],
   "source": [
    "np.unique(eventNumber)"
   ]
  },
  {
   "cell_type": "code",
   "execution_count": 10,
   "metadata": {},
   "outputs": [],
   "source": [
    "for i,e in enumerate(eventNumber):\n",
    "    if(e!=5):\n",
    "        DiffX[i]=1\n",
    "        DiffY[i]=1\n",
    "    else:\n",
    "        DiffX[i]=5\n",
    "        DiffY[i]=5\n",
    "    \n",
    "        \n"
   ]
  },
  {
   "cell_type": "code",
   "execution_count": 12,
   "metadata": {},
   "outputs": [
    {
     "data": {
      "image/png": "[encoded data removed]",
      "text/plain": [
       "<Figure size 432x288 with 1 Axes>"
      ]
     },
     "metadata": {
      "needs_background": "light"
     },
     "output_type": "display_data"
    }
   ],
   "source": [
    "plt.figure(1)\n",
    "[h,xedg,yedg,img]=plt.hist2d(DiffX,DiffY, bins=(10, 10))\n"
   ]
  },
  {
   "cell_type": "code",
   "execution_count": 12,
   "metadata": {},
   "outputs": [
    {
     "data": {
      "text/plain": [
       "113"
      ]
     },
     "execution_count": 12,
     "metadata": {},
     "output_type": "execute_result"
    }
   ],
   "source": []
  },
  {
   "cell_type": "code",
   "execution_count": null,
   "metadata": {},
   "outputs": [],
   "source": []
  }
 ],
 "metadata": {
  "kernelspec": {
   "display_name": "tesis",
   "language": "python",
   "name": "tesis"
  },
  "language_info": {
   "codemirror_mode": {
    "name": "ipython",
    "version": 3
   },
   "file_extension": ".py",
   "mimetype": "text/x-python",
   "name": "python",
   "nbconvert_exporter": "python",
   "pygments_lexer": "ipython3",
   "version": "3.6.12"
  }
 },
 "nbformat": 4,
 "nbformat_minor": 2
}
