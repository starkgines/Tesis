{
 "cells": [
  {
   "cell_type": "code",
   "execution_count": 16,
   "id": "paperback-opposition",
   "metadata": {},
   "outputs": [],
   "source": [
    "path = 'C:/Users/stark/Desktop/DataSet1/*'"
   ]
  },
  {
   "cell_type": "code",
   "execution_count": 57,
   "id": "related-johns",
   "metadata": {},
   "outputs": [],
   "source": [
    "import glob\n",
    "import uproot\n",
    "import numpy as np\n",
    "import matplotlib.pyplot as plt\n",
    "import cv2\n",
    "import seaborn as sns\n",
    "import os\n",
    "import pandas as pd"
   ]
  },
  {
   "cell_type": "code",
   "execution_count": 58,
   "id": "short-canon",
   "metadata": {},
   "outputs": [
    {
     "name": "stdout",
     "output_type": "stream",
     "text": [
      "C:/Users/stark/Desktop/DataSet1\\dose-rank0001.root\n",
      "C:/Users/stark/Desktop/DataSet1\\dose-rank0002.root\n",
      "2\n"
     ]
    },
    {
     "data": {
      "text/plain": [
       "'C:\\\\Users\\\\stark\\\\Desktop\\\\DataSet1\\\\dose-rank0001.root'"
      ]
     },
     "execution_count": 58,
     "metadata": {},
     "output_type": "execute_result"
    }
   ],
   "source": [
    "files = glob.glob(path)\n",
    "filesCount = len(files)\n",
    "for name in files:\n",
    "    print(name)\n",
    "print(filesCount)\n",
    "os.path.normpath(files[0]) # Para que funcione correctamente en todos los dispositivos usar os.path.normpath(path que se desea normalizar)"
   ]
  },
  {
   "cell_type": "code",
   "execution_count": 59,
   "id": "shared-coordinate",
   "metadata": {},
   "outputs": [
    {
     "name": "stdout",
     "output_type": "stream",
     "text": [
      "LECTURA CORRECTA\n",
      "Las Ramas disponibles en los roots son las siguientes\n",
      "allCCD4;2\n",
      "allCCD4;1\n",
      "allCCD2;2\n",
      "allCCD2;1\n",
      "allCCD3;2\n",
      "allCCD3;1\n",
      "allCCD6;2\n",
      "allCCD6;1\n",
      "allCCD7;2\n",
      "allCCD7;1\n",
      "allCCD5;2\n",
      "allCCD5;1\n",
      "allCCD8;2\n",
      "allCCD8;1\n",
      "allCCD1;2\n",
      "allCCD1;1\n",
      "allCCD9;2\n",
      "allCCD9;1\n",
      "ETot_CCD1;1\n",
      "ETot_CCD2;1\n",
      "ETot_CCD3;1\n",
      "ETot_CCD4;1\n",
      "ETot_CCD5;1\n",
      "ETot_CCD6;1\n",
      "ETot_CCD7;1\n",
      "ETot_CCD8;1\n",
      "ETot_CCD9;1\n",
      "ETot_CCD10;1\n",
      "Primary energy;1\n",
      "muonCCD1;1\n",
      "muonCCD2;1\n",
      "muonCCD3;1\n",
      "muonCCD4;1\n",
      "muonCCD5;1\n",
      "muonCCD6;1\n",
      "muonCCD7;1\n",
      "muonCCD8;1\n",
      "muonCCD9;1\n",
      "muonCCD10;1\n",
      "allCCD10;1\n"
     ]
    }
   ],
   "source": [
    "root = uproot.open(os.path.normpath(files[0]))\n",
    "if(len(root.keys())>0): \n",
    "    print(\"LECTURA CORRECTA\")\n",
    "    print('Las Ramas disponibles en los roots son las siguientes')\n",
    "    treesNames = root.keys()\n",
    "    for treeName in treesNames:\n",
    "        print(treeName)"
   ]
  },
  {
   "cell_type": "code",
   "execution_count": 67,
   "id": "present-newcastle",
   "metadata": {},
   "outputs": [
    {
     "data": {
      "text/plain": [
       "['DiffX', 'DiffY', 'eventNumber', 'treeName', 'fileName']"
      ]
     },
     "execution_count": 67,
     "metadata": {},
     "output_type": "execute_result"
    }
   ],
   "source": [
    "columns = ['DiffX', 'DiffY','eventNumber','treeName','fileName'] # Aca se debe agregar las columnas que se deseea agregar al dataset \n",
    "\n",
    "columns"
   ]
  },
  {
   "cell_type": "code",
   "execution_count": 74,
   "id": "regional-alberta",
   "metadata": {},
   "outputs": [
    {
     "data": {
      "text/plain": [
       "{'DiffX': [], 'DiffY': [], 'eventNumber': [], 'treeName': [], 'fileName': []}"
      ]
     },
     "execution_count": 74,
     "metadata": {},
     "output_type": "execute_result"
    }
   ],
   "source": [
    "data = {}  # Generar los datos genericos\n",
    "\n",
    "for c in columns:\n",
    "    data[c] = []\n",
    "    \n",
    "data\n",
    "\n"
   ]
  },
  {
   "cell_type": "code",
   "execution_count": 75,
   "id": "charming-mississippi",
   "metadata": {},
   "outputs": [
    {
     "name": "stdout",
     "output_type": "stream",
     "text": [
      "Comprobar len de todos los datos', 'x', 'y', 'z', 'trackNumber', 'eventNumber']\n",
      "20\n",
      "20\n",
      "20\n",
      "0\n",
      "20\n"
     ]
    }
   ],
   "source": [
    "percent = 0\n",
    "for name in files:\n",
    "    root = uproot.open(os.path.normpath(name)) # Lectura del root \n",
    "    treesNames = root.keys()\n",
    "    \n",
    "    for treeName in treesNames:\n",
    "        if  'muon' in treeName:\n",
    "            tree = root[treeName]\n",
    "            leafsNames = tree.keys()\n",
    "            print('Leafs Names in a'+treeName, end=\"\\r\")\n",
    "            print(leafsNames, end=\"\\r\")\n",
    "            # Cada leaf sera una linea dentro del dataframe por cada linea se debe guardar el treeName\n",
    "            for leafName in leafsNames:\n",
    "                if leafName in data.keys():\n",
    "                    data[leafName].append(np.array(tree[leafName].array()))\n",
    "            data['fileName'].append(name)\n",
    "            \n",
    "        \n",
    "    \n",
    "print('Comprobar len de todos los datos')\n",
    "for k in data.keys():\n",
    "    print(len(data[k]))"
   ]
  },
  {
   "cell_type": "code",
   "execution_count": 29,
   "id": "willing-butter",
   "metadata": {},
   "outputs": [
    {
     "data": {
      "text/plain": [
       "{'Diffx': ['empanada'], 'Diffy': []}"
      ]
     },
     "execution_count": 29,
     "metadata": {},
     "output_type": "execute_result"
    }
   ],
   "source": [
    "data"
   ]
  },
  {
   "cell_type": "code",
   "execution_count": null,
   "id": "nonprofit-blame",
   "metadata": {},
   "outputs": [],
   "source": []
  }
 ],
 "metadata": {
  "kernelspec": {
   "display_name": "tesis",
   "language": "python",
   "name": "tesis"
  },
  "language_info": {
   "codemirror_mode": {
    "name": "ipython",
    "version": 3
   },
   "file_extension": ".py",
   "mimetype": "text/x-python",
   "name": "python",
   "nbconvert_exporter": "python",
   "pygments_lexer": "ipython3",
   "version": "3.6.12"
  }
 },
 "nbformat": 4,
 "nbformat_minor": 5
}
