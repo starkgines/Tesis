{
 "cells": [
  {
   "cell_type": "code",
   "execution_count": 1,
   "id": "structural-clearing",
   "metadata": {},
   "outputs": [],
   "source": [
    "path = 'C:/Users/Karina Aquino/Desktop/Tesis-main/roots/*'"
   ]
  },
  {
   "cell_type": "code",
   "execution_count": 2,
   "id": "greek-puppy",
   "metadata": {},
   "outputs": [],
   "source": [
    "csv = './test.csv'"
   ]
  },
  {
   "cell_type": "code",
   "execution_count": 26,
   "id": "considerable-screening",
   "metadata": {},
   "outputs": [],
   "source": [
    "directory = 'C:/Users/Karina Aquino/Desktop/Tesis-main/roots/database/'"
   ]
  },
  {
   "cell_type": "code",
   "execution_count": 4,
   "id": "seven-denmark",
   "metadata": {},
   "outputs": [],
   "source": [
    "import glob\n",
    "import uproot\n",
    "import numpy as np\n",
    "import matplotlib.pyplot as plt\n",
    "import cv2\n",
    "import seaborn as sns\n",
    "import os\n",
    "import pandas as pd"
   ]
  },
  {
   "cell_type": "code",
   "execution_count": 5,
   "id": "intellectual-drive",
   "metadata": {},
   "outputs": [
    {
     "name": "stdout",
     "output_type": "stream",
     "text": [
      "C:/Users/Karina Aquino/Desktop/Tesis-main/roots\\dose-rank000.root\n",
      "C:/Users/Karina Aquino/Desktop/Tesis-main/roots\\dose-rank0003.root\n",
      "2\n"
     ]
    },
    {
     "data": {
      "text/plain": [
       "'C:\\\\Users\\\\Karina Aquino\\\\Desktop\\\\Tesis-main\\\\roots\\\\dose-rank000.root'"
      ]
     },
     "execution_count": 5,
     "metadata": {},
     "output_type": "execute_result"
    }
   ],
   "source": [
    "files = glob.glob(path)\n",
    "filesCount = len(files)\n",
    "for name in files:\n",
    "    print(name)\n",
    "print(filesCount)\n",
    "os.path.normpath(files[0]) # Para que funcione correctamente en todos los dispositivos usar os.path.normpath(path que se desea normalizar)"
   ]
  },
  {
   "cell_type": "code",
   "execution_count": 6,
   "id": "suited-digest",
   "metadata": {},
   "outputs": [
    {
     "name": "stdout",
     "output_type": "stream",
     "text": [
      "LECTURA CORRECTA\n",
      "Las Ramas disponibles en los roots son las siguientes\n",
      "allCCD5;14\n",
      "allCCD5;13\n",
      "allCCD3;13\n",
      "allCCD3;12\n",
      "allCCD4;12\n",
      "allCCD4;11\n",
      "allCCD2;12\n",
      "allCCD2;11\n",
      "allCCD6;13\n",
      "allCCD6;12\n",
      "allCCD7;11\n",
      "allCCD7;10\n",
      "allCCD8;10\n",
      "allCCD8;9\n",
      "allCCD9;10\n",
      "allCCD9;9\n",
      "muonCCD3;7\n",
      "muonCCD3;6\n",
      "muonCCD4;7\n",
      "muonCCD4;6\n",
      "muonCCD5;7\n",
      "muonCCD5;6\n",
      "allCCD10;8\n",
      "allCCD10;7\n",
      "muonCCD2;7\n",
      "muonCCD2;6\n",
      "muonCCD6;7\n",
      "muonCCD6;6\n",
      "muonCCD7;6\n",
      "muonCCD7;5\n",
      "muonCCD8;6\n",
      "muonCCD8;5\n",
      "muonCCD9;5\n",
      "muonCCD9;4\n",
      "muonCCD10;5\n",
      "muonCCD10;4\n",
      "ETot_CCD1;1\n",
      "ETot_CCD2;1\n",
      "ETot_CCD3;1\n",
      "ETot_CCD4;1\n",
      "ETot_CCD5;1\n",
      "ETot_CCD6;1\n",
      "ETot_CCD7;1\n",
      "ETot_CCD8;1\n",
      "ETot_CCD9;1\n",
      "ETot_CCD10;1\n",
      "Primary energy;1\n",
      "muonCCD1;1\n",
      "allCCD1;1\n"
     ]
    }
   ],
   "source": [
    "root = uproot.open(os.path.normpath(files[0]))\n",
    "if(len(root.keys())>0): \n",
    "    print(\"LECTURA CORRECTA\")\n",
    "    print('Las Ramas disponibles en los roots son las siguientes')\n",
    "    treesNames = root.keys()\n",
    "    for treeName in treesNames:\n",
    "        print(treeName)"
   ]
  },
  {
   "cell_type": "code",
   "execution_count": 7,
   "id": "cloudy-scanning",
   "metadata": {},
   "outputs": [
    {
     "data": {
      "text/plain": [
       "['DiffX', 'DiffY', 'eventNumber', 'treeName', 'fileName']"
      ]
     },
     "execution_count": 7,
     "metadata": {},
     "output_type": "execute_result"
    }
   ],
   "source": [
    "columns = ['DiffX', 'DiffY','eventNumber','treeName','fileName'] # Aca se debe agregar las columnas que se deseea agregar al dataset \n",
    "\n",
    "columns"
   ]
  },
  {
   "cell_type": "code",
   "execution_count": 8,
   "id": "received-hamburg",
   "metadata": {},
   "outputs": [
    {
     "data": {
      "text/plain": [
       "{'DiffX': [], 'DiffY': [], 'eventNumber': [], 'treeName': [], 'fileName': []}"
      ]
     },
     "execution_count": 8,
     "metadata": {},
     "output_type": "execute_result"
    }
   ],
   "source": [
    "data = {}  # Generar los datos genericos\n",
    "\n",
    "for c in columns:\n",
    "    data[c] = []\n",
    "    \n",
    "data\n",
    "\n"
   ]
  },
  {
   "cell_type": "code",
   "execution_count": 9,
   "id": "removable-terminology",
   "metadata": {},
   "outputs": [],
   "source": [
    "import os\n",
    "import errno"
   ]
  },
  {
   "cell_type": "code",
   "execution_count": 46,
   "id": "annual-candle",
   "metadata": {},
   "outputs": [
    {
     "name": "stdout",
     "output_type": "stream",
     "text": [
      "muonCCD3;7\n",
      "muonCCD3;6\n",
      "muonCCD4;7\n",
      "muonCCD4;6\n",
      "muonCCD5;7\n",
      "muonCCD5;6\n",
      "muonCCD2;7\n",
      "muonCCD2;6\n",
      "muonCCD6;7\n",
      "muonCCD6;6\n",
      "muonCCD7;6\n",
      "muonCCD7;5\n",
      "muonCCD8;6\n",
      "muonCCD8;5\n",
      "muonCCD9;5\n",
      "muonCCD9;4\n",
      "muonCCD10;5\n",
      "muonCCD10;4\n",
      "muonCCD1;1\n",
      "muonCCD3;2\n",
      "muonCCD3;1\n",
      "muonCCD1;2\n",
      "muonCCD1;1\n",
      "muonCCD2;2\n",
      "muonCCD2;1\n",
      "muonCCD4;2\n",
      "muonCCD4;1\n",
      "muonCCD5;2\n",
      "muonCCD5;1\n",
      "muonCCD6;2\n",
      "muonCCD6;1\n",
      "muonCCD9;2\n",
      "muonCCD9;1\n",
      "muonCCD7;2\n",
      "muonCCD7;1\n",
      "muonCCD8;2\n",
      "muonCCD8;1\n",
      "muonCCD10;2\n",
      "muonCCD10;1\n",
      "0\n",
      "0\n",
      "0\n",
      "0\n",
      "0\n"
     ]
    }
   ],
   "source": [
    "percent = 0\n",
    "for name in files:\n",
    "    root = uproot.open(os.path.normpath(name)) # Lectura del root \n",
    "    # carpeta por root \n",
    "    head, tail = os.path.split(name)\n",
    "    root_folder = directory + tail[0:-5]\n",
    "\n",
    "    try:\n",
    "        os.mkdir(root_folder)\n",
    "    except OSError as e:\n",
    "        if e.errno != errno.EEXIST:\n",
    "            raise\n",
    "    treesNames = root.keys()\n",
    "    for treeName in treesNames:\n",
    "#        print(treeName)\n",
    "        if  'muon' in treeName:\n",
    "            print(treeName)\n",
    "            tree = root[treeName]\n",
    "            leafsNames = tree.keys()\n",
    "            #print('Leafs Names in a '+ treeName)\n",
    "            #print(leafsNames, end=\"\\r\")\n",
    "            try:\n",
    "                muon_folder = root_folder + \"/\" + treeName.split(\";\")[0]\n",
    "                os.mkdir(muon_folder)\n",
    "            except OSError as e:\n",
    "                if e.errno != errno.EEXIST:\n",
    "                    raise\n",
    "            # Cada leaf sera una linea dentro del dataframe por cada linea se debe guardar el treeName\n",
    "            for leafName in leafsNames:\n",
    "                try:\n",
    "                    new_folder = muon_folder + \"/\" + f'{treeName.replace(\";\", \"-\")}'\n",
    "                    #print(new_folder)\n",
    "                    os.mkdir(new_folder)\n",
    "                except OSError as e:\n",
    "                    if e.errno != errno.EEXIST:\n",
    "                        raise\n",
    "                if leafName in data.keys():\n",
    "                        np.save(new_folder +\"/\"+ f'{leafName}-{treeName.replace(\";\", \"-\")}.npy',np.nan_to_num(np.array(tree[leafName].array()),nan=0.0))\n",
    "          \n",
    "\n",
    "#print('Comprobar len de todos los datos')\n",
    "for k in data.keys():\n",
    "    print(len(data[k]))\n"
   ]
  },
  {
   "cell_type": "code",
   "execution_count": 22,
   "id": "southwest-bhutan",
   "metadata": {},
   "outputs": [],
   "source": [
    "df = pd.DataFrame(data)"
   ]
  },
  {
   "cell_type": "code",
   "execution_count": 10,
   "id": "talented-destruction",
   "metadata": {},
   "outputs": [
    {
     "data": {
      "text/html": [
       "<div>\n",
       "<style scoped>\n",
       "    .dataframe tbody tr th:only-of-type {\n",
       "        vertical-align: middle;\n",
       "    }\n",
       "\n",
       "    .dataframe tbody tr th {\n",
       "        vertical-align: top;\n",
       "    }\n",
       "\n",
       "    .dataframe thead th {\n",
       "        text-align: right;\n",
       "    }\n",
       "</style>\n",
       "<table border=\"1\" class=\"dataframe\">\n",
       "  <thead>\n",
       "    <tr style=\"text-align: right;\">\n",
       "      <th></th>\n",
       "      <th>DiffX</th>\n",
       "      <th>DiffY</th>\n",
       "      <th>eventNumber</th>\n",
       "      <th>treeName</th>\n",
       "      <th>fileName</th>\n",
       "    </tr>\n",
       "  </thead>\n",
       "  <tbody>\n",
       "    <tr>\n",
       "      <th>0</th>\n",
       "      <td>[0.0, 0.0, 0.0, 0.0, 0.0, 0.0, 0.0, 0.0, 0.0, ...</td>\n",
       "      <td>[0.0, 0.0, 0.0, 0.0, 0.0, 0.0, 0.0, 0.0, 0.0, ...</td>\n",
       "      <td>[3, 3, 3, 3, 3, 3, 3, 3, 3, 3, 3, 3, 3, 3, 3, ...</td>\n",
       "      <td>muonCCD3;7</td>\n",
       "      <td>D:/DataSet/Test\\dose-rank000.root</td>\n",
       "    </tr>\n",
       "    <tr>\n",
       "      <th>1</th>\n",
       "      <td>[0.0, 0.0, 0.0, 0.0, 0.0, 0.0, 0.0, 0.0, 0.0, ...</td>\n",
       "      <td>[0.0, 0.0, 0.0, 0.0, 0.0, 0.0, 0.0, 0.0, 0.0, ...</td>\n",
       "      <td>[3, 3, 3, 3, 3, 3, 3, 3, 3, 3, 3, 3, 3, 3, 3, ...</td>\n",
       "      <td>muonCCD3;6</td>\n",
       "      <td>D:/DataSet/Test\\dose-rank000.root</td>\n",
       "    </tr>\n",
       "    <tr>\n",
       "      <th>2</th>\n",
       "      <td>[0.0, 0.0, 0.0, 0.0, 0.0, 0.0, 0.0, 0.0, 0.0, ...</td>\n",
       "      <td>[0.0, 0.0, 0.0, 0.0, 0.0, 0.0, 0.0, 0.0, 0.0, ...</td>\n",
       "      <td>[2, 2, 2, 2, 2, 2, 2, 2, 2, 2, 2, 2, 2, 2, 2, ...</td>\n",
       "      <td>muonCCD4;7</td>\n",
       "      <td>D:/DataSet/Test\\dose-rank000.root</td>\n",
       "    </tr>\n",
       "    <tr>\n",
       "      <th>3</th>\n",
       "      <td>[0.0, 0.0, 0.0, 0.0, 0.0, 0.0, 0.0, 0.0, 0.0, ...</td>\n",
       "      <td>[0.0, 0.0, 0.0, 0.0, 0.0, 0.0, 0.0, 0.0, 0.0, ...</td>\n",
       "      <td>[2, 2, 2, 2, 2, 2, 2, 2, 2, 2, 2, 2, 2, 2, 2, ...</td>\n",
       "      <td>muonCCD4;6</td>\n",
       "      <td>D:/DataSet/Test\\dose-rank000.root</td>\n",
       "    </tr>\n",
       "    <tr>\n",
       "      <th>4</th>\n",
       "      <td>[28662.047381188473, 28662.71635709177, 28662....</td>\n",
       "      <td>[-31316.7090496399, -31317.530217633415, -3131...</td>\n",
       "      <td>[1, 1, 1, 1, 1, 1, 1, 1, 1, 1, 1, 1, 1, 1, 1, ...</td>\n",
       "      <td>muonCCD5;7</td>\n",
       "      <td>D:/DataSet/Test\\dose-rank000.root</td>\n",
       "    </tr>\n",
       "    <tr>\n",
       "      <th>5</th>\n",
       "      <td>[28662.047381188473, 28662.71635709177, 28662....</td>\n",
       "      <td>[-31316.7090496399, -31317.530217633415, -3131...</td>\n",
       "      <td>[1, 1, 1, 1, 1, 1, 1, 1, 1, 1, 1, 1, 1, 1, 1, ...</td>\n",
       "      <td>muonCCD5;6</td>\n",
       "      <td>D:/DataSet/Test\\dose-rank000.root</td>\n",
       "    </tr>\n",
       "    <tr>\n",
       "      <th>6</th>\n",
       "      <td>[-5402.842237579218, -5401.910888521811, -5400...</td>\n",
       "      <td>[-18506.227237072457, -18506.27069955819, -185...</td>\n",
       "      <td>[3, 3, 3, 3, 3, 3, 3, 3, 3, 3, 3, 3, 3, 3, 3, ...</td>\n",
       "      <td>muonCCD2;7</td>\n",
       "      <td>D:/DataSet/Test\\dose-rank000.root</td>\n",
       "    </tr>\n",
       "    <tr>\n",
       "      <th>7</th>\n",
       "      <td>[-5402.842237579218, -5401.910888521811, -5400...</td>\n",
       "      <td>[-18506.227237072457, -18506.27069955819, -185...</td>\n",
       "      <td>[3, 3, 3, 3, 3, 3, 3, 3, 3, 3, 3, 3, 3, 3, 3, ...</td>\n",
       "      <td>muonCCD2;6</td>\n",
       "      <td>D:/DataSet/Test\\dose-rank000.root</td>\n",
       "    </tr>\n",
       "    <tr>\n",
       "      <th>8</th>\n",
       "      <td>[0.0, 0.0, 0.0, 0.0, 0.0, 0.0, 0.0, 0.0, 0.0, ...</td>\n",
       "      <td>[0.0, 0.0, 0.0, 0.0, 0.0, 0.0, 0.0, 0.0, 0.0, ...</td>\n",
       "      <td>[2, 2, 2, 2, 2, 2, 2, 2, 2, 2, 2, 2, 2, 2, 2, ...</td>\n",
       "      <td>muonCCD6;7</td>\n",
       "      <td>D:/DataSet/Test\\dose-rank000.root</td>\n",
       "    </tr>\n",
       "    <tr>\n",
       "      <th>9</th>\n",
       "      <td>[0.0, 0.0, 0.0, 0.0, 0.0, 0.0, 0.0, 0.0, 0.0, ...</td>\n",
       "      <td>[0.0, 0.0, 0.0, 0.0, 0.0, 0.0, 0.0, 0.0, 0.0, ...</td>\n",
       "      <td>[2, 2, 2, 2, 2, 2, 2, 2, 2, 2, 2, 2, 2, 2, 2, ...</td>\n",
       "      <td>muonCCD6;6</td>\n",
       "      <td>D:/DataSet/Test\\dose-rank000.root</td>\n",
       "    </tr>\n",
       "    <tr>\n",
       "      <th>10</th>\n",
       "      <td>[21059.235630389067, 21059.18874348083, 21059....</td>\n",
       "      <td>[6964.607755745357, 6960.043975926568, 6962.99...</td>\n",
       "      <td>[2, 2, 2, 2, 2, 2, 2, 2, 2, 2, 2, 2, 2, 2, 2, ...</td>\n",
       "      <td>muonCCD7;6</td>\n",
       "      <td>D:/DataSet/Test\\dose-rank000.root</td>\n",
       "    </tr>\n",
       "    <tr>\n",
       "      <th>11</th>\n",
       "      <td>[21059.235630389067, 21059.18874348083, 21059....</td>\n",
       "      <td>[6964.607755745357, 6960.043975926568, 6962.99...</td>\n",
       "      <td>[2, 2, 2, 2, 2, 2, 2, 2, 2, 2, 2, 2, 2, 2, 2, ...</td>\n",
       "      <td>muonCCD7;5</td>\n",
       "      <td>D:/DataSet/Test\\dose-rank000.root</td>\n",
       "    </tr>\n",
       "    <tr>\n",
       "      <th>12</th>\n",
       "      <td>[18126.08221528576, 18128.644820839294, 18125....</td>\n",
       "      <td>[4033.9503996787203, 4030.809943786882, 4029.7...</td>\n",
       "      <td>[2, 2, 2, 2, 2, 2, 2, 2, 2, 2, 2, 2, 2, 2, 2, ...</td>\n",
       "      <td>muonCCD8;6</td>\n",
       "      <td>D:/DataSet/Test\\dose-rank000.root</td>\n",
       "    </tr>\n",
       "    <tr>\n",
       "      <th>13</th>\n",
       "      <td>[18126.08221528576, 18128.644820839294, 18125....</td>\n",
       "      <td>[4033.9503996787203, 4030.809943786882, 4029.7...</td>\n",
       "      <td>[2, 2, 2, 2, 2, 2, 2, 2, 2, 2, 2, 2, 2, 2, 2, ...</td>\n",
       "      <td>muonCCD8;5</td>\n",
       "      <td>D:/DataSet/Test\\dose-rank000.root</td>\n",
       "    </tr>\n",
       "    <tr>\n",
       "      <th>14</th>\n",
       "      <td>[0.0, 0.0, 0.0, 0.0, 0.0, 0.0, 0.0, 0.0, 0.0, ...</td>\n",
       "      <td>[0.0, 0.0, 0.0, 0.0, 0.0, 0.0, 0.0, 0.0, 0.0, ...</td>\n",
       "      <td>[2, 2, 2, 2, 2, 2, 2, 2, 2, 2, 2, 2, 2, 2, 2, ...</td>\n",
       "      <td>muonCCD9;5</td>\n",
       "      <td>D:/DataSet/Test\\dose-rank000.root</td>\n",
       "    </tr>\n",
       "    <tr>\n",
       "      <th>15</th>\n",
       "      <td>[0.0, 0.0, 0.0, 0.0, 0.0, 0.0, 0.0, 0.0, 0.0, ...</td>\n",
       "      <td>[0.0, 0.0, 0.0, 0.0, 0.0, 0.0, 0.0, 0.0, 0.0, ...</td>\n",
       "      <td>[2, 2, 2, 2, 2, 2, 2, 2, 2, 2, 2, 2, 2, 2, 2, ...</td>\n",
       "      <td>muonCCD9;4</td>\n",
       "      <td>D:/DataSet/Test\\dose-rank000.root</td>\n",
       "    </tr>\n",
       "    <tr>\n",
       "      <th>16</th>\n",
       "      <td>[0.0, 0.0, 0.0, 0.0, 0.0, 0.0, 0.0, 0.0, 0.0, ...</td>\n",
       "      <td>[0.0, 0.0, 0.0, 0.0, 0.0, 0.0, 0.0, 0.0, 0.0, ...</td>\n",
       "      <td>[2, 2, 2, 2, 2, 2, 2, 2, 2, 2, 2, 2, 2, 2, 2, ...</td>\n",
       "      <td>muonCCD10;5</td>\n",
       "      <td>D:/DataSet/Test\\dose-rank000.root</td>\n",
       "    </tr>\n",
       "    <tr>\n",
       "      <th>17</th>\n",
       "      <td>[0.0, 0.0, 0.0, 0.0, 0.0, 0.0, 0.0, 0.0, 0.0, ...</td>\n",
       "      <td>[0.0, 0.0, 0.0, 0.0, 0.0, 0.0, 0.0, 0.0, 0.0, ...</td>\n",
       "      <td>[2, 2, 2, 2, 2, 2, 2, 2, 2, 2, 2, 2, 2, 2, 2, ...</td>\n",
       "      <td>muonCCD10;4</td>\n",
       "      <td>D:/DataSet/Test\\dose-rank000.root</td>\n",
       "    </tr>\n",
       "    <tr>\n",
       "      <th>18</th>\n",
       "      <td>[]</td>\n",
       "      <td>[]</td>\n",
       "      <td>[]</td>\n",
       "      <td>muonCCD1;1</td>\n",
       "      <td>D:/DataSet/Test\\dose-rank000.root</td>\n",
       "    </tr>\n",
       "  </tbody>\n",
       "</table>\n",
       "</div>"
      ],
      "text/plain": [
       "                                                DiffX  \\\n",
       "0   [0.0, 0.0, 0.0, 0.0, 0.0, 0.0, 0.0, 0.0, 0.0, ...   \n",
       "1   [0.0, 0.0, 0.0, 0.0, 0.0, 0.0, 0.0, 0.0, 0.0, ...   \n",
       "2   [0.0, 0.0, 0.0, 0.0, 0.0, 0.0, 0.0, 0.0, 0.0, ...   \n",
       "3   [0.0, 0.0, 0.0, 0.0, 0.0, 0.0, 0.0, 0.0, 0.0, ...   \n",
       "4   [28662.047381188473, 28662.71635709177, 28662....   \n",
       "5   [28662.047381188473, 28662.71635709177, 28662....   \n",
       "6   [-5402.842237579218, -5401.910888521811, -5400...   \n",
       "7   [-5402.842237579218, -5401.910888521811, -5400...   \n",
       "8   [0.0, 0.0, 0.0, 0.0, 0.0, 0.0, 0.0, 0.0, 0.0, ...   \n",
       "9   [0.0, 0.0, 0.0, 0.0, 0.0, 0.0, 0.0, 0.0, 0.0, ...   \n",
       "10  [21059.235630389067, 21059.18874348083, 21059....   \n",
       "11  [21059.235630389067, 21059.18874348083, 21059....   \n",
       "12  [18126.08221528576, 18128.644820839294, 18125....   \n",
       "13  [18126.08221528576, 18128.644820839294, 18125....   \n",
       "14  [0.0, 0.0, 0.0, 0.0, 0.0, 0.0, 0.0, 0.0, 0.0, ...   \n",
       "15  [0.0, 0.0, 0.0, 0.0, 0.0, 0.0, 0.0, 0.0, 0.0, ...   \n",
       "16  [0.0, 0.0, 0.0, 0.0, 0.0, 0.0, 0.0, 0.0, 0.0, ...   \n",
       "17  [0.0, 0.0, 0.0, 0.0, 0.0, 0.0, 0.0, 0.0, 0.0, ...   \n",
       "18                                                 []   \n",
       "\n",
       "                                                DiffY  \\\n",
       "0   [0.0, 0.0, 0.0, 0.0, 0.0, 0.0, 0.0, 0.0, 0.0, ...   \n",
       "1   [0.0, 0.0, 0.0, 0.0, 0.0, 0.0, 0.0, 0.0, 0.0, ...   \n",
       "2   [0.0, 0.0, 0.0, 0.0, 0.0, 0.0, 0.0, 0.0, 0.0, ...   \n",
       "3   [0.0, 0.0, 0.0, 0.0, 0.0, 0.0, 0.0, 0.0, 0.0, ...   \n",
       "4   [-31316.7090496399, -31317.530217633415, -3131...   \n",
       "5   [-31316.7090496399, -31317.530217633415, -3131...   \n",
       "6   [-18506.227237072457, -18506.27069955819, -185...   \n",
       "7   [-18506.227237072457, -18506.27069955819, -185...   \n",
       "8   [0.0, 0.0, 0.0, 0.0, 0.0, 0.0, 0.0, 0.0, 0.0, ...   \n",
       "9   [0.0, 0.0, 0.0, 0.0, 0.0, 0.0, 0.0, 0.0, 0.0, ...   \n",
       "10  [6964.607755745357, 6960.043975926568, 6962.99...   \n",
       "11  [6964.607755745357, 6960.043975926568, 6962.99...   \n",
       "12  [4033.9503996787203, 4030.809943786882, 4029.7...   \n",
       "13  [4033.9503996787203, 4030.809943786882, 4029.7...   \n",
       "14  [0.0, 0.0, 0.0, 0.0, 0.0, 0.0, 0.0, 0.0, 0.0, ...   \n",
       "15  [0.0, 0.0, 0.0, 0.0, 0.0, 0.0, 0.0, 0.0, 0.0, ...   \n",
       "16  [0.0, 0.0, 0.0, 0.0, 0.0, 0.0, 0.0, 0.0, 0.0, ...   \n",
       "17  [0.0, 0.0, 0.0, 0.0, 0.0, 0.0, 0.0, 0.0, 0.0, ...   \n",
       "18                                                 []   \n",
       "\n",
       "                                          eventNumber     treeName  \\\n",
       "0   [3, 3, 3, 3, 3, 3, 3, 3, 3, 3, 3, 3, 3, 3, 3, ...   muonCCD3;7   \n",
       "1   [3, 3, 3, 3, 3, 3, 3, 3, 3, 3, 3, 3, 3, 3, 3, ...   muonCCD3;6   \n",
       "2   [2, 2, 2, 2, 2, 2, 2, 2, 2, 2, 2, 2, 2, 2, 2, ...   muonCCD4;7   \n",
       "3   [2, 2, 2, 2, 2, 2, 2, 2, 2, 2, 2, 2, 2, 2, 2, ...   muonCCD4;6   \n",
       "4   [1, 1, 1, 1, 1, 1, 1, 1, 1, 1, 1, 1, 1, 1, 1, ...   muonCCD5;7   \n",
       "5   [1, 1, 1, 1, 1, 1, 1, 1, 1, 1, 1, 1, 1, 1, 1, ...   muonCCD5;6   \n",
       "6   [3, 3, 3, 3, 3, 3, 3, 3, 3, 3, 3, 3, 3, 3, 3, ...   muonCCD2;7   \n",
       "7   [3, 3, 3, 3, 3, 3, 3, 3, 3, 3, 3, 3, 3, 3, 3, ...   muonCCD2;6   \n",
       "8   [2, 2, 2, 2, 2, 2, 2, 2, 2, 2, 2, 2, 2, 2, 2, ...   muonCCD6;7   \n",
       "9   [2, 2, 2, 2, 2, 2, 2, 2, 2, 2, 2, 2, 2, 2, 2, ...   muonCCD6;6   \n",
       "10  [2, 2, 2, 2, 2, 2, 2, 2, 2, 2, 2, 2, 2, 2, 2, ...   muonCCD7;6   \n",
       "11  [2, 2, 2, 2, 2, 2, 2, 2, 2, 2, 2, 2, 2, 2, 2, ...   muonCCD7;5   \n",
       "12  [2, 2, 2, 2, 2, 2, 2, 2, 2, 2, 2, 2, 2, 2, 2, ...   muonCCD8;6   \n",
       "13  [2, 2, 2, 2, 2, 2, 2, 2, 2, 2, 2, 2, 2, 2, 2, ...   muonCCD8;5   \n",
       "14  [2, 2, 2, 2, 2, 2, 2, 2, 2, 2, 2, 2, 2, 2, 2, ...   muonCCD9;5   \n",
       "15  [2, 2, 2, 2, 2, 2, 2, 2, 2, 2, 2, 2, 2, 2, 2, ...   muonCCD9;4   \n",
       "16  [2, 2, 2, 2, 2, 2, 2, 2, 2, 2, 2, 2, 2, 2, 2, ...  muonCCD10;5   \n",
       "17  [2, 2, 2, 2, 2, 2, 2, 2, 2, 2, 2, 2, 2, 2, 2, ...  muonCCD10;4   \n",
       "18                                                 []   muonCCD1;1   \n",
       "\n",
       "                             fileName  \n",
       "0   D:/DataSet/Test\\dose-rank000.root  \n",
       "1   D:/DataSet/Test\\dose-rank000.root  \n",
       "2   D:/DataSet/Test\\dose-rank000.root  \n",
       "3   D:/DataSet/Test\\dose-rank000.root  \n",
       "4   D:/DataSet/Test\\dose-rank000.root  \n",
       "5   D:/DataSet/Test\\dose-rank000.root  \n",
       "6   D:/DataSet/Test\\dose-rank000.root  \n",
       "7   D:/DataSet/Test\\dose-rank000.root  \n",
       "8   D:/DataSet/Test\\dose-rank000.root  \n",
       "9   D:/DataSet/Test\\dose-rank000.root  \n",
       "10  D:/DataSet/Test\\dose-rank000.root  \n",
       "11  D:/DataSet/Test\\dose-rank000.root  \n",
       "12  D:/DataSet/Test\\dose-rank000.root  \n",
       "13  D:/DataSet/Test\\dose-rank000.root  \n",
       "14  D:/DataSet/Test\\dose-rank000.root  \n",
       "15  D:/DataSet/Test\\dose-rank000.root  \n",
       "16  D:/DataSet/Test\\dose-rank000.root  \n",
       "17  D:/DataSet/Test\\dose-rank000.root  \n",
       "18  D:/DataSet/Test\\dose-rank000.root  "
      ]
     },
     "execution_count": 10,
     "metadata": {},
     "output_type": "execute_result"
    }
   ],
   "source": [
    "df.head(19)"
   ]
  },
  {
   "cell_type": "code",
   "execution_count": 21,
   "id": "north-isolation",
   "metadata": {},
   "outputs": [
    {
     "data": {
      "text/plain": [
       "14658305"
      ]
     },
     "execution_count": 21,
     "metadata": {},
     "output_type": "execute_result"
    }
   ],
   "source": [
    "len(df['DiffX'][0])"
   ]
  },
  {
   "cell_type": "code",
   "execution_count": 22,
   "id": "stopped-abuse",
   "metadata": {},
   "outputs": [
    {
     "data": {
      "text/plain": [
       "14658305"
      ]
     },
     "execution_count": 22,
     "metadata": {},
     "output_type": "execute_result"
    }
   ],
   "source": [
    "len(df['DiffY'][0])"
   ]
  },
  {
   "cell_type": "code",
   "execution_count": 23,
   "id": "regulated-graphics",
   "metadata": {},
   "outputs": [
    {
     "data": {
      "text/plain": [
       "14658305"
      ]
     },
     "execution_count": 23,
     "metadata": {},
     "output_type": "execute_result"
    }
   ],
   "source": [
    "len(df['eventNumber'][0])"
   ]
  },
  {
   "cell_type": "code",
   "execution_count": 24,
   "id": "statistical-shame",
   "metadata": {},
   "outputs": [],
   "source": [
    "df.to_parquet('D:/DataSet/dataset/dummy1.parquet.gzip',\n",
    "              compression='gzip')"
   ]
  },
  {
   "cell_type": "code",
   "execution_count": 25,
   "id": "accepting-venue",
   "metadata": {},
   "outputs": [],
   "source": [
    "test =pd.read_parquet('D:/DataSet/dataset/dummy1.parquet.gzip')"
   ]
  },
  {
   "cell_type": "code",
   "execution_count": 11,
   "id": "novel-canal",
   "metadata": {},
   "outputs": [],
   "source": [
    "df.to_pickle('D:/DataSet/dataset/dummy.pickle.gzde', compression='gzip')"
   ]
  },
  {
   "cell_type": "code",
   "execution_count": 14,
   "id": "invalid-preserve",
   "metadata": {},
   "outputs": [],
   "source": [
    "unpickled_df = pd.read_pickle(\"D:/DataSet/dataset/dummy.pickle.gzde\", compression='gzip')"
   ]
  },
  {
   "cell_type": "code",
   "execution_count": 15,
   "id": "fancy-honor",
   "metadata": {},
   "outputs": [
    {
     "data": {
      "text/html": [
       "<div>\n",
       "<style scoped>\n",
       "    .dataframe tbody tr th:only-of-type {\n",
       "        vertical-align: middle;\n",
       "    }\n",
       "\n",
       "    .dataframe tbody tr th {\n",
       "        vertical-align: top;\n",
       "    }\n",
       "\n",
       "    .dataframe thead th {\n",
       "        text-align: right;\n",
       "    }\n",
       "</style>\n",
       "<table border=\"1\" class=\"dataframe\">\n",
       "  <thead>\n",
       "    <tr style=\"text-align: right;\">\n",
       "      <th></th>\n",
       "      <th>DiffX</th>\n",
       "      <th>DiffY</th>\n",
       "      <th>eventNumber</th>\n",
       "      <th>treeName</th>\n",
       "      <th>fileName</th>\n",
       "    </tr>\n",
       "  </thead>\n",
       "  <tbody>\n",
       "    <tr>\n",
       "      <th>0</th>\n",
       "      <td>[0.0, 0.0, 0.0, 0.0, 0.0, 0.0, 0.0, 0.0, 0.0, ...</td>\n",
       "      <td>[0.0, 0.0, 0.0, 0.0, 0.0, 0.0, 0.0, 0.0, 0.0, ...</td>\n",
       "      <td>[3, 3, 3, 3, 3, 3, 3, 3, 3, 3, 3, 3, 3, 3, 3, ...</td>\n",
       "      <td>muonCCD3;7</td>\n",
       "      <td>D:/DataSet/Test\\dose-rank000.root</td>\n",
       "    </tr>\n",
       "    <tr>\n",
       "      <th>1</th>\n",
       "      <td>[0.0, 0.0, 0.0, 0.0, 0.0, 0.0, 0.0, 0.0, 0.0, ...</td>\n",
       "      <td>[0.0, 0.0, 0.0, 0.0, 0.0, 0.0, 0.0, 0.0, 0.0, ...</td>\n",
       "      <td>[3, 3, 3, 3, 3, 3, 3, 3, 3, 3, 3, 3, 3, 3, 3, ...</td>\n",
       "      <td>muonCCD3;6</td>\n",
       "      <td>D:/DataSet/Test\\dose-rank000.root</td>\n",
       "    </tr>\n",
       "    <tr>\n",
       "      <th>2</th>\n",
       "      <td>[0.0, 0.0, 0.0, 0.0, 0.0, 0.0, 0.0, 0.0, 0.0, ...</td>\n",
       "      <td>[0.0, 0.0, 0.0, 0.0, 0.0, 0.0, 0.0, 0.0, 0.0, ...</td>\n",
       "      <td>[2, 2, 2, 2, 2, 2, 2, 2, 2, 2, 2, 2, 2, 2, 2, ...</td>\n",
       "      <td>muonCCD4;7</td>\n",
       "      <td>D:/DataSet/Test\\dose-rank000.root</td>\n",
       "    </tr>\n",
       "    <tr>\n",
       "      <th>3</th>\n",
       "      <td>[0.0, 0.0, 0.0, 0.0, 0.0, 0.0, 0.0, 0.0, 0.0, ...</td>\n",
       "      <td>[0.0, 0.0, 0.0, 0.0, 0.0, 0.0, 0.0, 0.0, 0.0, ...</td>\n",
       "      <td>[2, 2, 2, 2, 2, 2, 2, 2, 2, 2, 2, 2, 2, 2, 2, ...</td>\n",
       "      <td>muonCCD4;6</td>\n",
       "      <td>D:/DataSet/Test\\dose-rank000.root</td>\n",
       "    </tr>\n",
       "    <tr>\n",
       "      <th>4</th>\n",
       "      <td>[28662.047381188473, 28662.71635709177, 28662....</td>\n",
       "      <td>[-31316.7090496399, -31317.530217633415, -3131...</td>\n",
       "      <td>[1, 1, 1, 1, 1, 1, 1, 1, 1, 1, 1, 1, 1, 1, 1, ...</td>\n",
       "      <td>muonCCD5;7</td>\n",
       "      <td>D:/DataSet/Test\\dose-rank000.root</td>\n",
       "    </tr>\n",
       "  </tbody>\n",
       "</table>\n",
       "</div>"
      ],
      "text/plain": [
       "                                               DiffX  \\\n",
       "0  [0.0, 0.0, 0.0, 0.0, 0.0, 0.0, 0.0, 0.0, 0.0, ...   \n",
       "1  [0.0, 0.0, 0.0, 0.0, 0.0, 0.0, 0.0, 0.0, 0.0, ...   \n",
       "2  [0.0, 0.0, 0.0, 0.0, 0.0, 0.0, 0.0, 0.0, 0.0, ...   \n",
       "3  [0.0, 0.0, 0.0, 0.0, 0.0, 0.0, 0.0, 0.0, 0.0, ...   \n",
       "4  [28662.047381188473, 28662.71635709177, 28662....   \n",
       "\n",
       "                                               DiffY  \\\n",
       "0  [0.0, 0.0, 0.0, 0.0, 0.0, 0.0, 0.0, 0.0, 0.0, ...   \n",
       "1  [0.0, 0.0, 0.0, 0.0, 0.0, 0.0, 0.0, 0.0, 0.0, ...   \n",
       "2  [0.0, 0.0, 0.0, 0.0, 0.0, 0.0, 0.0, 0.0, 0.0, ...   \n",
       "3  [0.0, 0.0, 0.0, 0.0, 0.0, 0.0, 0.0, 0.0, 0.0, ...   \n",
       "4  [-31316.7090496399, -31317.530217633415, -3131...   \n",
       "\n",
       "                                         eventNumber    treeName  \\\n",
       "0  [3, 3, 3, 3, 3, 3, 3, 3, 3, 3, 3, 3, 3, 3, 3, ...  muonCCD3;7   \n",
       "1  [3, 3, 3, 3, 3, 3, 3, 3, 3, 3, 3, 3, 3, 3, 3, ...  muonCCD3;6   \n",
       "2  [2, 2, 2, 2, 2, 2, 2, 2, 2, 2, 2, 2, 2, 2, 2, ...  muonCCD4;7   \n",
       "3  [2, 2, 2, 2, 2, 2, 2, 2, 2, 2, 2, 2, 2, 2, 2, ...  muonCCD4;6   \n",
       "4  [1, 1, 1, 1, 1, 1, 1, 1, 1, 1, 1, 1, 1, 1, 1, ...  muonCCD5;7   \n",
       "\n",
       "                            fileName  \n",
       "0  D:/DataSet/Test\\dose-rank000.root  \n",
       "1  D:/DataSet/Test\\dose-rank000.root  \n",
       "2  D:/DataSet/Test\\dose-rank000.root  \n",
       "3  D:/DataSet/Test\\dose-rank000.root  \n",
       "4  D:/DataSet/Test\\dose-rank000.root  "
      ]
     },
     "execution_count": 15,
     "metadata": {},
     "output_type": "execute_result"
    }
   ],
   "source": [
    "unpickled_df.head()"
   ]
  },
  {
   "cell_type": "code",
   "execution_count": 18,
   "id": "demanding-politics",
   "metadata": {},
   "outputs": [
    {
     "data": {
      "text/plain": [
       "14658305"
      ]
     },
     "execution_count": 18,
     "metadata": {},
     "output_type": "execute_result"
    }
   ],
   "source": [
    "len(unpickled_df['DiffX'][0])"
   ]
  },
  {
   "cell_type": "code",
   "execution_count": 19,
   "id": "solved-cotton",
   "metadata": {},
   "outputs": [
    {
     "data": {
      "text/plain": [
       "12807900"
      ]
     },
     "execution_count": 19,
     "metadata": {},
     "output_type": "execute_result"
    }
   ],
   "source": [
    "len(unpickled_df['DiffX'][1])"
   ]
  },
  {
   "cell_type": "code",
   "execution_count": null,
   "id": "meaning-union",
   "metadata": {},
   "outputs": [],
   "source": []
  }
 ],
 "metadata": {
  "kernelspec": {
   "display_name": "Python 3",
   "language": "python",
   "name": "python3"
  },
  "language_info": {
   "codemirror_mode": {
    "name": "ipython",
    "version": 3
   },
   "file_extension": ".py",
   "mimetype": "text/x-python",
   "name": "python",
   "nbconvert_exporter": "python",
   "pygments_lexer": "ipython3",
   "version": "3.6.12"
  }
 },
 "nbformat": 4,
 "nbformat_minor": 5
}
