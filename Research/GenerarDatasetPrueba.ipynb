{
 "cells": [
  {
   "cell_type": "code",
   "execution_count": 2,
   "id": "paperback-opposition",
   "metadata": {},
   "outputs": [],
   "source": [
    "path = 'C:/Users/stark/Desktop/DataSet1/*'"
   ]
  },
  {
   "cell_type": "code",
   "execution_count": 1,
   "id": "related-johns",
   "metadata": {},
   "outputs": [],
   "source": [
    "import glob\n",
    "import uproot\n",
    "import numpy as np\n",
    "import matplotlib.pyplot as plt\n",
    "import cv2\n",
    "import seaborn as sns\n",
    "import os\n",
    "import pandas as pd"
   ]
  },
  {
   "cell_type": "code",
   "execution_count": 3,
   "id": "short-canon",
   "metadata": {},
   "outputs": [
    {
     "name": "stdout",
     "output_type": "stream",
     "text": [
      "C:/Users/stark/Desktop/DataSet1\\dose-rank0001.root\n",
      "C:/Users/stark/Desktop/DataSet1\\dose-rank0002.root\n",
      "2\n"
     ]
    },
    {
     "data": {
      "text/plain": [
       "'C:\\\\Users\\\\stark\\\\Desktop\\\\DataSet1\\\\dose-rank0001.root'"
      ]
     },
     "execution_count": 3,
     "metadata": {},
     "output_type": "execute_result"
    }
   ],
   "source": [
    "files = glob.glob(path)\n",
    "filesCount = len(files)\n",
    "for name in files:\n",
    "    print(name)\n",
    "print(filesCount)\n",
    "os.path.normpath(files[0]) # Para que funcione correctamente en todos los dispositivos usar os.path.normpath(path que se desea normalizar)"
   ]
  },
  {
   "cell_type": "code",
   "execution_count": 4,
   "id": "shared-coordinate",
   "metadata": {},
   "outputs": [
    {
     "name": "stdout",
     "output_type": "stream",
     "text": [
      "LECTURA CORRECTA\n",
      "Las Ramas disponibles en los roots son las siguientes\n",
      "allCCD4;2\n",
      "allCCD4;1\n",
      "allCCD2;2\n",
      "allCCD2;1\n",
      "allCCD3;2\n",
      "allCCD3;1\n",
      "allCCD6;2\n",
      "allCCD6;1\n",
      "allCCD7;2\n",
      "allCCD7;1\n",
      "allCCD5;2\n",
      "allCCD5;1\n",
      "allCCD8;2\n",
      "allCCD8;1\n",
      "allCCD1;2\n",
      "allCCD1;1\n",
      "allCCD9;2\n",
      "allCCD9;1\n",
      "ETot_CCD1;1\n",
      "ETot_CCD2;1\n",
      "ETot_CCD3;1\n",
      "ETot_CCD4;1\n",
      "ETot_CCD5;1\n",
      "ETot_CCD6;1\n",
      "ETot_CCD7;1\n",
      "ETot_CCD8;1\n",
      "ETot_CCD9;1\n",
      "ETot_CCD10;1\n",
      "Primary energy;1\n",
      "muonCCD1;1\n",
      "muonCCD2;1\n",
      "muonCCD3;1\n",
      "muonCCD4;1\n",
      "muonCCD5;1\n",
      "muonCCD6;1\n",
      "muonCCD7;1\n",
      "muonCCD8;1\n",
      "muonCCD9;1\n",
      "muonCCD10;1\n",
      "allCCD10;1\n"
     ]
    }
   ],
   "source": [
    "root = uproot.open(os.path.normpath(files[0]))\n",
    "if(len(root.keys())>0): \n",
    "    print(\"LECTURA CORRECTA\")\n",
    "    print('Las Ramas disponibles en los roots son las siguientes')\n",
    "    treesNames = root.keys()\n",
    "    for treeName in treesNames:\n",
    "        print(treeName)"
   ]
  },
  {
   "cell_type": "code",
   "execution_count": 5,
   "id": "present-newcastle",
   "metadata": {},
   "outputs": [
    {
     "data": {
      "text/plain": [
       "['DiffX', 'DiffY', 'eventNumber', 'treeName', 'fileName']"
      ]
     },
     "execution_count": 5,
     "metadata": {},
     "output_type": "execute_result"
    }
   ],
   "source": [
    "columns = ['DiffX', 'DiffY','eventNumber','treeName','fileName'] # Aca se debe agregar las columnas que se deseea agregar al dataset \n",
    "\n",
    "columns"
   ]
  },
  {
   "cell_type": "code",
   "execution_count": 10,
   "id": "regional-alberta",
   "metadata": {},
   "outputs": [
    {
     "data": {
      "text/plain": [
       "{'DiffX': [], 'DiffY': [], 'eventNumber': [], 'treeName': [], 'fileName': []}"
      ]
     },
     "execution_count": 10,
     "metadata": {},
     "output_type": "execute_result"
    }
   ],
   "source": [
    "data = {}  # Generar los datos genericos\n",
    "\n",
    "for c in columns:\n",
    "    data[c] = []\n",
    "    \n",
    "data\n",
    "\n"
   ]
  },
  {
   "cell_type": "code",
   "execution_count": 11,
   "id": "charming-mississippi",
   "metadata": {},
   "outputs": [
    {
     "name": "stdout",
     "output_type": "stream",
     "text": [
      "Comprobar len de todos los datos', 'x', 'y', 'z', 'trackNumber', 'eventNumber']\n",
      "20\n",
      "20\n",
      "20\n",
      "20\n",
      "20\n"
     ]
    }
   ],
   "source": [
    "percent = 0\n",
    "for name in files:\n",
    "    root = uproot.open(os.path.normpath(name)) # Lectura del root \n",
    "    treesNames = root.keys()\n",
    "    \n",
    "    for treeName in treesNames:\n",
    "        if  'muon' in treeName:\n",
    "            tree = root[treeName]\n",
    "            leafsNames = tree.keys()\n",
    "            print('Leafs Names in a'+treeName, end=\"\\r\")\n",
    "            print(leafsNames, end=\"\\r\")\n",
    "            # Cada leaf sera una linea dentro del dataframe por cada linea se debe guardar el treeName\n",
    "            for leafName in leafsNames:\n",
    "                if leafName in data.keys():\n",
    "                    data[leafName].append(np.array(tree[leafName].array()))\n",
    "            data['treeName'].append(treeName)\n",
    "            data['fileName'].append(name)\n",
    "            \n",
    "        \n",
    "    \n",
    "print('Comprobar len de todos los datos')\n",
    "for k in data.keys():\n",
    "    print(len(data[k]))"
   ]
  },
  {
   "cell_type": "code",
   "execution_count": 13,
   "id": "willing-butter",
   "metadata": {},
   "outputs": [],
   "source": [
    "df = pd.DataFrame(data)"
   ]
  },
  {
   "cell_type": "code",
   "execution_count": 14,
   "id": "nonprofit-blame",
   "metadata": {},
   "outputs": [
    {
     "data": {
      "text/html": [
       "<div>\n",
       "<style scoped>\n",
       "    .dataframe tbody tr th:only-of-type {\n",
       "        vertical-align: middle;\n",
       "    }\n",
       "\n",
       "    .dataframe tbody tr th {\n",
       "        vertical-align: top;\n",
       "    }\n",
       "\n",
       "    .dataframe thead th {\n",
       "        text-align: right;\n",
       "    }\n",
       "</style>\n",
       "<table border=\"1\" class=\"dataframe\">\n",
       "  <thead>\n",
       "    <tr style=\"text-align: right;\">\n",
       "      <th></th>\n",
       "      <th>DiffX</th>\n",
       "      <th>DiffY</th>\n",
       "      <th>eventNumber</th>\n",
       "      <th>treeName</th>\n",
       "      <th>fileName</th>\n",
       "    </tr>\n",
       "  </thead>\n",
       "  <tbody>\n",
       "    <tr>\n",
       "      <th>0</th>\n",
       "      <td>[-17086.802100475586, -17084.233403893217, -17...</td>\n",
       "      <td>[20989.7870316061, 20991.622454389828, 20989.4...</td>\n",
       "      <td>[3, 3, 3, 3, 3, 3, 3, 3, 3, 3, 3, 3, 3, 3, 3, ...</td>\n",
       "      <td>muonCCD1;1</td>\n",
       "      <td>C:/Users/stark/Desktop/DataSet1\\dose-rank0001....</td>\n",
       "    </tr>\n",
       "    <tr>\n",
       "      <th>1</th>\n",
       "      <td>[-17822.36630255583, -17822.0845016496, -17818...</td>\n",
       "      <td>[20529.918995175398, 20530.733962231032, 20529...</td>\n",
       "      <td>[3, 3, 3, 3, 3, 3, 3, 3, 3, 3, 3, 3, 3, 3, 3, ...</td>\n",
       "      <td>muonCCD2;1</td>\n",
       "      <td>C:/Users/stark/Desktop/DataSet1\\dose-rank0001....</td>\n",
       "    </tr>\n",
       "    <tr>\n",
       "      <th>2</th>\n",
       "      <td>[-18542.465185293197, -18542.77225910227, -185...</td>\n",
       "      <td>[20072.664757030394, 20072.75015579395, 20073....</td>\n",
       "      <td>[3, 3, 3, 3, 3, 3, 3, 3, 3, 3, 3, 3, 3, 3, 3, ...</td>\n",
       "      <td>muonCCD3;1</td>\n",
       "      <td>C:/Users/stark/Desktop/DataSet1\\dose-rank0001....</td>\n",
       "    </tr>\n",
       "    <tr>\n",
       "      <th>3</th>\n",
       "      <td>[-19257.562429285943, -19259.5642252899, -1926...</td>\n",
       "      <td>[19612.081833549088, 19611.980306189216, 19611...</td>\n",
       "      <td>[3, 3, 3, 3, 3, 3, 3, 3, 3, 3, 3, 3, 3, 3, 3, ...</td>\n",
       "      <td>muonCCD4;1</td>\n",
       "      <td>C:/Users/stark/Desktop/DataSet1\\dose-rank0001....</td>\n",
       "    </tr>\n",
       "    <tr>\n",
       "      <th>4</th>\n",
       "      <td>[-19976.9000356093, -19979.28624425518, -19977...</td>\n",
       "      <td>[19142.24218012128, 19145.871754489406, 19143....</td>\n",
       "      <td>[3, 3, 3, 3, 3, 3, 3, 3, 3, 3, 3, 3, 3, 3, 3, ...</td>\n",
       "      <td>muonCCD5;1</td>\n",
       "      <td>C:/Users/stark/Desktop/DataSet1\\dose-rank0001....</td>\n",
       "    </tr>\n",
       "  </tbody>\n",
       "</table>\n",
       "</div>"
      ],
      "text/plain": [
       "                                               DiffX  \\\n",
       "0  [-17086.802100475586, -17084.233403893217, -17...   \n",
       "1  [-17822.36630255583, -17822.0845016496, -17818...   \n",
       "2  [-18542.465185293197, -18542.77225910227, -185...   \n",
       "3  [-19257.562429285943, -19259.5642252899, -1926...   \n",
       "4  [-19976.9000356093, -19979.28624425518, -19977...   \n",
       "\n",
       "                                               DiffY  \\\n",
       "0  [20989.7870316061, 20991.622454389828, 20989.4...   \n",
       "1  [20529.918995175398, 20530.733962231032, 20529...   \n",
       "2  [20072.664757030394, 20072.75015579395, 20073....   \n",
       "3  [19612.081833549088, 19611.980306189216, 19611...   \n",
       "4  [19142.24218012128, 19145.871754489406, 19143....   \n",
       "\n",
       "                                         eventNumber    treeName  \\\n",
       "0  [3, 3, 3, 3, 3, 3, 3, 3, 3, 3, 3, 3, 3, 3, 3, ...  muonCCD1;1   \n",
       "1  [3, 3, 3, 3, 3, 3, 3, 3, 3, 3, 3, 3, 3, 3, 3, ...  muonCCD2;1   \n",
       "2  [3, 3, 3, 3, 3, 3, 3, 3, 3, 3, 3, 3, 3, 3, 3, ...  muonCCD3;1   \n",
       "3  [3, 3, 3, 3, 3, 3, 3, 3, 3, 3, 3, 3, 3, 3, 3, ...  muonCCD4;1   \n",
       "4  [3, 3, 3, 3, 3, 3, 3, 3, 3, 3, 3, 3, 3, 3, 3, ...  muonCCD5;1   \n",
       "\n",
       "                                            fileName  \n",
       "0  C:/Users/stark/Desktop/DataSet1\\dose-rank0001....  \n",
       "1  C:/Users/stark/Desktop/DataSet1\\dose-rank0001....  \n",
       "2  C:/Users/stark/Desktop/DataSet1\\dose-rank0001....  \n",
       "3  C:/Users/stark/Desktop/DataSet1\\dose-rank0001....  \n",
       "4  C:/Users/stark/Desktop/DataSet1\\dose-rank0001....  "
      ]
     },
     "execution_count": 14,
     "metadata": {},
     "output_type": "execute_result"
    }
   ],
   "source": [
    "df.head()"
   ]
  },
  {
   "cell_type": "code",
   "execution_count": 15,
   "id": "meaningful-morgan",
   "metadata": {},
   "outputs": [],
   "source": [
    "df.to_csv('test.csv')"
   ]
  },
  {
   "cell_type": "code",
   "execution_count": null,
   "id": "stunning-durham",
   "metadata": {},
   "outputs": [],
   "source": []
  }
 ],
 "metadata": {
  "kernelspec": {
   "display_name": "tesis",
   "language": "python",
   "name": "tesis"
  },
  "language_info": {
   "codemirror_mode": {
    "name": "ipython",
    "version": 3
   },
   "file_extension": ".py",
   "mimetype": "text/x-python",
   "name": "python",
   "nbconvert_exporter": "python",
   "pygments_lexer": "ipython3",
   "version": "3.6.12"
  }
 },
 "nbformat": 4,
 "nbformat_minor": 5
}
