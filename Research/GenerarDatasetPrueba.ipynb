{
 "cells": [
  {
   "cell_type": "code",
   "execution_count": 4,
   "id": "paperback-opposition",
   "metadata": {},
   "outputs": [],
   "source": [
    "path = 'D:/DataSet/dataset/*'"
   ]
  },
  {
   "cell_type": "code",
   "execution_count": 5,
   "id": "related-johns",
   "metadata": {},
   "outputs": [],
   "source": [
    "import glob\n",
    "import uproot\n",
    "import numpy as np\n",
    "import matplotlib.pyplot as plt\n",
    "import cv2\n",
    "import seaborn as sns\n",
    "import os\n",
    "import pandas as pd"
   ]
  },
  {
   "cell_type": "code",
   "execution_count": 6,
   "id": "short-canon",
   "metadata": {},
   "outputs": [
    {
     "name": "stdout",
     "output_type": "stream",
     "text": [
      "D:/DataSet/dataset\\dose-rank000.root\n",
      "D:/DataSet/dataset\\dose-rank0001.root\n",
      "D:/DataSet/dataset\\dose-rank0002.root\n",
      "D:/DataSet/dataset\\dose-rank0003.root\n",
      "D:/DataSet/dataset\\dose-rank0004.root\n",
      "D:/DataSet/dataset\\dose-rank0005.root\n",
      "D:/DataSet/dataset\\dose-rank0006.root\n",
      "D:/DataSet/dataset\\dose-rank0007.root\n",
      "D:/DataSet/dataset\\dose-rank0008.root\n",
      "D:/DataSet/dataset\\dose-rank0009.root\n",
      "D:/DataSet/dataset\\dose-rank0010.root\n",
      "D:/DataSet/dataset\\dose-rank0011.root\n",
      "12\n"
     ]
    },
    {
     "data": {
      "text/plain": [
       "'D:\\\\DataSet\\\\dataset\\\\dose-rank000.root'"
      ]
     },
     "execution_count": 6,
     "metadata": {},
     "output_type": "execute_result"
    }
   ],
   "source": [
    "files = glob.glob(path)\n",
    "filesCount = len(files)\n",
    "for name in files:\n",
    "    print(name)\n",
    "print(filesCount)\n",
    "os.path.normpath(files[0]) # Para que funcione correctamente en todos los dispositivos usar os.path.normpath(path que se desea normalizar)"
   ]
  },
  {
   "cell_type": "code",
   "execution_count": 7,
   "id": "shared-coordinate",
   "metadata": {},
   "outputs": [
    {
     "name": "stdout",
     "output_type": "stream",
     "text": [
      "LECTURA CORRECTA\n",
      "Las Ramas disponibles en los roots son las siguientes\n",
      "allCCD5;14\n",
      "allCCD5;13\n",
      "allCCD3;13\n",
      "allCCD3;12\n",
      "allCCD4;12\n",
      "allCCD4;11\n",
      "allCCD2;12\n",
      "allCCD2;11\n",
      "allCCD6;13\n",
      "allCCD6;12\n",
      "allCCD7;11\n",
      "allCCD7;10\n",
      "allCCD8;10\n",
      "allCCD8;9\n",
      "allCCD9;10\n",
      "allCCD9;9\n",
      "muonCCD3;7\n",
      "muonCCD3;6\n",
      "muonCCD4;7\n",
      "muonCCD4;6\n",
      "muonCCD5;7\n",
      "muonCCD5;6\n",
      "allCCD10;8\n",
      "allCCD10;7\n",
      "muonCCD2;7\n",
      "muonCCD2;6\n",
      "muonCCD6;7\n",
      "muonCCD6;6\n",
      "muonCCD7;6\n",
      "muonCCD7;5\n",
      "muonCCD8;6\n",
      "muonCCD8;5\n",
      "muonCCD9;5\n",
      "muonCCD9;4\n",
      "muonCCD10;5\n",
      "muonCCD10;4\n",
      "ETot_CCD1;1\n",
      "ETot_CCD2;1\n",
      "ETot_CCD3;1\n",
      "ETot_CCD4;1\n",
      "ETot_CCD5;1\n",
      "ETot_CCD6;1\n",
      "ETot_CCD7;1\n",
      "ETot_CCD8;1\n",
      "ETot_CCD9;1\n",
      "ETot_CCD10;1\n",
      "Primary energy;1\n",
      "muonCCD1;1\n",
      "allCCD1;1\n"
     ]
    }
   ],
   "source": [
    "root = uproot.open(os.path.normpath(files[0]))\n",
    "if(len(root.keys())>0): \n",
    "    print(\"LECTURA CORRECTA\")\n",
    "    print('Las Ramas disponibles en los roots son las siguientes')\n",
    "    treesNames = root.keys()\n",
    "    for treeName in treesNames:\n",
    "        print(treeName)"
   ]
  },
  {
   "cell_type": "code",
   "execution_count": 8,
   "id": "present-newcastle",
   "metadata": {},
   "outputs": [
    {
     "data": {
      "text/plain": [
       "['DiffX', 'DiffY', 'eventNumber', 'treeName', 'fileName']"
      ]
     },
     "execution_count": 8,
     "metadata": {},
     "output_type": "execute_result"
    }
   ],
   "source": [
    "columns = ['DiffX', 'DiffY','eventNumber','treeName','fileName'] # Aca se debe agregar las columnas que se deseea agregar al dataset \n",
    "\n",
    "columns"
   ]
  },
  {
   "cell_type": "code",
   "execution_count": 9,
   "id": "regional-alberta",
   "metadata": {},
   "outputs": [
    {
     "data": {
      "text/plain": [
       "{'DiffX': [], 'DiffY': [], 'eventNumber': [], 'treeName': [], 'fileName': []}"
      ]
     },
     "execution_count": 9,
     "metadata": {},
     "output_type": "execute_result"
    }
   ],
   "source": [
    "data = {}  # Generar los datos genericos\n",
    "\n",
    "for c in columns:\n",
    "    data[c] = []\n",
    "    \n",
    "data\n",
    "\n"
   ]
  },
  {
   "cell_type": "code",
   "execution_count": 10,
   "id": "charming-mississippi",
   "metadata": {},
   "outputs": [
    {
     "name": "stdout",
     "output_type": "stream",
     "text": [
      "Comprobar len de todos los datos', 'x', 'y', 'z', 'trackNumber', 'eventNumber']\n",
      "239\n",
      "239\n",
      "239\n",
      "239\n",
      "239\n"
     ]
    }
   ],
   "source": [
    "percent = 0\n",
    "for name in files:\n",
    "    root = uproot.open(os.path.normpath(name)) # Lectura del root \n",
    "    treesNames = root.keys()\n",
    "    \n",
    "    for treeName in treesNames:\n",
    "        if  'muon' in treeName:\n",
    "            tree = root[treeName]\n",
    "            leafsNames = tree.keys()\n",
    "            print('Leafs Names in a'+treeName, end=\"\\r\")\n",
    "            print(leafsNames, end=\"\\r\")\n",
    "            # Cada leaf sera una linea dentro del dataframe por cada linea se debe guardar el treeName\n",
    "            for leafName in leafsNames:\n",
    "                if leafName in data.keys():\n",
    "                    data[leafName].append(np.nan_to_num(np.array(tree[leafName].array()),nan=0.0))\n",
    "            data['treeName'].append(treeName)\n",
    "            data['fileName'].append(name)\n",
    "            \n",
    "        \n",
    "    \n",
    "print('Comprobar len de todos los datos')\n",
    "for k in data.keys():\n",
    "    print(len(data[k]))"
   ]
  },
  {
   "cell_type": "code",
   "execution_count": 11,
   "id": "willing-butter",
   "metadata": {},
   "outputs": [],
   "source": [
    "df = pd.DataFrame(data)"
   ]
  },
  {
   "cell_type": "code",
   "execution_count": 12,
   "id": "nonprofit-blame",
   "metadata": {},
   "outputs": [
    {
     "data": {
      "text/html": [
       "<div>\n",
       "<style scoped>\n",
       "    .dataframe tbody tr th:only-of-type {\n",
       "        vertical-align: middle;\n",
       "    }\n",
       "\n",
       "    .dataframe tbody tr th {\n",
       "        vertical-align: top;\n",
       "    }\n",
       "\n",
       "    .dataframe thead th {\n",
       "        text-align: right;\n",
       "    }\n",
       "</style>\n",
       "<table border=\"1\" class=\"dataframe\">\n",
       "  <thead>\n",
       "    <tr style=\"text-align: right;\">\n",
       "      <th></th>\n",
       "      <th>DiffX</th>\n",
       "      <th>DiffY</th>\n",
       "      <th>eventNumber</th>\n",
       "      <th>treeName</th>\n",
       "      <th>fileName</th>\n",
       "    </tr>\n",
       "  </thead>\n",
       "  <tbody>\n",
       "    <tr>\n",
       "      <th>0</th>\n",
       "      <td>[0.0, 0.0, 0.0, 0.0, 0.0, 0.0, 0.0, 0.0, 0.0, ...</td>\n",
       "      <td>[0.0, 0.0, 0.0, 0.0, 0.0, 0.0, 0.0, 0.0, 0.0, ...</td>\n",
       "      <td>[3, 3, 3, 3, 3, 3, 3, 3, 3, 3, 3, 3, 3, 3, 3, ...</td>\n",
       "      <td>muonCCD3;7</td>\n",
       "      <td>D:/DataSet/dataset\\dose-rank000.root</td>\n",
       "    </tr>\n",
       "    <tr>\n",
       "      <th>1</th>\n",
       "      <td>[0.0, 0.0, 0.0, 0.0, 0.0, 0.0, 0.0, 0.0, 0.0, ...</td>\n",
       "      <td>[0.0, 0.0, 0.0, 0.0, 0.0, 0.0, 0.0, 0.0, 0.0, ...</td>\n",
       "      <td>[3, 3, 3, 3, 3, 3, 3, 3, 3, 3, 3, 3, 3, 3, 3, ...</td>\n",
       "      <td>muonCCD3;6</td>\n",
       "      <td>D:/DataSet/dataset\\dose-rank000.root</td>\n",
       "    </tr>\n",
       "    <tr>\n",
       "      <th>2</th>\n",
       "      <td>[0.0, 0.0, 0.0, 0.0, 0.0, 0.0, 0.0, 0.0, 0.0, ...</td>\n",
       "      <td>[0.0, 0.0, 0.0, 0.0, 0.0, 0.0, 0.0, 0.0, 0.0, ...</td>\n",
       "      <td>[2, 2, 2, 2, 2, 2, 2, 2, 2, 2, 2, 2, 2, 2, 2, ...</td>\n",
       "      <td>muonCCD4;7</td>\n",
       "      <td>D:/DataSet/dataset\\dose-rank000.root</td>\n",
       "    </tr>\n",
       "    <tr>\n",
       "      <th>3</th>\n",
       "      <td>[0.0, 0.0, 0.0, 0.0, 0.0, 0.0, 0.0, 0.0, 0.0, ...</td>\n",
       "      <td>[0.0, 0.0, 0.0, 0.0, 0.0, 0.0, 0.0, 0.0, 0.0, ...</td>\n",
       "      <td>[2, 2, 2, 2, 2, 2, 2, 2, 2, 2, 2, 2, 2, 2, 2, ...</td>\n",
       "      <td>muonCCD4;6</td>\n",
       "      <td>D:/DataSet/dataset\\dose-rank000.root</td>\n",
       "    </tr>\n",
       "    <tr>\n",
       "      <th>4</th>\n",
       "      <td>[28662.047381188473, 28662.71635709177, 28662....</td>\n",
       "      <td>[-31316.7090496399, -31317.530217633415, -3131...</td>\n",
       "      <td>[1, 1, 1, 1, 1, 1, 1, 1, 1, 1, 1, 1, 1, 1, 1, ...</td>\n",
       "      <td>muonCCD5;7</td>\n",
       "      <td>D:/DataSet/dataset\\dose-rank000.root</td>\n",
       "    </tr>\n",
       "  </tbody>\n",
       "</table>\n",
       "</div>"
      ],
      "text/plain": [
       "                                               DiffX  \\\n",
       "0  [0.0, 0.0, 0.0, 0.0, 0.0, 0.0, 0.0, 0.0, 0.0, ...   \n",
       "1  [0.0, 0.0, 0.0, 0.0, 0.0, 0.0, 0.0, 0.0, 0.0, ...   \n",
       "2  [0.0, 0.0, 0.0, 0.0, 0.0, 0.0, 0.0, 0.0, 0.0, ...   \n",
       "3  [0.0, 0.0, 0.0, 0.0, 0.0, 0.0, 0.0, 0.0, 0.0, ...   \n",
       "4  [28662.047381188473, 28662.71635709177, 28662....   \n",
       "\n",
       "                                               DiffY  \\\n",
       "0  [0.0, 0.0, 0.0, 0.0, 0.0, 0.0, 0.0, 0.0, 0.0, ...   \n",
       "1  [0.0, 0.0, 0.0, 0.0, 0.0, 0.0, 0.0, 0.0, 0.0, ...   \n",
       "2  [0.0, 0.0, 0.0, 0.0, 0.0, 0.0, 0.0, 0.0, 0.0, ...   \n",
       "3  [0.0, 0.0, 0.0, 0.0, 0.0, 0.0, 0.0, 0.0, 0.0, ...   \n",
       "4  [-31316.7090496399, -31317.530217633415, -3131...   \n",
       "\n",
       "                                         eventNumber    treeName  \\\n",
       "0  [3, 3, 3, 3, 3, 3, 3, 3, 3, 3, 3, 3, 3, 3, 3, ...  muonCCD3;7   \n",
       "1  [3, 3, 3, 3, 3, 3, 3, 3, 3, 3, 3, 3, 3, 3, 3, ...  muonCCD3;6   \n",
       "2  [2, 2, 2, 2, 2, 2, 2, 2, 2, 2, 2, 2, 2, 2, 2, ...  muonCCD4;7   \n",
       "3  [2, 2, 2, 2, 2, 2, 2, 2, 2, 2, 2, 2, 2, 2, 2, ...  muonCCD4;6   \n",
       "4  [1, 1, 1, 1, 1, 1, 1, 1, 1, 1, 1, 1, 1, 1, 1, ...  muonCCD5;7   \n",
       "\n",
       "                               fileName  \n",
       "0  D:/DataSet/dataset\\dose-rank000.root  \n",
       "1  D:/DataSet/dataset\\dose-rank000.root  \n",
       "2  D:/DataSet/dataset\\dose-rank000.root  \n",
       "3  D:/DataSet/dataset\\dose-rank000.root  \n",
       "4  D:/DataSet/dataset\\dose-rank000.root  "
      ]
     },
     "execution_count": 12,
     "metadata": {},
     "output_type": "execute_result"
    }
   ],
   "source": [
    "df.head()"
   ]
  },
  {
   "cell_type": "code",
   "execution_count": null,
   "id": "meaningful-morgan",
   "metadata": {},
   "outputs": [],
   "source": [
    "df.to_parquet('test.parquet') "
   ]
  },
  {
   "cell_type": "code",
   "execution_count": null,
   "id": "stunning-durham",
   "metadata": {},
   "outputs": [],
   "source": []
  }
 ],
 "metadata": {
  "kernelspec": {
   "display_name": "tesis",
   "language": "python",
   "name": "tesis"
  },
  "language_info": {
   "codemirror_mode": {
    "name": "ipython",
    "version": 3
   },
   "file_extension": ".py",
   "mimetype": "text/x-python",
   "name": "python",
   "nbconvert_exporter": "python",
   "pygments_lexer": "ipython3",
   "version": "3.6.12"
  }
 },
 "nbformat": 4,
 "nbformat_minor": 5
}
