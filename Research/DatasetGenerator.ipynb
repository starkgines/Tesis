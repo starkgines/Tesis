{
 "cells": [
  {
   "cell_type": "markdown",
   "id": "frozen-reset",
   "metadata": {},
   "source": [
    "##### Librerias"
   ]
  },
  {
   "cell_type": "code",
   "execution_count": 42,
   "id": "former-profile",
   "metadata": {},
   "outputs": [],
   "source": [
    "import glob\n",
    "import uproot\n",
    "import numpy as np\n",
    "import matplotlib.pyplot as plt\n",
    "import cv2\n",
    "import seaborn as sns\n",
    "import pandas as pd"
   ]
  },
  {
   "cell_type": "markdown",
   "id": "acoustic-bradford",
   "metadata": {},
   "source": [
    "##### path del directorio de los roots. "
   ]
  },
  {
   "cell_type": "code",
   "execution_count": 31,
   "id": "korean-handling",
   "metadata": {},
   "outputs": [],
   "source": [
    "path_roots = \"../dataset/*.root\""
   ]
  },
  {
   "cell_type": "code",
   "execution_count": 33,
   "id": "forward-jordan",
   "metadata": {},
   "outputs": [
    {
     "name": "stdout",
     "output_type": "stream",
     "text": [
      "List of all path name\n",
      "../dataset\\dose-rank0001.root\n",
      "../dataset\\dose-rank0002.root\n",
      "../dataset\\dose-rank0003.root\n",
      "../dataset\\dose-rank0004.root\n",
      "../dataset\\dose-rank0005.root\n",
      "../dataset\\dose-rank0006.root\n",
      "../dataset\\dose-rank0007.root\n",
      "../dataset\\dose-rank0008.root\n",
      "../dataset\\dose-rank0009.root\n",
      "../dataset\\dose-rank0010.root\n",
      "../dataset\\dose-rank0011.root\n"
     ]
    }
   ],
   "source": [
    "print(\"List of all path name\")\n",
    "files = glob.glob(path_roots)\n",
    "for names in files:\n",
    "    print(names)"
   ]
  },
  {
   "cell_type": "code",
   "execution_count": 41,
   "id": "vulnerable-humor",
   "metadata": {},
   "outputs": [
    {
     "name": "stdout",
     "output_type": "stream",
     "text": [
      "Lectura Correcta.....\n"
     ]
    }
   ],
   "source": [
    "root = uproot.open(files[0])\n",
    "if(len(root.keys())>0):print(\"Lectura Correcta.....\")"
   ]
  },
  {
   "cell_type": "code",
   "execution_count": 45,
   "id": "double-pizza",
   "metadata": {},
   "outputs": [
    {
     "name": "stdout",
     "output_type": "stream",
     "text": [
      "Definiendo Columnas.....\n"
     ]
    },
    {
     "data": {
      "text/plain": [
       "['Diffx', 'Diffy']"
      ]
     },
     "execution_count": 45,
     "metadata": {},
     "output_type": "execute_result"
    }
   ],
   "source": [
    "print(\"Definiendo Columnas.....\")\n",
    "columns = [\"Diffx\", \"Diffy\"]\n",
    "columns"
   ]
  },
  {
   "cell_type": "code",
   "execution_count": null,
   "id": "inclusive-fraud",
   "metadata": {},
   "outputs": [],
   "source": []
  }
 ],
 "metadata": {
  "kernelspec": {
   "display_name": "tesis",
   "language": "python",
   "name": "tesis"
  },
  "language_info": {
   "codemirror_mode": {
    "name": "ipython",
    "version": 3
   },
   "file_extension": ".py",
   "mimetype": "text/x-python",
   "name": "python",
   "nbconvert_exporter": "python",
   "pygments_lexer": "ipython3",
   "version": "3.6.12"
  }
 },
 "nbformat": 4,
 "nbformat_minor": 5
}
