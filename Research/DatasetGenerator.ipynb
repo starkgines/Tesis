{
 "cells": [
  {
   "cell_type": "markdown",
   "metadata": {},
   "source": [
    "##### Librerias"
   ]
  },
  {
   "cell_type": "code",
   "execution_count": 2,
   "metadata": {},
   "outputs": [],
   "source": [
    "import glob\n",
    "import uproot\n",
    "import numpy as np\n",
    "import matplotlib.pyplot as plt\n",
    "import cv2\n",
    "import seaborn as sns\n",
    "import pandas as pd\n",
    "import os\n",
    "import errno"
   ]
  },
  {
   "cell_type": "markdown",
   "metadata": {},
   "source": [
    "##### path del directorio de los roots. "
   ]
  },
  {
   "cell_type": "code",
   "execution_count": 8,
   "metadata": {},
   "outputs": [],
   "source": [
    "path_roots = \"../dataset/*.root\"\n",
    "directory = 'C:/Users/Karina Aquino/Desktop/Tesis-main/roots/database/'"
   ]
  },
  {
   "cell_type": "code",
   "execution_count": 9,
   "metadata": {},
   "outputs": [
    {
     "name": "stdout",
     "output_type": "stream",
     "text": [
      "List of all path name\n"
     ]
    }
   ],
   "source": [
    "print(\"List of all path name\")\n",
    "files = glob.glob(path_roots)\n",
    "for names in files:\n",
    "    print(names)"
   ]
  },
  {
   "cell_type": "code",
   "execution_count": 10,
   "metadata": {},
   "outputs": [
    {
     "ename": "IndexError",
     "evalue": "list index out of range",
     "output_type": "error",
     "traceback": [
      "\u001b[1;31m---------------------------------------------------------------------------\u001b[0m",
      "\u001b[1;31mIndexError\u001b[0m                                Traceback (most recent call last)",
      "\u001b[1;32m<ipython-input-10-056a91613e41>\u001b[0m in \u001b[0;36m<module>\u001b[1;34m\u001b[0m\n\u001b[1;32m----> 1\u001b[1;33m \u001b[0mroot\u001b[0m \u001b[1;33m=\u001b[0m \u001b[0muproot\u001b[0m\u001b[1;33m.\u001b[0m\u001b[0mopen\u001b[0m\u001b[1;33m(\u001b[0m\u001b[0mfiles\u001b[0m\u001b[1;33m[\u001b[0m\u001b[1;36m0\u001b[0m\u001b[1;33m]\u001b[0m\u001b[1;33m)\u001b[0m\u001b[1;33m\u001b[0m\u001b[1;33m\u001b[0m\u001b[0m\n\u001b[0m\u001b[0;32m      2\u001b[0m \u001b[1;32mif\u001b[0m\u001b[1;33m(\u001b[0m\u001b[0mlen\u001b[0m\u001b[1;33m(\u001b[0m\u001b[0mroot\u001b[0m\u001b[1;33m.\u001b[0m\u001b[0mkeys\u001b[0m\u001b[1;33m(\u001b[0m\u001b[1;33m)\u001b[0m\u001b[1;33m)\u001b[0m\u001b[1;33m>\u001b[0m\u001b[1;36m0\u001b[0m\u001b[1;33m)\u001b[0m\u001b[1;33m:\u001b[0m\u001b[1;33m\u001b[0m\u001b[1;33m\u001b[0m\u001b[0m\n\u001b[0;32m      3\u001b[0m     \u001b[0mprint\u001b[0m\u001b[1;33m(\u001b[0m\u001b[1;34m\"Lectura Correcta.....\"\u001b[0m\u001b[1;33m)\u001b[0m\u001b[1;33m\u001b[0m\u001b[1;33m\u001b[0m\u001b[0m\n\u001b[0;32m      4\u001b[0m     \u001b[0mtreesNames\u001b[0m \u001b[1;33m=\u001b[0m \u001b[0mroot\u001b[0m\u001b[1;33m.\u001b[0m\u001b[0mkeys\u001b[0m\u001b[1;33m(\u001b[0m\u001b[1;33m)\u001b[0m\u001b[1;33m\u001b[0m\u001b[1;33m\u001b[0m\u001b[0m\n",
      "\u001b[1;31mIndexError\u001b[0m: list index out of range"
     ]
    }
   ],
   "source": [
    "root = uproot.open(files[0])\n",
    "if(len(root.keys())>0):\n",
    "    print(\"Lectura Correcta.....\")\n",
    "    treesNames = root.keys()"
   ]
  },
  {
   "cell_type": "code",
   "execution_count": 11,
   "metadata": {},
   "outputs": [
    {
     "name": "stdout",
     "output_type": "stream",
     "text": [
      "Definiendo Columnas.....\n"
     ]
    },
    {
     "data": {
      "text/plain": [
       "['Diffx', 'Diffy']"
      ]
     },
     "execution_count": 11,
     "metadata": {},
     "output_type": "execute_result"
    }
   ],
   "source": [
    "print(\"Definiendo Columnas.....\")\n",
    "columns = [\"Diffx\", \"Diffy\"]\n",
    "columns"
   ]
  },
  {
   "cell_type": "code",
   "execution_count": 5,
   "metadata": {},
   "outputs": [
    {
     "name": "stdout",
     "output_type": "stream",
     "text": [
      "Generando datos genericos...\n"
     ]
    },
    {
     "data": {
      "text/plain": [
       "{'Diffx': [], 'Diffy': []}"
      ]
     },
     "execution_count": 5,
     "metadata": {},
     "output_type": "execute_result"
    }
   ],
   "source": [
    "print(\"Generando datos genericos...\")\n",
    "data = {}  \n",
    "for c in columns:\n",
    "    data[c] = []\n",
    "data   "
   ]
  },
  {
   "cell_type": "code",
   "execution_count": null,
   "metadata": {},
   "outputs": [],
   "source": [
    "percent = 0\n",
    "for name in files:\n",
    "    root = uproot.open(os.path.normpath(name)) # Lectura del root \n",
    "    # carpeta por root \n",
    "    head, tail = os.path.split(name)\n",
    "    root_folder = directory + tail[0:-5]\n",
    "\n",
    "    try:\n",
    "        os.mkdir(root_folder)\n",
    "    except OSError as e:\n",
    "        if e.errno != errno.EEXIST:\n",
    "            raise\n",
    "    treesNames = root.keys()\n",
    "    for treeName in treesNames:\n",
    "        #print(treeName)\n",
    "        if  'muon' in treeName:\n",
    "            #print(treeName)\n",
    "            tree = root[treeName]\n",
    "            leafsNames = tree.keys()\n",
    "            #print('Leafs Names in a '+ treeName)\n",
    "            #print(leafsNames, end=\"\\r\")\n",
    "            try:\n",
    "                muon_folder = root_folder + \"/\" + treeName.split(\";\")[0]\n",
    "                os.mkdir(muon_folder)\n",
    "            except OSError as e:\n",
    "                if e.errno != errno.EEXIST:\n",
    "                    raise\n",
    "            # Cada leaf sera una linea dentro del dataframe por cada linea se debe guardar el treeName\n",
    "            for leafName in leafsNames:\n",
    "                try:\n",
    "                    new_folder = muon_folder + \"/\" + f'{treeName.replace(\";\", \"-\")}'\n",
    "                    #print(new_folder)\n",
    "                    os.mkdir(new_folder)\n",
    "                except OSError as e:\n",
    "                    if e.errno != errno.EEXIST:\n",
    "                        raise\n",
    "                if leafName in data.keys():\n",
    "                        np.save(new_folder +\"/\"+ f'{leafName}-{treeName.replace(\";\", \"-\")}.npy', np.nan_to_num(np.array(tree[leafName]),nan=0.0))\n",
    "     "
   ]
  }
 ],
 "metadata": {
  "kernelspec": {
   "display_name": "Python 3",
   "language": "python",
   "name": "python3"
  },
  "language_info": {
   "codemirror_mode": {
    "name": "ipython",
    "version": 3
   },
   "file_extension": ".py",
   "mimetype": "text/x-python",
   "name": "python",
   "nbconvert_exporter": "python",
   "pygments_lexer": "ipython3",
   "version": "3.8.5"
  }
 },
 "nbformat": 4,
 "nbformat_minor": 5
}
