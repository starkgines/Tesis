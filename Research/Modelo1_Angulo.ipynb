{
 "cells": [
  {
   "cell_type": "markdown",
   "metadata": {},
   "source": [
    "Librerias"
   ]
  },
  {
   "cell_type": "code",
   "execution_count": 2,
   "metadata": {},
   "outputs": [
    {
     "name": "stdout",
     "output_type": "stream",
     "text": [
      "2.1.0\n"
     ]
    }
   ],
   "source": [
    "import pathlib\n",
    "\n",
    "import matplotlib.pyplot as plt\n",
    "import pandas as pd\n",
    "import seaborn as sns\n",
    "\n",
    "import tensorflow as tf\n",
    "\n",
    "from tensorflow import keras\n",
    "from tensorflow.keras import layers\n",
    "\n",
    "print(tf.__version__)"
   ]
  },
  {
   "cell_type": "markdown",
   "metadata": {},
   "source": [
    "Lectura de dataset"
   ]
  },
  {
   "cell_type": "markdown",
   "metadata": {},
   "source": [
    "Para la lectura del modelo necesitamos armar un dataset que contenga: \n",
    "CDD1 \n",
    "   - Diffx \n",
    "   - Diffy\n",
    "   - EventNumber\n",
    "   - Angulo"
   ]
  },
  {
   "cell_type": "markdown",
   "metadata": {},
   "source": [
    "\n",
    "x : [Diffx, Diffy] (filtrado por Eventos) \n",
    "\n",
    "y : [cos(Angulo),sin(Angulo)]"
   ]
  },
  {
   "cell_type": "markdown",
   "metadata": {},
   "source": [
    "Pruebas: \n",
    "   1. Con la información de Diffx e Diffy tratar de identificar el angulo. (más rápido) \n",
    "   2. Reconstruir la imagen con Diffx e Diffy, reemplazar las capas iniciales por capas convolucionales. (más lento) "
   ]
  },
  {
   "cell_type": "code",
   "execution_count": null,
   "metadata": {},
   "outputs": [],
   "source": [
    "# Realizar la lectura de los datos y armar la esstructura dejar en x e y\n",
    "# Directorios\n",
    "path = 'C:/Users/Karina Aquino/Desktop/Tesis-main/roots/database/*'\n",
    "directory = 'C:/Users/Karina Aquino/Desktop/Tesis-main/roots/database/'\n",
    "s = \"/\"\n",
    "ss = \"/*\"\n",
    "\n",
    "# Se arma el dataframe \n",
    "columns = ['DiffX', 'DiffY', 'eventNumber','angle' , 'folder CCD', 'CCD'] # Aca se debe agregar las columnas que se deseea agregar al dataset \n",
    "data = {}  # Generar los datos genericos\n",
    "for c in columns:\n",
    "    data[c] = []    \n",
    "df = pd.DataFrame(data)\n",
    "\n",
    "# Se leen los datos y se carga en el dataset\n",
    "files = glob.glob(path)\n",
    "filesCount = len(files)\n",
    "for doserank in files:\n",
    "    dr = os.path.basename(os.path.normpath(doserank)) \n",
    "    doserank =  glob.glob(doserank + ss)\n",
    "    for muonCCD in doserank:\n",
    "        muonCCD1 = os.path.basename(os.path.normpath(muonCCD))\n",
    "        muonCCD = glob.glob(muonCCD + ss)\n",
    "        for CCD1 in muonCCD:\n",
    "            if (muonCCD1 == \"muonCCD1\"):\n",
    "                #print(CCD1)\n",
    "                datos = glob.glob(os.path.normpath(CCD1)+ss)\n",
    "                aux = pd.Series(( np.load(os.path.normpath(datos[0])),np.load(os.path.normpath(datos[1])), np.load(os.path.normpath(datos[2])), dr, muonCCD1), index=data)\n",
    "                df = df.append(aux, ignore_index=True)"
   ]
  },
  {
   "cell_type": "code",
   "execution_count": null,
   "metadata": {},
   "outputs": [],
   "source": [
    "# X = (DiffX,DiffY)\n",
    "df_content = list()\n",
    "X = list()\n",
    "true_labels = list()\n",
    "for index, row in df.iterrows():\n",
    "    #xd = np.vstack((row['DiffX'][:], row['DiffY'][:], row['Z'][:], row['eventNumber'][:]))\n",
    "    for i in range(len(row['DiffX'])):\n",
    "        df_content.append([row['DiffX'][i], row['DiffY'][i], row['eventNumber'][i], row['angle'][i], row['folder CCD'][i], row['CCD'][i]])\n",
    "        X.append([row['DiffX'][i], row['DiffY'][i]])\n",
    "        true_labels.append(row['angle'][i])"
   ]
  },
  {
   "cell_type": "markdown",
   "metadata": {},
   "source": [
    "Normalizar los datos"
   ]
  },
  {
   "cell_type": "markdown",
   "metadata": {},
   "source": [
    "Separar en x_train, y_train , x_test,y_test "
   ]
  },
  {
   "cell_type": "markdown",
   "metadata": {},
   "source": [
    "Modelo"
   ]
  },
  {
   "cell_type": "code",
   "execution_count": null,
   "metadata": {},
   "outputs": [],
   "source": []
  },
  {
   "cell_type": "code",
   "execution_count": 5,
   "metadata": {},
   "outputs": [],
   "source": [
    "input_shape_model = 200\n",
    "def build_model():\n",
    "  model = keras.Sequential([\n",
    "    \n",
    "    #\n",
    "      \n",
    "    # Capas densas \"normales\"\n",
    "    layers.Dense(64, activation='relu', input_shape=[input_shape_model]),\n",
    "    layers.Dense(64, activation='relu'),\n",
    "    layers.Dense(64, activation='relu'),\n",
    "    layers.Dense(64,activation='relu'),\n",
    "    layers.Dense(32,activation='relu'),\n",
    "    layers.Dense(2)\n",
    "  ])\n",
    "\n",
    "  optimizer = tf.keras.optimizers.RMSprop(0.001)\n",
    "\n",
    "  model.compile(loss='mse',\n",
    "                optimizer=optimizer,\n",
    "                metrics=['mae', 'mse'])\n",
    "  return model\n",
    "\n",
    "model = build_model()"
   ]
  },
  {
   "cell_type": "code",
   "execution_count": 6,
   "metadata": {},
   "outputs": [
    {
     "name": "stdout",
     "output_type": "stream",
     "text": [
      "Model: \"sequential\"\n",
      "_________________________________________________________________\n",
      "Layer (type)                 Output Shape              Param #   \n",
      "=================================================================\n",
      "dense (Dense)                (None, 64)                12864     \n",
      "_________________________________________________________________\n",
      "dense_1 (Dense)              (None, 64)                4160      \n",
      "_________________________________________________________________\n",
      "dense_2 (Dense)              (None, 64)                4160      \n",
      "_________________________________________________________________\n",
      "dense_3 (Dense)              (None, 64)                4160      \n",
      "_________________________________________________________________\n",
      "dense_4 (Dense)              (None, 32)                2080      \n",
      "_________________________________________________________________\n",
      "dense_5 (Dense)              (None, 2)                 66        \n",
      "=================================================================\n",
      "Total params: 27,490\n",
      "Trainable params: 27,490\n",
      "Non-trainable params: 0\n",
      "_________________________________________________________________\n"
     ]
    }
   ],
   "source": [
    "model.summary()"
   ]
  },
  {
   "cell_type": "code",
   "execution_count": null,
   "metadata": {},
   "outputs": [],
   "source": [
    "# Display training progress by printing a single dot for each completed epoch\n",
    "class PrintDot(keras.callbacks.Callback):\n",
    "  def on_epoch_end(self, epoch, logs):\n",
    "    if epoch % 100 == 0: print('')\n",
    "    print('.', end='')\n",
    "\n",
    "EPOCHS = 1000\n",
    "\n",
    "history = model.fit(\n",
    "  normed_train_data, train_labels,\n",
    "  epochs=EPOCHS, validation_split = 0.2, verbose=0,\n",
    "  callbacks=[PrintDot()])"
   ]
  },
  {
   "cell_type": "markdown",
   "metadata": {},
   "source": [
    "Graficos de entrenamiento"
   ]
  },
  {
   "cell_type": "markdown",
   "metadata": {},
   "source": [
    "Salida"
   ]
  },
  {
   "cell_type": "code",
   "execution_count": null,
   "metadata": {},
   "outputs": [],
   "source": []
  },
  {
   "cell_type": "code",
   "execution_count": null,
   "metadata": {},
   "outputs": [],
   "source": []
  }
 ],
 "metadata": {
  "kernelspec": {
   "display_name": "Python 3",
   "language": "python",
   "name": "python3"
  },
  "language_info": {
   "codemirror_mode": {
    "name": "ipython",
    "version": 3
   },
   "file_extension": ".py",
   "mimetype": "text/x-python",
   "name": "python",
   "nbconvert_exporter": "python",
   "pygments_lexer": "ipython3",
   "version": "3.8.5"
  }
 },
 "nbformat": 4,
 "nbformat_minor": 5
}
