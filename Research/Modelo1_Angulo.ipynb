{
 "cells": [
  {
   "cell_type": "markdown",
   "id": "flush-hormone",
   "metadata": {},
   "source": [
    "Librerias"
   ]
  },
  {
   "cell_type": "code",
   "execution_count": 2,
   "id": "nearby-carroll",
   "metadata": {},
   "outputs": [
    {
     "name": "stdout",
     "output_type": "stream",
     "text": [
      "2.1.0\n"
     ]
    }
   ],
   "source": [
    "import pathlib\n",
    "\n",
    "import matplotlib.pyplot as plt\n",
    "import pandas as pd\n",
    "import seaborn as sns\n",
    "\n",
    "import tensorflow as tf\n",
    "\n",
    "from tensorflow import keras\n",
    "from tensorflow.keras import layers\n",
    "\n",
    "print(tf.__version__)"
   ]
  },
  {
   "cell_type": "markdown",
   "id": "closing-orbit",
   "metadata": {},
   "source": [
    "Lectura de dataset"
   ]
  },
  {
   "cell_type": "markdown",
   "id": "hollywood-sapphire",
   "metadata": {},
   "source": [
    "Para la lectura del modelo necesitamos armar un dataset que contenga: \n",
    "CDD1 \n",
    "   - Diffx \n",
    "   - Diffy\n",
    "   - EventNumber\n",
    "   - Angulo"
   ]
  },
  {
   "cell_type": "markdown",
   "id": "alert-kenya",
   "metadata": {},
   "source": [
    "\n",
    "x : [Diffx, Diffy] (filtrado por Eventos) \n",
    "\n",
    "y : [cos(Angulo),sin(Angulo)]"
   ]
  },
  {
   "cell_type": "markdown",
   "id": "coordinate-function",
   "metadata": {},
   "source": [
    "Pruebas: \n",
    "   1. Con la información de Diffx e Diffy tratar de identificar el angulo. (más rápido) \n",
    "   2. Reconstruir la imagen con Diffx e Diffy, reemplazar las capas iniciales por capas convolucionales. (más lento) "
   ]
  },
  {
   "cell_type": "code",
   "execution_count": null,
   "id": "formed-haven",
   "metadata": {},
   "outputs": [],
   "source": [
    "# Realizar la lectura de los datos y armar la esstructura dejar en x e y\n",
    "\n"
   ]
  },
  {
   "cell_type": "markdown",
   "id": "interesting-hacker",
   "metadata": {},
   "source": [
    "Normalizar los datos"
   ]
  },
  {
   "cell_type": "markdown",
   "id": "amino-accountability",
   "metadata": {},
   "source": [
    "Separar en x_train, y_train , x_test,y_test "
   ]
  },
  {
   "cell_type": "markdown",
   "id": "assumed-schedule",
   "metadata": {},
   "source": [
    "Modelo"
   ]
  },
  {
   "cell_type": "code",
   "execution_count": null,
   "id": "parallel-identifier",
   "metadata": {},
   "outputs": [],
   "source": []
  },
  {
   "cell_type": "code",
   "execution_count": 5,
   "id": "informed-values",
   "metadata": {},
   "outputs": [],
   "source": [
    "input_shape_model = 200\n",
    "def build_model():\n",
    "  model = keras.Sequential([\n",
    "    \n",
    "    #\n",
    "      \n",
    "    # Capas densas \"normales\"\n",
    "    layers.Dense(64, activation='relu', input_shape=[input_shape_model]),\n",
    "    layers.Dense(64, activation='relu'),\n",
    "    layers.Dense(64, activation='relu'),\n",
    "    layers.Dense(64,activation='relu'),\n",
    "    layers.Dense(32,activation='relu'),\n",
    "    layers.Dense(2)\n",
    "  ])\n",
    "\n",
    "  optimizer = tf.keras.optimizers.RMSprop(0.001)\n",
    "\n",
    "  model.compile(loss='mse',\n",
    "                optimizer=optimizer,\n",
    "                metrics=['mae', 'mse'])\n",
    "  return model\n",
    "\n",
    "model = build_model()"
   ]
  },
  {
   "cell_type": "code",
   "execution_count": 6,
   "id": "convinced-context",
   "metadata": {},
   "outputs": [
    {
     "name": "stdout",
     "output_type": "stream",
     "text": [
      "Model: \"sequential\"\n",
      "_________________________________________________________________\n",
      "Layer (type)                 Output Shape              Param #   \n",
      "=================================================================\n",
      "dense (Dense)                (None, 64)                12864     \n",
      "_________________________________________________________________\n",
      "dense_1 (Dense)              (None, 64)                4160      \n",
      "_________________________________________________________________\n",
      "dense_2 (Dense)              (None, 64)                4160      \n",
      "_________________________________________________________________\n",
      "dense_3 (Dense)              (None, 64)                4160      \n",
      "_________________________________________________________________\n",
      "dense_4 (Dense)              (None, 32)                2080      \n",
      "_________________________________________________________________\n",
      "dense_5 (Dense)              (None, 2)                 66        \n",
      "=================================================================\n",
      "Total params: 27,490\n",
      "Trainable params: 27,490\n",
      "Non-trainable params: 0\n",
      "_________________________________________________________________\n"
     ]
    }
   ],
   "source": [
    "model.summary()"
   ]
  },
  {
   "cell_type": "code",
   "execution_count": null,
   "id": "acoustic-scheduling",
   "metadata": {},
   "outputs": [],
   "source": [
    "# Display training progress by printing a single dot for each completed epoch\n",
    "class PrintDot(keras.callbacks.Callback):\n",
    "  def on_epoch_end(self, epoch, logs):\n",
    "    if epoch % 100 == 0: print('')\n",
    "    print('.', end='')\n",
    "\n",
    "EPOCHS = 1000\n",
    "\n",
    "history = model.fit(\n",
    "  normed_train_data, train_labels,\n",
    "  epochs=EPOCHS, validation_split = 0.2, verbose=0,\n",
    "  callbacks=[PrintDot()])"
   ]
  },
  {
   "cell_type": "markdown",
   "id": "imported-maple",
   "metadata": {},
   "source": [
    "Graficos de entrenamiento"
   ]
  },
  {
   "cell_type": "markdown",
   "id": "refined-george",
   "metadata": {},
   "source": [
    "Salida"
   ]
  },
  {
   "cell_type": "code",
   "execution_count": null,
   "id": "bibliographic-wells",
   "metadata": {},
   "outputs": [],
   "source": []
  },
  {
   "cell_type": "code",
   "execution_count": null,
   "id": "crude-occupation",
   "metadata": {},
   "outputs": [],
   "source": []
  }
 ],
 "metadata": {
  "kernelspec": {
   "display_name": "tesis",
   "language": "python",
   "name": "tesis"
  },
  "language_info": {
   "codemirror_mode": {
    "name": "ipython",
    "version": 3
   },
   "file_extension": ".py",
   "mimetype": "text/x-python",
   "name": "python",
   "nbconvert_exporter": "python",
   "pygments_lexer": "ipython3",
   "version": "3.6.12"
  }
 },
 "nbformat": 4,
 "nbformat_minor": 5
}
