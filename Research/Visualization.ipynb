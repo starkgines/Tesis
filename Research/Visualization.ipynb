{
 "cells": [
  {
   "cell_type": "markdown",
   "id": "7c8e2e56",
   "metadata": {},
   "source": [
    "### Librerías y los archivos relevantes"
   ]
  },
  {
   "cell_type": "code",
   "execution_count": 46,
   "id": "757ad799",
   "metadata": {},
   "outputs": [],
   "source": [
    "%matplotlib inline\n",
    "import matplotlib.pyplot as plt\n",
    "import numpy as np\n",
    "import pandas as pd\n",
    "import uproot\n",
    "import os\n",
    "import seaborn as sns"
   ]
  },
  {
   "cell_type": "code",
   "execution_count": 43,
   "id": "9edc8056",
   "metadata": {},
   "outputs": [],
   "source": [
    "root_dir = './database/'\n",
    "root_list = os.listdir(root_dir) # output: ['dose-rank000']\n",
    "diffx = []\n",
    "diffy = []\n",
    "eventNumber = []\n",
    "dose_rank = []\n",
    "df = pd.DataFrame()\n",
    "for root_folder in root_list:\n",
    "    doserank_dir = root_dir + root_folder\n",
    "    dr_dir = os.listdir(doserank_dir)\n",
    "    for CCD_folder in dr_dir:\n",
    "        CCD_dir = doserank_dir + '/' + CCD_folder\n",
    "        muonccd_dir = os.listdir(CCD_dir)\n",
    "        for ccdn_folder in muonccd_dir:\n",
    "            ccd = CCD_dir + '/' +ccdn_folder\n",
    "            data = os.listdir(ccd)\n",
    "            x = np.load(ccd+'/'+data[0])\n",
    "            y = np.load(ccd+'/'+data[1])\n",
    "            e = np.load(ccd+'/'+data[2])\n",
    "            diffx.append(x)\n",
    "            diffy.append(y)\n",
    "            eventNumber.append(e)\n",
    "            row = pd.Series([x,y,e,root_folder,CCD_folder], index=['DiffX','DiffY', 'EventNumber', 'Dose_Rank', 'CCD'])\n",
    "            df = df.append(row, ignore_index=True)"
   ]
  },
  {
   "cell_type": "code",
   "execution_count": 44,
   "id": "145ccf05",
   "metadata": {},
   "outputs": [
    {
     "data": {
      "text/html": [
       "<div>\n",
       "<style scoped>\n",
       "    .dataframe tbody tr th:only-of-type {\n",
       "        vertical-align: middle;\n",
       "    }\n",
       "\n",
       "    .dataframe tbody tr th {\n",
       "        vertical-align: top;\n",
       "    }\n",
       "\n",
       "    .dataframe thead th {\n",
       "        text-align: right;\n",
       "    }\n",
       "</style>\n",
       "<table border=\"1\" class=\"dataframe\">\n",
       "  <thead>\n",
       "    <tr style=\"text-align: right;\">\n",
       "      <th></th>\n",
       "      <th>CCD</th>\n",
       "      <th>DiffX</th>\n",
       "      <th>DiffY</th>\n",
       "      <th>Dose_Rank</th>\n",
       "      <th>EventNumber</th>\n",
       "    </tr>\n",
       "  </thead>\n",
       "  <tbody>\n",
       "    <tr>\n",
       "      <th>0</th>\n",
       "      <td>muonCCD1</td>\n",
       "      <td>[-26107.160843786743, -26109.71016000297, -261...</td>\n",
       "      <td>[7051.4526401930425, 7050.874331743865, 7050.6...</td>\n",
       "      <td>dose-rank000</td>\n",
       "      <td>[5, 5, 5, 5, 5, 5, 5, 5, 5, 5, 5, 5, 5, 5, 5, ...</td>\n",
       "    </tr>\n",
       "    <tr>\n",
       "      <th>1</th>\n",
       "      <td>muonCCD10</td>\n",
       "      <td>[30031.236752914883, 30026.103031870935, 30013...</td>\n",
       "      <td>[6201.259739354617, 6177.619479319446, 6171.53...</td>\n",
       "      <td>dose-rank000</td>\n",
       "      <td>[1, 1, 1, 1, 1, 1, 1, 1, 1, 1, 1, 1, 1, 1, 1, ...</td>\n",
       "    </tr>\n",
       "    <tr>\n",
       "      <th>2</th>\n",
       "      <td>muonCCD2</td>\n",
       "      <td>[-29815.62643442672, -29817.970505501708, -298...</td>\n",
       "      <td>[7605.331232660645, 7602.789470173128, 7605.31...</td>\n",
       "      <td>dose-rank000</td>\n",
       "      <td>[5, 5, 5, 5, 5, 5, 5, 5, 5, 5, 5, 5, 5, 5, 5, ...</td>\n",
       "    </tr>\n",
       "    <tr>\n",
       "      <th>3</th>\n",
       "      <td>muonCCD3</td>\n",
       "      <td>[0.0, 0.0, 0.0, 0.0, 0.0, 0.0, 0.0, 0.0, 0.0, ...</td>\n",
       "      <td>[0.0, 0.0, 0.0, 0.0, 0.0, 0.0, 0.0, 0.0, 0.0, ...</td>\n",
       "      <td>dose-rank000</td>\n",
       "      <td>[14, 14, 14, 14, 14, 14, 14, 14, 14, 14, 14, 1...</td>\n",
       "    </tr>\n",
       "    <tr>\n",
       "      <th>4</th>\n",
       "      <td>muonCCD4</td>\n",
       "      <td>[0.0, 0.0, 0.0, 0.0, 0.0, 0.0, 0.0, 0.0, 0.0, ...</td>\n",
       "      <td>[0.0, 0.0, 0.0, 0.0, 0.0, 0.0, 0.0, 0.0, 0.0, ...</td>\n",
       "      <td>dose-rank000</td>\n",
       "      <td>[14, 14, 14, 14, 14, 14, 14, 14, 14, 14, 14, 1...</td>\n",
       "    </tr>\n",
       "    <tr>\n",
       "      <th>5</th>\n",
       "      <td>muonCCD5</td>\n",
       "      <td>[0.0, 0.0, 0.0, 0.0, 0.0, 0.0, 0.0, 0.0, 0.0, ...</td>\n",
       "      <td>[0.0, 0.0, 0.0, 0.0, 0.0, 0.0, 0.0, 0.0, 0.0, ...</td>\n",
       "      <td>dose-rank000</td>\n",
       "      <td>[9, 9, 9, 9, 9, 9, 9, 9, 9, 9, 9, 9, 9, 9, 9, ...</td>\n",
       "    </tr>\n",
       "    <tr>\n",
       "      <th>6</th>\n",
       "      <td>muonCCD6</td>\n",
       "      <td>[17967.741866539105, 17967.467510327915, 17966...</td>\n",
       "      <td>[-25849.68741474504, -25846.88346309696, -2584...</td>\n",
       "      <td>dose-rank000</td>\n",
       "      <td>[9, 9, 9, 9, 9, 9, 9, 9, 9, 9, 9, 9, 9, 9, 9, ...</td>\n",
       "    </tr>\n",
       "    <tr>\n",
       "      <th>7</th>\n",
       "      <td>muonCCD7</td>\n",
       "      <td>[0.0, 0.0, 0.0, 0.0, 0.0, 0.0, 0.0, 0.0, 0.0, ...</td>\n",
       "      <td>[0.0, 0.0, 0.0, 0.0, 0.0, 0.0, 0.0, 0.0, 0.0, ...</td>\n",
       "      <td>dose-rank000</td>\n",
       "      <td>[9, 9, 9, 9, 9, 9, 9, 9, 9, 9, 9, 9, 9, 9, 9, ...</td>\n",
       "    </tr>\n",
       "    <tr>\n",
       "      <th>8</th>\n",
       "      <td>muonCCD8</td>\n",
       "      <td>[15749.164646339568, 15746.159520683788, 15747...</td>\n",
       "      <td>[-10538.745890975033, -10536.226404939545, -10...</td>\n",
       "      <td>dose-rank000</td>\n",
       "      <td>[9, 9, 9, 9, 9, 9, 9, 9, 9, 9, 9, 9, 9, 9, 9, ...</td>\n",
       "    </tr>\n",
       "    <tr>\n",
       "      <th>9</th>\n",
       "      <td>muonCCD9</td>\n",
       "      <td>[0.0, 14638.927162918115, 14640.73699851915, 1...</td>\n",
       "      <td>[0.0, -2902.540931930896, -2898.931706614397, ...</td>\n",
       "      <td>dose-rank000</td>\n",
       "      <td>[9, 9, 9, 9, 9, 9, 9, 9, 9, 9, 9, 9, 9, 9, 9, ...</td>\n",
       "    </tr>\n",
       "  </tbody>\n",
       "</table>\n",
       "</div>"
      ],
      "text/plain": [
       "         CCD                                              DiffX  \\\n",
       "0   muonCCD1  [-26107.160843786743, -26109.71016000297, -261...   \n",
       "1  muonCCD10  [30031.236752914883, 30026.103031870935, 30013...   \n",
       "2   muonCCD2  [-29815.62643442672, -29817.970505501708, -298...   \n",
       "3   muonCCD3  [0.0, 0.0, 0.0, 0.0, 0.0, 0.0, 0.0, 0.0, 0.0, ...   \n",
       "4   muonCCD4  [0.0, 0.0, 0.0, 0.0, 0.0, 0.0, 0.0, 0.0, 0.0, ...   \n",
       "5   muonCCD5  [0.0, 0.0, 0.0, 0.0, 0.0, 0.0, 0.0, 0.0, 0.0, ...   \n",
       "6   muonCCD6  [17967.741866539105, 17967.467510327915, 17966...   \n",
       "7   muonCCD7  [0.0, 0.0, 0.0, 0.0, 0.0, 0.0, 0.0, 0.0, 0.0, ...   \n",
       "8   muonCCD8  [15749.164646339568, 15746.159520683788, 15747...   \n",
       "9   muonCCD9  [0.0, 14638.927162918115, 14640.73699851915, 1...   \n",
       "\n",
       "                                               DiffY     Dose_Rank  \\\n",
       "0  [7051.4526401930425, 7050.874331743865, 7050.6...  dose-rank000   \n",
       "1  [6201.259739354617, 6177.619479319446, 6171.53...  dose-rank000   \n",
       "2  [7605.331232660645, 7602.789470173128, 7605.31...  dose-rank000   \n",
       "3  [0.0, 0.0, 0.0, 0.0, 0.0, 0.0, 0.0, 0.0, 0.0, ...  dose-rank000   \n",
       "4  [0.0, 0.0, 0.0, 0.0, 0.0, 0.0, 0.0, 0.0, 0.0, ...  dose-rank000   \n",
       "5  [0.0, 0.0, 0.0, 0.0, 0.0, 0.0, 0.0, 0.0, 0.0, ...  dose-rank000   \n",
       "6  [-25849.68741474504, -25846.88346309696, -2584...  dose-rank000   \n",
       "7  [0.0, 0.0, 0.0, 0.0, 0.0, 0.0, 0.0, 0.0, 0.0, ...  dose-rank000   \n",
       "8  [-10538.745890975033, -10536.226404939545, -10...  dose-rank000   \n",
       "9  [0.0, -2902.540931930896, -2898.931706614397, ...  dose-rank000   \n",
       "\n",
       "                                         EventNumber  \n",
       "0  [5, 5, 5, 5, 5, 5, 5, 5, 5, 5, 5, 5, 5, 5, 5, ...  \n",
       "1  [1, 1, 1, 1, 1, 1, 1, 1, 1, 1, 1, 1, 1, 1, 1, ...  \n",
       "2  [5, 5, 5, 5, 5, 5, 5, 5, 5, 5, 5, 5, 5, 5, 5, ...  \n",
       "3  [14, 14, 14, 14, 14, 14, 14, 14, 14, 14, 14, 1...  \n",
       "4  [14, 14, 14, 14, 14, 14, 14, 14, 14, 14, 14, 1...  \n",
       "5  [9, 9, 9, 9, 9, 9, 9, 9, 9, 9, 9, 9, 9, 9, 9, ...  \n",
       "6  [9, 9, 9, 9, 9, 9, 9, 9, 9, 9, 9, 9, 9, 9, 9, ...  \n",
       "7  [9, 9, 9, 9, 9, 9, 9, 9, 9, 9, 9, 9, 9, 9, 9, ...  \n",
       "8  [9, 9, 9, 9, 9, 9, 9, 9, 9, 9, 9, 9, 9, 9, 9, ...  \n",
       "9  [9, 9, 9, 9, 9, 9, 9, 9, 9, 9, 9, 9, 9, 9, 9, ...  "
      ]
     },
     "execution_count": 44,
     "metadata": {},
     "output_type": "execute_result"
    }
   ],
   "source": [
    "df"
   ]
  },
  {
   "cell_type": "markdown",
   "id": "5826139a",
   "metadata": {},
   "source": [
    "### Gráficos"
   ]
  },
  {
   "cell_type": "code",
   "execution_count": 91,
   "id": "f6e44904",
   "metadata": {},
   "outputs": [
    {
     "data": {
      "image/png": "[encoded data removed]",
      "text/plain": [
       "<Figure size 1080x360 with 2 Axes>"
      ]
     },
     "metadata": {
      "needs_background": "light"
     },
     "output_type": "display_data"
    }
   ],
   "source": [
    "fig, (ax1, ax2) = plt.subplots(1, 2,figsize=(15, 5))\n",
    "fig.suptitle('CCD 1 - dose_rank000')\n",
    "en = df['EventNumber'][0]\n",
    "(unique, counts) = np.unique(en, return_counts=True)\n",
    "scatter = ax1.scatter(x=df['DiffX'][0], y=df['DiffY'][0], c=df['EventNumber'][0])\n",
    "legend1 = ax1.legend(*scatter.legend_elements(),loc=\"upper right\", title=\"Event Number\")\n",
    "ax1.add_artist(legend1)\n",
    "ax2.bar(unique, counts, align='center', color='pink')\n",
    "plt.show()"
   ]
  },
  {
   "cell_type": "code",
   "execution_count": 71,
   "id": "73434c44",
   "metadata": {},
   "outputs": [],
   "source": []
  },
  {
   "cell_type": "code",
   "execution_count": 72,
   "id": "3d9447e1",
   "metadata": {},
   "outputs": [
    {
     "data": {
      "text/plain": [
       "array([ 5, 11, 14, 15])"
      ]
     },
     "execution_count": 72,
     "metadata": {},
     "output_type": "execute_result"
    }
   ],
   "source": []
  },
  {
   "cell_type": "code",
   "execution_count": 73,
   "id": "d009cdf6",
   "metadata": {},
   "outputs": [
    {
     "data": {
      "text/plain": [
       "array([43411,  8963, 39063, 72351], dtype=int64)"
      ]
     },
     "execution_count": 73,
     "metadata": {},
     "output_type": "execute_result"
    }
   ],
   "source": []
  },
  {
   "cell_type": "code",
   "execution_count": null,
   "id": "5dbf608c",
   "metadata": {},
   "outputs": [],
   "source": []
  }
 ],
 "metadata": {
  "kernelspec": {
   "display_name": "Python 3",
   "language": "python",
   "name": "python3"
  },
  "language_info": {
   "codemirror_mode": {
    "name": "ipython",
    "version": 3
   },
   "file_extension": ".py",
   "mimetype": "text/x-python",
   "name": "python",
   "nbconvert_exporter": "python",
   "pygments_lexer": "ipython3",
   "version": "3.8.8"
  }
 },
 "nbformat": 4,
 "nbformat_minor": 5
}
