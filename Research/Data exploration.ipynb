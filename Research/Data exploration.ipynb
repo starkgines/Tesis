{
 "cells": [
  {
   "cell_type": "markdown",
   "id": "inner-mystery",
   "metadata": {},
   "source": [
    "### All import "
   ]
  },
  {
   "cell_type": "code",
   "execution_count": 2,
   "id": "genuine-textbook",
   "metadata": {},
   "outputs": [],
   "source": [
    "import uproot\n",
    "import numpy as np\n",
    "import matplotlib.pyplot as plt\n",
    "import cv2\n",
    "import seaborn as sns"
   ]
  },
  {
   "cell_type": "code",
   "execution_count": 3,
   "id": "necessary-cornell",
   "metadata": {},
   "outputs": [],
   "source": [
    "file = uproot.open(\"./root_pandas/dose-rank000.root\")"
   ]
  },
  {
   "cell_type": "code",
   "execution_count": 4,
   "id": "divine-timing",
   "metadata": {},
   "outputs": [],
   "source": [
    "trees = file.keys()"
   ]
  },
  {
   "cell_type": "code",
   "execution_count": 5,
   "id": "solved-specification",
   "metadata": {},
   "outputs": [
    {
     "name": "stdout",
     "output_type": "stream",
     "text": [
      "All tree in the .root is ['ETot_CCD1;1', 'ETot_CCD2;1', 'ETot_CCD3;1', 'ETot_CCD4;1', 'ETot_CCD5;1', 'ETot_CCD6;1', 'ETot_CCD7;1', 'ETot_CCD8;1', 'ETot_CCD9;1', 'ETot_CCD10;1', 'Primary energy;1', 'muonCCD1;1', 'muonCCD2;1', 'muonCCD3;1', 'muonCCD4;1', 'muonCCD5;1', 'muonCCD6;1', 'muonCCD7;1', 'muonCCD8;1', 'muonCCD9;1', 'muonCCD10;1', 'allCCD1;2', 'allCCD1;1', 'allCCD2;2', 'allCCD2;1', 'allCCD3;2', 'allCCD3;1', 'allCCD4;2', 'allCCD4;1', 'allCCD5;2', 'allCCD5;1', 'allCCD6;2', 'allCCD6;1', 'allCCD7;2', 'allCCD7;1', 'allCCD8;2', 'allCCD8;1', 'allCCD9;2', 'allCCD9;1', 'allCCD10;2', 'allCCD10;1', 'hprof2d21;1', 'hprof2d22;1', 'hprof2d23;1', 'hprof2d24;1', 'hprof2d25;1', 'hprof2d26;1', 'hprof2d27;1', 'hprof2d28;1', 'hprof2d29;1', 'hprof2d210;1']\n"
     ]
    }
   ],
   "source": [
    "print(\"All tree in the .root is\", trees)"
   ]
  },
  {
   "cell_type": "markdown",
   "id": "unknown-mechanics",
   "metadata": {},
   "source": [
    "### muon CCD \n",
    "exploration in the all tree muonCCD#"
   ]
  },
  {
   "cell_type": "code",
   "execution_count": 21,
   "id": "civil-locator",
   "metadata": {},
   "outputs": [],
   "source": [
    "branch1 = file['muonCCD1;1']"
   ]
  },
  {
   "cell_type": "code",
   "execution_count": 22,
   "id": "present-specific",
   "metadata": {},
   "outputs": [
    {
     "data": {
      "text/plain": [
       "<TTree 'muonCCD1' (9 branches) at 0x01c9624de4e0>"
      ]
     },
     "execution_count": 22,
     "metadata": {},
     "output_type": "execute_result"
    }
   ],
   "source": [
    "branch1"
   ]
  },
  {
   "cell_type": "code",
   "execution_count": 23,
   "id": "russian-approval",
   "metadata": {},
   "outputs": [
    {
     "data": {
      "text/plain": [
       "['Emu', 'Holes', 'DiffX', 'DiffY', 'x', 'y', 'z', 'trackNumber', 'eventNumber']"
      ]
     },
     "execution_count": 23,
     "metadata": {},
     "output_type": "execute_result"
    }
   ],
   "source": [
    "leafs = branch1.keys()\n",
    "leafs"
   ]
  },
  {
   "cell_type": "code",
   "execution_count": 25,
   "id": "emerging-norwegian",
   "metadata": {},
   "outputs": [
    {
     "name": "stdout",
     "output_type": "stream",
     "text": [
      "Shape of x, y and z\n",
      "(163788,)\n",
      "(163788,)\n",
      "(163788,)\n"
     ]
    }
   ],
   "source": [
    "print(\"Shape of x, y and z\")\n",
    "x=np.array(branch1['x'].array())\n",
    "y=np.array(branch1['y'].array())\n",
    "z=np.array(branch1['z'].array())\n",
    "trackN = np.array(branch1['trackNumber'].array())\n",
    "print(x.shape)\n",
    "print(y.shape)\n",
    "print(z.shape)"
   ]
  },
  {
   "cell_type": "code",
   "execution_count": 26,
   "id": "facial-valley",
   "metadata": {},
   "outputs": [
    {
     "data": {
      "image/png": "[encoded data removed]",
      "text/plain": [
       "<Figure size 432x288 with 1 Axes>"
      ]
     },
     "metadata": {
      "needs_background": "light"
     },
     "output_type": "display_data"
    }
   ],
   "source": [
    "DiffX = np.array(branch1[\"DiffX\"].array())\n",
    "DiffY = np.array(branch1[\"DiffY\"].array())\n",
    "plt.figure(1)\n",
    "plt.hist2d(DiffX,DiffX, bins=(300, 300), cmap=plt.cm.jet)\n",
    "plt.show()"
   ]
  },
  {
   "cell_type": "code",
   "execution_count": 31,
   "id": "indian-southeast",
   "metadata": {},
   "outputs": [
    {
     "data": {
      "text/plain": [
       "array([1, 1, 1, ..., 1, 1, 1])"
      ]
     },
     "execution_count": 31,
     "metadata": {},
     "output_type": "execute_result"
    }
   ],
   "source": [
    "# TrackN \n",
    "trackN"
   ]
  },
  {
   "cell_type": "code",
   "execution_count": 30,
   "id": "august-intro",
   "metadata": {},
   "outputs": [
    {
     "data": {
      "image/png": "[encoded data removed]",
      "text/plain": [
       "<Figure size 432x288 with 1 Axes>"
      ]
     },
     "metadata": {
      "needs_background": "light"
     },
     "output_type": "display_data"
    }
   ],
   "source": [
    "plt.figure(2)\n",
    "plt.hist(trackN,bins=1000,density=True)\n",
    "plt.show()"
   ]
  },
  {
   "cell_type": "code",
   "execution_count": 13,
   "id": "numerous-correlation",
   "metadata": {},
   "outputs": [
    {
     "data": {
      "image/png": "[encoded data removed]",
      "text/plain": [
       "<Figure size 576x576 with 3 Axes>"
      ]
     },
     "metadata": {
      "needs_background": "light"
     },
     "output_type": "display_data"
    }
   ],
   "source": [
    "left, width = 0.1, 0.65\n",
    "bottom, height = 0.1, 0.65\n",
    "spacing = 0.005\n",
    "\n",
    "\n",
    "rect_scatter = [left, bottom, width, height]\n",
    "rect_histx = [left, bottom + height + spacing, width, 0.2]\n",
    "rect_histy = [left + width + spacing, bottom, 0.2, height]\n",
    "\n",
    "# start with a square Figure\n",
    "fig = plt.figure(figsize=(8, 8))\n",
    "\n",
    "ax = fig.add_axes(rect_scatter)\n",
    "ax_histx = fig.add_axes(rect_histx, sharex=ax)\n",
    "ax_histy = fig.add_axes(rect_histy, sharey=ax)\n",
    "\n",
    "# use the previously defined function\n",
    "scatter_hist(x, y, ax,ax_histx, ax_histy)\n",
    "\n",
    "plt.show()"
   ]
  },
  {
   "cell_type": "code",
   "execution_count": null,
   "id": "caring-combination",
   "metadata": {},
   "outputs": [],
   "source": []
  }
 ],
 "metadata": {
  "kernelspec": {
   "display_name": "tesis",
   "language": "python",
   "name": "tesis"
  },
  "language_info": {
   "codemirror_mode": {
    "name": "ipython",
    "version": 3
   },
   "file_extension": ".py",
   "mimetype": "text/x-python",
   "name": "python",
   "nbconvert_exporter": "python",
   "pygments_lexer": "ipython3",
   "version": "3.6.12"
  }
 },
 "nbformat": 4,
 "nbformat_minor": 5
}
