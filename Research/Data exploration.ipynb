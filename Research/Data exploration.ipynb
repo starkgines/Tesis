{
 "cells": [
  {
   "cell_type": "markdown",
   "id": "designed-point",
   "metadata": {},
   "source": [
    "### All import "
   ]
  },
  {
   "cell_type": "code",
   "execution_count": 1,
   "id": "superb-tattoo",
   "metadata": {},
   "outputs": [],
   "source": [
    "import uproot\n",
    "import numpy as np\n",
    "import matplotlib.pyplot as plt\n",
    "import cv2\n",
    "import seaborn as sns"
   ]
  },
  {
   "cell_type": "code",
   "execution_count": 2,
   "id": "romantic-member",
   "metadata": {},
   "outputs": [],
   "source": [
    "file = uproot.open(\"./root_pandas/dose-rank000.root\")"
   ]
  },
  {
   "cell_type": "code",
   "execution_count": 3,
   "id": "respiratory-hepatitis",
   "metadata": {},
   "outputs": [],
   "source": [
    "trees = file.keys()"
   ]
  },
  {
   "cell_type": "code",
   "execution_count": 4,
   "id": "subtle-mailing",
   "metadata": {},
   "outputs": [
    {
     "name": "stdout",
     "output_type": "stream",
     "text": [
      "All tree in the .root is ['ETot_CCD1;1', 'ETot_CCD2;1', 'ETot_CCD3;1', 'ETot_CCD4;1', 'ETot_CCD5;1', 'ETot_CCD6;1', 'ETot_CCD7;1', 'ETot_CCD8;1', 'ETot_CCD9;1', 'ETot_CCD10;1', 'Primary energy;1', 'muonCCD1;1', 'muonCCD2;1', 'muonCCD3;1', 'muonCCD4;1', 'muonCCD5;1', 'muonCCD6;1', 'muonCCD7;1', 'muonCCD8;1', 'muonCCD9;1', 'muonCCD10;1', 'allCCD1;2', 'allCCD1;1', 'allCCD2;2', 'allCCD2;1', 'allCCD3;2', 'allCCD3;1', 'allCCD4;2', 'allCCD4;1', 'allCCD5;2', 'allCCD5;1', 'allCCD6;2', 'allCCD6;1', 'allCCD7;2', 'allCCD7;1', 'allCCD8;2', 'allCCD8;1', 'allCCD9;2', 'allCCD9;1', 'allCCD10;2', 'allCCD10;1', 'hprof2d21;1', 'hprof2d22;1', 'hprof2d23;1', 'hprof2d24;1', 'hprof2d25;1', 'hprof2d26;1', 'hprof2d27;1', 'hprof2d28;1', 'hprof2d29;1', 'hprof2d210;1']\n"
     ]
    }
   ],
   "source": [
    "print(\"All tree in the .root is\", trees)"
   ]
  },
  {
   "cell_type": "markdown",
   "id": "gross-hypothesis",
   "metadata": {},
   "source": [
    "### Ramas a Explorar\n",
    "\n",
    "\n",
    "- [x] ETot_CCD1 \n",
    "- [ ] Primary energy\n",
    "- [x] muonCCD\n",
    "- [x] allCCD1\n",
    "- [x] hprof2d21"
   ]
  },
  {
   "cell_type": "code",
   "execution_count": 56,
   "id": "higher-sustainability",
   "metadata": {},
   "outputs": [],
   "source": [
    "branch1 = file['muonCCD1;1']"
   ]
  },
  {
   "cell_type": "code",
   "execution_count": null,
   "id": "coordinated-private",
   "metadata": {},
   "outputs": [],
   "source": []
  },
  {
   "cell_type": "markdown",
   "id": "corporate-specialist",
   "metadata": {},
   "source": [
    "## muon CCD \n",
    "exploration in the all tree muonCCD"
   ]
  },
  {
   "cell_type": "code",
   "execution_count": 5,
   "id": "finnish-dodge",
   "metadata": {},
   "outputs": [],
   "source": [
    "branch1 = file['muonCCD1;1']"
   ]
  },
  {
   "cell_type": "code",
   "execution_count": 6,
   "id": "furnished-james",
   "metadata": {},
   "outputs": [
    {
     "data": {
      "text/plain": [
       "<TTree 'muonCCD1' (9 branches) at 0x02d53dbbf908>"
      ]
     },
     "execution_count": 6,
     "metadata": {},
     "output_type": "execute_result"
    }
   ],
   "source": [
    "branch1"
   ]
  },
  {
   "cell_type": "code",
   "execution_count": 7,
   "id": "organized-gothic",
   "metadata": {},
   "outputs": [
    {
     "data": {
      "text/plain": [
       "['Emu', 'Holes', 'DiffX', 'DiffY', 'x', 'y', 'z', 'trackNumber', 'eventNumber']"
      ]
     },
     "execution_count": 7,
     "metadata": {},
     "output_type": "execute_result"
    }
   ],
   "source": [
    "leafs = branch1.keys()\n",
    "leafs"
   ]
  },
  {
   "cell_type": "code",
   "execution_count": 8,
   "id": "organizational-affiliation",
   "metadata": {},
   "outputs": [
    {
     "name": "stdout",
     "output_type": "stream",
     "text": [
      "Shape of x, y and z\n",
      "(163788,)\n",
      "(163788,)\n",
      "(163788,)\n"
     ]
    }
   ],
   "source": [
    "print(\"Shape of x, y and z\")\n",
    "x=np.array(branch1['x'].array())\n",
    "y=np.array(branch1['y'].array())\n",
    "z=np.array(branch1['z'].array())\n",
    "trackN = np.array(branch1['trackNumber'].array())\n",
    "eventNumber = np.array(branch1['eventNumber'].array())\n",
    "print(x.shape)\n",
    "print(y.shape)\n",
    "print(z.shape)\n"
   ]
  },
  {
   "cell_type": "code",
   "execution_count": 9,
   "id": "parliamentary-rachel",
   "metadata": {},
   "outputs": [
    {
     "data": {
      "image/png": "[encoded data removed]",
      "text/plain": [
       "<Figure size 432x288 with 1 Axes>"
      ]
     },
     "metadata": {
      "needs_background": "light"
     },
     "output_type": "display_data"
    }
   ],
   "source": [
    "DiffX = np.array(branch1[\"DiffX\"].array())\n",
    "DiffY = np.array(branch1[\"DiffY\"].array())\n",
    "plt.figure(1)\n",
    "[h,xedg,yedg,img]=plt.hist2d(DiffX,DiffY, bins=(4100, 4100), cmap=plt.cm.jet)\n",
    "plt.show()"
   ]
  },
  {
   "cell_type": "code",
   "execution_count": null,
   "id": "altered-entry",
   "metadata": {},
   "outputs": [],
   "source": []
  },
  {
   "cell_type": "code",
   "execution_count": 10,
   "id": "answering-google",
   "metadata": {},
   "outputs": [
    {
     "data": {
      "text/plain": [
       "(array([     0.,      0.,      0.,      0.,      0., 163788.,      0.,\n",
       "             0.,      0.,      0.]),\n",
       " array([0.5, 0.6, 0.7, 0.8, 0.9, 1. , 1.1, 1.2, 1.3, 1.4, 1.5]),\n",
       " <BarContainer object of 10 artists>)"
      ]
     },
     "execution_count": 10,
     "metadata": {},
     "output_type": "execute_result"
    },
    {
     "data": {
      "image/png": "[encoded data removed]",
      "text/plain": [
       "<Figure size 432x288 with 1 Axes>"
      ]
     },
     "metadata": {
      "needs_background": "light"
     },
     "output_type": "display_data"
    }
   ],
   "source": [
    "# TrackN \n",
    "trackN\n",
    "plt.hist(trackN)\n"
   ]
  },
  {
   "cell_type": "code",
   "execution_count": 11,
   "id": "perfect-syndication",
   "metadata": {},
   "outputs": [
    {
     "data": {
      "text/plain": [
       "163788"
      ]
     },
     "execution_count": 11,
     "metadata": {},
     "output_type": "execute_result"
    }
   ],
   "source": [
    "len(trackN)"
   ]
  },
  {
   "cell_type": "code",
   "execution_count": 12,
   "id": "apart-piano",
   "metadata": {},
   "outputs": [
    {
     "data": {
      "text/plain": [
       "[<matplotlib.lines.Line2D at 0x2d5414bbf98>]"
      ]
     },
     "execution_count": 12,
     "metadata": {},
     "output_type": "execute_result"
    },
    {
     "data": {
      "image/png": "[encoded data removed]",
      "text/plain": [
       "<Figure size 432x288 with 1 Axes>"
      ]
     },
     "metadata": {
      "needs_background": "light"
     },
     "output_type": "display_data"
    }
   ],
   "source": [
    "plt.plot(trackN,'o')"
   ]
  },
  {
   "cell_type": "code",
   "execution_count": 13,
   "id": "english-violence",
   "metadata": {},
   "outputs": [
    {
     "name": "stdout",
     "output_type": "stream",
     "text": [
      "eventNumber (163788,)\n",
      "eventNumber [ 5 11 14 15]\n"
     ]
    },
    {
     "data": {
      "image/png": "[encoded data removed]",
      "text/plain": [
       "<Figure size 432x288 with 1 Axes>"
      ]
     },
     "metadata": {
      "needs_background": "light"
     },
     "output_type": "display_data"
    }
   ],
   "source": [
    "eventNumber\n",
    "plt.hist(eventNumber)\n",
    "print('eventNumber',eventNumber.shape)\n",
    "print('eventNumber',np.unique(eventNumber))"
   ]
  },
  {
   "cell_type": "code",
   "execution_count": 14,
   "id": "aging-interval",
   "metadata": {},
   "outputs": [
    {
     "data": {
      "text/plain": [
       "163788"
      ]
     },
     "execution_count": 14,
     "metadata": {},
     "output_type": "execute_result"
    }
   ],
   "source": [
    "len(eventNumber)"
   ]
  },
  {
   "cell_type": "code",
   "execution_count": 15,
   "id": "sunset-interim",
   "metadata": {},
   "outputs": [
    {
     "data": {
      "text/plain": [
       "[<matplotlib.lines.Line2D at 0x2d54170bac8>]"
      ]
     },
     "execution_count": 15,
     "metadata": {},
     "output_type": "execute_result"
    },
    {
     "data": {
      "image/png": "[encoded data removed]",
      "text/plain": [
       "<Figure size 432x288 with 1 Axes>"
      ]
     },
     "metadata": {
      "needs_background": "light"
     },
     "output_type": "display_data"
    }
   ],
   "source": [
    "plt.plot(eventNumber,'o')"
   ]
  },
  {
   "cell_type": "markdown",
   "id": "invisible-alabama",
   "metadata": {},
   "source": [
    "## ETot_CCD"
   ]
  },
  {
   "cell_type": "code",
   "execution_count": 16,
   "id": "regular-briefing",
   "metadata": {},
   "outputs": [],
   "source": [
    "branch2 = file['ETot_CCD1;1']"
   ]
  },
  {
   "cell_type": "code",
   "execution_count": 17,
   "id": "clean-channels",
   "metadata": {},
   "outputs": [
    {
     "data": {
      "text/plain": [
       "<TH1D (version 2) at 0x02d54171ab00>"
      ]
     },
     "execution_count": 17,
     "metadata": {},
     "output_type": "execute_result"
    }
   ],
   "source": [
    "branch2"
   ]
  },
  {
   "cell_type": "code",
   "execution_count": 18,
   "id": "visible-liverpool",
   "metadata": {},
   "outputs": [
    {
     "data": {
      "text/plain": [
       "'ETot_CCD1'"
      ]
     },
     "execution_count": 18,
     "metadata": {},
     "output_type": "execute_result"
    }
   ],
   "source": [
    "#Retorna el nombre del brach TH1D\n",
    "branch2.name"
   ]
  },
  {
   "cell_type": "code",
   "execution_count": 19,
   "id": "mechanical-ranch",
   "metadata": {},
   "outputs": [
    {
     "data": {
      "text/plain": [
       "<function uproot.behaviors.TH1.TH1.values(self, flow=False)>"
      ]
     },
     "execution_count": 19,
     "metadata": {},
     "output_type": "execute_result"
    }
   ],
   "source": [
    "branch2.behaviors[0].values"
   ]
  },
  {
   "cell_type": "code",
   "execution_count": 20,
   "id": "dominican-bangladesh",
   "metadata": {},
   "outputs": [
    {
     "data": {
      "text/plain": [
       "<TAxis (version 10) at 0x02d5421fa0f0>"
      ]
     },
     "execution_count": 20,
     "metadata": {},
     "output_type": "execute_result"
    }
   ],
   "source": [
    "branch2.axis('x')"
   ]
  },
  {
   "cell_type": "code",
   "execution_count": 21,
   "id": "naked-significance",
   "metadata": {},
   "outputs": [
    {
     "data": {
      "text/plain": [
       "array([0., 0., 0., ..., 0., 0., 0.])"
      ]
     },
     "execution_count": 21,
     "metadata": {},
     "output_type": "execute_result"
    }
   ],
   "source": [
    "branch2.values(flow=False)"
   ]
  },
  {
   "cell_type": "code",
   "execution_count": 22,
   "id": "stretch-trace",
   "metadata": {},
   "outputs": [
    {
     "data": {
      "text/plain": [
       "array([0., 0., 0., ..., 0., 0., 0.])"
      ]
     },
     "execution_count": 22,
     "metadata": {},
     "output_type": "execute_result"
    }
   ],
   "source": [
    "branch2.counts(flow=False)"
   ]
  },
  {
   "cell_type": "code",
   "execution_count": 23,
   "id": "wooden-opportunity",
   "metadata": {},
   "outputs": [
    {
     "data": {
      "text/plain": [
       "(array([0., 0., 0., ..., 0., 0., 0.]),\n",
       " array([0.000e+00, 1.000e+00, 2.000e+00, ..., 5.998e+03, 5.999e+03,\n",
       "        6.000e+03]))"
      ]
     },
     "execution_count": 23,
     "metadata": {},
     "output_type": "execute_result"
    }
   ],
   "source": [
    "#Pasa a numpy los valores dentro del THD1\n",
    "x=branch2.to_numpy(flow=False, dd=False)\n",
    "x"
   ]
  },
  {
   "cell_type": "code",
   "execution_count": 24,
   "id": "lonely-consortium",
   "metadata": {},
   "outputs": [
    {
     "data": {
      "text/html": [
       "<html>\n",
       "<div style=\"display:flex; align-items:center;\">\n",
       "<div style=\"width:290px;\">\n",
       "<svg xmlns=\"http://www.w3.org/2000/svg\" viewBox=\"-10 -105 270 120\">\n",
       "<line x1=\"-5\" y1=\"0\" x2=\"255\" y2=\"0\" style=\"fill:none;stroke-width:2;stroke:currentColor\"/>\n",
       "<text text-anchor=\"middle\" x=\"0\" y=\"15\" style=\"fill:currentColor;\">\n",
       "0\n",
       "</text>\n",
       "<text text-anchor=\"middle\" x=\"250\" y=\"15\" style=\"fill:currentColor;\">\n",
       "6e+03\n",
       "</text>\n",
       "<text text-anchor=\"middle\" x=\"125.0\" y=\"15\" style=\"fill:currentColor;\">\n",
       "xaxis\n",
       "</text>\n",
       "<polyline points=\"  0,0   0,-0 0.0416667,-0 0.0416667,-0 0.0833333,-0 0.0833333,-0 0.125,-0 0.125,-0 0.166667,-0 0.166667,-0 0.208333,-0 0.208333,-0 0.25,-0 0.25,-0 0.291667,-0 0.291667,-0 0.333333,-0 0.333333,-0 0.375,-0 0.375,-0 0.416667,-0 0.416667,-0 0.458333,-0 0.458333,-0 0.5,-0 0.5,-0 0.541667,-0 0.541667,-0 0.583333,-0 0.583333,-0 0.625,-0 0.625,-0 0.666667,-0 0.666667,-0 0.708333,-0 0.708333,-0 0.75,-0 0.75,-0 0.791667,-0 0.791667,-0 0.833333,-0 0.833333,-0 0.875,-0 0.875,-0 0.916667,-0 0.916667,-0 0.958333,-0 0.958333,-0   1,-0   1,-0 1.04167,-0 1.04167,-0 1.08333,-0 1.08333,-0 1.125,-0 1.125,-0 1.16667,-0 1.16667,-0 1.20833,-0 1.20833,-0 1.25,-0 1.25,-0 1.29167,-0 1.29167,-0 1.33333,-0 1.33333,-0 1.375,-0 1.375,-0 1.41667,-0 1.41667,-0 1.45833,-0 1.45833,-0 1.5,-0 1.5,-0 1.54167,-0 1.54167,-0 1.58333,-0 1.58333,-0 1.625,-0 1.625,-0 1.66667,-0 1.66667,-0 1.70833,-0 1.70833,-100 1.75,-100 1.75,-0 1.79167,-0 1.79167,-0 1.83333,-0 1.83333,-0 1.875,-0 1.875,-0 1.91667,-0 1.91667,-0 1.95833,-0 1.95833,-0   2,-0   2,-0 2.04167,-0 2.04167,-0 2.08333,-0 2.08333,-0 2.125,-0 2.125,-0 2.16667,-0 2.16667,-0 2.20833,-0 2.20833,-0 2.25,-0 2.25,-0 2.29167,-0 2.29167,-0 2.33333,-0 2.33333,-0 2.375,-0 2.375,-0 2.41667,-0 2.41667,-0 2.45833,-0 2.45833,-0 2.5,-0 2.5,-0 2.54167,-0 2.54167,-0 2.58333,-0 2.58333,-0 2.625,-0 2.625,-0 2.66667,-0 2.66667,-0 2.70833,-0 2.70833,-0 2.75,-0 2.75,-0 2.79167,-0 2.79167,-0 2.83333,-0 2.83333,-0 2.875,-0 2.875,-0 2.91667,-0 2.91667,-0 2.95833,-0 2.95833,-0   3,-0   3,-0 3.04167,-0 3.04167,-0 3.08333,-0 3.08333,-0 3.125,-0 3.125,-0 3.16667,-0 3.16667,-0 3.20833,-0 3.20833,-0 3.25,-0 3.25,-0 3.29167,-0 3.29167,-0 3.33333,-0 3.33333,-0 3.375,-0 3.375,-0 3.41667,-0 3.41667,-0 3.45833,-0 3.45833,-0 3.5,-0 3.5,-0 3.54167,-0 3.54167,-0 3.58333,-0 3.58333,-0 3.625,-0 3.625,-0 3.66667,-0 3.66667,-0 3.70833,-0 3.70833,-0 3.75,-0 3.75,-0 3.79167,-0 3.79167,-0 3.83333,-0 3.83333,-0 3.875,-0 3.875,-0 3.91667,-0 3.91667,-0 3.95833,-0 3.95833,-0   4,-0   4,-0 4.04167,-0 4.04167,-0 4.08333,-0 4.08333,-0 4.125,-0 4.125,-0 4.16667,-0 4.16667,-0 4.20833,-0 4.20833,-0 4.25,-0 4.25,-0 4.29167,-0 4.29167,-0 4.33333,-0 4.33333,-0 4.375,-0 4.375,-0 4.41667,-0 4.41667,-0 4.45833,-0 4.45833,-0 4.5,-0 4.5,-0 4.54167,-0 4.54167,-0 4.58333,-0 4.58333,-0 4.625,-0 4.625,-0 4.66667,-0 4.66667,-0 4.70833,-0 4.70833,-0 4.75,-0 4.75,-0 4.79167,-0 4.79167,-0 4.83333,-0 4.83333,-0 4.875,-0 4.875,-0 4.91667,-0 4.91667,-0 4.95833,-0 4.95833,-0   5,-0   5,-0 5.04167,-0 5.04167,-0 5.08333,-0 5.08333,-0 5.125,-0 5.125,-0 5.16667,-0 5.16667,-0 5.20833,-0 5.20833,-0 5.25,-0 5.25,-0 5.29167,-0 5.29167,-0 5.33333,-0 5.33333,-0 5.375,-0 5.375,-0 5.41667,-0 5.41667,-0 5.45833,-0 5.45833,-0 5.5,-0 5.5,-0 5.54167,-0 5.54167,-0 5.58333,-0 5.58333,-0 5.625,-0 5.625,-0 5.66667,-0 5.66667,-0 5.70833,-0 5.70833,-0 5.75,-0 5.75,-0 5.79167,-0 5.79167,-0 5.83333,-0 5.83333,-0 5.875,-0 5.875,-0 5.91667,-0 5.91667,-0 5.95833,-0 5.95833,-0   6,-0   6,-0 6.04167,-0 6.04167,-0 6.08333,-0 6.08333,-0 6.125,-0 6.125,-0 6.16667,-0 6.16667,-0 6.20833,-0 6.20833,-0 6.25,-0 6.25,-0 6.29167,-0 6.29167,-0 6.33333,-0 6.33333,-0 6.375,-0 6.375,-0 6.41667,-0 6.41667,-0 6.45833,-0 6.45833,-0 6.5,-0 6.5,-0 6.54167,-0 6.54167,-0 6.58333,-0 6.58333,-0 6.625,-0 6.625,-0 6.66667,-0 6.66667,-0 6.70833,-0 6.70833,-0 6.75,-0 6.75,-0 6.79167,-0 6.79167,-0 6.83333,-0 6.83333,-0 6.875,-0 6.875,-0 6.91667,-0 6.91667,-0 6.95833,-0 6.95833,-0   7,-0   7,-0 7.04167,-0 7.04167,-0 7.08333,-0 7.08333,-0 7.125,-0 7.125,-0 7.16667,-0 7.16667,-0 7.20833,-0 7.20833,-0 7.25,-0 7.25,-0 7.29167,-0 7.29167,-0 7.33333,-0 7.33333,-0 7.375,-0 7.375,-0 7.41667,-0 7.41667,-0 7.45833,-0 7.45833,-0 7.5,-0 7.5,-0 7.54167,-0 7.54167,-0 7.58333,-0 7.58333,-0 7.625,-0 7.625,-0 7.66667,-0 7.66667,-0 7.70833,-0 7.70833,-0 7.75,-0 7.75,-0 7.79167,-0 7.79167,-0 7.83333,-0 7.83333,-0 7.875,-0 7.875,-0 7.91667,-0 7.91667,-0 7.95833,-0 7.95833,-0   8,-0   8,-0 8.04167,-0 8.04167,-0 8.08333,-0 8.08333,-0 8.125,-0 8.125,-0 8.16667,-0 8.16667,-0 8.20833,-0 8.20833,-0 8.25,-0 8.25,-0 8.29167,-0 8.29167,-0 8.33333,-0 8.33333,-0 8.375,-0 8.375,-0 8.41667,-0 8.41667,-0 8.45833,-0 8.45833,-0 8.5,-0 8.5,-0 8.54167,-0 8.54167,-0 8.58333,-0 8.58333,-0 8.625,-0 8.625,-0 8.66667,-0 8.66667,-0 8.70833,-0 8.70833,-0 8.75,-0 8.75,-0 8.79167,-0 8.79167,-0 8.83333,-0 8.83333,-0 8.875,-0 8.875,-0 8.91667,-0 8.91667,-0 8.95833,-0 8.95833,-0   9,-0   9,-0 9.04167,-0 9.04167,-0 9.08333,-0 9.08333,-0 9.125,-0 9.125,-0 9.16667,-0 9.16667,-0 9.20833,-0 9.20833,-0 9.25,-0 9.25,-0 9.29167,-0 9.29167,-0 9.33333,-0 9.33333,-0 9.375,-0 9.375,-0 9.41667,-0 9.41667,-0 9.45833,-0 9.45833,-0 9.5,-0 9.5,-0 9.54167,-0 9.54167,-0 9.58333,-0 9.58333,-0 9.625,-0 9.625,-0 9.66667,-0 9.66667,-0 9.70833,-0 9.70833,-0 9.75,-0 9.75,-0 9.79167,-0 9.79167,-0 9.83333,-0 9.83333,-0 9.875,-0 9.875,-0 9.91667,-0 9.91667,-0 9.95833,-0 9.95833,-0  10,-0  10,-0 10.0417,-0 10.0417,-0 10.0833,-0 10.0833,-0 10.125,-0 10.125,-0 10.1667,-0 10.1667,-0 10.2083,-0 10.2083,-0 10.25,-0 10.25,-0 10.2917,-0 10.2917,-0 10.3333,-0 10.3333,-0 10.375,-0 10.375,-0 10.4167,-0 10.4167,-0 10.4583,-0 10.4583,-0 10.5,-0 10.5,-0 10.5417,-0 10.5417,-0 10.5833,-0 10.5833,-0 10.625,-0 10.625,-0 10.6667,-0 10.6667,-0 10.7083,-0 10.7083,-0 10.75,-0 10.75,-100 10.7917,-100 10.7917,-0 10.8333,-0 10.8333,-0 10.875,-0 10.875,-0 10.9167,-0 10.9167,-0 10.9583,-0 10.9583,-0  11,-0  11,-0 11.0417,-0 11.0417,-0 11.0833,-0 11.0833,-0 11.125,-0 11.125,-0 11.1667,-0 11.1667,-0 11.2083,-0 11.2083,-0 11.25,-0 11.25,-0 11.2917,-0 11.2917,-0 11.3333,-0 11.3333,-0 11.375,-0 11.375,-0 11.4167,-0 11.4167,-0 11.4583,-0 11.4583,-0 11.5,-0 11.5,-0 11.5417,-0 11.5417,-0 11.5833,-0 11.5833,-0 11.625,-0 11.625,-0 11.6667,-0 11.6667,-0 11.7083,-0 11.7083,-0 11.75,-0 11.75,-0 11.7917,-0 11.7917,-0 11.8333,-0 11.8333,-0 11.875,-0 11.875,-0 11.9167,-0 11.9167,-0 11.9583,-0 11.9583,-0  12,-0  12,-0 12.0417,-0 12.0417,-0 12.0833,-0 12.0833,-0 12.125,-0 12.125,-0 12.1667,-0 12.1667,-0 12.2083,-0 12.2083,-0 12.25,-0 12.25,-0 12.2917,-0 12.2917,-0 12.3333,-0 12.3333,-0 12.375,-0 12.375,-0 12.4167,-0 12.4167,-0 12.4583,-0 12.4583,-0 12.5,-0 12.5,-0 12.5417,-0 12.5417,-0 12.5833,-0 12.5833,-0 12.625,-0 12.625,-0 12.6667,-0 12.6667,-0 12.7083,-0 12.7083,-0 12.75,-0 12.75,-0 12.7917,-0 12.7917,-0 12.8333,-0 12.8333,-0 12.875,-0 12.875,-0 12.9167,-0 12.9167,-0 12.9583,-0 12.9583,-0  13,-0  13,-0 13.0417,-0 13.0417,-0 13.0833,-0 13.0833,-100 13.125,-100 13.125,-0 13.1667,-0 13.1667,-0 13.2083,-0 13.2083,-0 13.25,-0 13.25,-0 13.2917,-0 13.2917,-0 13.3333,-0 13.3333,-0 13.375,-0 13.375,-0 13.4167,-0 13.4167,-0 13.4583,-0 13.4583,-0 13.5,-0 13.5,-0 13.5417,-0 13.5417,-0 13.5833,-0 13.5833,-0 13.625,-0 13.625,-0 13.6667,-0 13.6667,-0 13.7083,-0 13.7083,-0 13.75,-0 13.75,-0 13.7917,-0 13.7917,-0 13.8333,-0 13.8333,-0 13.875,-0 13.875,-0 13.9167,-0 13.9167,-0 13.9583,-0 13.9583,-0  14,-0  14,-0 14.0417,-0 14.0417,-0 14.0833,-0 14.0833,-0 14.125,-0 14.125,-0 14.1667,-0 14.1667,-0 14.2083,-0 14.2083,-0 14.25,-0 14.25,-0 14.2917,-0 14.2917,-0 14.3333,-0 14.3333,-0 14.375,-0 14.375,-0 14.4167,-0 14.4167,-0 14.4583,-0 14.4583,-0 14.5,-0 14.5,-0 14.5417,-0 14.5417,-0 14.5833,-0 14.5833,-0 14.625,-0 14.625,-0 14.6667,-0 14.6667,-0 14.7083,-0 14.7083,-0 14.75,-0 14.75,-0 14.7917,-0 14.7917,-0 14.8333,-0 14.8333,-0 14.875,-0 14.875,-0 14.9167,-0 14.9167,-0 14.9583,-0 14.9583,-0  15,-0  15,-0 15.0417,-0 15.0417,-0 15.0833,-0 15.0833,-0 15.125,-0 15.125,-0 15.1667,-0 15.1667,-0 15.2083,-0 15.2083,-0 15.25,-0 15.25,-0 15.2917,-0 15.2917,-0 15.3333,-0 15.3333,-0 15.375,-0 15.375,-0 15.4167,-0 15.4167,-0 15.4583,-0 15.4583,-0 15.5,-0 15.5,-0 15.5417,-0 15.5417,-0 15.5833,-0 15.5833,-0 15.625,-0 15.625,-0 15.6667,-0 15.6667,-0 15.7083,-0 15.7083,-0 15.75,-0 15.75,-0 15.7917,-0 15.7917,-0 15.8333,-0 15.8333,-0 15.875,-0 15.875,-0 15.9167,-0 15.9167,-0 15.9583,-0 15.9583,-0  16,-0  16,-0 16.0417,-0 16.0417,-0 16.0833,-0 16.0833,-0 16.125,-0 16.125,-0 16.1667,-0 16.1667,-0 16.2083,-0 16.2083,-0 16.25,-0 16.25,-0 16.2917,-0 16.2917,-0 16.3333,-0 16.3333,-0 16.375,-0 16.375,-0 16.4167,-0 16.4167,-0 16.4583,-0 16.4583,-0 16.5,-0 16.5,-0 16.5417,-0 16.5417,-0 16.5833,-0 16.5833,-0 16.625,-0 16.625,-0 16.6667,-0 16.6667,-0 16.7083,-0 16.7083,-0 16.75,-0 16.75,-0 16.7917,-0 16.7917,-0 16.8333,-0 16.8333,-0 16.875,-0 16.875,-0 16.9167,-0 16.9167,-0 16.9583,-0 16.9583,-0  17,-0  17,-0 17.0417,-0 17.0417,-0 17.0833,-0 17.0833,-0 17.125,-0 17.125,-0 17.1667,-0 17.1667,-0 17.2083,-0 17.2083,-0 17.25,-0 17.25,-0 17.2917,-0 17.2917,-0 17.3333,-0 17.3333,-0 17.375,-0 17.375,-0 17.4167,-0 17.4167,-0 17.4583,-0 17.4583,-0 17.5,-0 17.5,-0 17.5417,-0 17.5417,-0 17.5833,-0 17.5833,-0 17.625,-0 17.625,-0 17.6667,-0 17.6667,-0 17.7083,-0 17.7083,-0 17.75,-0 17.75,-0 17.7917,-0 17.7917,-0 17.8333,-0 17.8333,-0 17.875,-0 17.875,-0 17.9167,-0 17.9167,-0 17.9583,-0 17.9583,-0  18,-0  18,-0 18.0417,-0 18.0417,-0 18.0833,-0 18.0833,-0 18.125,-0 18.125,-0 18.1667,-0 18.1667,-0 18.2083,-0 18.2083,-0 18.25,-0 18.25,-0 18.2917,-0 18.2917,-0 18.3333,-0 18.3333,-0 18.375,-0 18.375,-0 18.4167,-0 18.4167,-0 18.4583,-0 18.4583,-0 18.5,-0 18.5,-100 18.5417,-100 18.5417,-0 18.5833,-0 18.5833,-0 18.625,-0 18.625,-0 18.6667,-0 18.6667,-0 18.7083,-0 18.7083,-0 18.75,-0 18.75,-0 18.7917,-0 18.7917,-0 18.8333,-0 18.8333,-0 18.875,-0 18.875,-0 18.9167,-0 18.9167,-0 18.9583,-0 18.9583,-0  19,-0  19,-0 19.0417,-0 19.0417,-0 19.0833,-0 19.0833,-0 19.125,-0 19.125,-0 19.1667,-0 19.1667,-0 19.2083,-0 19.2083,-0 19.25,-0 19.25,-0 19.2917,-0 19.2917,-0 19.3333,-0 19.3333,-0 19.375,-0 19.375,-0 19.4167,-0 19.4167,-0 19.4583,-0 19.4583,-0 19.5,-0 19.5,-0 19.5417,-0 19.5417,-0 19.5833,-0 19.5833,-0 19.625,-0 19.625,-0 19.6667,-0 19.6667,-0 19.7083,-0 19.7083,-0 19.75,-0 19.75,-0 19.7917,-0 19.7917,-0 19.8333,-0 19.8333,-0 19.875,-0 19.875,-0 19.9167,-0 19.9167,-0 19.9583,-0 19.9583,-0  20,-0  20,-0 20.0417,-0 20.0417,-0 20.0833,-0 20.0833,-0 20.125,-0 20.125,-0 20.1667,-0 20.1667,-0 20.2083,-0 20.2083,-0 20.25,-0 20.25,-0 20.2917,-0 20.2917,-0 20.3333,-0 20.3333,-0 20.375,-0 20.375,-0 20.4167,-0 20.4167,-0 20.4583,-0 20.4583,-0 20.5,-0 20.5,-0 20.5417,-0 20.5417,-0 20.5833,-0 20.5833,-0 20.625,-0 20.625,-0 20.6667,-0 20.6667,-0 20.7083,-0 20.7083,-0 20.75,-0 20.75,-0 20.7917,-0 20.7917,-0 20.8333,-0 20.8333,-0 20.875,-0 20.875,-0 20.9167,-0 20.9167,-0 20.9583,-0 20.9583,-0  21,-0  21,-0 21.0417,-0 21.0417,-0 21.0833,-0 21.0833,-0 21.125,-0 21.125,-0 21.1667,-0 21.1667,-0 21.2083,-0 21.2083,-0 21.25,-0 21.25,-0 21.2917,-0 21.2917,-0 21.3333,-0 21.3333,-0 21.375,-0 21.375,-0 21.4167,-0 21.4167,-0 21.4583,-0 21.4583,-0 21.5,-0 21.5,-0 21.5417,-0 21.5417,-0 21.5833,-0 21.5833,-0 21.625,-0 21.625,-0 21.6667,-0 21.6667,-0 21.7083,-0 21.7083,-0 21.75,-0 21.75,-0 21.7917,-0 21.7917,-0 21.8333,-0 21.8333,-0 21.875,-0 21.875,-0 21.9167,-0 21.9167,-0 21.9583,-0 21.9583,-0  22,-0  22,-0 22.0417,-0 22.0417,-0 22.0833,-0 22.0833,-0 22.125,-0 22.125,-0 22.1667,-0 22.1667,-0 22.2083,-0 22.2083,-0 22.25,-0 22.25,-0 22.2917,-0 22.2917,-0 22.3333,-0 22.3333,-0 22.375,-0 22.375,-0 22.4167,-0 22.4167,-0 22.4583,-0 22.4583,-0 22.5,-0 22.5,-0 22.5417,-0 22.5417,-0 22.5833,-0 22.5833,-0 22.625,-0 22.625,-0 22.6667,-0 22.6667,-0 22.7083,-0 22.7083,-0 22.75,-0 22.75,-0 22.7917,-0 22.7917,-0 22.8333,-0 22.8333,-0 22.875,-0 22.875,-0 22.9167,-0 22.9167,-0 22.9583,-0 22.9583,-0  23,-0  23,-0 23.0417,-0 23.0417,-0 23.0833,-0 23.0833,-0 23.125,-0 23.125,-0 23.1667,-0 23.1667,-0 23.2083,-0 23.2083,-0 23.25,-0 23.25,-0 23.2917,-0 23.2917,-0 23.3333,-0 23.3333,-0 23.375,-0 23.375,-0 23.4167,-0 23.4167,-0 23.4583,-0 23.4583,-0 23.5,-0 23.5,-0 23.5417,-0 23.5417,-0 23.5833,-0 23.5833,-0 23.625,-0 23.625,-0 23.6667,-0 23.6667,-0 23.7083,-0 23.7083,-0 23.75,-0 23.75,-0 23.7917,-0 23.7917,-0 23.8333,-0 23.8333,-0 23.875,-0 23.875,-0 23.9167,-0 23.9167,-0 23.9583,-0 23.9583,-0  24,-0  24,-0 24.0417,-0 24.0417,-0 24.0833,-0 24.0833,-0 24.125,-0 24.125,-0 24.1667,-0 24.1667,-0 24.2083,-0 24.2083,-0 24.25,-0 24.25,-0 24.2917,-0 24.2917,-0 24.3333,-0 24.3333,-0 24.375,-0 24.375,-0 24.4167,-0 24.4167,-0 24.4583,-0 24.4583,-0 24.5,-0 24.5,-0 24.5417,-0 24.5417,-0 24.5833,-0 24.5833,-0 24.625,-0 24.625,-0 24.6667,-0 24.6667,-0 24.7083,-0 24.7083,-0 24.75,-0 24.75,-0 24.7917,-0 24.7917,-0 24.8333,-0 24.8333,-0 24.875,-0 24.875,-0 24.9167,-0 24.9167,-0 24.9583,-0 24.9583,-0  25,-0  25,-0 25.0417,-0 25.0417,-0 25.0833,-0 25.0833,-0 25.125,-0 25.125,-0 25.1667,-0 25.1667,-0 25.2083,-0 25.2083,-0 25.25,-0 25.25,-0 25.2917,-0 25.2917,-0 25.3333,-0 25.3333,-0 25.375,-0 25.375,-0 25.4167,-0 25.4167,-0 25.4583,-0 25.4583,-0 25.5,-0 25.5,-0 25.5417,-0 25.5417,-0 25.5833,-0 25.5833,-0 25.625,-0 25.625,-0 25.6667,-0 25.6667,-0 25.7083,-0 25.7083,-0 25.75,-0 25.75,-0 25.7917,-0 25.7917,-0 25.8333,-0 25.8333,-0 25.875,-0 25.875,-0 25.9167,-0 25.9167,-0 25.9583,-0 25.9583,-0  26,-0  26,-0 26.0417,-0 26.0417,-0 26.0833,-0 26.0833,-0 26.125,-0 26.125,-0 26.1667,-0 26.1667,-0 26.2083,-0 26.2083,-0 26.25,-0 26.25,-0 26.2917,-0 26.2917,-0 26.3333,-0 26.3333,-0 26.375,-0 26.375,-0 26.4167,-0 26.4167,-0 26.4583,-0 26.4583,-0 26.5,-0 26.5,-0 26.5417,-0 26.5417,-0 26.5833,-0 26.5833,-0 26.625,-0 26.625,-0 26.6667,-0 26.6667,-0 26.7083,-0 26.7083,-0 26.75,-0 26.75,-0 26.7917,-0 26.7917,-0 26.8333,-0 26.8333,-0 26.875,-0 26.875,-0 26.9167,-0 26.9167,-0 26.9583,-0 26.9583,-0  27,-0  27,-0 27.0417,-0 27.0417,-0 27.0833,-0 27.0833,-0 27.125,-0 27.125,-0 27.1667,-0 27.1667,-0 27.2083,-0 27.2083,-0 27.25,-0 27.25,-0 27.2917,-0 27.2917,-0 27.3333,-0 27.3333,-0 27.375,-0 27.375,-0 27.4167,-0 27.4167,-0 27.4583,-0 27.4583,-0 27.5,-0 27.5,-0 27.5417,-0 27.5417,-0 27.5833,-0 27.5833,-0 27.625,-0 27.625,-0 27.6667,-0 27.6667,-0 27.7083,-0 27.7083,-0 27.75,-0 27.75,-0 27.7917,-0 27.7917,-0 27.8333,-0 27.8333,-0 27.875,-0 27.875,-0 27.9167,-0 27.9167,-0 27.9583,-0 27.9583,-0  28,-0  28,-0 28.0417,-0 28.0417,-0 28.0833,-0 28.0833,-0 28.125,-0 28.125,-0 28.1667,-0 28.1667,-0 28.2083,-0 28.2083,-0 28.25,-0 28.25,-0 28.2917,-0 28.2917,-0 28.3333,-0 28.3333,-0 28.375,-0 28.375,-0 28.4167,-0 28.4167,-0 28.4583,-0 28.4583,-0 28.5,-0 28.5,-0 28.5417,-0 28.5417,-0 28.5833,-0 28.5833,-0 28.625,-0 28.625,-0 28.6667,-0 28.6667,-0 28.7083,-0 28.7083,-0 28.75,-0 28.75,-0 28.7917,-0 28.7917,-0 28.8333,-0 28.8333,-0 28.875,-0 28.875,-0 28.9167,-0 28.9167,-0 28.9583,-0 28.9583,-0  29,-0  29,-0 29.0417,-0 29.0417,-0 29.0833,-0 29.0833,-0 29.125,-0 29.125,-0 29.1667,-0 29.1667,-0 29.2083,-0 29.2083,-0 29.25,-0 29.25,-0 29.2917,-0 29.2917,-0 29.3333,-0 29.3333,-0 29.375,-0 29.375,-0 29.4167,-0 29.4167,-0 29.4583,-0 29.4583,-0 29.5,-0 29.5,-0 29.5417,-0 29.5417,-0 29.5833,-0 29.5833,-0 29.625,-0 29.625,-0 29.6667,-0 29.6667,-0 29.7083,-0 29.7083,-0 29.75,-0 29.75,-0 29.7917,-0 29.7917,-0 29.8333,-0 29.8333,-0 29.875,-0 29.875,-0 29.9167,-0 29.9167,-0 29.9583,-0 29.9583,-0  30,-0  30,-0 30.0417,-0 30.0417,-0 30.0833,-0 30.0833,-0 30.125,-0 30.125,-0 30.1667,-0 30.1667,-0 30.2083,-0 30.2083,-0 30.25,-0 30.25,-0 30.2917,-0 30.2917,-0 30.3333,-0 30.3333,-0 30.375,-0 30.375,-0 30.4167,-0 30.4167,-0 30.4583,-0 30.4583,-0 30.5,-0 30.5,-0 30.5417,-0 30.5417,-0 30.5833,-0 30.5833,-0 30.625,-0 30.625,-0 30.6667,-0 30.6667,-0 30.7083,-0 30.7083,-0 30.75,-0 30.75,-0 30.7917,-0 30.7917,-0 30.8333,-0 30.8333,-0 30.875,-0 30.875,-0 30.9167,-0 30.9167,-0 30.9583,-0 30.9583,-0  31,-0  31,-0 31.0417,-0 31.0417,-0 31.0833,-0 31.0833,-0 31.125,-0 31.125,-0 31.1667,-0 31.1667,-0 31.2083,-0 31.2083,-0 31.25,-0 31.25,-0 31.2917,-0 31.2917,-0 31.3333,-0 31.3333,-0 31.375,-0 31.375,-0 31.4167,-0 31.4167,-0 31.4583,-0 31.4583,-0 31.5,-0 31.5,-0 31.5417,-0 31.5417,-0 31.5833,-0 31.5833,-0 31.625,-0 31.625,-0 31.6667,-0 31.6667,-0 31.7083,-0 31.7083,-0 31.75,-0 31.75,-0 31.7917,-0 31.7917,-0 31.8333,-0 31.8333,-0 31.875,-0 31.875,-0 31.9167,-0 31.9167,-0 31.9583,-0 31.9583,-0  32,-0  32,-0 32.0417,-0 32.0417,-0 32.0833,-0 32.0833,-0 32.125,-0 32.125,-0 32.1667,-0 32.1667,-0 32.2083,-0 32.2083,-0 32.25,-0 32.25,-0 32.2917,-0 32.2917,-0 32.3333,-0 32.3333,-0 32.375,-0 32.375,-0 32.4167,-0 32.4167,-0 32.4583,-0 32.4583,-0 32.5,-0 32.5,-0 32.5417,-0 32.5417,-0 32.5833,-0 32.5833,-0 32.625,-0 32.625,-0 32.6667,-0 32.6667,-0 32.7083,-0 32.7083,-0 32.75,-0 32.75,-0 32.7917,-0 32.7917,-0 32.8333,-0 32.8333,-0 32.875,-0 32.875,-0 32.9167,-0 32.9167,-0 32.9583,-0 32.9583,-0  33,-0  33,-0 33.0417,-0 33.0417,-0 33.0833,-0 33.0833,-0 33.125,-0 33.125,-0 33.1667,-0 33.1667,-0 33.2083,-0 33.2083,-0 33.25,-0 33.25,-0 33.2917,-0 33.2917,-0 33.3333,-0 33.3333,-0 33.375,-0 33.375,-0 33.4167,-0 33.4167,-0 33.4583,-0 33.4583,-0 33.5,-0 33.5,-0 33.5417,-0 33.5417,-0 33.5833,-0 33.5833,-0 33.625,-0 33.625,-0 33.6667,-0 33.6667,-0 33.7083,-0 33.7083,-0 33.75,-0 33.75,-0 33.7917,-0 33.7917,-0 33.8333,-0 33.8333,-0 33.875,-0 33.875,-0 33.9167,-0 33.9167,-0 33.9583,-0 33.9583,-0  34,-0  34,-0 34.0417,-0 34.0417,-0 34.0833,-0 34.0833,-0 34.125,-0 34.125,-0 34.1667,-0 34.1667,-0 34.2083,-0 34.2083,-0 34.25,-0 34.25,-0 34.2917,-0 34.2917,-0 34.3333,-0 34.3333,-0 34.375,-0 34.375,-0 34.4167,-0 34.4167,-0 34.4583,-0 34.4583,-0 34.5,-0 34.5,-0 34.5417,-0 34.5417,-0 34.5833,-0 34.5833,-0 34.625,-0 34.625,-0 34.6667,-0 34.6667,-0 34.7083,-0 34.7083,-0 34.75,-0 34.75,-0 34.7917,-0 34.7917,-0 34.8333,-0 34.8333,-0 34.875,-0 34.875,-0 34.9167,-0 34.9167,-0 34.9583,-0 34.9583,-0  35,-0  35,-0 35.0417,-0 35.0417,-0 35.0833,-0 35.0833,-0 35.125,-0 35.125,-0 35.1667,-0 35.1667,-0 35.2083,-0 35.2083,-0 35.25,-0 35.25,-0 35.2917,-0 35.2917,-0 35.3333,-0 35.3333,-0 35.375,-0 35.375,-0 35.4167,-0 35.4167,-0 35.4583,-0 35.4583,-0 35.5,-0 35.5,-0 35.5417,-0 35.5417,-0 35.5833,-0 35.5833,-0 35.625,-0 35.625,-0 35.6667,-0 35.6667,-0 35.7083,-0 35.7083,-0 35.75,-0 35.75,-0 35.7917,-0 35.7917,-0 35.8333,-0 35.8333,-0 35.875,-0 35.875,-0 35.9167,-0 35.9167,-0 35.9583,-0 35.9583,-0  36,-0  36,-0 36.0417,-0 36.0417,-0 36.0833,-0 36.0833,-0 36.125,-0 36.125,-0 36.1667,-0 36.1667,-0 36.2083,-0 36.2083,-0 36.25,-0 36.25,-0 36.2917,-0 36.2917,-0 36.3333,-0 36.3333,-0 36.375,-0 36.375,-0 36.4167,-0 36.4167,-0 36.4583,-0 36.4583,-0 36.5,-0 36.5,-0 36.5417,-0 36.5417,-0 36.5833,-0 36.5833,-0 36.625,-0 36.625,-0 36.6667,-0 36.6667,-0 36.7083,-0 36.7083,-0 36.75,-0 36.75,-0 36.7917,-0 36.7917,-0 36.8333,-0 36.8333,-0 36.875,-0 36.875,-0 36.9167,-0 36.9167,-0 36.9583,-0 36.9583,-0  37,-0  37,-0 37.0417,-0 37.0417,-0 37.0833,-0 37.0833,-0 37.125,-0 37.125,-0 37.1667,-0 37.1667,-0 37.2083,-0 37.2083,-0 37.25,-0 37.25,-0 37.2917,-0 37.2917,-0 37.3333,-0 37.3333,-0 37.375,-0 37.375,-0 37.4167,-0 37.4167,-0 37.4583,-0 37.4583,-0 37.5,-0 37.5,-0 37.5417,-0 37.5417,-0 37.5833,-0 37.5833,-0 37.625,-0 37.625,-0 37.6667,-0 37.6667,-0 37.7083,-0 37.7083,-0 37.75,-0 37.75,-0 37.7917,-0 37.7917,-0 37.8333,-0 37.8333,-0 37.875,-0 37.875,-0 37.9167,-0 37.9167,-0 37.9583,-0 37.9583,-0  38,-0  38,-0 38.0417,-0 38.0417,-0 38.0833,-0 38.0833,-0 38.125,-0 38.125,-0 38.1667,-0 38.1667,-0 38.2083,-0 38.2083,-0 38.25,-0 38.25,-0 38.2917,-0 38.2917,-0 38.3333,-0 38.3333,-0 38.375,-0 38.375,-0 38.4167,-0 38.4167,-0 38.4583,-0 38.4583,-0 38.5,-0 38.5,-0 38.5417,-0 38.5417,-0 38.5833,-0 38.5833,-0 38.625,-0 38.625,-0 38.6667,-0 38.6667,-0 38.7083,-0 38.7083,-0 38.75,-0 38.75,-0 38.7917,-0 38.7917,-0 38.8333,-0 38.8333,-0 38.875,-0 38.875,-0 38.9167,-0 38.9167,-0 38.9583,-0 38.9583,-0  39,-0  39,-0 39.0417,-0 39.0417,-0 39.0833,-0 39.0833,-0 39.125,-0 39.125,-0 39.1667,-0 39.1667,-0 39.2083,-0 39.2083,-0 39.25,-0 39.25,-0 39.2917,-0 39.2917,-0 39.3333,-0 39.3333,-0 39.375,-0 39.375,-0 39.4167,-0 39.4167,-0 39.4583,-0 39.4583,-0 39.5,-0 39.5,-0 39.5417,-0 39.5417,-0 39.5833,-0 39.5833,-0 39.625,-0 39.625,-0 39.6667,-0 39.6667,-0 39.7083,-0 39.7083,-0 39.75,-0 39.75,-0 39.7917,-0 39.7917,-0 39.8333,-0 39.8333,-0 39.875,-0 39.875,-0 39.9167,-0 39.9167,-0 39.9583,-0 39.9583,-0  40,-0  40,-0 40.0417,-0 40.0417,-0 40.0833,-0 40.0833,-0 40.125,-0 40.125,-0 40.1667,-0 40.1667,-0 40.2083,-0 40.2083,-0 40.25,-0 40.25,-0 40.2917,-0 40.2917,-0 40.3333,-0 40.3333,-0 40.375,-0 40.375,-0 40.4167,-0 40.4167,-0 40.4583,-0 40.4583,-0 40.5,-0 40.5,-0 40.5417,-0 40.5417,-0 40.5833,-0 40.5833,-0 40.625,-0 40.625,-0 40.6667,-0 40.6667,-0 40.7083,-0 40.7083,-0 40.75,-0 40.75,-0 40.7917,-0 40.7917,-0 40.8333,-0 40.8333,-0 40.875,-0 40.875,-0 40.9167,-0 40.9167,-0 40.9583,-0 40.9583,-0  41,-0  41,-0 41.0417,-0 41.0417,-0 41.0833,-0 41.0833,-0 41.125,-0 41.125,-0 41.1667,-0 41.1667,-0 41.2083,-0 41.2083,-0 41.25,-0 41.25,-0 41.2917,-0 41.2917,-0 41.3333,-0 41.3333,-0 41.375,-0 41.375,-0 41.4167,-0 41.4167,-0 41.4583,-0 41.4583,-0 41.5,-0 41.5,-0 41.5417,-0 41.5417,-0 41.5833,-0 41.5833,-0 41.625,-0 41.625,-0 41.6667,-0 41.6667,-0 41.7083,-0 41.7083,-0 41.75,-0 41.75,-0 41.7917,-0 41.7917,-0 41.8333,-0 41.8333,-0 41.875,-0 41.875,-0 41.9167,-0 41.9167,-0 41.9583,-0 41.9583,-0  42,-0  42,-0 42.0417,-0 42.0417,-0 42.0833,-0 42.0833,-0 42.125,-0 42.125,-0 42.1667,-0 42.1667,-0 42.2083,-0 42.2083,-0 42.25,-0 42.25,-0 42.2917,-0 42.2917,-0 42.3333,-0 42.3333,-0 42.375,-0 42.375,-0 42.4167,-0 42.4167,-0 42.4583,-0 42.4583,-0 42.5,-0 42.5,-0 42.5417,-0 42.5417,-0 42.5833,-0 42.5833,-0 42.625,-0 42.625,-0 42.6667,-0 42.6667,-0 42.7083,-0 42.7083,-0 42.75,-0 42.75,-0 42.7917,-0 42.7917,-0 42.8333,-0 42.8333,-0 42.875,-0 42.875,-0 42.9167,-0 42.9167,-0 42.9583,-0 42.9583,-0  43,-0  43,-0 43.0417,-0 43.0417,-0 43.0833,-0 43.0833,-0 43.125,-0 43.125,-0 43.1667,-0 43.1667,-0 43.2083,-0 43.2083,-0 43.25,-0 43.25,-0 43.2917,-0 43.2917,-0 43.3333,-0 43.3333,-0 43.375,-0 43.375,-0 43.4167,-0 43.4167,-0 43.4583,-0 43.4583,-0 43.5,-0 43.5,-0 43.5417,-0 43.5417,-0 43.5833,-0 43.5833,-0 43.625,-0 43.625,-0 43.6667,-0 43.6667,-0 43.7083,-0 43.7083,-0 43.75,-0 43.75,-0 43.7917,-0 43.7917,-0 43.8333,-0 43.8333,-0 43.875,-0 43.875,-0 43.9167,-0 43.9167,-0 43.9583,-0 43.9583,-0  44,-0  44,-0 44.0417,-0 44.0417,-0 44.0833,-0 44.0833,-0 44.125,-0 44.125,-0 44.1667,-0 44.1667,-0 44.2083,-0 44.2083,-0 44.25,-0 44.25,-0 44.2917,-0 44.2917,-0 44.3333,-0 44.3333,-0 44.375,-0 44.375,-0 44.4167,-0 44.4167,-0 44.4583,-0 44.4583,-0 44.5,-0 44.5,-0 44.5417,-0 44.5417,-0 44.5833,-0 44.5833,-0 44.625,-0 44.625,-0 44.6667,-0 44.6667,-0 44.7083,-0 44.7083,-0 44.75,-0 44.75,-0 44.7917,-0 44.7917,-0 44.8333,-0 44.8333,-0 44.875,-0 44.875,-0 44.9167,-0 44.9167,-0 44.9583,-0 44.9583,-0  45,-0  45,-0 45.0417,-0 45.0417,-0 45.0833,-0 45.0833,-0 45.125,-0 45.125,-0 45.1667,-0 45.1667,-0 45.2083,-0 45.2083,-0 45.25,-0 45.25,-0 45.2917,-0 45.2917,-0 45.3333,-0 45.3333,-0 45.375,-0 45.375,-0 45.4167,-0 45.4167,-0 45.4583,-0 45.4583,-0 45.5,-0 45.5,-0 45.5417,-0 45.5417,-0 45.5833,-0 45.5833,-0 45.625,-0 45.625,-0 45.6667,-0 45.6667,-0 45.7083,-0 45.7083,-0 45.75,-0 45.75,-0 45.7917,-0 45.7917,-0 45.8333,-0 45.8333,-0 45.875,-0 45.875,-0 45.9167,-0 45.9167,-0 45.9583,-0 45.9583,-0  46,-0  46,-0 46.0417,-0 46.0417,-0 46.0833,-0 46.0833,-0 46.125,-0 46.125,-0 46.1667,-0 46.1667,-0 46.2083,-0 46.2083,-0 46.25,-0 46.25,-0 46.2917,-0 46.2917,-0 46.3333,-0 46.3333,-0 46.375,-0 46.375,-0 46.4167,-0 46.4167,-0 46.4583,-0 46.4583,-0 46.5,-0 46.5,-0 46.5417,-0 46.5417,-0 46.5833,-0 46.5833,-0 46.625,-0 46.625,-0 46.6667,-0 46.6667,-0 46.7083,-0 46.7083,-0 46.75,-0 46.75,-0 46.7917,-0 46.7917,-0 46.8333,-0 46.8333,-0 46.875,-0 46.875,-0 46.9167,-0 46.9167,-0 46.9583,-0 46.9583,-0  47,-0  47,-0 47.0417,-0 47.0417,-0 47.0833,-0 47.0833,-0 47.125,-0 47.125,-0 47.1667,-0 47.1667,-0 47.2083,-0 47.2083,-0 47.25,-0 47.25,-0 47.2917,-0 47.2917,-0 47.3333,-0 47.3333,-0 47.375,-0 47.375,-0 47.4167,-0 47.4167,-0 47.4583,-0 47.4583,-0 47.5,-0 47.5,-0 47.5417,-0 47.5417,-0 47.5833,-0 47.5833,-0 47.625,-0 47.625,-0 47.6667,-0 47.6667,-0 47.7083,-0 47.7083,-0 47.75,-0 47.75,-0 47.7917,-0 47.7917,-0 47.8333,-0 47.8333,-0 47.875,-0 47.875,-0 47.9167,-0 47.9167,-0 47.9583,-0 47.9583,-0  48,-0  48,-0 48.0417,-0 48.0417,-0 48.0833,-0 48.0833,-0 48.125,-0 48.125,-0 48.1667,-0 48.1667,-0 48.2083,-0 48.2083,-0 48.25,-0 48.25,-0 48.2917,-0 48.2917,-0 48.3333,-0 48.3333,-0 48.375,-0 48.375,-0 48.4167,-0 48.4167,-0 48.4583,-0 48.4583,-0 48.5,-0 48.5,-0 48.5417,-0 48.5417,-0 48.5833,-0 48.5833,-0 48.625,-0 48.625,-0 48.6667,-0 48.6667,-0 48.7083,-0 48.7083,-0 48.75,-0 48.75,-0 48.7917,-0 48.7917,-0 48.8333,-0 48.8333,-0 48.875,-0 48.875,-0 48.9167,-0 48.9167,-0 48.9583,-0 48.9583,-0  49,-0  49,-0 49.0417,-0 49.0417,-0 49.0833,-0 49.0833,-0 49.125,-0 49.125,-0 49.1667,-0 49.1667,-0 49.2083,-0 49.2083,-0 49.25,-0 49.25,-0 49.2917,-0 49.2917,-0 49.3333,-0 49.3333,-0 49.375,-0 49.375,-0 49.4167,-0 49.4167,-0 49.4583,-0 49.4583,-0 49.5,-0 49.5,-0 49.5417,-0 49.5417,-0 49.5833,-0 49.5833,-0 49.625,-0 49.625,-0 49.6667,-0 49.6667,-0 49.7083,-0 49.7083,-0 49.75,-0 49.75,-0 49.7917,-0 49.7917,-0 49.8333,-0 49.8333,-0 49.875,-0 49.875,-0 49.9167,-0 49.9167,-0 49.9583,-0 49.9583,-0  50,-0  50,-0 50.0417,-0 50.0417,-0 50.0833,-0 50.0833,-0 50.125,-0 50.125,-0 50.1667,-0 50.1667,-0 50.2083,-0 50.2083,-0 50.25,-0 50.25,-0 50.2917,-0 50.2917,-0 50.3333,-0 50.3333,-0 50.375,-0 50.375,-0 50.4167,-0 50.4167,-0 50.4583,-0 50.4583,-0 50.5,-0 50.5,-0 50.5417,-0 50.5417,-0 50.5833,-0 50.5833,-0 50.625,-0 50.625,-0 50.6667,-0 50.6667,-0 50.7083,-0 50.7083,-0 50.75,-0 50.75,-0 50.7917,-0 50.7917,-0 50.8333,-0 50.8333,-0 50.875,-0 50.875,-0 50.9167,-0 50.9167,-0 50.9583,-0 50.9583,-0  51,-0  51,-0 51.0417,-0 51.0417,-0 51.0833,-0 51.0833,-0 51.125,-0 51.125,-0 51.1667,-0 51.1667,-0 51.2083,-0 51.2083,-0 51.25,-0 51.25,-0 51.2917,-0 51.2917,-0 51.3333,-0 51.3333,-0 51.375,-0 51.375,-0 51.4167,-0 51.4167,-0 51.4583,-0 51.4583,-0 51.5,-0 51.5,-0 51.5417,-0 51.5417,-0 51.5833,-0 51.5833,-0 51.625,-0 51.625,-0 51.6667,-0 51.6667,-0 51.7083,-0 51.7083,-0 51.75,-0 51.75,-0 51.7917,-0 51.7917,-0 51.8333,-0 51.8333,-0 51.875,-0 51.875,-0 51.9167,-0 51.9167,-0 51.9583,-0 51.9583,-0  52,-0  52,-0 52.0417,-0 52.0417,-0 52.0833,-0 52.0833,-0 52.125,-0 52.125,-0 52.1667,-0 52.1667,-0 52.2083,-0 52.2083,-0 52.25,-0 52.25,-0 52.2917,-0 52.2917,-0 52.3333,-0 52.3333,-0 52.375,-0 52.375,-0 52.4167,-0 52.4167,-0 52.4583,-0 52.4583,-0 52.5,-0 52.5,-0 52.5417,-0 52.5417,-0 52.5833,-0 52.5833,-0 52.625,-0 52.625,-0 52.6667,-0 52.6667,-0 52.7083,-0 52.7083,-0 52.75,-0 52.75,-0 52.7917,-0 52.7917,-0 52.8333,-0 52.8333,-0 52.875,-0 52.875,-0 52.9167,-0 52.9167,-0 52.9583,-0 52.9583,-0  53,-0  53,-0 53.0417,-0 53.0417,-0 53.0833,-0 53.0833,-0 53.125,-0 53.125,-0 53.1667,-0 53.1667,-0 53.2083,-0 53.2083,-0 53.25,-0 53.25,-0 53.2917,-0 53.2917,-0 53.3333,-0 53.3333,-0 53.375,-0 53.375,-0 53.4167,-0 53.4167,-0 53.4583,-0 53.4583,-0 53.5,-0 53.5,-0 53.5417,-0 53.5417,-0 53.5833,-0 53.5833,-0 53.625,-0 53.625,-0 53.6667,-0 53.6667,-0 53.7083,-0 53.7083,-0 53.75,-0 53.75,-0 53.7917,-0 53.7917,-0 53.8333,-0 53.8333,-0 53.875,-0 53.875,-0 53.9167,-0 53.9167,-0 53.9583,-0 53.9583,-0  54,-0  54,-0 54.0417,-0 54.0417,-0 54.0833,-0 54.0833,-0 54.125,-0 54.125,-0 54.1667,-0 54.1667,-0 54.2083,-0 54.2083,-0 54.25,-0 54.25,-0 54.2917,-0 54.2917,-0 54.3333,-0 54.3333,-0 54.375,-0 54.375,-0 54.4167,-0 54.4167,-0 54.4583,-0 54.4583,-0 54.5,-0 54.5,-0 54.5417,-0 54.5417,-0 54.5833,-0 54.5833,-0 54.625,-0 54.625,-0 54.6667,-0 54.6667,-0 54.7083,-0 54.7083,-0 54.75,-0 54.75,-0 54.7917,-0 54.7917,-0 54.8333,-0 54.8333,-0 54.875,-0 54.875,-0 54.9167,-0 54.9167,-0 54.9583,-0 54.9583,-0  55,-0  55,-0 55.0417,-0 55.0417,-0 55.0833,-0 55.0833,-0 55.125,-0 55.125,-0 55.1667,-0 55.1667,-0 55.2083,-0 55.2083,-0 55.25,-0 55.25,-0 55.2917,-0 55.2917,-0 55.3333,-0 55.3333,-0 55.375,-0 55.375,-0 55.4167,-0 55.4167,-0 55.4583,-0 55.4583,-0 55.5,-0 55.5,-0 55.5417,-0 55.5417,-0 55.5833,-0 55.5833,-0 55.625,-0 55.625,-0 55.6667,-0 55.6667,-0 55.7083,-0 55.7083,-0 55.75,-0 55.75,-0 55.7917,-0 55.7917,-0 55.8333,-0 55.8333,-0 55.875,-0 55.875,-0 55.9167,-0 55.9167,-0 55.9583,-0 55.9583,-0  56,-0  56,-0 56.0417,-0 56.0417,-0 56.0833,-0 56.0833,-0 56.125,-0 56.125,-0 56.1667,-0 56.1667,-0 56.2083,-0 56.2083,-0 56.25,-0 56.25,-0 56.2917,-0 56.2917,-0 56.3333,-0 56.3333,-0 56.375,-0 56.375,-0 56.4167,-0 56.4167,-0 56.4583,-0 56.4583,-0 56.5,-0 56.5,-0 56.5417,-0 56.5417,-0 56.5833,-0 56.5833,-0 56.625,-0 56.625,-0 56.6667,-0 56.6667,-0 56.7083,-0 56.7083,-0 56.75,-0 56.75,-0 56.7917,-0 56.7917,-0 56.8333,-0 56.8333,-0 56.875,-0 56.875,-0 56.9167,-0 56.9167,-0 56.9583,-0 56.9583,-0  57,-0  57,-0 57.0417,-0 57.0417,-0 57.0833,-0 57.0833,-0 57.125,-0 57.125,-0 57.1667,-0 57.1667,-0 57.2083,-0 57.2083,-0 57.25,-0 57.25,-0 57.2917,-0 57.2917,-0 57.3333,-0 57.3333,-0 57.375,-0 57.375,-0 57.4167,-0 57.4167,-0 57.4583,-0 57.4583,-0 57.5,-0 57.5,-0 57.5417,-0 57.5417,-0 57.5833,-0 57.5833,-0 57.625,-0 57.625,-0 57.6667,-0 57.6667,-0 57.7083,-0 57.7083,-0 57.75,-0 57.75,-0 57.7917,-0 57.7917,-0 57.8333,-0 57.8333,-0 57.875,-0 57.875,-0 57.9167,-0 57.9167,-0 57.9583,-0 57.9583,-0  58,-0  58,-0 58.0417,-0 58.0417,-0 58.0833,-0 58.0833,-0 58.125,-0 58.125,-0 58.1667,-0 58.1667,-0 58.2083,-0 58.2083,-0 58.25,-0 58.25,-0 58.2917,-0 58.2917,-0 58.3333,-0 58.3333,-0 58.375,-0 58.375,-0 58.4167,-0 58.4167,-0 58.4583,-0 58.4583,-0 58.5,-0 58.5,-0 58.5417,-0 58.5417,-0 58.5833,-0 58.5833,-0 58.625,-0 58.625,-0 58.6667,-0 58.6667,-0 58.7083,-0 58.7083,-0 58.75,-0 58.75,-0 58.7917,-0 58.7917,-0 58.8333,-0 58.8333,-0 58.875,-0 58.875,-0 58.9167,-0 58.9167,-0 58.9583,-0 58.9583,-0  59,-0  59,-0 59.0417,-0 59.0417,-0 59.0833,-0 59.0833,-0 59.125,-0 59.125,-0 59.1667,-0 59.1667,-0 59.2083,-0 59.2083,-0 59.25,-0 59.25,-0 59.2917,-0 59.2917,-0 59.3333,-0 59.3333,-0 59.375,-0 59.375,-0 59.4167,-0 59.4167,-0 59.4583,-0 59.4583,-0 59.5,-0 59.5,-0 59.5417,-0 59.5417,-0 59.5833,-0 59.5833,-0 59.625,-0 59.625,-0 59.6667,-0 59.6667,-0 59.7083,-0 59.7083,-0 59.75,-0 59.75,-0 59.7917,-0 59.7917,-0 59.8333,-0 59.8333,-0 59.875,-0 59.875,-0 59.9167,-0 59.9167,-0 59.9583,-0 59.9583,-0  60,-0  60,-0 60.0417,-0 60.0417,-0 60.0833,-0 60.0833,-0 60.125,-0 60.125,-0 60.1667,-0 60.1667,-0 60.2083,-0 60.2083,-0 60.25,-0 60.25,-0 60.2917,-0 60.2917,-0 60.3333,-0 60.3333,-0 60.375,-0 60.375,-0 60.4167,-0 60.4167,-0 60.4583,-0 60.4583,-0 60.5,-0 60.5,-0 60.5417,-0 60.5417,-0 60.5833,-0 60.5833,-0 60.625,-0 60.625,-0 60.6667,-0 60.6667,-0 60.7083,-0 60.7083,-0 60.75,-0 60.75,-0 60.7917,-0 60.7917,-0 60.8333,-0 60.8333,-0 60.875,-0 60.875,-0 60.9167,-0 60.9167,-0 60.9583,-0 60.9583,-0  61,-0  61,-0 61.0417,-0 61.0417,-0 61.0833,-0 61.0833,-0 61.125,-0 61.125,-0 61.1667,-0 61.1667,-0 61.2083,-0 61.2083,-0 61.25,-0 61.25,-0 61.2917,-0 61.2917,-0 61.3333,-0 61.3333,-0 61.375,-0 61.375,-0 61.4167,-0 61.4167,-0 61.4583,-0 61.4583,-0 61.5,-0 61.5,-0 61.5417,-0 61.5417,-0 61.5833,-0 61.5833,-0 61.625,-0 61.625,-0 61.6667,-0 61.6667,-0 61.7083,-0 61.7083,-0 61.75,-0 61.75,-0 61.7917,-0 61.7917,-0 61.8333,-0 61.8333,-0 61.875,-0 61.875,-0 61.9167,-0 61.9167,-0 61.9583,-0 61.9583,-0  62,-0  62,-0 62.0417,-0 62.0417,-0 62.0833,-0 62.0833,-0 62.125,-0 62.125,-0 62.1667,-0 62.1667,-0 62.2083,-0 62.2083,-0 62.25,-0 62.25,-0 62.2917,-0 62.2917,-0 62.3333,-0 62.3333,-0 62.375,-0 62.375,-0 62.4167,-0 62.4167,-0 62.4583,-0 62.4583,-0 62.5,-0 62.5,-0 62.5417,-0 62.5417,-0 62.5833,-0 62.5833,-0 62.625,-0 62.625,-0 62.6667,-0 62.6667,-0 62.7083,-0 62.7083,-0 62.75,-0 62.75,-0 62.7917,-0 62.7917,-0 62.8333,-0 62.8333,-0 62.875,-0 62.875,-0 62.9167,-0 62.9167,-0 62.9583,-0 62.9583,-0  63,-0  63,-0 63.0417,-0 63.0417,-0 63.0833,-0 63.0833,-0 63.125,-0 63.125,-0 63.1667,-0 63.1667,-0 63.2083,-0 63.2083,-0 63.25,-0 63.25,-0 63.2917,-0 63.2917,-0 63.3333,-0 63.3333,-0 63.375,-0 63.375,-0 63.4167,-0 63.4167,-0 63.4583,-0 63.4583,-0 63.5,-0 63.5,-0 63.5417,-0 63.5417,-0 63.5833,-0 63.5833,-0 63.625,-0 63.625,-0 63.6667,-0 63.6667,-0 63.7083,-0 63.7083,-0 63.75,-0 63.75,-0 63.7917,-0 63.7917,-0 63.8333,-0 63.8333,-0 63.875,-0 63.875,-0 63.9167,-0 63.9167,-0 63.9583,-0 63.9583,-0  64,-0  64,-0 64.0417,-0 64.0417,-0 64.0833,-0 64.0833,-0 64.125,-0 64.125,-0 64.1667,-0 64.1667,-0 64.2083,-0 64.2083,-0 64.25,-0 64.25,-0 64.2917,-0 64.2917,-0 64.3333,-0 64.3333,-0 64.375,-0 64.375,-0 64.4167,-0 64.4167,-0 64.4583,-0 64.4583,-0 64.5,-0 64.5,-0 64.5417,-0 64.5417,-0 64.5833,-0 64.5833,-0 64.625,-0 64.625,-0 64.6667,-0 64.6667,-0 64.7083,-0 64.7083,-0 64.75,-0 64.75,-0 64.7917,-0 64.7917,-0 64.8333,-0 64.8333,-0 64.875,-0 64.875,-0 64.9167,-0 64.9167,-0 64.9583,-0 64.9583,-0  65,-0  65,-0 65.0417,-0 65.0417,-0 65.0833,-0 65.0833,-0 65.125,-0 65.125,-0 65.1667,-0 65.1667,-0 65.2083,-0 65.2083,-0 65.25,-0 65.25,-0 65.2917,-0 65.2917,-0 65.3333,-0 65.3333,-0 65.375,-0 65.375,-0 65.4167,-0 65.4167,-0 65.4583,-0 65.4583,-0 65.5,-0 65.5,-0 65.5417,-0 65.5417,-0 65.5833,-0 65.5833,-0 65.625,-0 65.625,-0 65.6667,-0 65.6667,-0 65.7083,-0 65.7083,-0 65.75,-0 65.75,-0 65.7917,-0 65.7917,-0 65.8333,-0 65.8333,-0 65.875,-0 65.875,-0 65.9167,-0 65.9167,-0 65.9583,-0 65.9583,-0  66,-0  66,-0 66.0417,-0 66.0417,-0 66.0833,-0 66.0833,-0 66.125,-0 66.125,-0 66.1667,-0 66.1667,-0 66.2083,-0 66.2083,-0 66.25,-0 66.25,-0 66.2917,-0 66.2917,-0 66.3333,-0 66.3333,-0 66.375,-0 66.375,-0 66.4167,-0 66.4167,-0 66.4583,-0 66.4583,-0 66.5,-0 66.5,-0 66.5417,-0 66.5417,-0 66.5833,-0 66.5833,-0 66.625,-0 66.625,-0 66.6667,-0 66.6667,-0 66.7083,-0 66.7083,-0 66.75,-0 66.75,-0 66.7917,-0 66.7917,-0 66.8333,-0 66.8333,-0 66.875,-0 66.875,-0 66.9167,-0 66.9167,-0 66.9583,-0 66.9583,-0  67,-0  67,-0 67.0417,-0 67.0417,-0 67.0833,-0 67.0833,-0 67.125,-0 67.125,-0 67.1667,-0 67.1667,-0 67.2083,-0 67.2083,-0 67.25,-0 67.25,-0 67.2917,-0 67.2917,-0 67.3333,-0 67.3333,-0 67.375,-0 67.375,-0 67.4167,-0 67.4167,-0 67.4583,-0 67.4583,-0 67.5,-0 67.5,-0 67.5417,-0 67.5417,-0 67.5833,-0 67.5833,-0 67.625,-0 67.625,-0 67.6667,-0 67.6667,-0 67.7083,-0 67.7083,-0 67.75,-0 67.75,-0 67.7917,-0 67.7917,-0 67.8333,-0 67.8333,-0 67.875,-0 67.875,-0 67.9167,-0 67.9167,-0 67.9583,-0 67.9583,-0  68,-0  68,-0 68.0417,-0 68.0417,-0 68.0833,-0 68.0833,-0 68.125,-0 68.125,-0 68.1667,-0 68.1667,-0 68.2083,-0 68.2083,-0 68.25,-0 68.25,-0 68.2917,-0 68.2917,-0 68.3333,-0 68.3333,-0 68.375,-0 68.375,-0 68.4167,-0 68.4167,-0 68.4583,-0 68.4583,-0 68.5,-0 68.5,-0 68.5417,-0 68.5417,-0 68.5833,-0 68.5833,-0 68.625,-0 68.625,-0 68.6667,-0 68.6667,-0 68.7083,-0 68.7083,-0 68.75,-0 68.75,-0 68.7917,-0 68.7917,-0 68.8333,-0 68.8333,-0 68.875,-0 68.875,-0 68.9167,-0 68.9167,-0 68.9583,-0 68.9583,-0  69,-0  69,-0 69.0417,-0 69.0417,-0 69.0833,-0 69.0833,-0 69.125,-0 69.125,-0 69.1667,-0 69.1667,-0 69.2083,-0 69.2083,-0 69.25,-0 69.25,-0 69.2917,-0 69.2917,-0 69.3333,-0 69.3333,-0 69.375,-0 69.375,-0 69.4167,-0 69.4167,-0 69.4583,-0 69.4583,-0 69.5,-0 69.5,-0 69.5417,-0 69.5417,-0 69.5833,-0 69.5833,-0 69.625,-0 69.625,-0 69.6667,-0 69.6667,-0 69.7083,-0 69.7083,-0 69.75,-0 69.75,-0 69.7917,-0 69.7917,-0 69.8333,-0 69.8333,-0 69.875,-0 69.875,-0 69.9167,-0 69.9167,-0 69.9583,-0 69.9583,-0  70,-0  70,-0 70.0417,-0 70.0417,-0 70.0833,-0 70.0833,-0 70.125,-0 70.125,-0 70.1667,-0 70.1667,-0 70.2083,-0 70.2083,-0 70.25,-0 70.25,-0 70.2917,-0 70.2917,-0 70.3333,-0 70.3333,-0 70.375,-0 70.375,-0 70.4167,-0 70.4167,-0 70.4583,-0 70.4583,-0 70.5,-0 70.5,-0 70.5417,-0 70.5417,-0 70.5833,-0 70.5833,-0 70.625,-0 70.625,-0 70.6667,-0 70.6667,-0 70.7083,-0 70.7083,-0 70.75,-0 70.75,-0 70.7917,-0 70.7917,-0 70.8333,-0 70.8333,-0 70.875,-0 70.875,-0 70.9167,-0 70.9167,-0 70.9583,-0 70.9583,-0  71,-0  71,-0 71.0417,-0 71.0417,-0 71.0833,-0 71.0833,-0 71.125,-0 71.125,-0 71.1667,-0 71.1667,-0 71.2083,-0 71.2083,-0 71.25,-0 71.25,-0 71.2917,-0 71.2917,-0 71.3333,-0 71.3333,-0 71.375,-0 71.375,-0 71.4167,-0 71.4167,-0 71.4583,-0 71.4583,-0 71.5,-0 71.5,-0 71.5417,-0 71.5417,-0 71.5833,-0 71.5833,-0 71.625,-0 71.625,-0 71.6667,-0 71.6667,-0 71.7083,-0 71.7083,-0 71.75,-0 71.75,-0 71.7917,-0 71.7917,-0 71.8333,-0 71.8333,-0 71.875,-0 71.875,-0 71.9167,-0 71.9167,-0 71.9583,-0 71.9583,-0  72,-0  72,-0 72.0417,-0 72.0417,-0 72.0833,-0 72.0833,-0 72.125,-0 72.125,-0 72.1667,-0 72.1667,-0 72.2083,-0 72.2083,-0 72.25,-0 72.25,-0 72.2917,-0 72.2917,-0 72.3333,-0 72.3333,-0 72.375,-0 72.375,-0 72.4167,-0 72.4167,-0 72.4583,-0 72.4583,-0 72.5,-0 72.5,-0 72.5417,-0 72.5417,-0 72.5833,-0 72.5833,-0 72.625,-0 72.625,-0 72.6667,-0 72.6667,-0 72.7083,-0 72.7083,-0 72.75,-0 72.75,-0 72.7917,-0 72.7917,-0 72.8333,-0 72.8333,-0 72.875,-0 72.875,-0 72.9167,-0 72.9167,-0 72.9583,-0 72.9583,-0  73,-0  73,-0 73.0417,-0 73.0417,-0 73.0833,-0 73.0833,-0 73.125,-0 73.125,-0 73.1667,-0 73.1667,-0 73.2083,-0 73.2083,-0 73.25,-0 73.25,-0 73.2917,-0 73.2917,-0 73.3333,-0 73.3333,-0 73.375,-0 73.375,-0 73.4167,-0 73.4167,-0 73.4583,-0 73.4583,-0 73.5,-0 73.5,-0 73.5417,-0 73.5417,-0 73.5833,-0 73.5833,-0 73.625,-0 73.625,-0 73.6667,-0 73.6667,-0 73.7083,-0 73.7083,-0 73.75,-0 73.75,-0 73.7917,-0 73.7917,-0 73.8333,-0 73.8333,-0 73.875,-0 73.875,-0 73.9167,-0 73.9167,-0 73.9583,-0 73.9583,-0  74,-0  74,-0 74.0417,-0 74.0417,-0 74.0833,-0 74.0833,-0 74.125,-0 74.125,-0 74.1667,-0 74.1667,-0 74.2083,-0 74.2083,-0 74.25,-0 74.25,-0 74.2917,-0 74.2917,-0 74.3333,-0 74.3333,-0 74.375,-0 74.375,-0 74.4167,-0 74.4167,-0 74.4583,-0 74.4583,-0 74.5,-0 74.5,-0 74.5417,-0 74.5417,-0 74.5833,-0 74.5833,-0 74.625,-0 74.625,-0 74.6667,-0 74.6667,-0 74.7083,-0 74.7083,-0 74.75,-0 74.75,-0 74.7917,-0 74.7917,-0 74.8333,-0 74.8333,-0 74.875,-0 74.875,-0 74.9167,-0 74.9167,-0 74.9583,-0 74.9583,-0  75,-0  75,-0 75.0417,-0 75.0417,-0 75.0833,-0 75.0833,-0 75.125,-0 75.125,-0 75.1667,-0 75.1667,-0 75.2083,-0 75.2083,-0 75.25,-0 75.25,-0 75.2917,-0 75.2917,-0 75.3333,-0 75.3333,-0 75.375,-0 75.375,-0 75.4167,-0 75.4167,-0 75.4583,-0 75.4583,-0 75.5,-0 75.5,-0 75.5417,-0 75.5417,-0 75.5833,-0 75.5833,-0 75.625,-0 75.625,-0 75.6667,-0 75.6667,-0 75.7083,-0 75.7083,-0 75.75,-0 75.75,-0 75.7917,-0 75.7917,-0 75.8333,-0 75.8333,-0 75.875,-0 75.875,-0 75.9167,-0 75.9167,-0 75.9583,-0 75.9583,-0  76,-0  76,-0 76.0417,-0 76.0417,-0 76.0833,-0 76.0833,-0 76.125,-0 76.125,-0 76.1667,-0 76.1667,-0 76.2083,-0 76.2083,-0 76.25,-0 76.25,-0 76.2917,-0 76.2917,-0 76.3333,-0 76.3333,-0 76.375,-0 76.375,-0 76.4167,-0 76.4167,-0 76.4583,-0 76.4583,-0 76.5,-0 76.5,-0 76.5417,-0 76.5417,-0 76.5833,-0 76.5833,-0 76.625,-0 76.625,-0 76.6667,-0 76.6667,-0 76.7083,-0 76.7083,-0 76.75,-0 76.75,-0 76.7917,-0 76.7917,-0 76.8333,-0 76.8333,-0 76.875,-0 76.875,-0 76.9167,-0 76.9167,-0 76.9583,-0 76.9583,-0  77,-0  77,-0 77.0417,-0 77.0417,-0 77.0833,-0 77.0833,-0 77.125,-0 77.125,-0 77.1667,-0 77.1667,-0 77.2083,-0 77.2083,-0 77.25,-0 77.25,-0 77.2917,-0 77.2917,-0 77.3333,-0 77.3333,-0 77.375,-0 77.375,-0 77.4167,-0 77.4167,-0 77.4583,-0 77.4583,-0 77.5,-0 77.5,-0 77.5417,-0 77.5417,-0 77.5833,-0 77.5833,-0 77.625,-0 77.625,-0 77.6667,-0 77.6667,-0 77.7083,-0 77.7083,-0 77.75,-0 77.75,-0 77.7917,-0 77.7917,-0 77.8333,-0 77.8333,-0 77.875,-0 77.875,-0 77.9167,-0 77.9167,-0 77.9583,-0 77.9583,-0  78,-0  78,-0 78.0417,-0 78.0417,-0 78.0833,-0 78.0833,-0 78.125,-0 78.125,-0 78.1667,-0 78.1667,-0 78.2083,-0 78.2083,-0 78.25,-0 78.25,-0 78.2917,-0 78.2917,-0 78.3333,-0 78.3333,-0 78.375,-0 78.375,-0 78.4167,-0 78.4167,-0 78.4583,-0 78.4583,-0 78.5,-0 78.5,-0 78.5417,-0 78.5417,-0 78.5833,-0 78.5833,-0 78.625,-0 78.625,-0 78.6667,-0 78.6667,-0 78.7083,-0 78.7083,-0 78.75,-0 78.75,-0 78.7917,-0 78.7917,-0 78.8333,-0 78.8333,-0 78.875,-0 78.875,-0 78.9167,-0 78.9167,-0 78.9583,-0 78.9583,-0  79,-0  79,-0 79.0417,-0 79.0417,-0 79.0833,-0 79.0833,-0 79.125,-0 79.125,-0 79.1667,-0 79.1667,-0 79.2083,-0 79.2083,-0 79.25,-0 79.25,-0 79.2917,-0 79.2917,-0 79.3333,-0 79.3333,-0 79.375,-0 79.375,-0 79.4167,-0 79.4167,-0 79.4583,-0 79.4583,-0 79.5,-0 79.5,-0 79.5417,-0 79.5417,-0 79.5833,-0 79.5833,-0 79.625,-0 79.625,-0 79.6667,-0 79.6667,-0 79.7083,-0 79.7083,-0 79.75,-0 79.75,-0 79.7917,-0 79.7917,-0 79.8333,-0 79.8333,-0 79.875,-0 79.875,-0 79.9167,-0 79.9167,-0 79.9583,-0 79.9583,-0  80,-0  80,-0 80.0417,-0 80.0417,-0 80.0833,-0 80.0833,-0 80.125,-0 80.125,-0 80.1667,-0 80.1667,-0 80.2083,-0 80.2083,-0 80.25,-0 80.25,-0 80.2917,-0 80.2917,-0 80.3333,-0 80.3333,-0 80.375,-0 80.375,-0 80.4167,-0 80.4167,-0 80.4583,-0 80.4583,-0 80.5,-0 80.5,-0 80.5417,-0 80.5417,-0 80.5833,-0 80.5833,-0 80.625,-0 80.625,-0 80.6667,-0 80.6667,-0 80.7083,-0 80.7083,-0 80.75,-0 80.75,-0 80.7917,-0 80.7917,-0 80.8333,-0 80.8333,-0 80.875,-0 80.875,-0 80.9167,-0 80.9167,-0 80.9583,-0 80.9583,-0  81,-0  81,-0 81.0417,-0 81.0417,-0 81.0833,-0 81.0833,-0 81.125,-0 81.125,-0 81.1667,-0 81.1667,-0 81.2083,-0 81.2083,-0 81.25,-0 81.25,-0 81.2917,-0 81.2917,-0 81.3333,-0 81.3333,-0 81.375,-0 81.375,-0 81.4167,-0 81.4167,-0 81.4583,-0 81.4583,-0 81.5,-0 81.5,-0 81.5417,-0 81.5417,-0 81.5833,-0 81.5833,-0 81.625,-0 81.625,-0 81.6667,-0 81.6667,-0 81.7083,-0 81.7083,-0 81.75,-0 81.75,-0 81.7917,-0 81.7917,-0 81.8333,-0 81.8333,-0 81.875,-0 81.875,-0 81.9167,-0 81.9167,-0 81.9583,-0 81.9583,-0  82,-0  82,-0 82.0417,-0 82.0417,-0 82.0833,-0 82.0833,-0 82.125,-0 82.125,-0 82.1667,-0 82.1667,-0 82.2083,-0 82.2083,-0 82.25,-0 82.25,-0 82.2917,-0 82.2917,-0 82.3333,-0 82.3333,-0 82.375,-0 82.375,-0 82.4167,-0 82.4167,-0 82.4583,-0 82.4583,-0 82.5,-0 82.5,-0 82.5417,-0 82.5417,-0 82.5833,-0 82.5833,-0 82.625,-0 82.625,-0 82.6667,-0 82.6667,-0 82.7083,-0 82.7083,-0 82.75,-0 82.75,-0 82.7917,-0 82.7917,-0 82.8333,-0 82.8333,-0 82.875,-0 82.875,-0 82.9167,-0 82.9167,-0 82.9583,-0 82.9583,-0  83,-0  83,-0 83.0417,-0 83.0417,-0 83.0833,-0 83.0833,-0 83.125,-0 83.125,-0 83.1667,-0 83.1667,-0 83.2083,-0 83.2083,-0 83.25,-0 83.25,-0 83.2917,-0 83.2917,-0 83.3333,-0 83.3333,-0 83.375,-0 83.375,-0 83.4167,-0 83.4167,-0 83.4583,-0 83.4583,-0 83.5,-0 83.5,-0 83.5417,-0 83.5417,-0 83.5833,-0 83.5833,-0 83.625,-0 83.625,-0 83.6667,-0 83.6667,-0 83.7083,-0 83.7083,-0 83.75,-0 83.75,-0 83.7917,-0 83.7917,-0 83.8333,-0 83.8333,-0 83.875,-0 83.875,-0 83.9167,-0 83.9167,-0 83.9583,-0 83.9583,-0  84,-0  84,-0 84.0417,-0 84.0417,-0 84.0833,-0 84.0833,-0 84.125,-0 84.125,-0 84.1667,-0 84.1667,-0 84.2083,-0 84.2083,-0 84.25,-0 84.25,-0 84.2917,-0 84.2917,-0 84.3333,-0 84.3333,-0 84.375,-0 84.375,-0 84.4167,-0 84.4167,-0 84.4583,-0 84.4583,-0 84.5,-0 84.5,-0 84.5417,-0 84.5417,-0 84.5833,-0 84.5833,-0 84.625,-0 84.625,-0 84.6667,-0 84.6667,-0 84.7083,-0 84.7083,-0 84.75,-0 84.75,-0 84.7917,-0 84.7917,-0 84.8333,-0 84.8333,-0 84.875,-0 84.875,-0 84.9167,-0 84.9167,-0 84.9583,-0 84.9583,-0  85,-0  85,-0 85.0417,-0 85.0417,-0 85.0833,-0 85.0833,-0 85.125,-0 85.125,-0 85.1667,-0 85.1667,-0 85.2083,-0 85.2083,-0 85.25,-0 85.25,-0 85.2917,-0 85.2917,-0 85.3333,-0 85.3333,-0 85.375,-0 85.375,-0 85.4167,-0 85.4167,-0 85.4583,-0 85.4583,-0 85.5,-0 85.5,-0 85.5417,-0 85.5417,-0 85.5833,-0 85.5833,-0 85.625,-0 85.625,-0 85.6667,-0 85.6667,-0 85.7083,-0 85.7083,-0 85.75,-0 85.75,-0 85.7917,-0 85.7917,-0 85.8333,-0 85.8333,-0 85.875,-0 85.875,-0 85.9167,-0 85.9167,-0 85.9583,-0 85.9583,-0  86,-0  86,-0 86.0417,-0 86.0417,-0 86.0833,-0 86.0833,-0 86.125,-0 86.125,-0 86.1667,-0 86.1667,-0 86.2083,-0 86.2083,-0 86.25,-0 86.25,-0 86.2917,-0 86.2917,-0 86.3333,-0 86.3333,-0 86.375,-0 86.375,-0 86.4167,-0 86.4167,-0 86.4583,-0 86.4583,-0 86.5,-0 86.5,-0 86.5417,-0 86.5417,-0 86.5833,-0 86.5833,-0 86.625,-0 86.625,-0 86.6667,-0 86.6667,-0 86.7083,-0 86.7083,-0 86.75,-0 86.75,-0 86.7917,-0 86.7917,-0 86.8333,-0 86.8333,-0 86.875,-0 86.875,-0 86.9167,-0 86.9167,-0 86.9583,-0 86.9583,-0  87,-0  87,-0 87.0417,-0 87.0417,-0 87.0833,-0 87.0833,-0 87.125,-0 87.125,-0 87.1667,-0 87.1667,-0 87.2083,-0 87.2083,-0 87.25,-0 87.25,-0 87.2917,-0 87.2917,-0 87.3333,-0 87.3333,-0 87.375,-0 87.375,-0 87.4167,-0 87.4167,-0 87.4583,-0 87.4583,-0 87.5,-0 87.5,-0 87.5417,-0 87.5417,-0 87.5833,-0 87.5833,-0 87.625,-0 87.625,-0 87.6667,-0 87.6667,-0 87.7083,-0 87.7083,-0 87.75,-0 87.75,-0 87.7917,-0 87.7917,-0 87.8333,-0 87.8333,-0 87.875,-0 87.875,-0 87.9167,-0 87.9167,-0 87.9583,-0 87.9583,-0  88,-0  88,-0 88.0417,-0 88.0417,-0 88.0833,-0 88.0833,-0 88.125,-0 88.125,-0 88.1667,-0 88.1667,-0 88.2083,-0 88.2083,-0 88.25,-0 88.25,-0 88.2917,-0 88.2917,-0 88.3333,-0 88.3333,-0 88.375,-0 88.375,-0 88.4167,-0 88.4167,-0 88.4583,-0 88.4583,-0 88.5,-0 88.5,-0 88.5417,-0 88.5417,-0 88.5833,-0 88.5833,-0 88.625,-0 88.625,-0 88.6667,-0 88.6667,-0 88.7083,-0 88.7083,-0 88.75,-0 88.75,-0 88.7917,-0 88.7917,-0 88.8333,-0 88.8333,-0 88.875,-0 88.875,-0 88.9167,-0 88.9167,-0 88.9583,-0 88.9583,-0  89,-0  89,-0 89.0417,-0 89.0417,-0 89.0833,-0 89.0833,-0 89.125,-0 89.125,-0 89.1667,-0 89.1667,-0 89.2083,-0 89.2083,-0 89.25,-0 89.25,-0 89.2917,-0 89.2917,-0 89.3333,-0 89.3333,-0 89.375,-0 89.375,-0 89.4167,-0 89.4167,-0 89.4583,-0 89.4583,-0 89.5,-0 89.5,-0 89.5417,-0 89.5417,-0 89.5833,-0 89.5833,-0 89.625,-0 89.625,-0 89.6667,-0 89.6667,-0 89.7083,-0 89.7083,-0 89.75,-0 89.75,-0 89.7917,-0 89.7917,-0 89.8333,-0 89.8333,-0 89.875,-0 89.875,-0 89.9167,-0 89.9167,-0 89.9583,-0 89.9583,-0  90,-0  90,-0 90.0417,-0 90.0417,-0 90.0833,-0 90.0833,-0 90.125,-0 90.125,-0 90.1667,-0 90.1667,-0 90.2083,-0 90.2083,-0 90.25,-0 90.25,-0 90.2917,-0 90.2917,-0 90.3333,-0 90.3333,-0 90.375,-0 90.375,-0 90.4167,-0 90.4167,-0 90.4583,-0 90.4583,-0 90.5,-0 90.5,-0 90.5417,-0 90.5417,-0 90.5833,-0 90.5833,-0 90.625,-0 90.625,-0 90.6667,-0 90.6667,-0 90.7083,-0 90.7083,-0 90.75,-0 90.75,-0 90.7917,-0 90.7917,-0 90.8333,-0 90.8333,-0 90.875,-0 90.875,-0 90.9167,-0 90.9167,-0 90.9583,-0 90.9583,-0  91,-0  91,-0 91.0417,-0 91.0417,-0 91.0833,-0 91.0833,-0 91.125,-0 91.125,-0 91.1667,-0 91.1667,-0 91.2083,-0 91.2083,-0 91.25,-0 91.25,-0 91.2917,-0 91.2917,-0 91.3333,-0 91.3333,-0 91.375,-0 91.375,-0 91.4167,-0 91.4167,-0 91.4583,-0 91.4583,-0 91.5,-0 91.5,-0 91.5417,-0 91.5417,-0 91.5833,-0 91.5833,-0 91.625,-0 91.625,-0 91.6667,-0 91.6667,-0 91.7083,-0 91.7083,-0 91.75,-0 91.75,-0 91.7917,-0 91.7917,-0 91.8333,-0 91.8333,-0 91.875,-0 91.875,-0 91.9167,-0 91.9167,-0 91.9583,-0 91.9583,-0  92,-0  92,-0 92.0417,-0 92.0417,-0 92.0833,-0 92.0833,-0 92.125,-0 92.125,-0 92.1667,-0 92.1667,-0 92.2083,-0 92.2083,-0 92.25,-0 92.25,-0 92.2917,-0 92.2917,-0 92.3333,-0 92.3333,-0 92.375,-0 92.375,-0 92.4167,-0 92.4167,-0 92.4583,-0 92.4583,-0 92.5,-0 92.5,-0 92.5417,-0 92.5417,-0 92.5833,-0 92.5833,-0 92.625,-0 92.625,-0 92.6667,-0 92.6667,-0 92.7083,-0 92.7083,-0 92.75,-0 92.75,-0 92.7917,-0 92.7917,-0 92.8333,-0 92.8333,-0 92.875,-0 92.875,-0 92.9167,-0 92.9167,-0 92.9583,-0 92.9583,-0  93,-0  93,-0 93.0417,-0 93.0417,-0 93.0833,-0 93.0833,-0 93.125,-0 93.125,-0 93.1667,-0 93.1667,-0 93.2083,-0 93.2083,-0 93.25,-0 93.25,-0 93.2917,-0 93.2917,-0 93.3333,-0 93.3333,-0 93.375,-0 93.375,-0 93.4167,-0 93.4167,-0 93.4583,-0 93.4583,-0 93.5,-0 93.5,-0 93.5417,-0 93.5417,-0 93.5833,-0 93.5833,-0 93.625,-0 93.625,-0 93.6667,-0 93.6667,-0 93.7083,-0 93.7083,-0 93.75,-0 93.75,-0 93.7917,-0 93.7917,-0 93.8333,-0 93.8333,-0 93.875,-0 93.875,-0 93.9167,-0 93.9167,-0 93.9583,-0 93.9583,-0  94,-0  94,-0 94.0417,-0 94.0417,-0 94.0833,-0 94.0833,-0 94.125,-0 94.125,-0 94.1667,-0 94.1667,-0 94.2083,-0 94.2083,-0 94.25,-0 94.25,-0 94.2917,-0 94.2917,-0 94.3333,-0 94.3333,-0 94.375,-0 94.375,-0 94.4167,-0 94.4167,-0 94.4583,-0 94.4583,-0 94.5,-0 94.5,-0 94.5417,-0 94.5417,-0 94.5833,-0 94.5833,-0 94.625,-0 94.625,-0 94.6667,-0 94.6667,-0 94.7083,-0 94.7083,-0 94.75,-0 94.75,-0 94.7917,-0 94.7917,-0 94.8333,-0 94.8333,-0 94.875,-0 94.875,-0 94.9167,-0 94.9167,-0 94.9583,-0 94.9583,-0  95,-0  95,-0 95.0417,-0 95.0417,-0 95.0833,-0 95.0833,-0 95.125,-0 95.125,-0 95.1667,-0 95.1667,-0 95.2083,-0 95.2083,-0 95.25,-0 95.25,-0 95.2917,-0 95.2917,-0 95.3333,-0 95.3333,-0 95.375,-0 95.375,-0 95.4167,-0 95.4167,-0 95.4583,-0 95.4583,-0 95.5,-0 95.5,-0 95.5417,-0 95.5417,-0 95.5833,-0 95.5833,-0 95.625,-0 95.625,-0 95.6667,-0 95.6667,-0 95.7083,-0 95.7083,-0 95.75,-0 95.75,-0 95.7917,-0 95.7917,-0 95.8333,-0 95.8333,-0 95.875,-0 95.875,-0 95.9167,-0 95.9167,-0 95.9583,-0 95.9583,-0  96,-0  96,-0 96.0417,-0 96.0417,-0 96.0833,-0 96.0833,-0 96.125,-0 96.125,-0 96.1667,-0 96.1667,-0 96.2083,-0 96.2083,-0 96.25,-0 96.25,-0 96.2917,-0 96.2917,-0 96.3333,-0 96.3333,-0 96.375,-0 96.375,-0 96.4167,-0 96.4167,-0 96.4583,-0 96.4583,-0 96.5,-0 96.5,-0 96.5417,-0 96.5417,-0 96.5833,-0 96.5833,-0 96.625,-0 96.625,-0 96.6667,-0 96.6667,-0 96.7083,-0 96.7083,-0 96.75,-0 96.75,-0 96.7917,-0 96.7917,-0 96.8333,-0 96.8333,-0 96.875,-0 96.875,-0 96.9167,-0 96.9167,-0 96.9583,-0 96.9583,-0  97,-0  97,-0 97.0417,-0 97.0417,-0 97.0833,-0 97.0833,-0 97.125,-0 97.125,-0 97.1667,-0 97.1667,-0 97.2083,-0 97.2083,-0 97.25,-0 97.25,-0 97.2917,-0 97.2917,-0 97.3333,-0 97.3333,-0 97.375,-0 97.375,-0 97.4167,-0 97.4167,-0 97.4583,-0 97.4583,-0 97.5,-0 97.5,-0 97.5417,-0 97.5417,-0 97.5833,-0 97.5833,-0 97.625,-0 97.625,-0 97.6667,-0 97.6667,-0 97.7083,-0 97.7083,-0 97.75,-0 97.75,-0 97.7917,-0 97.7917,-0 97.8333,-0 97.8333,-0 97.875,-0 97.875,-0 97.9167,-0 97.9167,-0 97.9583,-0 97.9583,-0  98,-0  98,-0 98.0417,-0 98.0417,-0 98.0833,-0 98.0833,-0 98.125,-0 98.125,-0 98.1667,-0 98.1667,-0 98.2083,-0 98.2083,-0 98.25,-0 98.25,-0 98.2917,-0 98.2917,-0 98.3333,-0 98.3333,-0 98.375,-0 98.375,-0 98.4167,-0 98.4167,-0 98.4583,-0 98.4583,-0 98.5,-0 98.5,-0 98.5417,-0 98.5417,-0 98.5833,-0 98.5833,-0 98.625,-0 98.625,-0 98.6667,-0 98.6667,-0 98.7083,-0 98.7083,-0 98.75,-0 98.75,-0 98.7917,-0 98.7917,-0 98.8333,-0 98.8333,-0 98.875,-0 98.875,-0 98.9167,-0 98.9167,-0 98.9583,-0 98.9583,-0  99,-0  99,-0 99.0417,-0 99.0417,-0 99.0833,-0 99.0833,-0 99.125,-0 99.125,-0 99.1667,-0 99.1667,-0 99.2083,-0 99.2083,-0 99.25,-0 99.25,-0 99.2917,-0 99.2917,-0 99.3333,-0 99.3333,-0 99.375,-0 99.375,-0 99.4167,-0 99.4167,-0 99.4583,-0 99.4583,-0 99.5,-0 99.5,-0 99.5417,-0 99.5417,-0 99.5833,-0 99.5833,-0 99.625,-0 99.625,-0 99.6667,-0 99.6667,-0 99.7083,-0 99.7083,-0 99.75,-0 99.75,-0 99.7917,-0 99.7917,-0 99.8333,-0 99.8333,-0 99.875,-0 99.875,-0 99.9167,-0 99.9167,-0 99.9583,-0 99.9583,-0 100,-0 100,-0 100.042,-0 100.042,-0 100.083,-0 100.083,-0 100.125,-0 100.125,-0 100.167,-0 100.167,-0 100.208,-0 100.208,-0 100.25,-0 100.25,-0 100.292,-0 100.292,-0 100.333,-0 100.333,-0 100.375,-0 100.375,-0 100.417,-0 100.417,-0 100.458,-0 100.458,-0 100.5,-0 100.5,-0 100.542,-0 100.542,-0 100.583,-0 100.583,-0 100.625,-0 100.625,-0 100.667,-0 100.667,-0 100.708,-0 100.708,-0 100.75,-0 100.75,-0 100.792,-0 100.792,-0 100.833,-0 100.833,-0 100.875,-0 100.875,-0 100.917,-0 100.917,-0 100.958,-0 100.958,-0 101,-0 101,-0 101.042,-0 101.042,-0 101.083,-0 101.083,-0 101.125,-0 101.125,-0 101.167,-0 101.167,-0 101.208,-0 101.208,-0 101.25,-0 101.25,-0 101.292,-0 101.292,-0 101.333,-0 101.333,-0 101.375,-0 101.375,-0 101.417,-0 101.417,-0 101.458,-0 101.458,-0 101.5,-0 101.5,-0 101.542,-0 101.542,-0 101.583,-0 101.583,-0 101.625,-0 101.625,-0 101.667,-0 101.667,-0 101.708,-0 101.708,-0 101.75,-0 101.75,-0 101.792,-0 101.792,-0 101.833,-0 101.833,-0 101.875,-0 101.875,-0 101.917,-0 101.917,-0 101.958,-0 101.958,-0 102,-0 102,-0 102.042,-0 102.042,-0 102.083,-0 102.083,-0 102.125,-0 102.125,-0 102.167,-0 102.167,-0 102.208,-0 102.208,-0 102.25,-0 102.25,-0 102.292,-0 102.292,-0 102.333,-0 102.333,-0 102.375,-0 102.375,-0 102.417,-0 102.417,-0 102.458,-0 102.458,-0 102.5,-0 102.5,-0 102.542,-0 102.542,-0 102.583,-0 102.583,-0 102.625,-0 102.625,-0 102.667,-0 102.667,-0 102.708,-0 102.708,-0 102.75,-0 102.75,-0 102.792,-0 102.792,-0 102.833,-0 102.833,-0 102.875,-0 102.875,-0 102.917,-0 102.917,-0 102.958,-0 102.958,-0 103,-0 103,-0 103.042,-0 103.042,-0 103.083,-0 103.083,-0 103.125,-0 103.125,-0 103.167,-0 103.167,-0 103.208,-0 103.208,-0 103.25,-0 103.25,-0 103.292,-0 103.292,-0 103.333,-0 103.333,-0 103.375,-0 103.375,-0 103.417,-0 103.417,-0 103.458,-0 103.458,-0 103.5,-0 103.5,-0 103.542,-0 103.542,-0 103.583,-0 103.583,-0 103.625,-0 103.625,-0 103.667,-0 103.667,-0 103.708,-0 103.708,-0 103.75,-0 103.75,-0 103.792,-0 103.792,-0 103.833,-0 103.833,-0 103.875,-0 103.875,-0 103.917,-0 103.917,-0 103.958,-0 103.958,-0 104,-0 104,-0 104.042,-0 104.042,-0 104.083,-0 104.083,-0 104.125,-0 104.125,-0 104.167,-0 104.167,-0 104.208,-0 104.208,-0 104.25,-0 104.25,-0 104.292,-0 104.292,-0 104.333,-0 104.333,-0 104.375,-0 104.375,-0 104.417,-0 104.417,-0 104.458,-0 104.458,-0 104.5,-0 104.5,-0 104.542,-0 104.542,-0 104.583,-0 104.583,-0 104.625,-0 104.625,-0 104.667,-0 104.667,-0 104.708,-0 104.708,-0 104.75,-0 104.75,-0 104.792,-0 104.792,-0 104.833,-0 104.833,-0 104.875,-0 104.875,-0 104.917,-0 104.917,-0 104.958,-0 104.958,-0 105,-0 105,-0 105.042,-0 105.042,-0 105.083,-0 105.083,-0 105.125,-0 105.125,-0 105.167,-0 105.167,-0 105.208,-0 105.208,-0 105.25,-0 105.25,-0 105.292,-0 105.292,-0 105.333,-0 105.333,-0 105.375,-0 105.375,-0 105.417,-0 105.417,-0 105.458,-0 105.458,-0 105.5,-0 105.5,-0 105.542,-0 105.542,-0 105.583,-0 105.583,-0 105.625,-0 105.625,-0 105.667,-0 105.667,-0 105.708,-0 105.708,-0 105.75,-0 105.75,-0 105.792,-0 105.792,-0 105.833,-0 105.833,-0 105.875,-0 105.875,-0 105.917,-0 105.917,-0 105.958,-0 105.958,-0 106,-0 106,-0 106.042,-0 106.042,-0 106.083,-0 106.083,-0 106.125,-0 106.125,-0 106.167,-0 106.167,-0 106.208,-0 106.208,-0 106.25,-0 106.25,-0 106.292,-0 106.292,-0 106.333,-0 106.333,-0 106.375,-0 106.375,-0 106.417,-0 106.417,-0 106.458,-0 106.458,-0 106.5,-0 106.5,-0 106.542,-0 106.542,-0 106.583,-0 106.583,-0 106.625,-0 106.625,-0 106.667,-0 106.667,-0 106.708,-0 106.708,-0 106.75,-0 106.75,-0 106.792,-0 106.792,-0 106.833,-0 106.833,-0 106.875,-0 106.875,-0 106.917,-0 106.917,-0 106.958,-0 106.958,-0 107,-0 107,-0 107.042,-0 107.042,-0 107.083,-0 107.083,-0 107.125,-0 107.125,-0 107.167,-0 107.167,-0 107.208,-0 107.208,-0 107.25,-0 107.25,-0 107.292,-0 107.292,-0 107.333,-0 107.333,-0 107.375,-0 107.375,-0 107.417,-0 107.417,-0 107.458,-0 107.458,-0 107.5,-0 107.5,-0 107.542,-0 107.542,-0 107.583,-0 107.583,-0 107.625,-0 107.625,-0 107.667,-0 107.667,-0 107.708,-0 107.708,-0 107.75,-0 107.75,-0 107.792,-0 107.792,-0 107.833,-0 107.833,-0 107.875,-0 107.875,-0 107.917,-0 107.917,-0 107.958,-0 107.958,-0 108,-0 108,-0 108.042,-0 108.042,-0 108.083,-0 108.083,-0 108.125,-0 108.125,-0 108.167,-0 108.167,-0 108.208,-0 108.208,-0 108.25,-0 108.25,-0 108.292,-0 108.292,-0 108.333,-0 108.333,-0 108.375,-0 108.375,-0 108.417,-0 108.417,-0 108.458,-0 108.458,-0 108.5,-0 108.5,-0 108.542,-0 108.542,-0 108.583,-0 108.583,-0 108.625,-0 108.625,-0 108.667,-0 108.667,-0 108.708,-0 108.708,-0 108.75,-0 108.75,-0 108.792,-0 108.792,-0 108.833,-0 108.833,-0 108.875,-0 108.875,-0 108.917,-0 108.917,-0 108.958,-0 108.958,-0 109,-0 109,-0 109.042,-0 109.042,-0 109.083,-0 109.083,-0 109.125,-0 109.125,-0 109.167,-0 109.167,-0 109.208,-0 109.208,-0 109.25,-0 109.25,-0 109.292,-0 109.292,-0 109.333,-0 109.333,-0 109.375,-0 109.375,-0 109.417,-0 109.417,-0 109.458,-0 109.458,-0 109.5,-0 109.5,-0 109.542,-0 109.542,-0 109.583,-0 109.583,-0 109.625,-0 109.625,-0 109.667,-0 109.667,-0 109.708,-0 109.708,-0 109.75,-0 109.75,-0 109.792,-0 109.792,-0 109.833,-0 109.833,-0 109.875,-0 109.875,-0 109.917,-0 109.917,-0 109.958,-0 109.958,-0 110,-0 110,-0 110.042,-0 110.042,-0 110.083,-0 110.083,-0 110.125,-0 110.125,-0 110.167,-0 110.167,-0 110.208,-0 110.208,-0 110.25,-0 110.25,-0 110.292,-0 110.292,-0 110.333,-0 110.333,-0 110.375,-0 110.375,-0 110.417,-0 110.417,-0 110.458,-0 110.458,-0 110.5,-0 110.5,-0 110.542,-0 110.542,-0 110.583,-0 110.583,-0 110.625,-0 110.625,-0 110.667,-0 110.667,-0 110.708,-0 110.708,-0 110.75,-0 110.75,-0 110.792,-0 110.792,-0 110.833,-0 110.833,-0 110.875,-0 110.875,-0 110.917,-0 110.917,-0 110.958,-0 110.958,-0 111,-0 111,-0 111.042,-0 111.042,-0 111.083,-0 111.083,-0 111.125,-0 111.125,-0 111.167,-0 111.167,-0 111.208,-0 111.208,-0 111.25,-0 111.25,-0 111.292,-0 111.292,-0 111.333,-0 111.333,-0 111.375,-0 111.375,-0 111.417,-0 111.417,-0 111.458,-0 111.458,-0 111.5,-0 111.5,-0 111.542,-0 111.542,-0 111.583,-0 111.583,-0 111.625,-0 111.625,-0 111.667,-0 111.667,-0 111.708,-0 111.708,-0 111.75,-0 111.75,-0 111.792,-0 111.792,-0 111.833,-0 111.833,-0 111.875,-0 111.875,-0 111.917,-0 111.917,-0 111.958,-0 111.958,-0 112,-0 112,-0 112.042,-0 112.042,-0 112.083,-0 112.083,-0 112.125,-0 112.125,-0 112.167,-0 112.167,-0 112.208,-0 112.208,-0 112.25,-0 112.25,-0 112.292,-0 112.292,-0 112.333,-0 112.333,-0 112.375,-0 112.375,-0 112.417,-0 112.417,-0 112.458,-0 112.458,-0 112.5,-0 112.5,-0 112.542,-0 112.542,-0 112.583,-0 112.583,-0 112.625,-0 112.625,-0 112.667,-0 112.667,-0 112.708,-0 112.708,-0 112.75,-0 112.75,-0 112.792,-0 112.792,-0 112.833,-0 112.833,-0 112.875,-0 112.875,-0 112.917,-0 112.917,-0 112.958,-0 112.958,-0 113,-0 113,-0 113.042,-0 113.042,-0 113.083,-0 113.083,-0 113.125,-0 113.125,-0 113.167,-0 113.167,-0 113.208,-0 113.208,-0 113.25,-0 113.25,-0 113.292,-0 113.292,-0 113.333,-0 113.333,-0 113.375,-0 113.375,-0 113.417,-0 113.417,-0 113.458,-0 113.458,-0 113.5,-0 113.5,-0 113.542,-0 113.542,-0 113.583,-0 113.583,-0 113.625,-0 113.625,-0 113.667,-0 113.667,-0 113.708,-0 113.708,-0 113.75,-0 113.75,-0 113.792,-0 113.792,-0 113.833,-0 113.833,-0 113.875,-0 113.875,-0 113.917,-0 113.917,-0 113.958,-0 113.958,-0 114,-0 114,-0 114.042,-0 114.042,-0 114.083,-0 114.083,-0 114.125,-0 114.125,-0 114.167,-0 114.167,-0 114.208,-0 114.208,-0 114.25,-0 114.25,-0 114.292,-0 114.292,-0 114.333,-0 114.333,-0 114.375,-0 114.375,-0 114.417,-0 114.417,-0 114.458,-0 114.458,-0 114.5,-0 114.5,-0 114.542,-0 114.542,-0 114.583,-0 114.583,-0 114.625,-0 114.625,-0 114.667,-0 114.667,-0 114.708,-0 114.708,-0 114.75,-0 114.75,-0 114.792,-0 114.792,-0 114.833,-0 114.833,-0 114.875,-0 114.875,-0 114.917,-0 114.917,-0 114.958,-0 114.958,-0 115,-0 115,-0 115.042,-0 115.042,-0 115.083,-0 115.083,-0 115.125,-0 115.125,-0 115.167,-0 115.167,-0 115.208,-0 115.208,-0 115.25,-0 115.25,-0 115.292,-0 115.292,-0 115.333,-0 115.333,-0 115.375,-0 115.375,-0 115.417,-0 115.417,-0 115.458,-0 115.458,-0 115.5,-0 115.5,-0 115.542,-0 115.542,-0 115.583,-0 115.583,-0 115.625,-0 115.625,-0 115.667,-0 115.667,-0 115.708,-0 115.708,-0 115.75,-0 115.75,-0 115.792,-0 115.792,-0 115.833,-0 115.833,-0 115.875,-0 115.875,-0 115.917,-0 115.917,-0 115.958,-0 115.958,-0 116,-0 116,-0 116.042,-0 116.042,-0 116.083,-0 116.083,-0 116.125,-0 116.125,-0 116.167,-0 116.167,-0 116.208,-0 116.208,-0 116.25,-0 116.25,-0 116.292,-0 116.292,-0 116.333,-0 116.333,-0 116.375,-0 116.375,-0 116.417,-0 116.417,-0 116.458,-0 116.458,-0 116.5,-0 116.5,-0 116.542,-0 116.542,-0 116.583,-0 116.583,-0 116.625,-0 116.625,-0 116.667,-0 116.667,-0 116.708,-0 116.708,-0 116.75,-0 116.75,-0 116.792,-0 116.792,-0 116.833,-0 116.833,-0 116.875,-0 116.875,-0 116.917,-0 116.917,-0 116.958,-0 116.958,-0 117,-0 117,-0 117.042,-0 117.042,-0 117.083,-0 117.083,-0 117.125,-0 117.125,-0 117.167,-0 117.167,-0 117.208,-0 117.208,-0 117.25,-0 117.25,-0 117.292,-0 117.292,-0 117.333,-0 117.333,-0 117.375,-0 117.375,-0 117.417,-0 117.417,-0 117.458,-0 117.458,-0 117.5,-0 117.5,-0 117.542,-0 117.542,-0 117.583,-0 117.583,-0 117.625,-0 117.625,-0 117.667,-0 117.667,-0 117.708,-0 117.708,-0 117.75,-0 117.75,-0 117.792,-0 117.792,-0 117.833,-0 117.833,-0 117.875,-0 117.875,-0 117.917,-0 117.917,-0 117.958,-0 117.958,-0 118,-0 118,-0 118.042,-0 118.042,-0 118.083,-0 118.083,-0 118.125,-0 118.125,-0 118.167,-0 118.167,-0 118.208,-0 118.208,-0 118.25,-0 118.25,-0 118.292,-0 118.292,-0 118.333,-0 118.333,-0 118.375,-0 118.375,-0 118.417,-0 118.417,-0 118.458,-0 118.458,-0 118.5,-0 118.5,-0 118.542,-0 118.542,-0 118.583,-0 118.583,-0 118.625,-0 118.625,-0 118.667,-0 118.667,-0 118.708,-0 118.708,-0 118.75,-0 118.75,-0 118.792,-0 118.792,-0 118.833,-0 118.833,-0 118.875,-0 118.875,-0 118.917,-0 118.917,-0 118.958,-0 118.958,-0 119,-0 119,-0 119.042,-0 119.042,-0 119.083,-0 119.083,-0 119.125,-0 119.125,-0 119.167,-0 119.167,-0 119.208,-0 119.208,-0 119.25,-0 119.25,-0 119.292,-0 119.292,-0 119.333,-0 119.333,-0 119.375,-0 119.375,-0 119.417,-0 119.417,-0 119.458,-0 119.458,-0 119.5,-0 119.5,-0 119.542,-0 119.542,-0 119.583,-0 119.583,-0 119.625,-0 119.625,-0 119.667,-0 119.667,-0 119.708,-0 119.708,-0 119.75,-0 119.75,-0 119.792,-0 119.792,-0 119.833,-0 119.833,-0 119.875,-0 119.875,-0 119.917,-0 119.917,-0 119.958,-0 119.958,-0 120,-0 120,-0 120.042,-0 120.042,-0 120.083,-0 120.083,-0 120.125,-0 120.125,-0 120.167,-0 120.167,-0 120.208,-0 120.208,-0 120.25,-0 120.25,-0 120.292,-0 120.292,-0 120.333,-0 120.333,-0 120.375,-0 120.375,-0 120.417,-0 120.417,-0 120.458,-0 120.458,-0 120.5,-0 120.5,-0 120.542,-0 120.542,-0 120.583,-0 120.583,-0 120.625,-0 120.625,-0 120.667,-0 120.667,-0 120.708,-0 120.708,-0 120.75,-0 120.75,-0 120.792,-0 120.792,-0 120.833,-0 120.833,-0 120.875,-0 120.875,-0 120.917,-0 120.917,-0 120.958,-0 120.958,-0 121,-0 121,-0 121.042,-0 121.042,-0 121.083,-0 121.083,-0 121.125,-0 121.125,-0 121.167,-0 121.167,-0 121.208,-0 121.208,-0 121.25,-0 121.25,-0 121.292,-0 121.292,-0 121.333,-0 121.333,-0 121.375,-0 121.375,-0 121.417,-0 121.417,-0 121.458,-0 121.458,-0 121.5,-0 121.5,-0 121.542,-0 121.542,-0 121.583,-0 121.583,-0 121.625,-0 121.625,-0 121.667,-0 121.667,-0 121.708,-0 121.708,-0 121.75,-0 121.75,-0 121.792,-0 121.792,-0 121.833,-0 121.833,-0 121.875,-0 121.875,-0 121.917,-0 121.917,-0 121.958,-0 121.958,-0 122,-0 122,-0 122.042,-0 122.042,-0 122.083,-0 122.083,-0 122.125,-0 122.125,-0 122.167,-0 122.167,-0 122.208,-0 122.208,-0 122.25,-0 122.25,-0 122.292,-0 122.292,-0 122.333,-0 122.333,-0 122.375,-0 122.375,-0 122.417,-0 122.417,-0 122.458,-0 122.458,-0 122.5,-0 122.5,-0 122.542,-0 122.542,-0 122.583,-0 122.583,-0 122.625,-0 122.625,-0 122.667,-0 122.667,-0 122.708,-0 122.708,-0 122.75,-0 122.75,-0 122.792,-0 122.792,-0 122.833,-0 122.833,-0 122.875,-0 122.875,-0 122.917,-0 122.917,-0 122.958,-0 122.958,-0 123,-0 123,-0 123.042,-0 123.042,-0 123.083,-0 123.083,-0 123.125,-0 123.125,-0 123.167,-0 123.167,-0 123.208,-0 123.208,-0 123.25,-0 123.25,-0 123.292,-0 123.292,-0 123.333,-0 123.333,-0 123.375,-0 123.375,-0 123.417,-0 123.417,-0 123.458,-0 123.458,-0 123.5,-0 123.5,-0 123.542,-0 123.542,-0 123.583,-0 123.583,-0 123.625,-0 123.625,-0 123.667,-0 123.667,-0 123.708,-0 123.708,-0 123.75,-0 123.75,-0 123.792,-0 123.792,-0 123.833,-0 123.833,-0 123.875,-0 123.875,-0 123.917,-0 123.917,-0 123.958,-0 123.958,-0 124,-0 124,-0 124.042,-0 124.042,-0 124.083,-0 124.083,-0 124.125,-0 124.125,-0 124.167,-0 124.167,-0 124.208,-0 124.208,-0 124.25,-0 124.25,-0 124.292,-0 124.292,-0 124.333,-0 124.333,-0 124.375,-0 124.375,-0 124.417,-0 124.417,-0 124.458,-0 124.458,-0 124.5,-0 124.5,-0 124.542,-0 124.542,-0 124.583,-0 124.583,-0 124.625,-0 124.625,-0 124.667,-0 124.667,-0 124.708,-0 124.708,-0 124.75,-0 124.75,-0 124.792,-0 124.792,-0 124.833,-0 124.833,-0 124.875,-0 124.875,-0 124.917,-0 124.917,-0 124.958,-0 124.958,-0 125,-0 125,-0 125.042,-0 125.042,-0 125.083,-0 125.083,-0 125.125,-0 125.125,-0 125.167,-0 125.167,-0 125.208,-0 125.208,-0 125.25,-0 125.25,-0 125.292,-0 125.292,-0 125.333,-0 125.333,-0 125.375,-0 125.375,-0 125.417,-0 125.417,-0 125.458,-0 125.458,-0 125.5,-0 125.5,-0 125.542,-0 125.542,-0 125.583,-0 125.583,-0 125.625,-0 125.625,-0 125.667,-0 125.667,-0 125.708,-0 125.708,-0 125.75,-0 125.75,-0 125.792,-0 125.792,-0 125.833,-0 125.833,-0 125.875,-0 125.875,-0 125.917,-0 125.917,-0 125.958,-0 125.958,-0 126,-0 126,-0 126.042,-0 126.042,-0 126.083,-0 126.083,-0 126.125,-0 126.125,-0 126.167,-0 126.167,-0 126.208,-0 126.208,-0 126.25,-0 126.25,-0 126.292,-0 126.292,-0 126.333,-0 126.333,-0 126.375,-0 126.375,-0 126.417,-0 126.417,-0 126.458,-0 126.458,-0 126.5,-0 126.5,-0 126.542,-0 126.542,-0 126.583,-0 126.583,-0 126.625,-0 126.625,-0 126.667,-0 126.667,-0 126.708,-0 126.708,-0 126.75,-0 126.75,-0 126.792,-0 126.792,-0 126.833,-0 126.833,-0 126.875,-0 126.875,-0 126.917,-0 126.917,-0 126.958,-0 126.958,-0 127,-0 127,-0 127.042,-0 127.042,-0 127.083,-0 127.083,-0 127.125,-0 127.125,-0 127.167,-0 127.167,-0 127.208,-0 127.208,-0 127.25,-0 127.25,-0 127.292,-0 127.292,-0 127.333,-0 127.333,-0 127.375,-0 127.375,-0 127.417,-0 127.417,-0 127.458,-0 127.458,-0 127.5,-0 127.5,-0 127.542,-0 127.542,-0 127.583,-0 127.583,-0 127.625,-0 127.625,-0 127.667,-0 127.667,-0 127.708,-0 127.708,-0 127.75,-0 127.75,-0 127.792,-0 127.792,-0 127.833,-0 127.833,-0 127.875,-0 127.875,-0 127.917,-0 127.917,-0 127.958,-0 127.958,-0 128,-0 128,-0 128.042,-0 128.042,-0 128.083,-0 128.083,-0 128.125,-0 128.125,-0 128.167,-0 128.167,-0 128.208,-0 128.208,-0 128.25,-0 128.25,-0 128.292,-0 128.292,-0 128.333,-0 128.333,-0 128.375,-0 128.375,-0 128.417,-0 128.417,-0 128.458,-0 128.458,-0 128.5,-0 128.5,-0 128.542,-0 128.542,-0 128.583,-0 128.583,-0 128.625,-0 128.625,-0 128.667,-0 128.667,-0 128.708,-0 128.708,-0 128.75,-0 128.75,-0 128.792,-0 128.792,-0 128.833,-0 128.833,-0 128.875,-0 128.875,-0 128.917,-0 128.917,-0 128.958,-0 128.958,-0 129,-0 129,-0 129.042,-0 129.042,-0 129.083,-0 129.083,-0 129.125,-0 129.125,-0 129.167,-0 129.167,-0 129.208,-0 129.208,-0 129.25,-0 129.25,-0 129.292,-0 129.292,-0 129.333,-0 129.333,-0 129.375,-0 129.375,-0 129.417,-0 129.417,-0 129.458,-0 129.458,-0 129.5,-0 129.5,-0 129.542,-0 129.542,-0 129.583,-0 129.583,-0 129.625,-0 129.625,-0 129.667,-0 129.667,-0 129.708,-0 129.708,-0 129.75,-0 129.75,-0 129.792,-0 129.792,-0 129.833,-0 129.833,-0 129.875,-0 129.875,-0 129.917,-0 129.917,-0 129.958,-0 129.958,-0 130,-0 130,-0 130.042,-0 130.042,-0 130.083,-0 130.083,-0 130.125,-0 130.125,-0 130.167,-0 130.167,-0 130.208,-0 130.208,-0 130.25,-0 130.25,-0 130.292,-0 130.292,-0 130.333,-0 130.333,-0 130.375,-0 130.375,-0 130.417,-0 130.417,-0 130.458,-0 130.458,-0 130.5,-0 130.5,-0 130.542,-0 130.542,-0 130.583,-0 130.583,-0 130.625,-0 130.625,-0 130.667,-0 130.667,-0 130.708,-0 130.708,-0 130.75,-0 130.75,-0 130.792,-0 130.792,-0 130.833,-0 130.833,-0 130.875,-0 130.875,-0 130.917,-0 130.917,-0 130.958,-0 130.958,-0 131,-0 131,-0 131.042,-0 131.042,-0 131.083,-0 131.083,-0 131.125,-0 131.125,-0 131.167,-0 131.167,-0 131.208,-0 131.208,-0 131.25,-0 131.25,-0 131.292,-0 131.292,-0 131.333,-0 131.333,-0 131.375,-0 131.375,-0 131.417,-0 131.417,-0 131.458,-0 131.458,-0 131.5,-0 131.5,-0 131.542,-0 131.542,-0 131.583,-0 131.583,-0 131.625,-0 131.625,-0 131.667,-0 131.667,-0 131.708,-0 131.708,-0 131.75,-0 131.75,-0 131.792,-0 131.792,-0 131.833,-0 131.833,-0 131.875,-0 131.875,-0 131.917,-0 131.917,-0 131.958,-0 131.958,-0 132,-0 132,-0 132.042,-0 132.042,-0 132.083,-0 132.083,-0 132.125,-0 132.125,-0 132.167,-0 132.167,-0 132.208,-0 132.208,-0 132.25,-0 132.25,-0 132.292,-0 132.292,-0 132.333,-0 132.333,-0 132.375,-0 132.375,-0 132.417,-0 132.417,-0 132.458,-0 132.458,-0 132.5,-0 132.5,-0 132.542,-0 132.542,-0 132.583,-0 132.583,-0 132.625,-0 132.625,-0 132.667,-0 132.667,-0 132.708,-0 132.708,-0 132.75,-0 132.75,-0 132.792,-0 132.792,-0 132.833,-0 132.833,-0 132.875,-0 132.875,-0 132.917,-0 132.917,-0 132.958,-0 132.958,-0 133,-0 133,-0 133.042,-0 133.042,-0 133.083,-0 133.083,-0 133.125,-0 133.125,-0 133.167,-0 133.167,-0 133.208,-0 133.208,-0 133.25,-0 133.25,-0 133.292,-0 133.292,-0 133.333,-0 133.333,-0 133.375,-0 133.375,-0 133.417,-0 133.417,-0 133.458,-0 133.458,-0 133.5,-0 133.5,-0 133.542,-0 133.542,-0 133.583,-0 133.583,-0 133.625,-0 133.625,-0 133.667,-0 133.667,-0 133.708,-0 133.708,-0 133.75,-0 133.75,-0 133.792,-0 133.792,-0 133.833,-0 133.833,-0 133.875,-0 133.875,-0 133.917,-0 133.917,-0 133.958,-0 133.958,-0 134,-0 134,-0 134.042,-0 134.042,-0 134.083,-0 134.083,-0 134.125,-0 134.125,-0 134.167,-0 134.167,-0 134.208,-0 134.208,-0 134.25,-0 134.25,-0 134.292,-0 134.292,-0 134.333,-0 134.333,-0 134.375,-0 134.375,-0 134.417,-0 134.417,-0 134.458,-0 134.458,-0 134.5,-0 134.5,-0 134.542,-0 134.542,-0 134.583,-0 134.583,-0 134.625,-0 134.625,-0 134.667,-0 134.667,-0 134.708,-0 134.708,-0 134.75,-0 134.75,-0 134.792,-0 134.792,-0 134.833,-0 134.833,-0 134.875,-0 134.875,-0 134.917,-0 134.917,-0 134.958,-0 134.958,-0 135,-0 135,-0 135.042,-0 135.042,-0 135.083,-0 135.083,-0 135.125,-0 135.125,-0 135.167,-0 135.167,-0 135.208,-0 135.208,-0 135.25,-0 135.25,-0 135.292,-0 135.292,-0 135.333,-0 135.333,-0 135.375,-0 135.375,-0 135.417,-0 135.417,-0 135.458,-0 135.458,-0 135.5,-0 135.5,-0 135.542,-0 135.542,-0 135.583,-0 135.583,-0 135.625,-0 135.625,-0 135.667,-0 135.667,-0 135.708,-0 135.708,-0 135.75,-0 135.75,-0 135.792,-0 135.792,-0 135.833,-0 135.833,-0 135.875,-0 135.875,-0 135.917,-0 135.917,-0 135.958,-0 135.958,-0 136,-0 136,-0 136.042,-0 136.042,-0 136.083,-0 136.083,-0 136.125,-0 136.125,-0 136.167,-0 136.167,-0 136.208,-0 136.208,-0 136.25,-0 136.25,-0 136.292,-0 136.292,-0 136.333,-0 136.333,-0 136.375,-0 136.375,-0 136.417,-0 136.417,-0 136.458,-0 136.458,-0 136.5,-0 136.5,-0 136.542,-0 136.542,-0 136.583,-0 136.583,-0 136.625,-0 136.625,-0 136.667,-0 136.667,-0 136.708,-0 136.708,-0 136.75,-0 136.75,-0 136.792,-0 136.792,-0 136.833,-0 136.833,-0 136.875,-0 136.875,-0 136.917,-0 136.917,-0 136.958,-0 136.958,-0 137,-0 137,-0 137.042,-0 137.042,-0 137.083,-0 137.083,-0 137.125,-0 137.125,-0 137.167,-0 137.167,-0 137.208,-0 137.208,-0 137.25,-0 137.25,-0 137.292,-0 137.292,-0 137.333,-0 137.333,-0 137.375,-0 137.375,-0 137.417,-0 137.417,-0 137.458,-0 137.458,-0 137.5,-0 137.5,-0 137.542,-0 137.542,-0 137.583,-0 137.583,-0 137.625,-0 137.625,-0 137.667,-0 137.667,-0 137.708,-0 137.708,-0 137.75,-0 137.75,-0 137.792,-0 137.792,-0 137.833,-0 137.833,-0 137.875,-0 137.875,-0 137.917,-0 137.917,-0 137.958,-0 137.958,-0 138,-0 138,-0 138.042,-0 138.042,-0 138.083,-0 138.083,-0 138.125,-0 138.125,-0 138.167,-0 138.167,-0 138.208,-0 138.208,-0 138.25,-0 138.25,-0 138.292,-0 138.292,-0 138.333,-0 138.333,-0 138.375,-0 138.375,-0 138.417,-0 138.417,-0 138.458,-0 138.458,-0 138.5,-0 138.5,-0 138.542,-0 138.542,-0 138.583,-0 138.583,-0 138.625,-0 138.625,-0 138.667,-0 138.667,-0 138.708,-0 138.708,-0 138.75,-0 138.75,-0 138.792,-0 138.792,-0 138.833,-0 138.833,-0 138.875,-0 138.875,-0 138.917,-0 138.917,-0 138.958,-0 138.958,-0 139,-0 139,-0 139.042,-0 139.042,-0 139.083,-0 139.083,-0 139.125,-0 139.125,-0 139.167,-0 139.167,-0 139.208,-0 139.208,-0 139.25,-0 139.25,-0 139.292,-0 139.292,-0 139.333,-0 139.333,-0 139.375,-0 139.375,-0 139.417,-0 139.417,-0 139.458,-0 139.458,-0 139.5,-0 139.5,-0 139.542,-0 139.542,-0 139.583,-0 139.583,-0 139.625,-0 139.625,-0 139.667,-0 139.667,-0 139.708,-0 139.708,-0 139.75,-0 139.75,-0 139.792,-0 139.792,-0 139.833,-0 139.833,-0 139.875,-0 139.875,-0 139.917,-0 139.917,-0 139.958,-0 139.958,-0 140,-0 140,-0 140.042,-0 140.042,-0 140.083,-0 140.083,-0 140.125,-0 140.125,-0 140.167,-0 140.167,-0 140.208,-0 140.208,-0 140.25,-0 140.25,-0 140.292,-0 140.292,-0 140.333,-0 140.333,-0 140.375,-0 140.375,-0 140.417,-0 140.417,-0 140.458,-0 140.458,-0 140.5,-0 140.5,-0 140.542,-0 140.542,-0 140.583,-0 140.583,-0 140.625,-0 140.625,-0 140.667,-0 140.667,-0 140.708,-0 140.708,-0 140.75,-0 140.75,-0 140.792,-0 140.792,-0 140.833,-0 140.833,-0 140.875,-0 140.875,-0 140.917,-0 140.917,-0 140.958,-0 140.958,-0 141,-0 141,-0 141.042,-0 141.042,-0 141.083,-0 141.083,-0 141.125,-0 141.125,-0 141.167,-0 141.167,-0 141.208,-0 141.208,-0 141.25,-0 141.25,-0 141.292,-0 141.292,-0 141.333,-0 141.333,-0 141.375,-0 141.375,-0 141.417,-0 141.417,-0 141.458,-0 141.458,-0 141.5,-0 141.5,-0 141.542,-0 141.542,-0 141.583,-0 141.583,-0 141.625,-0 141.625,-0 141.667,-0 141.667,-0 141.708,-0 141.708,-0 141.75,-0 141.75,-0 141.792,-0 141.792,-0 141.833,-0 141.833,-0 141.875,-0 141.875,-0 141.917,-0 141.917,-0 141.958,-0 141.958,-0 142,-0 142,-0 142.042,-0 142.042,-0 142.083,-0 142.083,-0 142.125,-0 142.125,-0 142.167,-0 142.167,-0 142.208,-0 142.208,-0 142.25,-0 142.25,-0 142.292,-0 142.292,-0 142.333,-0 142.333,-0 142.375,-0 142.375,-0 142.417,-0 142.417,-0 142.458,-0 142.458,-0 142.5,-0 142.5,-0 142.542,-0 142.542,-0 142.583,-0 142.583,-0 142.625,-0 142.625,-0 142.667,-0 142.667,-0 142.708,-0 142.708,-0 142.75,-0 142.75,-0 142.792,-0 142.792,-0 142.833,-0 142.833,-0 142.875,-0 142.875,-0 142.917,-0 142.917,-0 142.958,-0 142.958,-0 143,-0 143,-0 143.042,-0 143.042,-0 143.083,-0 143.083,-0 143.125,-0 143.125,-0 143.167,-0 143.167,-0 143.208,-0 143.208,-0 143.25,-0 143.25,-0 143.292,-0 143.292,-0 143.333,-0 143.333,-0 143.375,-0 143.375,-0 143.417,-0 143.417,-0 143.458,-0 143.458,-0 143.5,-0 143.5,-0 143.542,-0 143.542,-0 143.583,-0 143.583,-0 143.625,-0 143.625,-0 143.667,-0 143.667,-0 143.708,-0 143.708,-0 143.75,-0 143.75,-0 143.792,-0 143.792,-0 143.833,-0 143.833,-0 143.875,-0 143.875,-0 143.917,-0 143.917,-0 143.958,-0 143.958,-0 144,-0 144,-0 144.042,-0 144.042,-0 144.083,-0 144.083,-0 144.125,-0 144.125,-0 144.167,-0 144.167,-0 144.208,-0 144.208,-0 144.25,-0 144.25,-0 144.292,-0 144.292,-0 144.333,-0 144.333,-0 144.375,-0 144.375,-0 144.417,-0 144.417,-0 144.458,-0 144.458,-0 144.5,-0 144.5,-0 144.542,-0 144.542,-0 144.583,-0 144.583,-0 144.625,-0 144.625,-0 144.667,-0 144.667,-0 144.708,-0 144.708,-0 144.75,-0 144.75,-0 144.792,-0 144.792,-0 144.833,-0 144.833,-0 144.875,-0 144.875,-0 144.917,-0 144.917,-0 144.958,-0 144.958,-0 145,-0 145,-0 145.042,-0 145.042,-0 145.083,-0 145.083,-0 145.125,-0 145.125,-0 145.167,-0 145.167,-0 145.208,-0 145.208,-0 145.25,-0 145.25,-0 145.292,-0 145.292,-0 145.333,-0 145.333,-0 145.375,-0 145.375,-0 145.417,-0 145.417,-0 145.458,-0 145.458,-0 145.5,-0 145.5,-0 145.542,-0 145.542,-0 145.583,-0 145.583,-0 145.625,-0 145.625,-0 145.667,-0 145.667,-0 145.708,-0 145.708,-0 145.75,-0 145.75,-0 145.792,-0 145.792,-0 145.833,-0 145.833,-0 145.875,-0 145.875,-0 145.917,-0 145.917,-0 145.958,-0 145.958,-0 146,-0 146,-0 146.042,-0 146.042,-0 146.083,-0 146.083,-0 146.125,-0 146.125,-0 146.167,-0 146.167,-0 146.208,-0 146.208,-0 146.25,-0 146.25,-0 146.292,-0 146.292,-0 146.333,-0 146.333,-0 146.375,-0 146.375,-0 146.417,-0 146.417,-0 146.458,-0 146.458,-0 146.5,-0 146.5,-0 146.542,-0 146.542,-0 146.583,-0 146.583,-0 146.625,-0 146.625,-0 146.667,-0 146.667,-0 146.708,-0 146.708,-0 146.75,-0 146.75,-0 146.792,-0 146.792,-0 146.833,-0 146.833,-0 146.875,-0 146.875,-0 146.917,-0 146.917,-0 146.958,-0 146.958,-0 147,-0 147,-0 147.042,-0 147.042,-0 147.083,-0 147.083,-0 147.125,-0 147.125,-0 147.167,-0 147.167,-0 147.208,-0 147.208,-0 147.25,-0 147.25,-0 147.292,-0 147.292,-0 147.333,-0 147.333,-0 147.375,-0 147.375,-0 147.417,-0 147.417,-0 147.458,-0 147.458,-0 147.5,-0 147.5,-0 147.542,-0 147.542,-0 147.583,-0 147.583,-0 147.625,-0 147.625,-0 147.667,-0 147.667,-0 147.708,-0 147.708,-0 147.75,-0 147.75,-0 147.792,-0 147.792,-0 147.833,-0 147.833,-0 147.875,-0 147.875,-0 147.917,-0 147.917,-0 147.958,-0 147.958,-0 148,-0 148,-0 148.042,-0 148.042,-0 148.083,-0 148.083,-0 148.125,-0 148.125,-0 148.167,-0 148.167,-0 148.208,-0 148.208,-0 148.25,-0 148.25,-0 148.292,-0 148.292,-0 148.333,-0 148.333,-0 148.375,-0 148.375,-0 148.417,-0 148.417,-0 148.458,-0 148.458,-0 148.5,-0 148.5,-0 148.542,-0 148.542,-0 148.583,-0 148.583,-0 148.625,-0 148.625,-0 148.667,-0 148.667,-0 148.708,-0 148.708,-0 148.75,-0 148.75,-0 148.792,-0 148.792,-0 148.833,-0 148.833,-0 148.875,-0 148.875,-0 148.917,-0 148.917,-0 148.958,-0 148.958,-0 149,-0 149,-0 149.042,-0 149.042,-0 149.083,-0 149.083,-0 149.125,-0 149.125,-0 149.167,-0 149.167,-0 149.208,-0 149.208,-0 149.25,-0 149.25,-0 149.292,-0 149.292,-0 149.333,-0 149.333,-0 149.375,-0 149.375,-0 149.417,-0 149.417,-0 149.458,-0 149.458,-0 149.5,-0 149.5,-0 149.542,-0 149.542,-0 149.583,-0 149.583,-0 149.625,-0 149.625,-0 149.667,-0 149.667,-0 149.708,-0 149.708,-0 149.75,-0 149.75,-0 149.792,-0 149.792,-0 149.833,-0 149.833,-0 149.875,-0 149.875,-0 149.917,-0 149.917,-0 149.958,-0 149.958,-0 150,-0 150,-0 150.042,-0 150.042,-0 150.083,-0 150.083,-0 150.125,-0 150.125,-0 150.167,-0 150.167,-0 150.208,-0 150.208,-0 150.25,-0 150.25,-0 150.292,-0 150.292,-0 150.333,-0 150.333,-0 150.375,-0 150.375,-0 150.417,-0 150.417,-0 150.458,-0 150.458,-0 150.5,-0 150.5,-0 150.542,-0 150.542,-0 150.583,-0 150.583,-0 150.625,-0 150.625,-0 150.667,-0 150.667,-0 150.708,-0 150.708,-0 150.75,-0 150.75,-0 150.792,-0 150.792,-0 150.833,-0 150.833,-0 150.875,-0 150.875,-0 150.917,-0 150.917,-0 150.958,-0 150.958,-0 151,-0 151,-0 151.042,-0 151.042,-0 151.083,-0 151.083,-0 151.125,-0 151.125,-0 151.167,-0 151.167,-0 151.208,-0 151.208,-0 151.25,-0 151.25,-0 151.292,-0 151.292,-0 151.333,-0 151.333,-0 151.375,-0 151.375,-0 151.417,-0 151.417,-0 151.458,-0 151.458,-0 151.5,-0 151.5,-0 151.542,-0 151.542,-0 151.583,-0 151.583,-0 151.625,-0 151.625,-0 151.667,-0 151.667,-0 151.708,-0 151.708,-0 151.75,-0 151.75,-0 151.792,-0 151.792,-0 151.833,-0 151.833,-0 151.875,-0 151.875,-0 151.917,-0 151.917,-0 151.958,-0 151.958,-0 152,-0 152,-0 152.042,-0 152.042,-0 152.083,-0 152.083,-0 152.125,-0 152.125,-0 152.167,-0 152.167,-0 152.208,-0 152.208,-0 152.25,-0 152.25,-0 152.292,-0 152.292,-0 152.333,-0 152.333,-0 152.375,-0 152.375,-0 152.417,-0 152.417,-0 152.458,-0 152.458,-0 152.5,-0 152.5,-0 152.542,-0 152.542,-0 152.583,-0 152.583,-0 152.625,-0 152.625,-0 152.667,-0 152.667,-0 152.708,-0 152.708,-0 152.75,-0 152.75,-0 152.792,-0 152.792,-0 152.833,-0 152.833,-0 152.875,-0 152.875,-0 152.917,-0 152.917,-0 152.958,-0 152.958,-0 153,-0 153,-0 153.042,-0 153.042,-0 153.083,-0 153.083,-0 153.125,-0 153.125,-0 153.167,-0 153.167,-0 153.208,-0 153.208,-0 153.25,-0 153.25,-0 153.292,-0 153.292,-0 153.333,-0 153.333,-0 153.375,-0 153.375,-0 153.417,-0 153.417,-0 153.458,-0 153.458,-0 153.5,-0 153.5,-0 153.542,-0 153.542,-0 153.583,-0 153.583,-0 153.625,-0 153.625,-0 153.667,-0 153.667,-0 153.708,-0 153.708,-0 153.75,-0 153.75,-0 153.792,-0 153.792,-0 153.833,-0 153.833,-0 153.875,-0 153.875,-0 153.917,-0 153.917,-0 153.958,-0 153.958,-0 154,-0 154,-0 154.042,-0 154.042,-0 154.083,-0 154.083,-0 154.125,-0 154.125,-0 154.167,-0 154.167,-0 154.208,-0 154.208,-0 154.25,-0 154.25,-0 154.292,-0 154.292,-0 154.333,-0 154.333,-0 154.375,-0 154.375,-0 154.417,-0 154.417,-0 154.458,-0 154.458,-0 154.5,-0 154.5,-0 154.542,-0 154.542,-0 154.583,-0 154.583,-0 154.625,-0 154.625,-0 154.667,-0 154.667,-0 154.708,-0 154.708,-0 154.75,-0 154.75,-0 154.792,-0 154.792,-0 154.833,-0 154.833,-0 154.875,-0 154.875,-0 154.917,-0 154.917,-0 154.958,-0 154.958,-0 155,-0 155,-0 155.042,-0 155.042,-0 155.083,-0 155.083,-0 155.125,-0 155.125,-0 155.167,-0 155.167,-0 155.208,-0 155.208,-0 155.25,-0 155.25,-0 155.292,-0 155.292,-0 155.333,-0 155.333,-0 155.375,-0 155.375,-0 155.417,-0 155.417,-0 155.458,-0 155.458,-0 155.5,-0 155.5,-0 155.542,-0 155.542,-0 155.583,-0 155.583,-0 155.625,-0 155.625,-0 155.667,-0 155.667,-0 155.708,-0 155.708,-0 155.75,-0 155.75,-0 155.792,-0 155.792,-0 155.833,-0 155.833,-0 155.875,-0 155.875,-0 155.917,-0 155.917,-0 155.958,-0 155.958,-0 156,-0 156,-0 156.042,-0 156.042,-0 156.083,-0 156.083,-0 156.125,-0 156.125,-0 156.167,-0 156.167,-0 156.208,-0 156.208,-0 156.25,-0 156.25,-0 156.292,-0 156.292,-0 156.333,-0 156.333,-0 156.375,-0 156.375,-0 156.417,-0 156.417,-0 156.458,-0 156.458,-0 156.5,-0 156.5,-0 156.542,-0 156.542,-0 156.583,-0 156.583,-0 156.625,-0 156.625,-0 156.667,-0 156.667,-0 156.708,-0 156.708,-0 156.75,-0 156.75,-0 156.792,-0 156.792,-0 156.833,-0 156.833,-0 156.875,-0 156.875,-0 156.917,-0 156.917,-0 156.958,-0 156.958,-0 157,-0 157,-0 157.042,-0 157.042,-0 157.083,-0 157.083,-0 157.125,-0 157.125,-0 157.167,-0 157.167,-0 157.208,-0 157.208,-0 157.25,-0 157.25,-0 157.292,-0 157.292,-0 157.333,-0 157.333,-0 157.375,-0 157.375,-0 157.417,-0 157.417,-0 157.458,-0 157.458,-0 157.5,-0 157.5,-0 157.542,-0 157.542,-0 157.583,-0 157.583,-0 157.625,-0 157.625,-0 157.667,-0 157.667,-0 157.708,-0 157.708,-0 157.75,-0 157.75,-0 157.792,-0 157.792,-0 157.833,-0 157.833,-0 157.875,-0 157.875,-0 157.917,-0 157.917,-0 157.958,-0 157.958,-0 158,-0 158,-0 158.042,-0 158.042,-0 158.083,-0 158.083,-0 158.125,-0 158.125,-0 158.167,-0 158.167,-0 158.208,-0 158.208,-0 158.25,-0 158.25,-0 158.292,-0 158.292,-0 158.333,-0 158.333,-0 158.375,-0 158.375,-0 158.417,-0 158.417,-0 158.458,-0 158.458,-0 158.5,-0 158.5,-0 158.542,-0 158.542,-0 158.583,-0 158.583,-0 158.625,-0 158.625,-0 158.667,-0 158.667,-0 158.708,-0 158.708,-0 158.75,-0 158.75,-0 158.792,-0 158.792,-0 158.833,-0 158.833,-0 158.875,-0 158.875,-0 158.917,-0 158.917,-0 158.958,-0 158.958,-0 159,-0 159,-0 159.042,-0 159.042,-0 159.083,-0 159.083,-0 159.125,-0 159.125,-0 159.167,-0 159.167,-0 159.208,-0 159.208,-0 159.25,-0 159.25,-0 159.292,-0 159.292,-0 159.333,-0 159.333,-0 159.375,-0 159.375,-0 159.417,-0 159.417,-0 159.458,-0 159.458,-0 159.5,-0 159.5,-0 159.542,-0 159.542,-0 159.583,-0 159.583,-0 159.625,-0 159.625,-0 159.667,-0 159.667,-0 159.708,-0 159.708,-0 159.75,-0 159.75,-0 159.792,-0 159.792,-0 159.833,-0 159.833,-0 159.875,-0 159.875,-0 159.917,-0 159.917,-0 159.958,-0 159.958,-0 160,-0 160,-0 160.042,-0 160.042,-0 160.083,-0 160.083,-0 160.125,-0 160.125,-0 160.167,-0 160.167,-0 160.208,-0 160.208,-0 160.25,-0 160.25,-0 160.292,-0 160.292,-0 160.333,-0 160.333,-0 160.375,-0 160.375,-0 160.417,-0 160.417,-0 160.458,-0 160.458,-0 160.5,-0 160.5,-0 160.542,-0 160.542,-0 160.583,-0 160.583,-0 160.625,-0 160.625,-0 160.667,-0 160.667,-0 160.708,-0 160.708,-0 160.75,-0 160.75,-0 160.792,-0 160.792,-0 160.833,-0 160.833,-0 160.875,-0 160.875,-0 160.917,-0 160.917,-0 160.958,-0 160.958,-0 161,-0 161,-0 161.042,-0 161.042,-0 161.083,-0 161.083,-0 161.125,-0 161.125,-0 161.167,-0 161.167,-0 161.208,-0 161.208,-0 161.25,-0 161.25,-0 161.292,-0 161.292,-0 161.333,-0 161.333,-0 161.375,-0 161.375,-0 161.417,-0 161.417,-0 161.458,-0 161.458,-0 161.5,-0 161.5,-0 161.542,-0 161.542,-0 161.583,-0 161.583,-0 161.625,-0 161.625,-0 161.667,-0 161.667,-0 161.708,-0 161.708,-0 161.75,-0 161.75,-0 161.792,-0 161.792,-0 161.833,-0 161.833,-0 161.875,-0 161.875,-0 161.917,-0 161.917,-0 161.958,-0 161.958,-0 162,-0 162,-0 162.042,-0 162.042,-0 162.083,-0 162.083,-0 162.125,-0 162.125,-0 162.167,-0 162.167,-0 162.208,-0 162.208,-0 162.25,-0 162.25,-0 162.292,-0 162.292,-0 162.333,-0 162.333,-0 162.375,-0 162.375,-0 162.417,-0 162.417,-0 162.458,-0 162.458,-0 162.5,-0 162.5,-0 162.542,-0 162.542,-0 162.583,-0 162.583,-0 162.625,-0 162.625,-0 162.667,-0 162.667,-0 162.708,-0 162.708,-0 162.75,-0 162.75,-0 162.792,-0 162.792,-0 162.833,-0 162.833,-0 162.875,-0 162.875,-0 162.917,-0 162.917,-0 162.958,-0 162.958,-0 163,-0 163,-0 163.042,-0 163.042,-0 163.083,-0 163.083,-0 163.125,-0 163.125,-0 163.167,-0 163.167,-0 163.208,-0 163.208,-0 163.25,-0 163.25,-0 163.292,-0 163.292,-0 163.333,-0 163.333,-0 163.375,-0 163.375,-0 163.417,-0 163.417,-0 163.458,-0 163.458,-0 163.5,-0 163.5,-0 163.542,-0 163.542,-0 163.583,-0 163.583,-0 163.625,-0 163.625,-0 163.667,-0 163.667,-0 163.708,-0 163.708,-0 163.75,-0 163.75,-0 163.792,-0 163.792,-0 163.833,-0 163.833,-0 163.875,-0 163.875,-0 163.917,-0 163.917,-0 163.958,-0 163.958,-0 164,-0 164,-0 164.042,-0 164.042,-0 164.083,-0 164.083,-0 164.125,-0 164.125,-0 164.167,-0 164.167,-0 164.208,-0 164.208,-0 164.25,-0 164.25,-0 164.292,-0 164.292,-0 164.333,-0 164.333,-0 164.375,-0 164.375,-0 164.417,-0 164.417,-0 164.458,-0 164.458,-0 164.5,-0 164.5,-0 164.542,-0 164.542,-0 164.583,-0 164.583,-0 164.625,-0 164.625,-0 164.667,-0 164.667,-0 164.708,-0 164.708,-0 164.75,-0 164.75,-0 164.792,-0 164.792,-0 164.833,-0 164.833,-0 164.875,-0 164.875,-0 164.917,-0 164.917,-0 164.958,-0 164.958,-0 165,-0 165,-0 165.042,-0 165.042,-0 165.083,-0 165.083,-0 165.125,-0 165.125,-0 165.167,-0 165.167,-0 165.208,-0 165.208,-0 165.25,-0 165.25,-0 165.292,-0 165.292,-0 165.333,-0 165.333,-0 165.375,-0 165.375,-0 165.417,-0 165.417,-0 165.458,-0 165.458,-0 165.5,-0 165.5,-0 165.542,-0 165.542,-0 165.583,-0 165.583,-0 165.625,-0 165.625,-0 165.667,-0 165.667,-0 165.708,-0 165.708,-0 165.75,-0 165.75,-0 165.792,-0 165.792,-0 165.833,-0 165.833,-0 165.875,-0 165.875,-0 165.917,-0 165.917,-0 165.958,-0 165.958,-0 166,-0 166,-0 166.042,-0 166.042,-0 166.083,-0 166.083,-0 166.125,-0 166.125,-0 166.167,-0 166.167,-0 166.208,-0 166.208,-0 166.25,-0 166.25,-0 166.292,-0 166.292,-0 166.333,-0 166.333,-0 166.375,-0 166.375,-0 166.417,-0 166.417,-0 166.458,-0 166.458,-0 166.5,-0 166.5,-0 166.542,-0 166.542,-0 166.583,-0 166.583,-0 166.625,-0 166.625,-0 166.667,-0 166.667,-0 166.708,-0 166.708,-0 166.75,-0 166.75,-0 166.792,-0 166.792,-0 166.833,-0 166.833,-0 166.875,-0 166.875,-0 166.917,-0 166.917,-0 166.958,-0 166.958,-0 167,-0 167,-0 167.042,-0 167.042,-0 167.083,-0 167.083,-0 167.125,-0 167.125,-0 167.167,-0 167.167,-0 167.208,-0 167.208,-0 167.25,-0 167.25,-0 167.292,-0 167.292,-0 167.333,-0 167.333,-0 167.375,-0 167.375,-0 167.417,-0 167.417,-0 167.458,-0 167.458,-0 167.5,-0 167.5,-0 167.542,-0 167.542,-0 167.583,-0 167.583,-0 167.625,-0 167.625,-0 167.667,-0 167.667,-0 167.708,-0 167.708,-0 167.75,-0 167.75,-0 167.792,-0 167.792,-0 167.833,-0 167.833,-0 167.875,-0 167.875,-0 167.917,-0 167.917,-0 167.958,-0 167.958,-0 168,-0 168,-0 168.042,-0 168.042,-0 168.083,-0 168.083,-0 168.125,-0 168.125,-0 168.167,-0 168.167,-0 168.208,-0 168.208,-0 168.25,-0 168.25,-0 168.292,-0 168.292,-0 168.333,-0 168.333,-0 168.375,-0 168.375,-0 168.417,-0 168.417,-0 168.458,-0 168.458,-0 168.5,-0 168.5,-0 168.542,-0 168.542,-0 168.583,-0 168.583,-0 168.625,-0 168.625,-0 168.667,-0 168.667,-0 168.708,-0 168.708,-0 168.75,-0 168.75,-0 168.792,-0 168.792,-0 168.833,-0 168.833,-0 168.875,-0 168.875,-0 168.917,-0 168.917,-0 168.958,-0 168.958,-0 169,-0 169,-0 169.042,-0 169.042,-0 169.083,-0 169.083,-0 169.125,-0 169.125,-0 169.167,-0 169.167,-0 169.208,-0 169.208,-0 169.25,-0 169.25,-0 169.292,-0 169.292,-0 169.333,-0 169.333,-0 169.375,-0 169.375,-0 169.417,-0 169.417,-0 169.458,-0 169.458,-0 169.5,-0 169.5,-0 169.542,-0 169.542,-0 169.583,-0 169.583,-0 169.625,-0 169.625,-0 169.667,-0 169.667,-0 169.708,-0 169.708,-0 169.75,-0 169.75,-0 169.792,-0 169.792,-0 169.833,-0 169.833,-0 169.875,-0 169.875,-0 169.917,-0 169.917,-0 169.958,-0 169.958,-0 170,-0 170,-0 170.042,-0 170.042,-0 170.083,-0 170.083,-0 170.125,-0 170.125,-0 170.167,-0 170.167,-0 170.208,-0 170.208,-0 170.25,-0 170.25,-0 170.292,-0 170.292,-0 170.333,-0 170.333,-0 170.375,-0 170.375,-0 170.417,-0 170.417,-0 170.458,-0 170.458,-0 170.5,-0 170.5,-0 170.542,-0 170.542,-0 170.583,-0 170.583,-0 170.625,-0 170.625,-0 170.667,-0 170.667,-0 170.708,-0 170.708,-0 170.75,-0 170.75,-0 170.792,-0 170.792,-0 170.833,-0 170.833,-0 170.875,-0 170.875,-0 170.917,-0 170.917,-0 170.958,-0 170.958,-0 171,-0 171,-0 171.042,-0 171.042,-0 171.083,-0 171.083,-0 171.125,-0 171.125,-0 171.167,-0 171.167,-0 171.208,-0 171.208,-0 171.25,-0 171.25,-0 171.292,-0 171.292,-0 171.333,-0 171.333,-0 171.375,-0 171.375,-0 171.417,-0 171.417,-0 171.458,-0 171.458,-0 171.5,-0 171.5,-0 171.542,-0 171.542,-0 171.583,-0 171.583,-0 171.625,-0 171.625,-0 171.667,-0 171.667,-0 171.708,-0 171.708,-0 171.75,-0 171.75,-0 171.792,-0 171.792,-0 171.833,-0 171.833,-0 171.875,-0 171.875,-0 171.917,-0 171.917,-0 171.958,-0 171.958,-0 172,-0 172,-0 172.042,-0 172.042,-0 172.083,-0 172.083,-0 172.125,-0 172.125,-0 172.167,-0 172.167,-0 172.208,-0 172.208,-0 172.25,-0 172.25,-0 172.292,-0 172.292,-0 172.333,-0 172.333,-0 172.375,-0 172.375,-0 172.417,-0 172.417,-0 172.458,-0 172.458,-0 172.5,-0 172.5,-0 172.542,-0 172.542,-0 172.583,-0 172.583,-0 172.625,-0 172.625,-0 172.667,-0 172.667,-0 172.708,-0 172.708,-0 172.75,-0 172.75,-0 172.792,-0 172.792,-0 172.833,-0 172.833,-0 172.875,-0 172.875,-0 172.917,-0 172.917,-0 172.958,-0 172.958,-0 173,-0 173,-0 173.042,-0 173.042,-0 173.083,-0 173.083,-0 173.125,-0 173.125,-0 173.167,-0 173.167,-0 173.208,-0 173.208,-0 173.25,-0 173.25,-0 173.292,-0 173.292,-0 173.333,-0 173.333,-0 173.375,-0 173.375,-0 173.417,-0 173.417,-0 173.458,-0 173.458,-0 173.5,-0 173.5,-0 173.542,-0 173.542,-0 173.583,-0 173.583,-0 173.625,-0 173.625,-0 173.667,-0 173.667,-0 173.708,-0 173.708,-0 173.75,-0 173.75,-0 173.792,-0 173.792,-0 173.833,-0 173.833,-0 173.875,-0 173.875,-0 173.917,-0 173.917,-0 173.958,-0 173.958,-0 174,-0 174,-0 174.042,-0 174.042,-0 174.083,-0 174.083,-0 174.125,-0 174.125,-0 174.167,-0 174.167,-0 174.208,-0 174.208,-0 174.25,-0 174.25,-0 174.292,-0 174.292,-0 174.333,-0 174.333,-0 174.375,-0 174.375,-0 174.417,-0 174.417,-0 174.458,-0 174.458,-0 174.5,-0 174.5,-0 174.542,-0 174.542,-0 174.583,-0 174.583,-0 174.625,-0 174.625,-0 174.667,-0 174.667,-0 174.708,-0 174.708,-0 174.75,-0 174.75,-0 174.792,-0 174.792,-0 174.833,-0 174.833,-0 174.875,-0 174.875,-0 174.917,-0 174.917,-0 174.958,-0 174.958,-0 175,-0 175,-0 175.042,-0 175.042,-0 175.083,-0 175.083,-0 175.125,-0 175.125,-0 175.167,-0 175.167,-0 175.208,-0 175.208,-0 175.25,-0 175.25,-0 175.292,-0 175.292,-0 175.333,-0 175.333,-0 175.375,-0 175.375,-0 175.417,-0 175.417,-0 175.458,-0 175.458,-0 175.5,-0 175.5,-0 175.542,-0 175.542,-0 175.583,-0 175.583,-0 175.625,-0 175.625,-0 175.667,-0 175.667,-0 175.708,-0 175.708,-0 175.75,-0 175.75,-0 175.792,-0 175.792,-0 175.833,-0 175.833,-0 175.875,-0 175.875,-0 175.917,-0 175.917,-0 175.958,-0 175.958,-0 176,-0 176,-0 176.042,-0 176.042,-0 176.083,-0 176.083,-0 176.125,-0 176.125,-0 176.167,-0 176.167,-0 176.208,-0 176.208,-0 176.25,-0 176.25,-0 176.292,-0 176.292,-0 176.333,-0 176.333,-0 176.375,-0 176.375,-0 176.417,-0 176.417,-0 176.458,-0 176.458,-0 176.5,-0 176.5,-0 176.542,-0 176.542,-0 176.583,-0 176.583,-0 176.625,-0 176.625,-0 176.667,-0 176.667,-0 176.708,-0 176.708,-0 176.75,-0 176.75,-0 176.792,-0 176.792,-0 176.833,-0 176.833,-0 176.875,-0 176.875,-0 176.917,-0 176.917,-0 176.958,-0 176.958,-0 177,-0 177,-0 177.042,-0 177.042,-0 177.083,-0 177.083,-0 177.125,-0 177.125,-0 177.167,-0 177.167,-0 177.208,-0 177.208,-0 177.25,-0 177.25,-0 177.292,-0 177.292,-0 177.333,-0 177.333,-0 177.375,-0 177.375,-0 177.417,-0 177.417,-0 177.458,-0 177.458,-0 177.5,-0 177.5,-0 177.542,-0 177.542,-0 177.583,-0 177.583,-0 177.625,-0 177.625,-0 177.667,-0 177.667,-0 177.708,-0 177.708,-0 177.75,-0 177.75,-0 177.792,-0 177.792,-0 177.833,-0 177.833,-0 177.875,-0 177.875,-0 177.917,-0 177.917,-0 177.958,-0 177.958,-0 178,-0 178,-0 178.042,-0 178.042,-0 178.083,-0 178.083,-0 178.125,-0 178.125,-0 178.167,-0 178.167,-0 178.208,-0 178.208,-0 178.25,-0 178.25,-0 178.292,-0 178.292,-0 178.333,-0 178.333,-0 178.375,-0 178.375,-0 178.417,-0 178.417,-0 178.458,-0 178.458,-0 178.5,-0 178.5,-0 178.542,-0 178.542,-0 178.583,-0 178.583,-0 178.625,-0 178.625,-0 178.667,-0 178.667,-0 178.708,-0 178.708,-0 178.75,-0 178.75,-0 178.792,-0 178.792,-0 178.833,-0 178.833,-0 178.875,-0 178.875,-0 178.917,-0 178.917,-0 178.958,-0 178.958,-0 179,-0 179,-0 179.042,-0 179.042,-0 179.083,-0 179.083,-0 179.125,-0 179.125,-0 179.167,-0 179.167,-0 179.208,-0 179.208,-0 179.25,-0 179.25,-0 179.292,-0 179.292,-0 179.333,-0 179.333,-0 179.375,-0 179.375,-0 179.417,-0 179.417,-0 179.458,-0 179.458,-0 179.5,-0 179.5,-0 179.542,-0 179.542,-0 179.583,-0 179.583,-0 179.625,-0 179.625,-0 179.667,-0 179.667,-0 179.708,-0 179.708,-0 179.75,-0 179.75,-0 179.792,-0 179.792,-0 179.833,-0 179.833,-0 179.875,-0 179.875,-0 179.917,-0 179.917,-0 179.958,-0 179.958,-0 180,-0 180,-0 180.042,-0 180.042,-0 180.083,-0 180.083,-0 180.125,-0 180.125,-0 180.167,-0 180.167,-0 180.208,-0 180.208,-0 180.25,-0 180.25,-0 180.292,-0 180.292,-0 180.333,-0 180.333,-0 180.375,-0 180.375,-0 180.417,-0 180.417,-0 180.458,-0 180.458,-0 180.5,-0 180.5,-0 180.542,-0 180.542,-0 180.583,-0 180.583,-0 180.625,-0 180.625,-0 180.667,-0 180.667,-0 180.708,-0 180.708,-0 180.75,-0 180.75,-0 180.792,-0 180.792,-0 180.833,-0 180.833,-0 180.875,-0 180.875,-0 180.917,-0 180.917,-0 180.958,-0 180.958,-0 181,-0 181,-0 181.042,-0 181.042,-0 181.083,-0 181.083,-0 181.125,-0 181.125,-0 181.167,-0 181.167,-0 181.208,-0 181.208,-0 181.25,-0 181.25,-0 181.292,-0 181.292,-0 181.333,-0 181.333,-0 181.375,-0 181.375,-0 181.417,-0 181.417,-0 181.458,-0 181.458,-0 181.5,-0 181.5,-0 181.542,-0 181.542,-0 181.583,-0 181.583,-0 181.625,-0 181.625,-0 181.667,-0 181.667,-0 181.708,-0 181.708,-0 181.75,-0 181.75,-0 181.792,-0 181.792,-0 181.833,-0 181.833,-0 181.875,-0 181.875,-0 181.917,-0 181.917,-0 181.958,-0 181.958,-0 182,-0 182,-0 182.042,-0 182.042,-0 182.083,-0 182.083,-0 182.125,-0 182.125,-0 182.167,-0 182.167,-0 182.208,-0 182.208,-0 182.25,-0 182.25,-0 182.292,-0 182.292,-0 182.333,-0 182.333,-0 182.375,-0 182.375,-0 182.417,-0 182.417,-0 182.458,-0 182.458,-0 182.5,-0 182.5,-0 182.542,-0 182.542,-0 182.583,-0 182.583,-0 182.625,-0 182.625,-0 182.667,-0 182.667,-0 182.708,-0 182.708,-0 182.75,-0 182.75,-0 182.792,-0 182.792,-0 182.833,-0 182.833,-0 182.875,-0 182.875,-0 182.917,-0 182.917,-0 182.958,-0 182.958,-0 183,-0 183,-0 183.042,-0 183.042,-0 183.083,-0 183.083,-0 183.125,-0 183.125,-0 183.167,-0 183.167,-0 183.208,-0 183.208,-0 183.25,-0 183.25,-0 183.292,-0 183.292,-0 183.333,-0 183.333,-0 183.375,-0 183.375,-0 183.417,-0 183.417,-0 183.458,-0 183.458,-0 183.5,-0 183.5,-0 183.542,-0 183.542,-0 183.583,-0 183.583,-0 183.625,-0 183.625,-0 183.667,-0 183.667,-0 183.708,-0 183.708,-0 183.75,-0 183.75,-0 183.792,-0 183.792,-0 183.833,-0 183.833,-0 183.875,-0 183.875,-0 183.917,-0 183.917,-0 183.958,-0 183.958,-0 184,-0 184,-0 184.042,-0 184.042,-0 184.083,-0 184.083,-0 184.125,-0 184.125,-0 184.167,-0 184.167,-0 184.208,-0 184.208,-0 184.25,-0 184.25,-0 184.292,-0 184.292,-0 184.333,-0 184.333,-0 184.375,-0 184.375,-0 184.417,-0 184.417,-0 184.458,-0 184.458,-0 184.5,-0 184.5,-0 184.542,-0 184.542,-0 184.583,-0 184.583,-0 184.625,-0 184.625,-0 184.667,-0 184.667,-0 184.708,-0 184.708,-0 184.75,-0 184.75,-0 184.792,-0 184.792,-0 184.833,-0 184.833,-0 184.875,-0 184.875,-0 184.917,-0 184.917,-0 184.958,-0 184.958,-0 185,-0 185,-0 185.042,-0 185.042,-0 185.083,-0 185.083,-0 185.125,-0 185.125,-0 185.167,-0 185.167,-0 185.208,-0 185.208,-0 185.25,-0 185.25,-0 185.292,-0 185.292,-0 185.333,-0 185.333,-0 185.375,-0 185.375,-0 185.417,-0 185.417,-0 185.458,-0 185.458,-0 185.5,-0 185.5,-0 185.542,-0 185.542,-0 185.583,-0 185.583,-0 185.625,-0 185.625,-0 185.667,-0 185.667,-0 185.708,-0 185.708,-0 185.75,-0 185.75,-0 185.792,-0 185.792,-0 185.833,-0 185.833,-0 185.875,-0 185.875,-0 185.917,-0 185.917,-0 185.958,-0 185.958,-0 186,-0 186,-0 186.042,-0 186.042,-0 186.083,-0 186.083,-0 186.125,-0 186.125,-0 186.167,-0 186.167,-0 186.208,-0 186.208,-0 186.25,-0 186.25,-0 186.292,-0 186.292,-0 186.333,-0 186.333,-0 186.375,-0 186.375,-0 186.417,-0 186.417,-0 186.458,-0 186.458,-0 186.5,-0 186.5,-0 186.542,-0 186.542,-0 186.583,-0 186.583,-0 186.625,-0 186.625,-0 186.667,-0 186.667,-0 186.708,-0 186.708,-0 186.75,-0 186.75,-0 186.792,-0 186.792,-0 186.833,-0 186.833,-0 186.875,-0 186.875,-0 186.917,-0 186.917,-0 186.958,-0 186.958,-0 187,-0 187,-0 187.042,-0 187.042,-0 187.083,-0 187.083,-0 187.125,-0 187.125,-0 187.167,-0 187.167,-0 187.208,-0 187.208,-0 187.25,-0 187.25,-0 187.292,-0 187.292,-0 187.333,-0 187.333,-0 187.375,-0 187.375,-0 187.417,-0 187.417,-0 187.458,-0 187.458,-0 187.5,-0 187.5,-0 187.542,-0 187.542,-0 187.583,-0 187.583,-0 187.625,-0 187.625,-0 187.667,-0 187.667,-0 187.708,-0 187.708,-0 187.75,-0 187.75,-0 187.792,-0 187.792,-0 187.833,-0 187.833,-0 187.875,-0 187.875,-0 187.917,-0 187.917,-0 187.958,-0 187.958,-0 188,-0 188,-0 188.042,-0 188.042,-0 188.083,-0 188.083,-0 188.125,-0 188.125,-0 188.167,-0 188.167,-0 188.208,-0 188.208,-0 188.25,-0 188.25,-0 188.292,-0 188.292,-0 188.333,-0 188.333,-0 188.375,-0 188.375,-0 188.417,-0 188.417,-0 188.458,-0 188.458,-0 188.5,-0 188.5,-0 188.542,-0 188.542,-0 188.583,-0 188.583,-0 188.625,-0 188.625,-0 188.667,-0 188.667,-0 188.708,-0 188.708,-0 188.75,-0 188.75,-0 188.792,-0 188.792,-0 188.833,-0 188.833,-0 188.875,-0 188.875,-0 188.917,-0 188.917,-0 188.958,-0 188.958,-0 189,-0 189,-0 189.042,-0 189.042,-0 189.083,-0 189.083,-0 189.125,-0 189.125,-0 189.167,-0 189.167,-0 189.208,-0 189.208,-0 189.25,-0 189.25,-0 189.292,-0 189.292,-0 189.333,-0 189.333,-0 189.375,-0 189.375,-0 189.417,-0 189.417,-0 189.458,-0 189.458,-0 189.5,-0 189.5,-0 189.542,-0 189.542,-0 189.583,-0 189.583,-0 189.625,-0 189.625,-0 189.667,-0 189.667,-0 189.708,-0 189.708,-0 189.75,-0 189.75,-0 189.792,-0 189.792,-0 189.833,-0 189.833,-0 189.875,-0 189.875,-0 189.917,-0 189.917,-0 189.958,-0 189.958,-0 190,-0 190,-0 190.042,-0 190.042,-0 190.083,-0 190.083,-0 190.125,-0 190.125,-0 190.167,-0 190.167,-0 190.208,-0 190.208,-0 190.25,-0 190.25,-0 190.292,-0 190.292,-0 190.333,-0 190.333,-0 190.375,-0 190.375,-0 190.417,-0 190.417,-0 190.458,-0 190.458,-0 190.5,-0 190.5,-0 190.542,-0 190.542,-0 190.583,-0 190.583,-0 190.625,-0 190.625,-0 190.667,-0 190.667,-0 190.708,-0 190.708,-0 190.75,-0 190.75,-0 190.792,-0 190.792,-0 190.833,-0 190.833,-0 190.875,-0 190.875,-0 190.917,-0 190.917,-0 190.958,-0 190.958,-0 191,-0 191,-0 191.042,-0 191.042,-0 191.083,-0 191.083,-0 191.125,-0 191.125,-0 191.167,-0 191.167,-0 191.208,-0 191.208,-0 191.25,-0 191.25,-0 191.292,-0 191.292,-0 191.333,-0 191.333,-0 191.375,-0 191.375,-0 191.417,-0 191.417,-0 191.458,-0 191.458,-0 191.5,-0 191.5,-0 191.542,-0 191.542,-0 191.583,-0 191.583,-0 191.625,-0 191.625,-0 191.667,-0 191.667,-0 191.708,-0 191.708,-0 191.75,-0 191.75,-0 191.792,-0 191.792,-0 191.833,-0 191.833,-0 191.875,-0 191.875,-0 191.917,-0 191.917,-0 191.958,-0 191.958,-0 192,-0 192,-0 192.042,-0 192.042,-0 192.083,-0 192.083,-0 192.125,-0 192.125,-0 192.167,-0 192.167,-0 192.208,-0 192.208,-0 192.25,-0 192.25,-0 192.292,-0 192.292,-0 192.333,-0 192.333,-0 192.375,-0 192.375,-0 192.417,-0 192.417,-0 192.458,-0 192.458,-0 192.5,-0 192.5,-0 192.542,-0 192.542,-0 192.583,-0 192.583,-0 192.625,-0 192.625,-0 192.667,-0 192.667,-0 192.708,-0 192.708,-0 192.75,-0 192.75,-0 192.792,-0 192.792,-0 192.833,-0 192.833,-0 192.875,-0 192.875,-0 192.917,-0 192.917,-0 192.958,-0 192.958,-0 193,-0 193,-0 193.042,-0 193.042,-0 193.083,-0 193.083,-0 193.125,-0 193.125,-0 193.167,-0 193.167,-0 193.208,-0 193.208,-0 193.25,-0 193.25,-0 193.292,-0 193.292,-0 193.333,-0 193.333,-0 193.375,-0 193.375,-0 193.417,-0 193.417,-0 193.458,-0 193.458,-0 193.5,-0 193.5,-0 193.542,-0 193.542,-0 193.583,-0 193.583,-0 193.625,-0 193.625,-0 193.667,-0 193.667,-0 193.708,-0 193.708,-0 193.75,-0 193.75,-0 193.792,-0 193.792,-0 193.833,-0 193.833,-0 193.875,-0 193.875,-0 193.917,-0 193.917,-0 193.958,-0 193.958,-0 194,-0 194,-0 194.042,-0 194.042,-0 194.083,-0 194.083,-0 194.125,-0 194.125,-0 194.167,-0 194.167,-0 194.208,-0 194.208,-0 194.25,-0 194.25,-0 194.292,-0 194.292,-0 194.333,-0 194.333,-0 194.375,-0 194.375,-0 194.417,-0 194.417,-0 194.458,-0 194.458,-0 194.5,-0 194.5,-0 194.542,-0 194.542,-0 194.583,-0 194.583,-0 194.625,-0 194.625,-0 194.667,-0 194.667,-0 194.708,-0 194.708,-0 194.75,-0 194.75,-0 194.792,-0 194.792,-0 194.833,-0 194.833,-0 194.875,-0 194.875,-0 194.917,-0 194.917,-0 194.958,-0 194.958,-0 195,-0 195,-0 195.042,-0 195.042,-0 195.083,-0 195.083,-0 195.125,-0 195.125,-0 195.167,-0 195.167,-0 195.208,-0 195.208,-0 195.25,-0 195.25,-0 195.292,-0 195.292,-0 195.333,-0 195.333,-0 195.375,-0 195.375,-0 195.417,-0 195.417,-0 195.458,-0 195.458,-0 195.5,-0 195.5,-0 195.542,-0 195.542,-0 195.583,-0 195.583,-0 195.625,-0 195.625,-0 195.667,-0 195.667,-0 195.708,-0 195.708,-0 195.75,-0 195.75,-0 195.792,-0 195.792,-0 195.833,-0 195.833,-0 195.875,-0 195.875,-0 195.917,-0 195.917,-0 195.958,-0 195.958,-0 196,-0 196,-0 196.042,-0 196.042,-0 196.083,-0 196.083,-0 196.125,-0 196.125,-0 196.167,-0 196.167,-0 196.208,-0 196.208,-0 196.25,-0 196.25,-0 196.292,-0 196.292,-0 196.333,-0 196.333,-0 196.375,-0 196.375,-0 196.417,-0 196.417,-0 196.458,-0 196.458,-0 196.5,-0 196.5,-0 196.542,-0 196.542,-0 196.583,-0 196.583,-0 196.625,-0 196.625,-0 196.667,-0 196.667,-0 196.708,-0 196.708,-0 196.75,-0 196.75,-0 196.792,-0 196.792,-0 196.833,-0 196.833,-0 196.875,-0 196.875,-0 196.917,-0 196.917,-0 196.958,-0 196.958,-0 197,-0 197,-0 197.042,-0 197.042,-0 197.083,-0 197.083,-0 197.125,-0 197.125,-0 197.167,-0 197.167,-0 197.208,-0 197.208,-0 197.25,-0 197.25,-0 197.292,-0 197.292,-0 197.333,-0 197.333,-0 197.375,-0 197.375,-0 197.417,-0 197.417,-0 197.458,-0 197.458,-0 197.5,-0 197.5,-0 197.542,-0 197.542,-0 197.583,-0 197.583,-0 197.625,-0 197.625,-0 197.667,-0 197.667,-0 197.708,-0 197.708,-0 197.75,-0 197.75,-0 197.792,-0 197.792,-0 197.833,-0 197.833,-0 197.875,-0 197.875,-0 197.917,-0 197.917,-0 197.958,-0 197.958,-0 198,-0 198,-0 198.042,-0 198.042,-0 198.083,-0 198.083,-0 198.125,-0 198.125,-0 198.167,-0 198.167,-0 198.208,-0 198.208,-0 198.25,-0 198.25,-0 198.292,-0 198.292,-0 198.333,-0 198.333,-0 198.375,-0 198.375,-0 198.417,-0 198.417,-0 198.458,-0 198.458,-0 198.5,-0 198.5,-0 198.542,-0 198.542,-0 198.583,-0 198.583,-0 198.625,-0 198.625,-0 198.667,-0 198.667,-0 198.708,-0 198.708,-0 198.75,-0 198.75,-0 198.792,-0 198.792,-0 198.833,-0 198.833,-0 198.875,-0 198.875,-0 198.917,-0 198.917,-0 198.958,-0 198.958,-0 199,-0 199,-0 199.042,-0 199.042,-0 199.083,-0 199.083,-0 199.125,-0 199.125,-0 199.167,-0 199.167,-0 199.208,-0 199.208,-0 199.25,-0 199.25,-0 199.292,-0 199.292,-0 199.333,-0 199.333,-0 199.375,-0 199.375,-0 199.417,-0 199.417,-0 199.458,-0 199.458,-0 199.5,-0 199.5,-0 199.542,-0 199.542,-0 199.583,-0 199.583,-0 199.625,-0 199.625,-0 199.667,-0 199.667,-0 199.708,-0 199.708,-0 199.75,-0 199.75,-0 199.792,-0 199.792,-0 199.833,-0 199.833,-0 199.875,-0 199.875,-0 199.917,-0 199.917,-0 199.958,-0 199.958,-0 200,-0 200,-0 200.042,-0 200.042,-0 200.083,-0 200.083,-0 200.125,-0 200.125,-0 200.167,-0 200.167,-0 200.208,-0 200.208,-0 200.25,-0 200.25,-0 200.292,-0 200.292,-0 200.333,-0 200.333,-0 200.375,-0 200.375,-0 200.417,-0 200.417,-0 200.458,-0 200.458,-0 200.5,-0 200.5,-0 200.542,-0 200.542,-0 200.583,-0 200.583,-0 200.625,-0 200.625,-0 200.667,-0 200.667,-0 200.708,-0 200.708,-0 200.75,-0 200.75,-0 200.792,-0 200.792,-0 200.833,-0 200.833,-0 200.875,-0 200.875,-0 200.917,-0 200.917,-0 200.958,-0 200.958,-0 201,-0 201,-0 201.042,-0 201.042,-0 201.083,-0 201.083,-0 201.125,-0 201.125,-0 201.167,-0 201.167,-0 201.208,-0 201.208,-0 201.25,-0 201.25,-0 201.292,-0 201.292,-0 201.333,-0 201.333,-0 201.375,-0 201.375,-0 201.417,-0 201.417,-0 201.458,-0 201.458,-0 201.5,-0 201.5,-0 201.542,-0 201.542,-0 201.583,-0 201.583,-0 201.625,-0 201.625,-0 201.667,-0 201.667,-0 201.708,-0 201.708,-0 201.75,-0 201.75,-0 201.792,-0 201.792,-0 201.833,-0 201.833,-0 201.875,-0 201.875,-0 201.917,-0 201.917,-0 201.958,-0 201.958,-0 202,-0 202,-0 202.042,-0 202.042,-0 202.083,-0 202.083,-0 202.125,-0 202.125,-0 202.167,-0 202.167,-0 202.208,-0 202.208,-0 202.25,-0 202.25,-0 202.292,-0 202.292,-0 202.333,-0 202.333,-0 202.375,-0 202.375,-0 202.417,-0 202.417,-0 202.458,-0 202.458,-0 202.5,-0 202.5,-0 202.542,-0 202.542,-0 202.583,-0 202.583,-0 202.625,-0 202.625,-0 202.667,-0 202.667,-0 202.708,-0 202.708,-0 202.75,-0 202.75,-0 202.792,-0 202.792,-0 202.833,-0 202.833,-0 202.875,-0 202.875,-0 202.917,-0 202.917,-0 202.958,-0 202.958,-0 203,-0 203,-0 203.042,-0 203.042,-0 203.083,-0 203.083,-0 203.125,-0 203.125,-0 203.167,-0 203.167,-0 203.208,-0 203.208,-0 203.25,-0 203.25,-0 203.292,-0 203.292,-0 203.333,-0 203.333,-0 203.375,-0 203.375,-0 203.417,-0 203.417,-0 203.458,-0 203.458,-0 203.5,-0 203.5,-0 203.542,-0 203.542,-0 203.583,-0 203.583,-0 203.625,-0 203.625,-0 203.667,-0 203.667,-0 203.708,-0 203.708,-0 203.75,-0 203.75,-0 203.792,-0 203.792,-0 203.833,-0 203.833,-0 203.875,-0 203.875,-0 203.917,-0 203.917,-0 203.958,-0 203.958,-0 204,-0 204,-0 204.042,-0 204.042,-0 204.083,-0 204.083,-0 204.125,-0 204.125,-0 204.167,-0 204.167,-0 204.208,-0 204.208,-0 204.25,-0 204.25,-0 204.292,-0 204.292,-0 204.333,-0 204.333,-0 204.375,-0 204.375,-0 204.417,-0 204.417,-0 204.458,-0 204.458,-0 204.5,-0 204.5,-0 204.542,-0 204.542,-0 204.583,-0 204.583,-0 204.625,-0 204.625,-0 204.667,-0 204.667,-0 204.708,-0 204.708,-0 204.75,-0 204.75,-0 204.792,-0 204.792,-0 204.833,-0 204.833,-0 204.875,-0 204.875,-0 204.917,-0 204.917,-0 204.958,-0 204.958,-0 205,-0 205,-0 205.042,-0 205.042,-0 205.083,-0 205.083,-0 205.125,-0 205.125,-0 205.167,-0 205.167,-0 205.208,-0 205.208,-0 205.25,-0 205.25,-0 205.292,-0 205.292,-0 205.333,-0 205.333,-0 205.375,-0 205.375,-0 205.417,-0 205.417,-0 205.458,-0 205.458,-0 205.5,-0 205.5,-0 205.542,-0 205.542,-0 205.583,-0 205.583,-0 205.625,-0 205.625,-0 205.667,-0 205.667,-0 205.708,-0 205.708,-0 205.75,-0 205.75,-0 205.792,-0 205.792,-0 205.833,-0 205.833,-0 205.875,-0 205.875,-0 205.917,-0 205.917,-0 205.958,-0 205.958,-0 206,-0 206,-0 206.042,-0 206.042,-0 206.083,-0 206.083,-0 206.125,-0 206.125,-0 206.167,-0 206.167,-0 206.208,-0 206.208,-0 206.25,-0 206.25,-0 206.292,-0 206.292,-0 206.333,-0 206.333,-0 206.375,-0 206.375,-0 206.417,-0 206.417,-0 206.458,-0 206.458,-0 206.5,-0 206.5,-0 206.542,-0 206.542,-0 206.583,-0 206.583,-0 206.625,-0 206.625,-0 206.667,-0 206.667,-0 206.708,-0 206.708,-0 206.75,-0 206.75,-0 206.792,-0 206.792,-0 206.833,-0 206.833,-0 206.875,-0 206.875,-0 206.917,-0 206.917,-0 206.958,-0 206.958,-0 207,-0 207,-0 207.042,-0 207.042,-0 207.083,-0 207.083,-0 207.125,-0 207.125,-0 207.167,-0 207.167,-0 207.208,-0 207.208,-0 207.25,-0 207.25,-0 207.292,-0 207.292,-0 207.333,-0 207.333,-0 207.375,-0 207.375,-0 207.417,-0 207.417,-0 207.458,-0 207.458,-0 207.5,-0 207.5,-0 207.542,-0 207.542,-0 207.583,-0 207.583,-0 207.625,-0 207.625,-0 207.667,-0 207.667,-0 207.708,-0 207.708,-0 207.75,-0 207.75,-0 207.792,-0 207.792,-0 207.833,-0 207.833,-0 207.875,-0 207.875,-0 207.917,-0 207.917,-0 207.958,-0 207.958,-0 208,-0 208,-0 208.042,-0 208.042,-0 208.083,-0 208.083,-0 208.125,-0 208.125,-0 208.167,-0 208.167,-0 208.208,-0 208.208,-0 208.25,-0 208.25,-0 208.292,-0 208.292,-0 208.333,-0 208.333,-0 208.375,-0 208.375,-0 208.417,-0 208.417,-0 208.458,-0 208.458,-0 208.5,-0 208.5,-0 208.542,-0 208.542,-0 208.583,-0 208.583,-0 208.625,-0 208.625,-0 208.667,-0 208.667,-0 208.708,-0 208.708,-0 208.75,-0 208.75,-0 208.792,-0 208.792,-0 208.833,-0 208.833,-0 208.875,-0 208.875,-0 208.917,-0 208.917,-0 208.958,-0 208.958,-0 209,-0 209,-0 209.042,-0 209.042,-0 209.083,-0 209.083,-0 209.125,-0 209.125,-0 209.167,-0 209.167,-0 209.208,-0 209.208,-0 209.25,-0 209.25,-0 209.292,-0 209.292,-0 209.333,-0 209.333,-0 209.375,-0 209.375,-0 209.417,-0 209.417,-0 209.458,-0 209.458,-0 209.5,-0 209.5,-0 209.542,-0 209.542,-0 209.583,-0 209.583,-0 209.625,-0 209.625,-0 209.667,-0 209.667,-0 209.708,-0 209.708,-0 209.75,-0 209.75,-0 209.792,-0 209.792,-0 209.833,-0 209.833,-0 209.875,-0 209.875,-0 209.917,-0 209.917,-0 209.958,-0 209.958,-0 210,-0 210,-0 210.042,-0 210.042,-0 210.083,-0 210.083,-0 210.125,-0 210.125,-0 210.167,-0 210.167,-0 210.208,-0 210.208,-0 210.25,-0 210.25,-0 210.292,-0 210.292,-0 210.333,-0 210.333,-0 210.375,-0 210.375,-0 210.417,-0 210.417,-0 210.458,-0 210.458,-0 210.5,-0 210.5,-0 210.542,-0 210.542,-0 210.583,-0 210.583,-0 210.625,-0 210.625,-0 210.667,-0 210.667,-0 210.708,-0 210.708,-0 210.75,-0 210.75,-0 210.792,-0 210.792,-0 210.833,-0 210.833,-0 210.875,-0 210.875,-0 210.917,-0 210.917,-0 210.958,-0 210.958,-0 211,-0 211,-0 211.042,-0 211.042,-0 211.083,-0 211.083,-0 211.125,-0 211.125,-0 211.167,-0 211.167,-0 211.208,-0 211.208,-0 211.25,-0 211.25,-0 211.292,-0 211.292,-0 211.333,-0 211.333,-0 211.375,-0 211.375,-0 211.417,-0 211.417,-0 211.458,-0 211.458,-0 211.5,-0 211.5,-0 211.542,-0 211.542,-0 211.583,-0 211.583,-0 211.625,-0 211.625,-0 211.667,-0 211.667,-0 211.708,-0 211.708,-0 211.75,-0 211.75,-0 211.792,-0 211.792,-0 211.833,-0 211.833,-0 211.875,-0 211.875,-0 211.917,-0 211.917,-0 211.958,-0 211.958,-0 212,-0 212,-0 212.042,-0 212.042,-0 212.083,-0 212.083,-0 212.125,-0 212.125,-0 212.167,-0 212.167,-0 212.208,-0 212.208,-0 212.25,-0 212.25,-0 212.292,-0 212.292,-0 212.333,-0 212.333,-0 212.375,-0 212.375,-0 212.417,-0 212.417,-0 212.458,-0 212.458,-0 212.5,-0 212.5,-0 212.542,-0 212.542,-0 212.583,-0 212.583,-0 212.625,-0 212.625,-0 212.667,-0 212.667,-0 212.708,-0 212.708,-0 212.75,-0 212.75,-0 212.792,-0 212.792,-0 212.833,-0 212.833,-0 212.875,-0 212.875,-0 212.917,-0 212.917,-0 212.958,-0 212.958,-0 213,-0 213,-0 213.042,-0 213.042,-0 213.083,-0 213.083,-0 213.125,-0 213.125,-0 213.167,-0 213.167,-0 213.208,-0 213.208,-0 213.25,-0 213.25,-0 213.292,-0 213.292,-0 213.333,-0 213.333,-0 213.375,-0 213.375,-0 213.417,-0 213.417,-0 213.458,-0 213.458,-0 213.5,-0 213.5,-0 213.542,-0 213.542,-0 213.583,-0 213.583,-0 213.625,-0 213.625,-0 213.667,-0 213.667,-0 213.708,-0 213.708,-0 213.75,-0 213.75,-0 213.792,-0 213.792,-0 213.833,-0 213.833,-0 213.875,-0 213.875,-0 213.917,-0 213.917,-0 213.958,-0 213.958,-0 214,-0 214,-0 214.042,-0 214.042,-0 214.083,-0 214.083,-0 214.125,-0 214.125,-0 214.167,-0 214.167,-0 214.208,-0 214.208,-0 214.25,-0 214.25,-0 214.292,-0 214.292,-0 214.333,-0 214.333,-0 214.375,-0 214.375,-0 214.417,-0 214.417,-0 214.458,-0 214.458,-0 214.5,-0 214.5,-0 214.542,-0 214.542,-0 214.583,-0 214.583,-0 214.625,-0 214.625,-0 214.667,-0 214.667,-0 214.708,-0 214.708,-0 214.75,-0 214.75,-0 214.792,-0 214.792,-0 214.833,-0 214.833,-0 214.875,-0 214.875,-0 214.917,-0 214.917,-0 214.958,-0 214.958,-0 215,-0 215,-0 215.042,-0 215.042,-0 215.083,-0 215.083,-0 215.125,-0 215.125,-0 215.167,-0 215.167,-0 215.208,-0 215.208,-0 215.25,-0 215.25,-0 215.292,-0 215.292,-0 215.333,-0 215.333,-0 215.375,-0 215.375,-0 215.417,-0 215.417,-0 215.458,-0 215.458,-0 215.5,-0 215.5,-0 215.542,-0 215.542,-0 215.583,-0 215.583,-0 215.625,-0 215.625,-0 215.667,-0 215.667,-0 215.708,-0 215.708,-0 215.75,-0 215.75,-0 215.792,-0 215.792,-0 215.833,-0 215.833,-0 215.875,-0 215.875,-0 215.917,-0 215.917,-0 215.958,-0 215.958,-0 216,-0 216,-0 216.042,-0 216.042,-0 216.083,-0 216.083,-0 216.125,-0 216.125,-0 216.167,-0 216.167,-0 216.208,-0 216.208,-0 216.25,-0 216.25,-0 216.292,-0 216.292,-0 216.333,-0 216.333,-0 216.375,-0 216.375,-0 216.417,-0 216.417,-0 216.458,-0 216.458,-0 216.5,-0 216.5,-0 216.542,-0 216.542,-0 216.583,-0 216.583,-0 216.625,-0 216.625,-0 216.667,-0 216.667,-0 216.708,-0 216.708,-0 216.75,-0 216.75,-0 216.792,-0 216.792,-0 216.833,-0 216.833,-0 216.875,-0 216.875,-0 216.917,-0 216.917,-0 216.958,-0 216.958,-0 217,-0 217,-0 217.042,-0 217.042,-0 217.083,-0 217.083,-0 217.125,-0 217.125,-0 217.167,-0 217.167,-0 217.208,-0 217.208,-0 217.25,-0 217.25,-0 217.292,-0 217.292,-0 217.333,-0 217.333,-0 217.375,-0 217.375,-0 217.417,-0 217.417,-0 217.458,-0 217.458,-0 217.5,-0 217.5,-0 217.542,-0 217.542,-0 217.583,-0 217.583,-0 217.625,-0 217.625,-0 217.667,-0 217.667,-0 217.708,-0 217.708,-0 217.75,-0 217.75,-0 217.792,-0 217.792,-0 217.833,-0 217.833,-0 217.875,-0 217.875,-0 217.917,-0 217.917,-0 217.958,-0 217.958,-0 218,-0 218,-0 218.042,-0 218.042,-0 218.083,-0 218.083,-0 218.125,-0 218.125,-0 218.167,-0 218.167,-0 218.208,-0 218.208,-0 218.25,-0 218.25,-0 218.292,-0 218.292,-0 218.333,-0 218.333,-0 218.375,-0 218.375,-0 218.417,-0 218.417,-0 218.458,-0 218.458,-0 218.5,-0 218.5,-0 218.542,-0 218.542,-0 218.583,-0 218.583,-0 218.625,-0 218.625,-0 218.667,-0 218.667,-0 218.708,-0 218.708,-0 218.75,-0 218.75,-0 218.792,-0 218.792,-0 218.833,-0 218.833,-0 218.875,-0 218.875,-0 218.917,-0 218.917,-0 218.958,-0 218.958,-0 219,-0 219,-0 219.042,-0 219.042,-0 219.083,-0 219.083,-0 219.125,-0 219.125,-0 219.167,-0 219.167,-0 219.208,-0 219.208,-0 219.25,-0 219.25,-0 219.292,-0 219.292,-0 219.333,-0 219.333,-0 219.375,-0 219.375,-0 219.417,-0 219.417,-0 219.458,-0 219.458,-0 219.5,-0 219.5,-0 219.542,-0 219.542,-0 219.583,-0 219.583,-0 219.625,-0 219.625,-0 219.667,-0 219.667,-0 219.708,-0 219.708,-0 219.75,-0 219.75,-0 219.792,-0 219.792,-0 219.833,-0 219.833,-0 219.875,-0 219.875,-0 219.917,-0 219.917,-0 219.958,-0 219.958,-0 220,-0 220,-0 220.042,-0 220.042,-0 220.083,-0 220.083,-0 220.125,-0 220.125,-0 220.167,-0 220.167,-0 220.208,-0 220.208,-0 220.25,-0 220.25,-0 220.292,-0 220.292,-0 220.333,-0 220.333,-0 220.375,-0 220.375,-0 220.417,-0 220.417,-0 220.458,-0 220.458,-0 220.5,-0 220.5,-0 220.542,-0 220.542,-0 220.583,-0 220.583,-0 220.625,-0 220.625,-0 220.667,-0 220.667,-0 220.708,-0 220.708,-0 220.75,-0 220.75,-0 220.792,-0 220.792,-0 220.833,-0 220.833,-0 220.875,-0 220.875,-0 220.917,-0 220.917,-0 220.958,-0 220.958,-0 221,-0 221,-0 221.042,-0 221.042,-0 221.083,-0 221.083,-0 221.125,-0 221.125,-0 221.167,-0 221.167,-0 221.208,-0 221.208,-0 221.25,-0 221.25,-0 221.292,-0 221.292,-0 221.333,-0 221.333,-0 221.375,-0 221.375,-0 221.417,-0 221.417,-0 221.458,-0 221.458,-0 221.5,-0 221.5,-0 221.542,-0 221.542,-0 221.583,-0 221.583,-0 221.625,-0 221.625,-0 221.667,-0 221.667,-0 221.708,-0 221.708,-0 221.75,-0 221.75,-0 221.792,-0 221.792,-0 221.833,-0 221.833,-0 221.875,-0 221.875,-0 221.917,-0 221.917,-0 221.958,-0 221.958,-0 222,-0 222,-0 222.042,-0 222.042,-0 222.083,-0 222.083,-0 222.125,-0 222.125,-0 222.167,-0 222.167,-0 222.208,-0 222.208,-0 222.25,-0 222.25,-0 222.292,-0 222.292,-0 222.333,-0 222.333,-0 222.375,-0 222.375,-0 222.417,-0 222.417,-0 222.458,-0 222.458,-0 222.5,-0 222.5,-0 222.542,-0 222.542,-0 222.583,-0 222.583,-0 222.625,-0 222.625,-0 222.667,-0 222.667,-0 222.708,-0 222.708,-0 222.75,-0 222.75,-0 222.792,-0 222.792,-0 222.833,-0 222.833,-0 222.875,-0 222.875,-0 222.917,-0 222.917,-0 222.958,-0 222.958,-0 223,-0 223,-0 223.042,-0 223.042,-0 223.083,-0 223.083,-0 223.125,-0 223.125,-0 223.167,-0 223.167,-0 223.208,-0 223.208,-0 223.25,-0 223.25,-0 223.292,-0 223.292,-0 223.333,-0 223.333,-0 223.375,-0 223.375,-0 223.417,-0 223.417,-0 223.458,-0 223.458,-0 223.5,-0 223.5,-0 223.542,-0 223.542,-0 223.583,-0 223.583,-0 223.625,-0 223.625,-0 223.667,-0 223.667,-0 223.708,-0 223.708,-0 223.75,-0 223.75,-0 223.792,-0 223.792,-0 223.833,-0 223.833,-0 223.875,-0 223.875,-0 223.917,-0 223.917,-0 223.958,-0 223.958,-0 224,-0 224,-0 224.042,-0 224.042,-0 224.083,-0 224.083,-0 224.125,-0 224.125,-0 224.167,-0 224.167,-0 224.208,-0 224.208,-0 224.25,-0 224.25,-0 224.292,-0 224.292,-0 224.333,-0 224.333,-0 224.375,-0 224.375,-0 224.417,-0 224.417,-0 224.458,-0 224.458,-0 224.5,-0 224.5,-0 224.542,-0 224.542,-0 224.583,-0 224.583,-0 224.625,-0 224.625,-0 224.667,-0 224.667,-0 224.708,-0 224.708,-0 224.75,-0 224.75,-0 224.792,-0 224.792,-0 224.833,-0 224.833,-0 224.875,-0 224.875,-0 224.917,-0 224.917,-0 224.958,-0 224.958,-0 225,-0 225,-0 225.042,-0 225.042,-0 225.083,-0 225.083,-0 225.125,-0 225.125,-0 225.167,-0 225.167,-0 225.208,-0 225.208,-0 225.25,-0 225.25,-0 225.292,-0 225.292,-0 225.333,-0 225.333,-0 225.375,-0 225.375,-0 225.417,-0 225.417,-0 225.458,-0 225.458,-0 225.5,-0 225.5,-0 225.542,-0 225.542,-0 225.583,-0 225.583,-0 225.625,-0 225.625,-0 225.667,-0 225.667,-0 225.708,-0 225.708,-0 225.75,-0 225.75,-0 225.792,-0 225.792,-0 225.833,-0 225.833,-0 225.875,-0 225.875,-0 225.917,-0 225.917,-0 225.958,-0 225.958,-0 226,-0 226,-0 226.042,-0 226.042,-0 226.083,-0 226.083,-0 226.125,-0 226.125,-0 226.167,-0 226.167,-0 226.208,-0 226.208,-0 226.25,-0 226.25,-0 226.292,-0 226.292,-0 226.333,-0 226.333,-0 226.375,-0 226.375,-0 226.417,-0 226.417,-0 226.458,-0 226.458,-0 226.5,-0 226.5,-0 226.542,-0 226.542,-0 226.583,-0 226.583,-0 226.625,-0 226.625,-0 226.667,-0 226.667,-0 226.708,-0 226.708,-0 226.75,-0 226.75,-0 226.792,-0 226.792,-0 226.833,-0 226.833,-0 226.875,-0 226.875,-0 226.917,-0 226.917,-0 226.958,-0 226.958,-0 227,-0 227,-0 227.042,-0 227.042,-0 227.083,-0 227.083,-0 227.125,-0 227.125,-0 227.167,-0 227.167,-0 227.208,-0 227.208,-0 227.25,-0 227.25,-0 227.292,-0 227.292,-0 227.333,-0 227.333,-0 227.375,-0 227.375,-0 227.417,-0 227.417,-0 227.458,-0 227.458,-0 227.5,-0 227.5,-0 227.542,-0 227.542,-0 227.583,-0 227.583,-0 227.625,-0 227.625,-0 227.667,-0 227.667,-0 227.708,-0 227.708,-0 227.75,-0 227.75,-0 227.792,-0 227.792,-0 227.833,-0 227.833,-0 227.875,-0 227.875,-0 227.917,-0 227.917,-0 227.958,-0 227.958,-0 228,-0 228,-0 228.042,-0 228.042,-0 228.083,-0 228.083,-0 228.125,-0 228.125,-0 228.167,-0 228.167,-0 228.208,-0 228.208,-0 228.25,-0 228.25,-0 228.292,-0 228.292,-0 228.333,-0 228.333,-0 228.375,-0 228.375,-0 228.417,-0 228.417,-0 228.458,-0 228.458,-0 228.5,-0 228.5,-0 228.542,-0 228.542,-0 228.583,-0 228.583,-0 228.625,-0 228.625,-0 228.667,-0 228.667,-0 228.708,-0 228.708,-0 228.75,-0 228.75,-0 228.792,-0 228.792,-0 228.833,-0 228.833,-0 228.875,-0 228.875,-0 228.917,-0 228.917,-0 228.958,-0 228.958,-0 229,-0 229,-0 229.042,-0 229.042,-0 229.083,-0 229.083,-0 229.125,-0 229.125,-0 229.167,-0 229.167,-0 229.208,-0 229.208,-0 229.25,-0 229.25,-0 229.292,-0 229.292,-0 229.333,-0 229.333,-0 229.375,-0 229.375,-0 229.417,-0 229.417,-0 229.458,-0 229.458,-0 229.5,-0 229.5,-0 229.542,-0 229.542,-0 229.583,-0 229.583,-0 229.625,-0 229.625,-0 229.667,-0 229.667,-0 229.708,-0 229.708,-0 229.75,-0 229.75,-0 229.792,-0 229.792,-0 229.833,-0 229.833,-0 229.875,-0 229.875,-0 229.917,-0 229.917,-0 229.958,-0 229.958,-0 230,-0 230,-0 230.042,-0 230.042,-0 230.083,-0 230.083,-0 230.125,-0 230.125,-0 230.167,-0 230.167,-0 230.208,-0 230.208,-0 230.25,-0 230.25,-0 230.292,-0 230.292,-0 230.333,-0 230.333,-0 230.375,-0 230.375,-0 230.417,-0 230.417,-0 230.458,-0 230.458,-0 230.5,-0 230.5,-0 230.542,-0 230.542,-0 230.583,-0 230.583,-0 230.625,-0 230.625,-0 230.667,-0 230.667,-0 230.708,-0 230.708,-0 230.75,-0 230.75,-0 230.792,-0 230.792,-0 230.833,-0 230.833,-0 230.875,-0 230.875,-0 230.917,-0 230.917,-0 230.958,-0 230.958,-0 231,-0 231,-0 231.042,-0 231.042,-0 231.083,-0 231.083,-0 231.125,-0 231.125,-0 231.167,-0 231.167,-0 231.208,-0 231.208,-0 231.25,-0 231.25,-0 231.292,-0 231.292,-0 231.333,-0 231.333,-0 231.375,-0 231.375,-0 231.417,-0 231.417,-0 231.458,-0 231.458,-0 231.5,-0 231.5,-0 231.542,-0 231.542,-0 231.583,-0 231.583,-0 231.625,-0 231.625,-0 231.667,-0 231.667,-0 231.708,-0 231.708,-0 231.75,-0 231.75,-0 231.792,-0 231.792,-0 231.833,-0 231.833,-0 231.875,-0 231.875,-0 231.917,-0 231.917,-0 231.958,-0 231.958,-0 232,-0 232,-0 232.042,-0 232.042,-0 232.083,-0 232.083,-0 232.125,-0 232.125,-0 232.167,-0 232.167,-0 232.208,-0 232.208,-0 232.25,-0 232.25,-0 232.292,-0 232.292,-0 232.333,-0 232.333,-0 232.375,-0 232.375,-0 232.417,-0 232.417,-0 232.458,-0 232.458,-0 232.5,-0 232.5,-0 232.542,-0 232.542,-0 232.583,-0 232.583,-0 232.625,-0 232.625,-0 232.667,-0 232.667,-0 232.708,-0 232.708,-0 232.75,-0 232.75,-0 232.792,-0 232.792,-0 232.833,-0 232.833,-0 232.875,-0 232.875,-0 232.917,-0 232.917,-0 232.958,-0 232.958,-0 233,-0 233,-0 233.042,-0 233.042,-0 233.083,-0 233.083,-0 233.125,-0 233.125,-0 233.167,-0 233.167,-0 233.208,-0 233.208,-0 233.25,-0 233.25,-0 233.292,-0 233.292,-0 233.333,-0 233.333,-0 233.375,-0 233.375,-0 233.417,-0 233.417,-0 233.458,-0 233.458,-0 233.5,-0 233.5,-0 233.542,-0 233.542,-0 233.583,-0 233.583,-0 233.625,-0 233.625,-0 233.667,-0 233.667,-0 233.708,-0 233.708,-0 233.75,-0 233.75,-0 233.792,-0 233.792,-0 233.833,-0 233.833,-0 233.875,-0 233.875,-0 233.917,-0 233.917,-0 233.958,-0 233.958,-0 234,-0 234,-0 234.042,-0 234.042,-0 234.083,-0 234.083,-0 234.125,-0 234.125,-0 234.167,-0 234.167,-0 234.208,-0 234.208,-0 234.25,-0 234.25,-0 234.292,-0 234.292,-0 234.333,-0 234.333,-0 234.375,-0 234.375,-0 234.417,-0 234.417,-0 234.458,-0 234.458,-0 234.5,-0 234.5,-0 234.542,-0 234.542,-0 234.583,-0 234.583,-0 234.625,-0 234.625,-0 234.667,-0 234.667,-0 234.708,-0 234.708,-0 234.75,-0 234.75,-0 234.792,-0 234.792,-0 234.833,-0 234.833,-0 234.875,-0 234.875,-0 234.917,-0 234.917,-0 234.958,-0 234.958,-0 235,-0 235,-0 235.042,-0 235.042,-0 235.083,-0 235.083,-0 235.125,-0 235.125,-0 235.167,-0 235.167,-0 235.208,-0 235.208,-0 235.25,-0 235.25,-0 235.292,-0 235.292,-0 235.333,-0 235.333,-0 235.375,-0 235.375,-0 235.417,-0 235.417,-0 235.458,-0 235.458,-0 235.5,-0 235.5,-0 235.542,-0 235.542,-0 235.583,-0 235.583,-0 235.625,-0 235.625,-0 235.667,-0 235.667,-0 235.708,-0 235.708,-0 235.75,-0 235.75,-0 235.792,-0 235.792,-0 235.833,-0 235.833,-0 235.875,-0 235.875,-0 235.917,-0 235.917,-0 235.958,-0 235.958,-0 236,-0 236,-0 236.042,-0 236.042,-0 236.083,-0 236.083,-0 236.125,-0 236.125,-0 236.167,-0 236.167,-0 236.208,-0 236.208,-0 236.25,-0 236.25,-0 236.292,-0 236.292,-0 236.333,-0 236.333,-0 236.375,-0 236.375,-0 236.417,-0 236.417,-0 236.458,-0 236.458,-0 236.5,-0 236.5,-0 236.542,-0 236.542,-0 236.583,-0 236.583,-0 236.625,-0 236.625,-0 236.667,-0 236.667,-0 236.708,-0 236.708,-0 236.75,-0 236.75,-0 236.792,-0 236.792,-0 236.833,-0 236.833,-0 236.875,-0 236.875,-0 236.917,-0 236.917,-0 236.958,-0 236.958,-0 237,-0 237,-0 237.042,-0 237.042,-0 237.083,-0 237.083,-0 237.125,-0 237.125,-0 237.167,-0 237.167,-0 237.208,-0 237.208,-0 237.25,-0 237.25,-0 237.292,-0 237.292,-0 237.333,-0 237.333,-0 237.375,-0 237.375,-0 237.417,-0 237.417,-0 237.458,-0 237.458,-0 237.5,-0 237.5,-0 237.542,-0 237.542,-0 237.583,-0 237.583,-0 237.625,-0 237.625,-0 237.667,-0 237.667,-0 237.708,-0 237.708,-0 237.75,-0 237.75,-0 237.792,-0 237.792,-0 237.833,-0 237.833,-0 237.875,-0 237.875,-0 237.917,-0 237.917,-0 237.958,-0 237.958,-0 238,-0 238,-0 238.042,-0 238.042,-0 238.083,-0 238.083,-0 238.125,-0 238.125,-0 238.167,-0 238.167,-0 238.208,-0 238.208,-0 238.25,-0 238.25,-0 238.292,-0 238.292,-0 238.333,-0 238.333,-0 238.375,-0 238.375,-0 238.417,-0 238.417,-0 238.458,-0 238.458,-0 238.5,-0 238.5,-0 238.542,-0 238.542,-0 238.583,-0 238.583,-0 238.625,-0 238.625,-0 238.667,-0 238.667,-0 238.708,-0 238.708,-0 238.75,-0 238.75,-0 238.792,-0 238.792,-0 238.833,-0 238.833,-0 238.875,-0 238.875,-0 238.917,-0 238.917,-0 238.958,-0 238.958,-0 239,-0 239,-0 239.042,-0 239.042,-0 239.083,-0 239.083,-0 239.125,-0 239.125,-0 239.167,-0 239.167,-0 239.208,-0 239.208,-0 239.25,-0 239.25,-0 239.292,-0 239.292,-0 239.333,-0 239.333,-0 239.375,-0 239.375,-0 239.417,-0 239.417,-0 239.458,-0 239.458,-0 239.5,-0 239.5,-0 239.542,-0 239.542,-0 239.583,-0 239.583,-0 239.625,-0 239.625,-0 239.667,-0 239.667,-0 239.708,-0 239.708,-0 239.75,-0 239.75,-0 239.792,-0 239.792,-0 239.833,-0 239.833,-0 239.875,-0 239.875,-0 239.917,-0 239.917,-0 239.958,-0 239.958,-0 240,-0 240,-0 240.042,-0 240.042,-0 240.083,-0 240.083,-0 240.125,-0 240.125,-0 240.167,-0 240.167,-0 240.208,-0 240.208,-0 240.25,-0 240.25,-0 240.292,-0 240.292,-0 240.333,-0 240.333,-0 240.375,-0 240.375,-0 240.417,-0 240.417,-0 240.458,-0 240.458,-0 240.5,-0 240.5,-0 240.542,-0 240.542,-0 240.583,-0 240.583,-0 240.625,-0 240.625,-0 240.667,-0 240.667,-0 240.708,-0 240.708,-0 240.75,-0 240.75,-0 240.792,-0 240.792,-0 240.833,-0 240.833,-0 240.875,-0 240.875,-0 240.917,-0 240.917,-0 240.958,-0 240.958,-0 241,-0 241,-0 241.042,-0 241.042,-0 241.083,-0 241.083,-0 241.125,-0 241.125,-0 241.167,-0 241.167,-0 241.208,-0 241.208,-0 241.25,-0 241.25,-0 241.292,-0 241.292,-0 241.333,-0 241.333,-0 241.375,-0 241.375,-0 241.417,-0 241.417,-0 241.458,-0 241.458,-0 241.5,-0 241.5,-0 241.542,-0 241.542,-0 241.583,-0 241.583,-0 241.625,-0 241.625,-0 241.667,-0 241.667,-0 241.708,-0 241.708,-0 241.75,-0 241.75,-0 241.792,-0 241.792,-0 241.833,-0 241.833,-0 241.875,-0 241.875,-0 241.917,-0 241.917,-0 241.958,-0 241.958,-0 242,-0 242,-0 242.042,-0 242.042,-0 242.083,-0 242.083,-0 242.125,-0 242.125,-0 242.167,-0 242.167,-0 242.208,-0 242.208,-0 242.25,-0 242.25,-0 242.292,-0 242.292,-0 242.333,-0 242.333,-0 242.375,-0 242.375,-0 242.417,-0 242.417,-0 242.458,-0 242.458,-0 242.5,-0 242.5,-0 242.542,-0 242.542,-0 242.583,-0 242.583,-0 242.625,-0 242.625,-0 242.667,-0 242.667,-0 242.708,-0 242.708,-0 242.75,-0 242.75,-0 242.792,-0 242.792,-0 242.833,-0 242.833,-0 242.875,-0 242.875,-0 242.917,-0 242.917,-0 242.958,-0 242.958,-0 243,-0 243,-0 243.042,-0 243.042,-0 243.083,-0 243.083,-0 243.125,-0 243.125,-0 243.167,-0 243.167,-0 243.208,-0 243.208,-0 243.25,-0 243.25,-0 243.292,-0 243.292,-0 243.333,-0 243.333,-0 243.375,-0 243.375,-0 243.417,-0 243.417,-0 243.458,-0 243.458,-0 243.5,-0 243.5,-0 243.542,-0 243.542,-0 243.583,-0 243.583,-0 243.625,-0 243.625,-0 243.667,-0 243.667,-0 243.708,-0 243.708,-0 243.75,-0 243.75,-0 243.792,-0 243.792,-0 243.833,-0 243.833,-0 243.875,-0 243.875,-0 243.917,-0 243.917,-0 243.958,-0 243.958,-0 244,-0 244,-0 244.042,-0 244.042,-0 244.083,-0 244.083,-0 244.125,-0 244.125,-0 244.167,-0 244.167,-0 244.208,-0 244.208,-0 244.25,-0 244.25,-0 244.292,-0 244.292,-0 244.333,-0 244.333,-0 244.375,-0 244.375,-0 244.417,-0 244.417,-0 244.458,-0 244.458,-0 244.5,-0 244.5,-0 244.542,-0 244.542,-0 244.583,-0 244.583,-0 244.625,-0 244.625,-0 244.667,-0 244.667,-0 244.708,-0 244.708,-0 244.75,-0 244.75,-0 244.792,-0 244.792,-0 244.833,-0 244.833,-0 244.875,-0 244.875,-0 244.917,-0 244.917,-0 244.958,-0 244.958,-0 245,-0 245,-0 245.042,-0 245.042,-0 245.083,-0 245.083,-0 245.125,-0 245.125,-0 245.167,-0 245.167,-0 245.208,-0 245.208,-0 245.25,-0 245.25,-0 245.292,-0 245.292,-0 245.333,-0 245.333,-0 245.375,-0 245.375,-0 245.417,-0 245.417,-0 245.458,-0 245.458,-0 245.5,-0 245.5,-0 245.542,-0 245.542,-0 245.583,-0 245.583,-0 245.625,-0 245.625,-0 245.667,-0 245.667,-0 245.708,-0 245.708,-0 245.75,-0 245.75,-0 245.792,-0 245.792,-0 245.833,-0 245.833,-0 245.875,-0 245.875,-0 245.917,-0 245.917,-0 245.958,-0 245.958,-0 246,-0 246,-0 246.042,-0 246.042,-0 246.083,-0 246.083,-0 246.125,-0 246.125,-0 246.167,-0 246.167,-0 246.208,-0 246.208,-0 246.25,-0 246.25,-0 246.292,-0 246.292,-0 246.333,-0 246.333,-0 246.375,-0 246.375,-0 246.417,-0 246.417,-0 246.458,-0 246.458,-0 246.5,-0 246.5,-0 246.542,-0 246.542,-0 246.583,-0 246.583,-0 246.625,-0 246.625,-0 246.667,-0 246.667,-0 246.708,-0 246.708,-0 246.75,-0 246.75,-0 246.792,-0 246.792,-0 246.833,-0 246.833,-0 246.875,-0 246.875,-0 246.917,-0 246.917,-0 246.958,-0 246.958,-0 247,-0 247,-0 247.042,-0 247.042,-0 247.083,-0 247.083,-0 247.125,-0 247.125,-0 247.167,-0 247.167,-0 247.208,-0 247.208,-0 247.25,-0 247.25,-0 247.292,-0 247.292,-0 247.333,-0 247.333,-0 247.375,-0 247.375,-0 247.417,-0 247.417,-0 247.458,-0 247.458,-0 247.5,-0 247.5,-0 247.542,-0 247.542,-0 247.583,-0 247.583,-0 247.625,-0 247.625,-0 247.667,-0 247.667,-0 247.708,-0 247.708,-0 247.75,-0 247.75,-0 247.792,-0 247.792,-0 247.833,-0 247.833,-0 247.875,-0 247.875,-0 247.917,-0 247.917,-0 247.958,-0 247.958,-0 248,-0 248,-0 248.042,-0 248.042,-0 248.083,-0 248.083,-0 248.125,-0 248.125,-0 248.167,-0 248.167,-0 248.208,-0 248.208,-0 248.25,-0 248.25,-0 248.292,-0 248.292,-0 248.333,-0 248.333,-0 248.375,-0 248.375,-0 248.417,-0 248.417,-0 248.458,-0 248.458,-0 248.5,-0 248.5,-0 248.542,-0 248.542,-0 248.583,-0 248.583,-0 248.625,-0 248.625,-0 248.667,-0 248.667,-0 248.708,-0 248.708,-0 248.75,-0 248.75,-0 248.792,-0 248.792,-0 248.833,-0 248.833,-0 248.875,-0 248.875,-0 248.917,-0 248.917,-0 248.958,-0 248.958,-0 249,-0 249,-0 249.042,-0 249.042,-0 249.083,-0 249.083,-0 249.125,-0 249.125,-0 249.167,-0 249.167,-0 249.208,-0 249.208,-0 249.25,-0 249.25,-0 249.292,-0 249.292,-0 249.333,-0 249.333,-0 249.375,-0 249.375,-0 249.417,-0 249.417,-0 249.458,-0 249.458,-0 249.5,-0 249.5,-0 249.542,-0 249.542,-0 249.583,-0 249.583,-0 249.625,-0 249.625,-0 249.667,-0 249.667,-0 249.708,-0 249.708,-0 249.75,-0 249.75,-0 249.792,-0 249.792,-0 249.833,-0 249.833,-0 249.875,-0 249.875,-0 249.917,-0 249.917,-0 249.958,-0 249.958,-0 250,-0 250,0\" style=\"fill:none; stroke:currentColor;\"/>\n",
       "</svg>\n",
       "</div>\n",
       "<div style=\"flex=grow:1;\">\n",
       "Regular(6000, 0, 6000, name='xaxis', label='xaxis')<br/>\n",
       "<hr style=\"margin-top:.2em; margin-bottom:.2em;\"/>\n",
       "Double() Σ=4.0\n",
       "\n",
       "</div>\n",
       "</div>\n",
       "</html>"
      ],
      "text/plain": [
       "Hist(Regular(6000, 0, 6000, name='xaxis', label='xaxis'), storage=Double()) # Sum: 4.0"
      ]
     },
     "execution_count": 24,
     "metadata": {},
     "output_type": "execute_result"
    }
   ],
   "source": [
    "branch2.to_hist(metadata={'name': 'fName', 'title': 'fTitle'}, axis_metadata={'name': 'fName', 'title': 'fTitle'})"
   ]
  },
  {
   "cell_type": "code",
   "execution_count": 25,
   "id": "collective-pixel",
   "metadata": {},
   "outputs": [
    {
     "data": {
      "image/png": "[encoded data removed]",
      "text/plain": [
       "<Figure size 432x288 with 1 Axes>"
      ]
     },
     "metadata": {
      "needs_background": "light"
     },
     "output_type": "display_data"
    },
    {
     "data": {
      "image/png": "[encoded data removed]",
      "text/plain": [
       "<Figure size 432x288 with 1 Axes>"
      ]
     },
     "metadata": {
      "needs_background": "light"
     },
     "output_type": "display_data"
    }
   ],
   "source": [
    "plt.figure(1)\n",
    "plt.hist(x[0], bins=10)\n",
    "plt.show()\n",
    "plt.figure(2)\n",
    "plt.hist(x[1], bins=10)\n",
    "plt.show()"
   ]
  },
  {
   "cell_type": "code",
   "execution_count": 26,
   "id": "racial-liverpool",
   "metadata": {},
   "outputs": [
    {
     "name": "stdout",
     "output_type": "stream",
     "text": [
      "Shape of x[0]  (6000,)\n",
      "Shape of x[1]  (6001,)\n"
     ]
    }
   ],
   "source": [
    "print(\"Shape of x[0] \",x[0].shape)\n",
    "print(\"Shape of x[1] \",x[1].shape)"
   ]
  },
  {
   "cell_type": "code",
   "execution_count": 27,
   "id": "alike-strip",
   "metadata": {},
   "outputs": [
    {
     "data": {
      "text/plain": [
       "[<matplotlib.lines.Line2D at 0x2d5422dbc18>]"
      ]
     },
     "execution_count": 27,
     "metadata": {},
     "output_type": "execute_result"
    },
    {
     "data": {
      "image/png": "[encoded data removed]",
      "text/plain": [
       "<Figure size 432x288 with 1 Axes>"
      ]
     },
     "metadata": {
      "needs_background": "light"
     },
     "output_type": "display_data"
    }
   ],
   "source": [
    "plt.plot(x[1][0:6000],x[0],'-')"
   ]
  },
  {
   "cell_type": "markdown",
   "id": "sharp-investing",
   "metadata": {},
   "source": [
    "## Primary energy"
   ]
  },
  {
   "cell_type": "code",
   "execution_count": 28,
   "id": "productive-developer",
   "metadata": {},
   "outputs": [],
   "source": [
    "branch3 = file['Primary energy']"
   ]
  },
  {
   "cell_type": "code",
   "execution_count": 29,
   "id": "musical-trainer",
   "metadata": {},
   "outputs": [
    {
     "data": {
      "text/plain": [
       "<TH1D (version 2) at 0x02d5422fdd30>"
      ]
     },
     "execution_count": 29,
     "metadata": {},
     "output_type": "execute_result"
    }
   ],
   "source": [
    "branch3"
   ]
  },
  {
   "cell_type": "code",
   "execution_count": 30,
   "id": "informative-redhead",
   "metadata": {},
   "outputs": [
    {
     "data": {
      "text/html": [
       "<html>\n",
       "<div style=\"display:flex; align-items:center;\">\n",
       "<div style=\"width:290px;\">\n",
       "<svg xmlns=\"http://www.w3.org/2000/svg\" viewBox=\"-10 -105 270 120\">\n",
       "<line x1=\"-5\" y1=\"0\" x2=\"255\" y2=\"0\" style=\"fill:none;stroke-width:2;stroke:currentColor\"/>\n",
       "<text text-anchor=\"middle\" x=\"0\" y=\"15\" style=\"fill:currentColor;\">\n",
       "0\n",
       "</text>\n",
       "<text text-anchor=\"middle\" x=\"250\" y=\"15\" style=\"fill:currentColor;\">\n",
       "4e+03\n",
       "</text>\n",
       "<text text-anchor=\"middle\" x=\"125.0\" y=\"15\" style=\"fill:currentColor;\">\n",
       "xaxis\n",
       "</text>\n",
       "<polyline points=\"  0,0   0,-0 0.244141,-0 0.244141,-0 0.488281,-0 0.488281,-0 0.732422,-0 0.732422,-0 0.976562,-0 0.976562,-0 1.2207,-0 1.2207,-0 1.46484,-0 1.46484,-0 1.70898,-0 1.70898,-0 1.95312,-0 1.95312,-0 2.19727,-0 2.19727,-0 2.44141,-0 2.44141,-0 2.68555,-0 2.68555,-0 2.92969,-0 2.92969,-0 3.17383,-0 3.17383,-0 3.41797,-0 3.41797,-0 3.66211,-0 3.66211,-0 3.90625,-0 3.90625,-0 4.15039,-0 4.15039,-0 4.39453,-0 4.39453,-0 4.63867,-0 4.63867,-0 4.88281,-0 4.88281,-0 5.12695,-0 5.12695,-0 5.37109,-0 5.37109,-0 5.61523,-0 5.61523,-0 5.85938,-0 5.85938,-0 6.10352,-0 6.10352,-0 6.34766,-0 6.34766,-0 6.5918,-0 6.5918,-0 6.83594,-0 6.83594,-0 7.08008,-0 7.08008,-0 7.32422,-0 7.32422,-0 7.56836,-0 7.56836,-0 7.8125,-0 7.8125,-0 8.05664,-0 8.05664,-0 8.30078,-0 8.30078,-0 8.54492,-0 8.54492,-0 8.78906,-0 8.78906,-0 9.0332,-0 9.0332,-0 9.27734,-0 9.27734,-0 9.52148,-0 9.52148,-0 9.76562,-0 9.76562,-0 10.0098,-0 10.0098,-0 10.2539,-0 10.2539,-0 10.498,-0 10.498,-0 10.7422,-0 10.7422,-0 10.9863,-0 10.9863,-0 11.2305,-0 11.2305,-0 11.4746,-0 11.4746,-0 11.7188,-0 11.7188,-0 11.9629,-0 11.9629,-0 12.207,-0 12.207,-0 12.4512,-0 12.4512,-0 12.6953,-0 12.6953,-0 12.9395,-0 12.9395,-0 13.1836,-0 13.1836,-0 13.4277,-0 13.4277,-0 13.6719,-0 13.6719,-0 13.916,-0 13.916,-0 14.1602,-0 14.1602,-0 14.4043,-0 14.4043,-0 14.6484,-0 14.6484,-0 14.8926,-0 14.8926,-0 15.1367,-0 15.1367,-0 15.3809,-0 15.3809,-0 15.625,-0 15.625,-0 15.8691,-0 15.8691,-0 16.1133,-0 16.1133,-0 16.3574,-0 16.3574,-0 16.6016,-0 16.6016,-0 16.8457,-0 16.8457,-0 17.0898,-0 17.0898,-0 17.334,-0 17.334,-0 17.5781,-0 17.5781,-0 17.8223,-0 17.8223,-0 18.0664,-0 18.0664,-0 18.3105,-0 18.3105,-0 18.5547,-0 18.5547,-0 18.7988,-0 18.7988,-0 19.043,-0 19.043,-0 19.2871,-0 19.2871,-0 19.5312,-0 19.5312,-0 19.7754,-0 19.7754,-0 20.0195,-0 20.0195,-0 20.2637,-0 20.2637,-0 20.5078,-0 20.5078,-0 20.752,-0 20.752,-0 20.9961,-0 20.9961,-0 21.2402,-0 21.2402,-0 21.4844,-0 21.4844,-0 21.7285,-0 21.7285,-0 21.9727,-0 21.9727,-0 22.2168,-0 22.2168,-0 22.4609,-0 22.4609,-0 22.7051,-0 22.7051,-0 22.9492,-0 22.9492,-0 23.1934,-0 23.1934,-0 23.4375,-0 23.4375,-0 23.6816,-0 23.6816,-0 23.9258,-0 23.9258,-0 24.1699,-0 24.1699,-0 24.4141,-0 24.4141,-0 24.6582,-0 24.6582,-0 24.9023,-0 24.9023,-0 25.1465,-0 25.1465,-0 25.3906,-0 25.3906,-0 25.6348,-0 25.6348,-0 25.8789,-0 25.8789,-0 26.123,-0 26.123,-0 26.3672,-0 26.3672,-0 26.6113,-0 26.6113,-0 26.8555,-0 26.8555,-0 27.0996,-0 27.0996,-0 27.3438,-0 27.3438,-0 27.5879,-0 27.5879,-0 27.832,-0 27.832,-0 28.0762,-0 28.0762,-0 28.3203,-0 28.3203,-0 28.5645,-0 28.5645,-0 28.8086,-0 28.8086,-0 29.0527,-0 29.0527,-0 29.2969,-0 29.2969,-0 29.541,-0 29.541,-0 29.7852,-0 29.7852,-0 30.0293,-0 30.0293,-0 30.2734,-0 30.2734,-0 30.5176,-0 30.5176,-0 30.7617,-0 30.7617,-0 31.0059,-0 31.0059,-0 31.25,-0 31.25,-0 31.4941,-0 31.4941,-0 31.7383,-0 31.7383,-0 31.9824,-0 31.9824,-0 32.2266,-0 32.2266,-0 32.4707,-0 32.4707,-0 32.7148,-0 32.7148,-0 32.959,-0 32.959,-0 33.2031,-0 33.2031,-0 33.4473,-0 33.4473,-0 33.6914,-0 33.6914,-0 33.9355,-0 33.9355,-0 34.1797,-0 34.1797,-0 34.4238,-0 34.4238,-0 34.668,-0 34.668,-0 34.9121,-0 34.9121,-0 35.1562,-0 35.1562,-0 35.4004,-0 35.4004,-0 35.6445,-0 35.6445,-0 35.8887,-0 35.8887,-0 36.1328,-0 36.1328,-0 36.377,-0 36.377,-0 36.6211,-0 36.6211,-0 36.8652,-0 36.8652,-0 37.1094,-0 37.1094,-0 37.3535,-0 37.3535,-0 37.5977,-0 37.5977,-0 37.8418,-0 37.8418,-0 38.0859,-0 38.0859,-0 38.3301,-0 38.3301,-0 38.5742,-0 38.5742,-0 38.8184,-0 38.8184,-0 39.0625,-0 39.0625,-0 39.3066,-0 39.3066,-0 39.5508,-0 39.5508,-0 39.7949,-0 39.7949,-0 40.0391,-0 40.0391,-0 40.2832,-0 40.2832,-0 40.5273,-0 40.5273,-0 40.7715,-0 40.7715,-0 41.0156,-0 41.0156,-0 41.2598,-0 41.2598,-0 41.5039,-0 41.5039,-0 41.748,-0 41.748,-0 41.9922,-0 41.9922,-0 42.2363,-0 42.2363,-0 42.4805,-0 42.4805,-0 42.7246,-0 42.7246,-0 42.9688,-0 42.9688,-0 43.2129,-0 43.2129,-0 43.457,-0 43.457,-0 43.7012,-0 43.7012,-0 43.9453,-0 43.9453,-0 44.1895,-0 44.1895,-0 44.4336,-0 44.4336,-0 44.6777,-0 44.6777,-0 44.9219,-0 44.9219,-0 45.166,-0 45.166,-0 45.4102,-0 45.4102,-0 45.6543,-0 45.6543,-0 45.8984,-0 45.8984,-0 46.1426,-0 46.1426,-0 46.3867,-0 46.3867,-0 46.6309,-0 46.6309,-0 46.875,-0 46.875,-0 47.1191,-0 47.1191,-0 47.3633,-0 47.3633,-0 47.6074,-0 47.6074,-0 47.8516,-0 47.8516,-0 48.0957,-0 48.0957,-0 48.3398,-0 48.3398,-0 48.584,-0 48.584,-0 48.8281,-0 48.8281,-0 49.0723,-0 49.0723,-0 49.3164,-0 49.3164,-0 49.5605,-0 49.5605,-0 49.8047,-0 49.8047,-0 50.0488,-0 50.0488,-0 50.293,-0 50.293,-0 50.5371,-0 50.5371,-0 50.7812,-0 50.7812,-0 51.0254,-0 51.0254,-0 51.2695,-0 51.2695,-0 51.5137,-0 51.5137,-0 51.7578,-0 51.7578,-0 52.002,-0 52.002,-0 52.2461,-0 52.2461,-0 52.4902,-0 52.4902,-0 52.7344,-0 52.7344,-0 52.9785,-0 52.9785,-0 53.2227,-0 53.2227,-0 53.4668,-0 53.4668,-0 53.7109,-0 53.7109,-0 53.9551,-0 53.9551,-0 54.1992,-0 54.1992,-0 54.4434,-0 54.4434,-0 54.6875,-0 54.6875,-0 54.9316,-0 54.9316,-0 55.1758,-0 55.1758,-0 55.4199,-0 55.4199,-0 55.6641,-0 55.6641,-0 55.9082,-0 55.9082,-0 56.1523,-0 56.1523,-0 56.3965,-0 56.3965,-0 56.6406,-0 56.6406,-0 56.8848,-0 56.8848,-0 57.1289,-0 57.1289,-0 57.373,-0 57.373,-0 57.6172,-0 57.6172,-0 57.8613,-0 57.8613,-0 58.1055,-0 58.1055,-0 58.3496,-0 58.3496,-0 58.5938,-0 58.5938,-0 58.8379,-0 58.8379,-0 59.082,-0 59.082,-0 59.3262,-0 59.3262,-0 59.5703,-0 59.5703,-0 59.8145,-0 59.8145,-0 60.0586,-0 60.0586,-0 60.3027,-0 60.3027,-0 60.5469,-0 60.5469,-0 60.791,-0 60.791,-0 61.0352,-0 61.0352,-0 61.2793,-0 61.2793,-0 61.5234,-0 61.5234,-0 61.7676,-0 61.7676,-0 62.0117,-0 62.0117,-0 62.2559,-0 62.2559,-0 62.5,-0 62.5,-0 62.7441,-0 62.7441,-0 62.9883,-0 62.9883,-0 63.2324,-0 63.2324,-0 63.4766,-0 63.4766,-0 63.7207,-0 63.7207,-0 63.9648,-0 63.9648,-0 64.209,-0 64.209,-0 64.4531,-0 64.4531,-0 64.6973,-0 64.6973,-0 64.9414,-0 64.9414,-0 65.1855,-0 65.1855,-0 65.4297,-0 65.4297,-0 65.6738,-0 65.6738,-0 65.918,-0 65.918,-0 66.1621,-0 66.1621,-0 66.4062,-0 66.4062,-0 66.6504,-0 66.6504,-0 66.8945,-0 66.8945,-0 67.1387,-0 67.1387,-0 67.3828,-0 67.3828,-0 67.627,-0 67.627,-0 67.8711,-0 67.8711,-0 68.1152,-0 68.1152,-0 68.3594,-0 68.3594,-0 68.6035,-0 68.6035,-0 68.8477,-0 68.8477,-0 69.0918,-0 69.0918,-0 69.3359,-0 69.3359,-0 69.5801,-0 69.5801,-0 69.8242,-0 69.8242,-0 70.0684,-0 70.0684,-0 70.3125,-0 70.3125,-0 70.5566,-0 70.5566,-0 70.8008,-0 70.8008,-0 71.0449,-0 71.0449,-0 71.2891,-0 71.2891,-0 71.5332,-0 71.5332,-0 71.7773,-0 71.7773,-0 72.0215,-0 72.0215,-0 72.2656,-0 72.2656,-0 72.5098,-0 72.5098,-0 72.7539,-0 72.7539,-0 72.998,-0 72.998,-0 73.2422,-0 73.2422,-0 73.4863,-0 73.4863,-0 73.7305,-0 73.7305,-0 73.9746,-0 73.9746,-0 74.2188,-0 74.2188,-0 74.4629,-0 74.4629,-0 74.707,-0 74.707,-0 74.9512,-0 74.9512,-0 75.1953,-0 75.1953,-0 75.4395,-0 75.4395,-0 75.6836,-0 75.6836,-0 75.9277,-0 75.9277,-0 76.1719,-0 76.1719,-0 76.416,-0 76.416,-0 76.6602,-0 76.6602,-0 76.9043,-0 76.9043,-0 77.1484,-0 77.1484,-0 77.3926,-0 77.3926,-0 77.6367,-0 77.6367,-0 77.8809,-0 77.8809,-0 78.125,-0 78.125,-0 78.3691,-0 78.3691,-0 78.6133,-0 78.6133,-0 78.8574,-0 78.8574,-0 79.1016,-0 79.1016,-0 79.3457,-0 79.3457,-0 79.5898,-0 79.5898,-0 79.834,-0 79.834,-0 80.0781,-0 80.0781,-0 80.3223,-0 80.3223,-0 80.5664,-0 80.5664,-0 80.8105,-0 80.8105,-0 81.0547,-0 81.0547,-0 81.2988,-0 81.2988,-0 81.543,-0 81.543,-0 81.7871,-0 81.7871,-0 82.0312,-0 82.0312,-0 82.2754,-0 82.2754,-0 82.5195,-0 82.5195,-0 82.7637,-0 82.7637,-0 83.0078,-0 83.0078,-0 83.252,-0 83.252,-0 83.4961,-0 83.4961,-0 83.7402,-0 83.7402,-0 83.9844,-0 83.9844,-0 84.2285,-0 84.2285,-0 84.4727,-0 84.4727,-0 84.7168,-0 84.7168,-0 84.9609,-0 84.9609,-0 85.2051,-0 85.2051,-0 85.4492,-0 85.4492,-0 85.6934,-0 85.6934,-0 85.9375,-0 85.9375,-0 86.1816,-0 86.1816,-0 86.4258,-0 86.4258,-0 86.6699,-0 86.6699,-0 86.9141,-0 86.9141,-0 87.1582,-0 87.1582,-0 87.4023,-0 87.4023,-0 87.6465,-0 87.6465,-0 87.8906,-0 87.8906,-0 88.1348,-0 88.1348,-0 88.3789,-0 88.3789,-0 88.623,-0 88.623,-0 88.8672,-0 88.8672,-0 89.1113,-0 89.1113,-0 89.3555,-0 89.3555,-0 89.5996,-0 89.5996,-0 89.8438,-0 89.8438,-0 90.0879,-0 90.0879,-0 90.332,-0 90.332,-0 90.5762,-0 90.5762,-0 90.8203,-0 90.8203,-0 91.0645,-0 91.0645,-0 91.3086,-0 91.3086,-0 91.5527,-0 91.5527,-0 91.7969,-0 91.7969,-0 92.041,-0 92.041,-0 92.2852,-0 92.2852,-0 92.5293,-0 92.5293,-0 92.7734,-0 92.7734,-0 93.0176,-0 93.0176,-0 93.2617,-0 93.2617,-0 93.5059,-0 93.5059,-0 93.75,-0 93.75,-0 93.9941,-0 93.9941,-0 94.2383,-0 94.2383,-0 94.4824,-0 94.4824,-0 94.7266,-0 94.7266,-0 94.9707,-0 94.9707,-0 95.2148,-0 95.2148,-0 95.459,-0 95.459,-0 95.7031,-0 95.7031,-0 95.9473,-0 95.9473,-0 96.1914,-0 96.1914,-0 96.4355,-0 96.4355,-0 96.6797,-0 96.6797,-0 96.9238,-0 96.9238,-0 97.168,-0 97.168,-0 97.4121,-0 97.4121,-0 97.6562,-0 97.6562,-0 97.9004,-0 97.9004,-0 98.1445,-0 98.1445,-0 98.3887,-0 98.3887,-0 98.6328,-0 98.6328,-0 98.877,-0 98.877,-0 99.1211,-0 99.1211,-0 99.3652,-0 99.3652,-0 99.6094,-0 99.6094,-0 99.8535,-0 99.8535,-0 100.098,-0 100.098,-0 100.342,-0 100.342,-0 100.586,-0 100.586,-0 100.83,-0 100.83,-0 101.074,-0 101.074,-0 101.318,-0 101.318,-0 101.562,-0 101.562,-0 101.807,-0 101.807,-0 102.051,-0 102.051,-0 102.295,-0 102.295,-0 102.539,-0 102.539,-0 102.783,-0 102.783,-0 103.027,-0 103.027,-0 103.271,-0 103.271,-0 103.516,-0 103.516,-0 103.76,-0 103.76,-0 104.004,-0 104.004,-0 104.248,-0 104.248,-0 104.492,-0 104.492,-0 104.736,-0 104.736,-0 104.98,-0 104.98,-0 105.225,-0 105.225,-0 105.469,-0 105.469,-0 105.713,-0 105.713,-0 105.957,-0 105.957,-0 106.201,-0 106.201,-0 106.445,-0 106.445,-0 106.689,-0 106.689,-0 106.934,-0 106.934,-0 107.178,-0 107.178,-0 107.422,-0 107.422,-0 107.666,-0 107.666,-0 107.91,-0 107.91,-0 108.154,-0 108.154,-0 108.398,-0 108.398,-0 108.643,-0 108.643,-0 108.887,-0 108.887,-0 109.131,-0 109.131,-0 109.375,-0 109.375,-0 109.619,-0 109.619,-0 109.863,-0 109.863,-0 110.107,-0 110.107,-0 110.352,-0 110.352,-0 110.596,-0 110.596,-0 110.84,-0 110.84,-0 111.084,-0 111.084,-0 111.328,-0 111.328,-0 111.572,-0 111.572,-0 111.816,-0 111.816,-0 112.061,-0 112.061,-0 112.305,-0 112.305,-0 112.549,-0 112.549,-0 112.793,-0 112.793,-0 113.037,-0 113.037,-0 113.281,-0 113.281,-0 113.525,-0 113.525,-0 113.77,-0 113.77,-0 114.014,-0 114.014,-0 114.258,-0 114.258,-0 114.502,-0 114.502,-0 114.746,-0 114.746,-0 114.99,-0 114.99,-0 115.234,-0 115.234,-0 115.479,-0 115.479,-0 115.723,-0 115.723,-0 115.967,-0 115.967,-0 116.211,-0 116.211,-0 116.455,-0 116.455,-0 116.699,-0 116.699,-0 116.943,-0 116.943,-0 117.188,-0 117.188,-0 117.432,-0 117.432,-0 117.676,-0 117.676,-0 117.92,-0 117.92,-0 118.164,-0 118.164,-0 118.408,-0 118.408,-0 118.652,-0 118.652,-0 118.896,-0 118.896,-0 119.141,-0 119.141,-0 119.385,-0 119.385,-0 119.629,-0 119.629,-0 119.873,-0 119.873,-0 120.117,-0 120.117,-0 120.361,-0 120.361,-0 120.605,-0 120.605,-0 120.85,-0 120.85,-0 121.094,-0 121.094,-0 121.338,-0 121.338,-0 121.582,-0 121.582,-0 121.826,-0 121.826,-0 122.07,-0 122.07,-0 122.314,-0 122.314,-0 122.559,-0 122.559,-0 122.803,-0 122.803,-0 123.047,-0 123.047,-0 123.291,-0 123.291,-0 123.535,-0 123.535,-0 123.779,-0 123.779,-0 124.023,-0 124.023,-0 124.268,-0 124.268,-0 124.512,-0 124.512,-0 124.756,-0 124.756,-0 125,-0 125,-0 125.244,-0 125.244,-0 125.488,-0 125.488,-0 125.732,-0 125.732,-0 125.977,-0 125.977,-0 126.221,-0 126.221,-0 126.465,-0 126.465,-0 126.709,-0 126.709,-0 126.953,-0 126.953,-0 127.197,-0 127.197,-0 127.441,-0 127.441,-0 127.686,-0 127.686,-0 127.93,-0 127.93,-0 128.174,-0 128.174,-0 128.418,-0 128.418,-0 128.662,-0 128.662,-0 128.906,-0 128.906,-0 129.15,-0 129.15,-0 129.395,-0 129.395,-0 129.639,-0 129.639,-0 129.883,-0 129.883,-0 130.127,-0 130.127,-0 130.371,-0 130.371,-0 130.615,-0 130.615,-0 130.859,-0 130.859,-0 131.104,-0 131.104,-0 131.348,-0 131.348,-0 131.592,-0 131.592,-0 131.836,-0 131.836,-0 132.08,-0 132.08,-0 132.324,-0 132.324,-0 132.568,-0 132.568,-0 132.812,-0 132.812,-0 133.057,-0 133.057,-0 133.301,-0 133.301,-0 133.545,-0 133.545,-0 133.789,-0 133.789,-0 134.033,-0 134.033,-0 134.277,-0 134.277,-0 134.521,-0 134.521,-0 134.766,-0 134.766,-0 135.01,-0 135.01,-0 135.254,-0 135.254,-0 135.498,-0 135.498,-0 135.742,-0 135.742,-0 135.986,-0 135.986,-0 136.23,-0 136.23,-0 136.475,-0 136.475,-0 136.719,-0 136.719,-0 136.963,-0 136.963,-0 137.207,-0 137.207,-0 137.451,-0 137.451,-0 137.695,-0 137.695,-0 137.939,-0 137.939,-0 138.184,-0 138.184,-0 138.428,-0 138.428,-0 138.672,-0 138.672,-0 138.916,-0 138.916,-0 139.16,-0 139.16,-0 139.404,-0 139.404,-0 139.648,-0 139.648,-0 139.893,-0 139.893,-0 140.137,-0 140.137,-0 140.381,-0 140.381,-0 140.625,-0 140.625,-0 140.869,-0 140.869,-0 141.113,-0 141.113,-0 141.357,-0 141.357,-0 141.602,-0 141.602,-0 141.846,-0 141.846,-0 142.09,-0 142.09,-0 142.334,-0 142.334,-0 142.578,-0 142.578,-0 142.822,-0 142.822,-0 143.066,-0 143.066,-0 143.311,-0 143.311,-0 143.555,-0 143.555,-0 143.799,-0 143.799,-0 144.043,-0 144.043,-0 144.287,-0 144.287,-0 144.531,-0 144.531,-0 144.775,-0 144.775,-0 145.02,-0 145.02,-0 145.264,-0 145.264,-0 145.508,-0 145.508,-0 145.752,-0 145.752,-0 145.996,-0 145.996,-0 146.24,-0 146.24,-0 146.484,-0 146.484,-0 146.729,-0 146.729,-0 146.973,-0 146.973,-0 147.217,-0 147.217,-0 147.461,-0 147.461,-0 147.705,-0 147.705,-0 147.949,-0 147.949,-0 148.193,-0 148.193,-0 148.438,-0 148.438,-0 148.682,-0 148.682,-0 148.926,-0 148.926,-0 149.17,-0 149.17,-0 149.414,-0 149.414,-0 149.658,-0 149.658,-0 149.902,-0 149.902,-0 150.146,-0 150.146,-0 150.391,-0 150.391,-0 150.635,-0 150.635,-0 150.879,-0 150.879,-0 151.123,-0 151.123,-0 151.367,-0 151.367,-0 151.611,-0 151.611,-0 151.855,-0 151.855,-0 152.1,-0 152.1,-0 152.344,-0 152.344,-0 152.588,-0 152.588,-0 152.832,-0 152.832,-0 153.076,-0 153.076,-0 153.32,-0 153.32,-0 153.564,-0 153.564,-0 153.809,-0 153.809,-0 154.053,-0 154.053,-0 154.297,-0 154.297,-0 154.541,-0 154.541,-0 154.785,-0 154.785,-0 155.029,-0 155.029,-0 155.273,-0 155.273,-0 155.518,-0 155.518,-0 155.762,-0 155.762,-0 156.006,-0 156.006,-0 156.25,-0 156.25,-0 156.494,-0 156.494,-0 156.738,-0 156.738,-0 156.982,-0 156.982,-0 157.227,-0 157.227,-0 157.471,-0 157.471,-0 157.715,-0 157.715,-0 157.959,-0 157.959,-0 158.203,-0 158.203,-0 158.447,-0 158.447,-0 158.691,-0 158.691,-0 158.936,-0 158.936,-0 159.18,-0 159.18,-0 159.424,-0 159.424,-0 159.668,-0 159.668,-0 159.912,-0 159.912,-0 160.156,-0 160.156,-0 160.4,-0 160.4,-0 160.645,-0 160.645,-0 160.889,-0 160.889,-0 161.133,-0 161.133,-0 161.377,-0 161.377,-0 161.621,-0 161.621,-0 161.865,-0 161.865,-0 162.109,-0 162.109,-0 162.354,-0 162.354,-0 162.598,-0 162.598,-0 162.842,-0 162.842,-0 163.086,-0 163.086,-0 163.33,-0 163.33,-0 163.574,-0 163.574,-0 163.818,-0 163.818,-0 164.062,-0 164.062,-0 164.307,-0 164.307,-0 164.551,-0 164.551,-0 164.795,-0 164.795,-0 165.039,-0 165.039,-0 165.283,-0 165.283,-0 165.527,-0 165.527,-0 165.771,-0 165.771,-0 166.016,-0 166.016,-0 166.26,-0 166.26,-0 166.504,-0 166.504,-0 166.748,-0 166.748,-0 166.992,-0 166.992,-0 167.236,-0 167.236,-0 167.48,-0 167.48,-0 167.725,-0 167.725,-0 167.969,-0 167.969,-0 168.213,-0 168.213,-0 168.457,-0 168.457,-0 168.701,-0 168.701,-0 168.945,-0 168.945,-0 169.189,-0 169.189,-0 169.434,-0 169.434,-0 169.678,-0 169.678,-0 169.922,-0 169.922,-0 170.166,-0 170.166,-0 170.41,-0 170.41,-0 170.654,-0 170.654,-0 170.898,-0 170.898,-0 171.143,-0 171.143,-0 171.387,-0 171.387,-0 171.631,-0 171.631,-0 171.875,-0 171.875,-0 172.119,-0 172.119,-0 172.363,-0 172.363,-0 172.607,-0 172.607,-0 172.852,-0 172.852,-0 173.096,-0 173.096,-0 173.34,-0 173.34,-0 173.584,-0 173.584,-0 173.828,-0 173.828,-0 174.072,-0 174.072,-0 174.316,-0 174.316,-0 174.561,-0 174.561,-0 174.805,-0 174.805,-0 175.049,-0 175.049,-0 175.293,-0 175.293,-0 175.537,-0 175.537,-0 175.781,-0 175.781,-0 176.025,-0 176.025,-0 176.27,-0 176.27,-0 176.514,-0 176.514,-0 176.758,-0 176.758,-0 177.002,-0 177.002,-0 177.246,-0 177.246,-0 177.49,-0 177.49,-0 177.734,-0 177.734,-0 177.979,-0 177.979,-0 178.223,-0 178.223,-0 178.467,-0 178.467,-0 178.711,-0 178.711,-0 178.955,-0 178.955,-0 179.199,-0 179.199,-0 179.443,-0 179.443,-0 179.688,-0 179.688,-0 179.932,-0 179.932,-0 180.176,-0 180.176,-0 180.42,-0 180.42,-0 180.664,-0 180.664,-0 180.908,-0 180.908,-0 181.152,-0 181.152,-0 181.396,-0 181.396,-0 181.641,-0 181.641,-0 181.885,-0 181.885,-0 182.129,-0 182.129,-0 182.373,-0 182.373,-0 182.617,-0 182.617,-0 182.861,-0 182.861,-0 183.105,-0 183.105,-0 183.35,-0 183.35,-0 183.594,-0 183.594,-0 183.838,-0 183.838,-0 184.082,-0 184.082,-0 184.326,-0 184.326,-0 184.57,-0 184.57,-0 184.814,-0 184.814,-0 185.059,-0 185.059,-0 185.303,-0 185.303,-0 185.547,-0 185.547,-0 185.791,-0 185.791,-0 186.035,-0 186.035,-0 186.279,-0 186.279,-0 186.523,-0 186.523,-0 186.768,-0 186.768,-0 187.012,-0 187.012,-0 187.256,-0 187.256,-0 187.5,-0 187.5,-0 187.744,-0 187.744,-0 187.988,-0 187.988,-0 188.232,-0 188.232,-0 188.477,-0 188.477,-0 188.721,-0 188.721,-0 188.965,-0 188.965,-0 189.209,-0 189.209,-0 189.453,-0 189.453,-0 189.697,-0 189.697,-0 189.941,-0 189.941,-0 190.186,-0 190.186,-0 190.43,-0 190.43,-0 190.674,-0 190.674,-0 190.918,-0 190.918,-0 191.162,-0 191.162,-0 191.406,-0 191.406,-0 191.65,-0 191.65,-0 191.895,-0 191.895,-0 192.139,-0 192.139,-0 192.383,-0 192.383,-0 192.627,-0 192.627,-0 192.871,-0 192.871,-0 193.115,-0 193.115,-0 193.359,-0 193.359,-0 193.604,-0 193.604,-0 193.848,-0 193.848,-0 194.092,-0 194.092,-0 194.336,-0 194.336,-0 194.58,-0 194.58,-0 194.824,-0 194.824,-0 195.068,-0 195.068,-0 195.312,-0 195.312,-0 195.557,-0 195.557,-0 195.801,-0 195.801,-0 196.045,-0 196.045,-0 196.289,-0 196.289,-0 196.533,-0 196.533,-0 196.777,-0 196.777,-0 197.021,-0 197.021,-0 197.266,-0 197.266,-0 197.51,-0 197.51,-0 197.754,-0 197.754,-0 197.998,-0 197.998,-0 198.242,-0 198.242,-0 198.486,-0 198.486,-0 198.73,-0 198.73,-0 198.975,-0 198.975,-0 199.219,-0 199.219,-0 199.463,-0 199.463,-0 199.707,-0 199.707,-0 199.951,-0 199.951,-0 200.195,-0 200.195,-0 200.439,-0 200.439,-0 200.684,-0 200.684,-0 200.928,-0 200.928,-0 201.172,-0 201.172,-0 201.416,-0 201.416,-0 201.66,-0 201.66,-0 201.904,-0 201.904,-0 202.148,-0 202.148,-0 202.393,-0 202.393,-0 202.637,-0 202.637,-0 202.881,-0 202.881,-0 203.125,-0 203.125,-0 203.369,-0 203.369,-0 203.613,-0 203.613,-0 203.857,-0 203.857,-0 204.102,-0 204.102,-0 204.346,-0 204.346,-0 204.59,-0 204.59,-0 204.834,-0 204.834,-0 205.078,-0 205.078,-0 205.322,-0 205.322,-0 205.566,-0 205.566,-0 205.811,-0 205.811,-0 206.055,-0 206.055,-0 206.299,-0 206.299,-0 206.543,-0 206.543,-0 206.787,-0 206.787,-0 207.031,-0 207.031,-0 207.275,-0 207.275,-0 207.52,-0 207.52,-0 207.764,-0 207.764,-0 208.008,-0 208.008,-0 208.252,-0 208.252,-0 208.496,-0 208.496,-0 208.74,-0 208.74,-0 208.984,-0 208.984,-0 209.229,-0 209.229,-0 209.473,-0 209.473,-0 209.717,-0 209.717,-0 209.961,-0 209.961,-0 210.205,-0 210.205,-0 210.449,-0 210.449,-0 210.693,-0 210.693,-0 210.938,-0 210.938,-0 211.182,-0 211.182,-0 211.426,-0 211.426,-0 211.67,-0 211.67,-0 211.914,-0 211.914,-0 212.158,-0 212.158,-0 212.402,-0 212.402,-0 212.646,-0 212.646,-0 212.891,-0 212.891,-0 213.135,-0 213.135,-0 213.379,-0 213.379,-0 213.623,-0 213.623,-0 213.867,-0 213.867,-0 214.111,-0 214.111,-0 214.355,-0 214.355,-0 214.6,-0 214.6,-0 214.844,-0 214.844,-0 215.088,-0 215.088,-0 215.332,-0 215.332,-0 215.576,-0 215.576,-0 215.82,-0 215.82,-0 216.064,-0 216.064,-0 216.309,-0 216.309,-0 216.553,-0 216.553,-0 216.797,-0 216.797,-0 217.041,-0 217.041,-0 217.285,-0 217.285,-0 217.529,-0 217.529,-0 217.773,-0 217.773,-0 218.018,-0 218.018,-0 218.262,-0 218.262,-0 218.506,-0 218.506,-0 218.75,-0 218.75,-0 218.994,-0 218.994,-0 219.238,-0 219.238,-0 219.482,-0 219.482,-0 219.727,-0 219.727,-0 219.971,-0 219.971,-0 220.215,-0 220.215,-0 220.459,-0 220.459,-0 220.703,-0 220.703,-0 220.947,-0 220.947,-0 221.191,-0 221.191,-0 221.436,-0 221.436,-0 221.68,-0 221.68,-0 221.924,-0 221.924,-0 222.168,-0 222.168,-0 222.412,-0 222.412,-0 222.656,-0 222.656,-0 222.9,-0 222.9,-0 223.145,-0 223.145,-0 223.389,-0 223.389,-0 223.633,-0 223.633,-0 223.877,-0 223.877,-0 224.121,-0 224.121,-0 224.365,-0 224.365,-0 224.609,-0 224.609,-0 224.854,-0 224.854,-0 225.098,-0 225.098,-0 225.342,-0 225.342,-0 225.586,-0 225.586,-0 225.83,-0 225.83,-0 226.074,-0 226.074,-0 226.318,-0 226.318,-0 226.562,-0 226.562,-0 226.807,-0 226.807,-0 227.051,-0 227.051,-0 227.295,-0 227.295,-0 227.539,-0 227.539,-0 227.783,-0 227.783,-0 228.027,-0 228.027,-0 228.271,-0 228.271,-0 228.516,-0 228.516,-0 228.76,-0 228.76,-0 229.004,-0 229.004,-0 229.248,-0 229.248,-0 229.492,-0 229.492,-0 229.736,-0 229.736,-0 229.98,-0 229.98,-0 230.225,-0 230.225,-0 230.469,-0 230.469,-0 230.713,-0 230.713,-0 230.957,-0 230.957,-0 231.201,-0 231.201,-0 231.445,-0 231.445,-0 231.689,-0 231.689,-0 231.934,-0 231.934,-0 232.178,-0 232.178,-0 232.422,-0 232.422,-0 232.666,-0 232.666,-0 232.91,-0 232.91,-0 233.154,-0 233.154,-0 233.398,-0 233.398,-0 233.643,-0 233.643,-0 233.887,-0 233.887,-0 234.131,-0 234.131,-0 234.375,-0 234.375,-0 234.619,-0 234.619,-0 234.863,-0 234.863,-0 235.107,-0 235.107,-0 235.352,-0 235.352,-0 235.596,-0 235.596,-0 235.84,-0 235.84,-0 236.084,-0 236.084,-0 236.328,-0 236.328,-0 236.572,-0 236.572,-0 236.816,-0 236.816,-0 237.061,-0 237.061,-0 237.305,-0 237.305,-0 237.549,-0 237.549,-0 237.793,-0 237.793,-0 238.037,-0 238.037,-0 238.281,-0 238.281,-0 238.525,-0 238.525,-0 238.77,-0 238.77,-0 239.014,-0 239.014,-0 239.258,-0 239.258,-0 239.502,-0 239.502,-0 239.746,-0 239.746,-0 239.99,-0 239.99,-0 240.234,-0 240.234,-0 240.479,-0 240.479,-0 240.723,-0 240.723,-0 240.967,-0 240.967,-0 241.211,-0 241.211,-0 241.455,-0 241.455,-0 241.699,-0 241.699,-0 241.943,-0 241.943,-0 242.188,-0 242.188,-0 242.432,-0 242.432,-0 242.676,-0 242.676,-0 242.92,-0 242.92,-0 243.164,-0 243.164,-0 243.408,-0 243.408,-0 243.652,-0 243.652,-0 243.896,-0 243.896,-0 244.141,-0 244.141,-0 244.385,-0 244.385,-0 244.629,-0 244.629,-0 244.873,-0 244.873,-0 245.117,-0 245.117,-0 245.361,-0 245.361,-0 245.605,-0 245.605,-0 245.85,-0 245.85,-0 246.094,-0 246.094,-0 246.338,-0 246.338,-0 246.582,-0 246.582,-0 246.826,-0 246.826,-0 247.07,-0 247.07,-0 247.314,-0 247.314,-0 247.559,-0 247.559,-0 247.803,-0 247.803,-0 248.047,-0 248.047,-0 248.291,-0 248.291,-0 248.535,-0 248.535,-0 248.779,-0 248.779,-0 249.023,-0 249.023,-0 249.268,-0 249.268,-0 249.512,-0 249.512,-0 249.756,-0 249.756,-0 250,-0 250,0\" style=\"fill:none; stroke:currentColor;\"/>\n",
       "</svg>\n",
       "</div>\n",
       "<div style=\"flex=grow:1;\">\n",
       "Regular(1024, 0, 4000, name='xaxis', label='xaxis')<br/>\n",
       "<hr style=\"margin-top:.2em; margin-bottom:.2em;\"/>\n",
       "Double() Σ=0.0 <em>(15.0 with flow)</em>\n",
       "\n",
       "</div>\n",
       "</div>\n",
       "</html>"
      ],
      "text/plain": [
       "Hist(Regular(1024, 0, 4000, name='xaxis', label='xaxis'), storage=Double()) # Sum: 0.0 (15.0 with flow)"
      ]
     },
     "execution_count": 30,
     "metadata": {},
     "output_type": "execute_result"
    }
   ],
   "source": [
    "branch3.to_hist(metadata={'name': 'fName', 'title': 'fTitle'}, axis_metadata={'name': 'fName', 'title': 'fTitle'})"
   ]
  },
  {
   "cell_type": "code",
   "execution_count": 31,
   "id": "waiting-disorder",
   "metadata": {},
   "outputs": [
    {
     "data": {
      "text/plain": [
       "(array([0., 0., 0., ..., 0., 0., 0.]),\n",
       " array([0.00000000e+00, 3.90625000e+00, 7.81250000e+00, ...,\n",
       "        3.99218750e+03, 3.99609375e+03, 4.00000000e+03]))"
      ]
     },
     "execution_count": 31,
     "metadata": {},
     "output_type": "execute_result"
    }
   ],
   "source": [
    "x3=branch3.to_numpy(flow=False, dd=False)\n",
    "x3"
   ]
  },
  {
   "cell_type": "code",
   "execution_count": 32,
   "id": "nearby-transportation",
   "metadata": {},
   "outputs": [
    {
     "name": "stdout",
     "output_type": "stream",
     "text": [
      "Shape of x3[0]  (1024,)\n",
      "Shape of x3[1]  (1025,)\n"
     ]
    }
   ],
   "source": [
    "print(\"Shape of x3[0] \",x3[0].shape)\n",
    "print(\"Shape of x3[1] \",x3[1].shape)"
   ]
  },
  {
   "cell_type": "code",
   "execution_count": 33,
   "id": "hawaiian-bryan",
   "metadata": {},
   "outputs": [
    {
     "data": {
      "text/plain": [
       "[<matplotlib.lines.Line2D at 0x2d5428865f8>]"
      ]
     },
     "execution_count": 33,
     "metadata": {},
     "output_type": "execute_result"
    },
    {
     "data": {
      "image/png": "[encoded data removed]",
      "text/plain": [
       "<Figure size 432x288 with 1 Axes>"
      ]
     },
     "metadata": {
      "needs_background": "light"
     },
     "output_type": "display_data"
    }
   ],
   "source": [
    "plt.plot(x3[1][0:1024],x3[0],'-')"
   ]
  },
  {
   "cell_type": "markdown",
   "id": "referenced-brief",
   "metadata": {},
   "source": [
    "## allCCD1;1"
   ]
  },
  {
   "cell_type": "code",
   "execution_count": 34,
   "id": "becoming-directory",
   "metadata": {},
   "outputs": [],
   "source": [
    "branch4 = file['allCCD1;1']"
   ]
  },
  {
   "cell_type": "code",
   "execution_count": 35,
   "id": "oriented-academy",
   "metadata": {},
   "outputs": [
    {
     "data": {
      "text/plain": [
       "<TTree 'allCCD1' (4 branches) at 0x02d54289d9b0>"
      ]
     },
     "execution_count": 35,
     "metadata": {},
     "output_type": "execute_result"
    }
   ],
   "source": [
    "branch4"
   ]
  },
  {
   "cell_type": "code",
   "execution_count": 36,
   "id": "stainless-atlanta",
   "metadata": {},
   "outputs": [
    {
     "data": {
      "text/plain": [
       "['DiffX', 'DiffY', 'z', 'eventNumber']"
      ]
     },
     "execution_count": 36,
     "metadata": {},
     "output_type": "execute_result"
    }
   ],
   "source": [
    "branch4.keys()"
   ]
  },
  {
   "cell_type": "markdown",
   "id": "exciting-butter",
   "metadata": {},
   "source": [
    "### Branch4\n",
    "\n",
    "\n",
    "- [x] DiffX \n",
    "- [x] DiffY\n",
    "- [x] z\n",
    "- [ ] eventNumber"
   ]
  },
  {
   "cell_type": "code",
   "execution_count": 37,
   "id": "completed-labor",
   "metadata": {},
   "outputs": [],
   "source": [
    "x_ccd11 =  np.array(branch4[\"DiffX\"].array())\n",
    "y_ccd11 =  np.array(branch4[\"DiffY\"].array())"
   ]
  },
  {
   "cell_type": "code",
   "execution_count": 38,
   "id": "national-driving",
   "metadata": {},
   "outputs": [
    {
     "data": {
      "text/plain": [
       "array([-26107.16084379, -26109.71016   , -26106.80390703, ...,\n",
       "        28221.4568147 ,  28173.12915507,  28246.88143359])"
      ]
     },
     "execution_count": 38,
     "metadata": {},
     "output_type": "execute_result"
    }
   ],
   "source": [
    "x_ccd11"
   ]
  },
  {
   "cell_type": "code",
   "execution_count": 39,
   "id": "neutral-music",
   "metadata": {},
   "outputs": [
    {
     "data": {
      "text/plain": [
       "array([7051.45264019, 7050.87433174, 7050.61343815, ..., 2056.66716447,\n",
       "       2062.16098581, 2093.36923716])"
      ]
     },
     "execution_count": 39,
     "metadata": {},
     "output_type": "execute_result"
    }
   ],
   "source": [
    "y_ccd11"
   ]
  },
  {
   "cell_type": "code",
   "execution_count": 40,
   "id": "novel-nickname",
   "metadata": {},
   "outputs": [
    {
     "name": "stdout",
     "output_type": "stream",
     "text": [
      "Shape of x_ccd11  (285388,)\n",
      "Shape of y_ccd11  (285388,)\n"
     ]
    }
   ],
   "source": [
    "print(\"Shape of x_ccd11 \",x_ccd11.shape)\n",
    "print(\"Shape of y_ccd11 \",y_ccd11.shape)"
   ]
  },
  {
   "cell_type": "code",
   "execution_count": 41,
   "id": "cutting-philadelphia",
   "metadata": {},
   "outputs": [
    {
     "data": {
      "image/png": "[encoded data removed]",
      "text/plain": [
       "<Figure size 432x288 with 1 Axes>"
      ]
     },
     "metadata": {
      "needs_background": "light"
     },
     "output_type": "display_data"
    }
   ],
   "source": [
    "plt.figure(1)\n",
    "plt.hist2d(x_ccd11,y_ccd11, bins=(300, 300), cmap=plt.cm.jet)\n",
    "plt.show()"
   ]
  },
  {
   "cell_type": "code",
   "execution_count": 42,
   "id": "hazardous-pixel",
   "metadata": {},
   "outputs": [
    {
     "data": {
      "text/plain": [
       "<TTree 'allCCD1' (4 branches) at 0x02d54289d9b0>"
      ]
     },
     "execution_count": 42,
     "metadata": {},
     "output_type": "execute_result"
    }
   ],
   "source": [
    "branch4['eventNumber'].tree"
   ]
  },
  {
   "cell_type": "code",
   "execution_count": 43,
   "id": "blind-lawyer",
   "metadata": {},
   "outputs": [
    {
     "data": {
      "text/plain": [
       "'69cbc7a0-05c0-11eb-8f04-c6e70ac8beef:/allCCD1;1:eventNumber(3)'"
      ]
     },
     "execution_count": 43,
     "metadata": {},
     "output_type": "execute_result"
    }
   ],
   "source": [
    "branch4['eventNumber'].cache_key"
   ]
  },
  {
   "cell_type": "code",
   "execution_count": 44,
   "id": "narrative-block",
   "metadata": {},
   "outputs": [
    {
     "data": {
      "text/plain": [
       "'eventNumber'"
      ]
     },
     "execution_count": 44,
     "metadata": {},
     "output_type": "execute_result"
    }
   ],
   "source": [
    "branch4['eventNumber'].name"
   ]
  },
  {
   "cell_type": "code",
   "execution_count": 45,
   "id": "understood-hampton",
   "metadata": {},
   "outputs": [],
   "source": [
    "x=branch4['eventNumber'].array(interpretation=None, entry_start=None, entry_stop=None, decompression_executor=None, interpretation_executor=None, array_cache='inherit', library='ak')"
   ]
  },
  {
   "cell_type": "code",
   "execution_count": 46,
   "id": "agreed-frederick",
   "metadata": {},
   "outputs": [
    {
     "data": {
      "text/plain": [
       "<Array [5, 5, 5, 5, 5, ... 15, 15, 15, 15, 15] type='285388 * int32'>"
      ]
     },
     "execution_count": 46,
     "metadata": {},
     "output_type": "execute_result"
    }
   ],
   "source": [
    "x"
   ]
  },
  {
   "cell_type": "code",
   "execution_count": 47,
   "id": "blind-hampshire",
   "metadata": {},
   "outputs": [
    {
     "data": {
      "text/plain": [
       "[<matplotlib.lines.Line2D at 0x2d5422a2f28>]"
      ]
     },
     "execution_count": 47,
     "metadata": {},
     "output_type": "execute_result"
    },
    {
     "data": {
      "image/png": "[encoded data removed]",
      "text/plain": [
       "<Figure size 432x288 with 1 Axes>"
      ]
     },
     "metadata": {
      "needs_background": "light"
     },
     "output_type": "display_data"
    }
   ],
   "source": [
    "plt.plot(x,'o')"
   ]
  },
  {
   "cell_type": "markdown",
   "id": "romantic-advisory",
   "metadata": {},
   "source": [
    "## hprof2d21;1"
   ]
  },
  {
   "cell_type": "code",
   "execution_count": 48,
   "id": "heated-pressure",
   "metadata": {},
   "outputs": [],
   "source": [
    "branch5 = file['hprof2d21;1']"
   ]
  },
  {
   "cell_type": "code",
   "execution_count": 49,
   "id": "criminal-dancing",
   "metadata": {},
   "outputs": [
    {
     "data": {
      "text/plain": [
       "<TH2F (version 3) at 0x02d5416768d0>"
      ]
     },
     "execution_count": 49,
     "metadata": {},
     "output_type": "execute_result"
    }
   ],
   "source": [
    "branch5"
   ]
  },
  {
   "cell_type": "code",
   "execution_count": 50,
   "id": "mental-camcorder",
   "metadata": {},
   "outputs": [
    {
     "data": {
      "text/plain": [
       "(array([[0., 0., 0., ..., 0., 0., 0.],\n",
       "        [0., 0., 0., ..., 0., 0., 0.],\n",
       "        [0., 0., 0., ..., 0., 0., 0.],\n",
       "        ...,\n",
       "        [0., 0., 0., ..., 0., 0., 0.],\n",
       "        [0., 0., 0., ..., 0., 0., 0.],\n",
       "        [0., 0., 0., ..., 0., 0., 0.]], dtype=float32),\n",
       " array([-30000., -29970., -29940., ...,  29940.,  29970.,  30000.]),\n",
       " array([-30750., -30735., -30720., ...,  30720.,  30735.,  30750.]))"
      ]
     },
     "execution_count": 50,
     "metadata": {},
     "output_type": "execute_result"
    }
   ],
   "source": [
    "x5=branch5.to_numpy(flow=False, dd=False)\n",
    "x5"
   ]
  },
  {
   "cell_type": "code",
   "execution_count": 51,
   "id": "advanced-campaign",
   "metadata": {},
   "outputs": [
    {
     "name": "stdout",
     "output_type": "stream",
     "text": [
      "Shape of x5[1]  (2001,)\n",
      "Shape of x5[2]  (4101,)\n",
      "Shape of x5[0]  (2000, 4100)\n"
     ]
    }
   ],
   "source": [
    "print(\"Shape of x5[1] \",x5[1].shape)\n",
    "print(\"Shape of x5[2] \",x5[2].shape)\n",
    "print(\"Shape of x5[0] \",x5[0].shape)"
   ]
  },
  {
   "cell_type": "code",
   "execution_count": 52,
   "id": "pressed-disclaimer",
   "metadata": {},
   "outputs": [
    {
     "data": {
      "image/png": "[encoded data removed]",
      "text/plain": [
       "<Figure size 590.4x288 with 2 Axes>"
      ]
     },
     "metadata": {
      "needs_background": "light"
     },
     "output_type": "display_data"
    }
   ],
   "source": [
    "plt.matshow(x5[0]);\n",
    "plt.colorbar()\n",
    "plt.show()"
   ]
  },
  {
   "cell_type": "code",
   "execution_count": 53,
   "id": "unable-antigua",
   "metadata": {},
   "outputs": [
    {
     "data": {
      "image/png": "[encoded data removed]",
      "text/plain": [
       "<Figure size 432x288 with 1 Axes>"
      ]
     },
     "metadata": {
      "needs_background": "light"
     },
     "output_type": "display_data"
    }
   ],
   "source": [
    "plt.figure(1)\n",
    "plt.hist(x5[1], bins=100)\n",
    "plt.show()"
   ]
  },
  {
   "cell_type": "code",
   "execution_count": 54,
   "id": "capital-isolation",
   "metadata": {},
   "outputs": [
    {
     "data": {
      "image/png": "[encoded data removed]",
      "text/plain": [
       "<Figure size 432x288 with 1 Axes>"
      ]
     },
     "metadata": {
      "needs_background": "light"
     },
     "output_type": "display_data"
    }
   ],
   "source": [
    "plt.figure(1)\n",
    "plt.hist(x5[2], bins=100)\n",
    "plt.show()"
   ]
  },
  {
   "cell_type": "code",
   "execution_count": 55,
   "id": "sized-bristol",
   "metadata": {},
   "outputs": [
    {
     "data": {
      "text/plain": [
       "[<matplotlib.lines.Line2D at 0x2d545829208>]"
      ]
     },
     "execution_count": 55,
     "metadata": {},
     "output_type": "execute_result"
    },
    {
     "data": {
      "image/png": "[encoded data removed]",
      "text/plain": [
       "<Figure size 432x288 with 1 Axes>"
      ]
     },
     "metadata": {
      "needs_background": "light"
     },
     "output_type": "display_data"
    }
   ],
   "source": [
    "plt.plot(x[1],x[2],'o')"
   ]
  },
  {
   "cell_type": "code",
   "execution_count": null,
   "id": "fundamental-services",
   "metadata": {},
   "outputs": [],
   "source": []
  }
 ],
 "metadata": {
  "kernelspec": {
   "display_name": "tesis",
   "language": "python",
   "name": "tesis"
  },
  "language_info": {
   "codemirror_mode": {
    "name": "ipython",
    "version": 3
   },
   "file_extension": ".py",
   "mimetype": "text/x-python",
   "name": "python",
   "nbconvert_exporter": "python",
   "pygments_lexer": "ipython3",
   "version": "3.6.12"
  }
 },
 "nbformat": 4,
 "nbformat_minor": 5
}
